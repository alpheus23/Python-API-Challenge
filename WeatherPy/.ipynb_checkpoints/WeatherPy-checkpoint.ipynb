{
 "cells": [
  {
   "cell_type": "markdown",
   "metadata": {},
   "source": [
    "# WeatherPy\n",
    "----\n",
    "\n",
    "#### Note\n",
    "* Instructions have been included for each segment. You do not have to follow them exactly, but they are included to help you think through the steps."
   ]
  },
  {
   "cell_type": "code",
   "execution_count": 1,
   "metadata": {
    "scrolled": true
   },
   "outputs": [],
   "source": [
    "# Dependencies and Setup\n",
    "import matplotlib.pyplot as plt\n",
    "import pandas as pd\n",
    "import numpy as np\n",
    "import requests\n",
    "import time\n",
    "import json\n",
    "from scipy.stats import linregress\n",
    "\n",
    "# Import API key\n",
    "from api_keys import weather_api_key\n",
    "\n",
    "# Incorporated citipy to determine city based on latitude and longitude\n",
    "from citipy import citipy\n",
    "\n",
    "# Output File (CSV)\n",
    "output_data_file = \"output_data/cities.csv\"\n",
    "\n",
    "# Range of latitudes and longitudes\n",
    "lat_range = (-90, 90)\n",
    "lng_range = (-180, 180)"
   ]
  },
  {
   "cell_type": "markdown",
   "metadata": {},
   "source": [
    "## Generate Cities List"
   ]
  },
  {
   "cell_type": "code",
   "execution_count": 2,
   "metadata": {},
   "outputs": [
    {
     "name": "stdout",
     "output_type": "stream",
     "text": [
      "78\n"
     ]
    }
   ],
   "source": [
    "# List for holding lat_lngs and cities\n",
    "lat_lngs = []\n",
    "cities = []\n",
    "\n",
    "# Create a set of random lat and lng combinations\n",
    "lats = np.random.uniform(lat_range[0], lat_range[1], size=100)\n",
    "lngs = np.random.uniform(lng_range[0], lng_range[1], size=100)\n",
    "lat_lngs = zip(lats, lngs)\n",
    "\n",
    "# Identify nearest city for each lat, lng combination\n",
    "for lat_lng in lat_lngs:\n",
    "    city = citipy.nearest_city(lat_lng[0], lat_lng[1]).city_name\n",
    "    \n",
    "    # If the city is unique, then add it to a our cities list\n",
    "    if city not in cities:\n",
    "        cities.append(city)\n",
    "\n",
    "# Print the city count to confirm sufficient count\n",
    "print(len(cities))"
   ]
  },
  {
   "cell_type": "markdown",
   "metadata": {},
   "source": [
    "### Perform API Calls\n",
    "* Perform a weather check on each city using a series of successive API calls.\n",
    "* Include a print log of each city as it'sbeing processed (with the city number and city name).\n"
   ]
  },
  {
   "cell_type": "code",
   "execution_count": 3,
   "metadata": {
    "scrolled": true,
    "tags": []
   },
   "outputs": [
    {
     "name": "stdout",
     "output_type": "stream",
     "text": [
      "Beginning Data Retrieval\n",
      "------------------------------\n",
      "Processing record 0 | Busselton\n",
      "Data visual: 1\n",
      "\n",
      "No data found for Vaitupu. Skipping...\n",
      "Data visual: 2\n",
      "\n",
      "Processing record 2 | Kaitangata\n",
      "Data visual: 3\n",
      "\n",
      "Processing record 3 | Albany\n",
      "Data visual: 4\n",
      "\n",
      "No data found for Burica. Skipping...\n",
      "Data visual: 5\n",
      "\n",
      "Processing record 5 | Yar-sale\n",
      "Data visual: 6\n",
      "\n",
      "Processing record 6 | Aloleng\n",
      "Data visual: 7\n",
      "\n",
      "Processing record 7 | Kapaa\n",
      "Data visual: 8\n",
      "\n",
      "Processing record 8 | Bousso\n",
      "Data visual: 9\n",
      "\n",
      "Processing record 9 | Port alfred\n",
      "Data visual: 10\n",
      "\n",
      "Processing record 10 | Victoria\n",
      "Data visual: 11\n",
      "\n",
      "Processing record 11 | Mataura\n",
      "Data visual: 12\n",
      "\n",
      "Processing record 12 | Kazachinskoye\n",
      "Data visual: 13\n",
      "\n",
      "Processing record 13 | Berlevag\n",
      "Data visual: 14\n",
      "\n",
      "Processing record 14 | Cabo san lucas\n",
      "Data visual: 15\n",
      "\n",
      "Processing record 15 | Butaritari\n",
      "Data visual: 16\n",
      "\n",
      "Processing record 16 | Faanui\n",
      "Data visual: 17\n",
      "\n",
      "No data found for Amderma. Skipping...\n",
      "Data visual: 18\n",
      "\n",
      "Processing record 18 | Isangel\n",
      "Data visual: 19\n",
      "\n",
      "Processing record 19 | Qaanaaq\n",
      "Data visual: 20\n",
      "\n",
      "Processing record 20 | Hilo\n",
      "Data visual: 21\n",
      "\n",
      "Processing record 21 | Saldanha\n",
      "Data visual: 22\n",
      "\n",
      "Processing record 22 | Guozhen\n",
      "Data visual: 23\n",
      "\n",
      "Processing record 23 | Lavrentiya\n",
      "Data visual: 24\n",
      "\n",
      "Processing record 24 | Kadyy\n",
      "Data visual: 25\n",
      "\n",
      "Processing record 25 | Haines junction\n",
      "Data visual: 26\n",
      "\n",
      "Processing record 26 | Jacarezinho\n",
      "Data visual: 27\n",
      "\n",
      "Processing record 27 | Lagoa\n",
      "Data visual: 28\n",
      "\n",
      "Processing record 28 | Quang ngai\n",
      "Data visual: 29\n",
      "\n",
      "Processing record 29 | Soe\n",
      "Data visual: 30\n",
      "\n",
      "Processing record 30 | Castro\n",
      "Data visual: 31\n",
      "\n",
      "No data found for Nizhneyansk. Skipping...\n",
      "Data visual: 32\n",
      "\n",
      "Processing record 32 | Bac lieu\n",
      "Data visual: 33\n",
      "\n",
      "Processing record 33 | Rio cuarto\n",
      "Data visual: 34\n",
      "\n",
      "Processing record 34 | Leningradskiy\n",
      "Data visual: 35\n",
      "\n",
      "Processing record 35 | Alofi\n",
      "Data visual: 36\n",
      "\n",
      "Processing record 36 | Hobart\n",
      "Data visual: 37\n",
      "\n",
      "Processing record 37 | Torbay\n",
      "Data visual: 38\n",
      "\n",
      "Processing record 38 | Yumen\n",
      "Data visual: 39\n",
      "\n",
      "Processing record 39 | Punta arenas\n",
      "Data visual: 40\n",
      "\n",
      "Processing record 40 | Kristiinankaupunki\n",
      "Data visual: 41\n",
      "\n",
      "Processing record 41 | Tautira\n",
      "Data visual: 42\n",
      "\n",
      "Processing record 42 | Kodiak\n",
      "Data visual: 43\n",
      "\n",
      "Processing record 43 | Gizo\n",
      "Data visual: 44\n",
      "\n",
      "Processing record 44 | Zalantun\n",
      "Data visual: 45\n",
      "\n",
      "Processing record 45 | Panguna\n",
      "Data visual: 46\n",
      "\n",
      "Processing record 46 | Ribeira grande\n",
      "Data visual: 47\n",
      "\n",
      "Processing record 47 | Pochutla\n",
      "Data visual: 48\n",
      "\n",
      "Processing record 48 | Lata\n",
      "Data visual: 49\n",
      "\n",
      "Processing record 49 | Bredasdorp\n",
      "Data visual: 50\n",
      "\n",
      "Processing record 50 | Rikitea\n",
      "Data visual: 51\n",
      "\n",
      "Processing record 51 | Avarua\n",
      "Data visual: 52\n",
      "\n",
      "Processing record 52 | Hermanus\n",
      "Data visual: 53\n",
      "\n",
      "Processing record 53 | Honiara\n",
      "Data visual: 54\n",
      "\n",
      "Processing record 54 | Mar del plata\n",
      "Data visual: 55\n",
      "\n",
      "Processing record 55 | Nuuk\n",
      "Data visual: 56\n",
      "\n",
      "Processing record 56 | Puerto ayora\n",
      "Data visual: 57\n",
      "\n",
      "Processing record 57 | Smithers\n",
      "Data visual: 58\n",
      "\n",
      "No data found for Pagman. Skipping...\n",
      "Data visual: 59\n",
      "\n",
      "Processing record 59 | Qaqortoq\n",
      "Data visual: 60\n",
      "\n",
      "Processing record 60 | Kardamaina\n",
      "Data visual: 61\n",
      "\n",
      "Processing record 61 | Barrow\n",
      "Data visual: 62\n",
      "\n",
      "Processing record 62 | Valdivia\n",
      "Data visual: 63\n",
      "\n",
      "Processing record 63 | Salalah\n",
      "Data visual: 64\n",
      "\n",
      "Processing record 64 | Coihaique\n",
      "Data visual: 65\n",
      "\n",
      "Processing record 65 | Saskylakh\n",
      "Data visual: 66\n",
      "\n",
      "Processing record 66 | Nome\n",
      "Data visual: 67\n",
      "\n",
      "Processing record 67 | Makakilo city\n",
      "Data visual: 68\n",
      "\n",
      "Processing record 68 | Kruisfontein\n",
      "Data visual: 69\n",
      "\n",
      "Processing record 69 | Avrameni\n",
      "Data visual: 70\n",
      "\n",
      "Processing record 70 | Tuktoyaktuk\n",
      "Data visual: 71\n",
      "\n",
      "Processing record 71 | Vaini\n",
      "Data visual: 72\n",
      "\n",
      "Processing record 72 | Khatanga\n",
      "Data visual: 73\n",
      "\n",
      "Processing record 73 | Bambous virieux\n",
      "Data visual: 74\n",
      "\n",
      "No data found for Senmonorom. Skipping...\n",
      "Data visual: 75\n",
      "\n",
      "Processing record 75 | Bubaque\n",
      "Data visual: 76\n",
      "\n",
      "Processing record 76 | Makaha\n",
      "Data visual: 77\n",
      "\n",
      "Processing record 77 | Sabha\n",
      "Data visual: 78\n",
      "\n",
      "-----------------------------\n",
      "Data Retrieval Complete\n",
      "-----------------------------\n",
      "Number of Skips: 6\n"
     ]
    }
   ],
   "source": [
    "#Creating lists to hold values to later populate dataframe\n",
    "lats = []\n",
    "lons = []\n",
    "max_temps = []\n",
    "humidities = []\n",
    "clouds = []\n",
    "wind_speeds = []\n",
    "countries =  []\n",
    "dates = []\n",
    "skip_counter = 0\n",
    "\n",
    "#Beginning of print process\n",
    "print(\"Beginning Data Retrieval\")\n",
    "print(\"------------------------------\")\n",
    "\n",
    "#Loop through each city in cities and generate json link to pull data\n",
    "for name in cities:\n",
    "    weather_url = f\"https://api.openweathermap.org/data/2.5/weather?q={name}&appid={weather_api_key}&units=imperial\"\n",
    "    response = requests.get(weather_url).json()\n",
    "\n",
    "    #Catch exception in case no data found for selected city\n",
    "    try:\n",
    "        #Store data into variables\n",
    "        lat = response[\"coord\"][\"lat\"]\n",
    "        lon = response[\"coord\"][\"lon\"]\n",
    "        max_temp = response[\"main\"][\"temp_max\"]\n",
    "        humidity = response[\"main\"][\"humidity\"]\n",
    "        cloudiness = response[\"clouds\"][\"all\"]\n",
    "        wind_speed = response[\"wind\"][\"speed\"]\n",
    "        country = response[\"sys\"][\"country\"]\n",
    "        date = response[\"dt\"]\n",
    "\n",
    "        #Append data to corresponding lists\n",
    "        lats.append(lat)\n",
    "        lons.append(lon)\n",
    "        max_temps.append(max_temp)\n",
    "        humidities.append(humidity)\n",
    "        clouds.append(cloudiness)\n",
    "        wind_speeds.append(wind_speed)\n",
    "        countries.append(country)\n",
    "        dates.append(date)\n",
    "\n",
    "        #Print log of city being processed\n",
    "        print(f\"Processing record {cities.index(name)} | {name.capitalize()}\")\n",
    "        print(f\"Data visual: {len(lats)}\\n\")\n",
    "    except KeyError:\n",
    "        print(f\"No data found for {name.capitalize()}. Skipping...\")\n",
    "\n",
    "        #Remove city from cities list for easier dataframe creation later\n",
    "        #cities.remove(name)\n",
    "        lats.append(\"\")\n",
    "        lons.append(\"\")\n",
    "        max_temps.append(\"\")\n",
    "        humidities.append(\"\")\n",
    "        clouds.append(\"\")\n",
    "        wind_speeds.append(\"\")\n",
    "        countries.append(\"\")\n",
    "        dates.append(\"\")\n",
    "        print(f\"Data visual: {len(lats)}\\n\")\n",
    "        skip_counter += 1\n",
    "\n",
    "#End of print process\n",
    "print(\"-----------------------------\")\n",
    "print(\"Data Retrieval Complete\")\n",
    "print(\"-----------------------------\")\n",
    "\n",
    "print(f\"Number of Skips: {skip_counter}\")"
   ]
  },
  {
   "cell_type": "markdown",
   "metadata": {},
   "source": [
    "### Convert Raw Data to DataFrame\n",
    "* Export the city data into a .csv.\n",
    "* Display the DataFrame"
   ]
  },
  {
   "cell_type": "code",
   "execution_count": 4,
   "metadata": {},
   "outputs": [
    {
     "data": {
      "text/html": [
       "<div>\n",
       "<style scoped>\n",
       "    .dataframe tbody tr th:only-of-type {\n",
       "        vertical-align: middle;\n",
       "    }\n",
       "\n",
       "    .dataframe tbody tr th {\n",
       "        vertical-align: top;\n",
       "    }\n",
       "\n",
       "    .dataframe thead th {\n",
       "        text-align: right;\n",
       "    }\n",
       "</style>\n",
       "<table border=\"1\" class=\"dataframe\">\n",
       "  <thead>\n",
       "    <tr style=\"text-align: right;\">\n",
       "      <th></th>\n",
       "      <th>City</th>\n",
       "      <th>Lat</th>\n",
       "      <th>Lon</th>\n",
       "      <th>Max Temp</th>\n",
       "      <th>Humidity</th>\n",
       "      <th>Cloudiness</th>\n",
       "      <th>Wind Speed</th>\n",
       "      <th>Country</th>\n",
       "      <th>Date</th>\n",
       "    </tr>\n",
       "  </thead>\n",
       "  <tbody>\n",
       "    <tr>\n",
       "      <th>0</th>\n",
       "      <td>busselton</td>\n",
       "      <td>-33.65</td>\n",
       "      <td>115.33</td>\n",
       "      <td>54</td>\n",
       "      <td>58</td>\n",
       "      <td>90</td>\n",
       "      <td>12.28</td>\n",
       "      <td>AU</td>\n",
       "      <td>1602778015</td>\n",
       "    </tr>\n",
       "    <tr>\n",
       "      <th>2</th>\n",
       "      <td>kaitangata</td>\n",
       "      <td>-46.28</td>\n",
       "      <td>169.85</td>\n",
       "      <td>37.99</td>\n",
       "      <td>72</td>\n",
       "      <td>17</td>\n",
       "      <td>3</td>\n",
       "      <td>NZ</td>\n",
       "      <td>1602778015</td>\n",
       "    </tr>\n",
       "    <tr>\n",
       "      <th>3</th>\n",
       "      <td>albany</td>\n",
       "      <td>42.6</td>\n",
       "      <td>-73.97</td>\n",
       "      <td>68</td>\n",
       "      <td>49</td>\n",
       "      <td>24</td>\n",
       "      <td>3</td>\n",
       "      <td>US</td>\n",
       "      <td>1602778016</td>\n",
       "    </tr>\n",
       "    <tr>\n",
       "      <th>5</th>\n",
       "      <td>yar-sale</td>\n",
       "      <td>66.83</td>\n",
       "      <td>70.83</td>\n",
       "      <td>31.23</td>\n",
       "      <td>93</td>\n",
       "      <td>39</td>\n",
       "      <td>12.55</td>\n",
       "      <td>RU</td>\n",
       "      <td>1602778016</td>\n",
       "    </tr>\n",
       "    <tr>\n",
       "      <th>6</th>\n",
       "      <td>aloleng</td>\n",
       "      <td>16.13</td>\n",
       "      <td>119.78</td>\n",
       "      <td>81.01</td>\n",
       "      <td>78</td>\n",
       "      <td>38</td>\n",
       "      <td>3.58</td>\n",
       "      <td>PH</td>\n",
       "      <td>1602778016</td>\n",
       "    </tr>\n",
       "    <tr>\n",
       "      <th>...</th>\n",
       "      <td>...</td>\n",
       "      <td>...</td>\n",
       "      <td>...</td>\n",
       "      <td>...</td>\n",
       "      <td>...</td>\n",
       "      <td>...</td>\n",
       "      <td>...</td>\n",
       "      <td>...</td>\n",
       "      <td>...</td>\n",
       "    </tr>\n",
       "    <tr>\n",
       "      <th>72</th>\n",
       "      <td>khatanga</td>\n",
       "      <td>71.97</td>\n",
       "      <td>102.5</td>\n",
       "      <td>15.64</td>\n",
       "      <td>97</td>\n",
       "      <td>100</td>\n",
       "      <td>3.78</td>\n",
       "      <td>RU</td>\n",
       "      <td>1602777739</td>\n",
       "    </tr>\n",
       "    <tr>\n",
       "      <th>73</th>\n",
       "      <td>bambous virieux</td>\n",
       "      <td>-20.34</td>\n",
       "      <td>57.76</td>\n",
       "      <td>75.2</td>\n",
       "      <td>78</td>\n",
       "      <td>20</td>\n",
       "      <td>6.93</td>\n",
       "      <td>MU</td>\n",
       "      <td>1602778035</td>\n",
       "    </tr>\n",
       "    <tr>\n",
       "      <th>75</th>\n",
       "      <td>bubaque</td>\n",
       "      <td>11.28</td>\n",
       "      <td>-15.83</td>\n",
       "      <td>82.89</td>\n",
       "      <td>71</td>\n",
       "      <td>29</td>\n",
       "      <td>6.2</td>\n",
       "      <td>GW</td>\n",
       "      <td>1602778036</td>\n",
       "    </tr>\n",
       "    <tr>\n",
       "      <th>76</th>\n",
       "      <td>makaha</td>\n",
       "      <td>21.47</td>\n",
       "      <td>-158.22</td>\n",
       "      <td>75.2</td>\n",
       "      <td>100</td>\n",
       "      <td>1</td>\n",
       "      <td>8.86</td>\n",
       "      <td>US</td>\n",
       "      <td>1602778036</td>\n",
       "    </tr>\n",
       "    <tr>\n",
       "      <th>77</th>\n",
       "      <td>sabha</td>\n",
       "      <td>27.04</td>\n",
       "      <td>14.43</td>\n",
       "      <td>91.26</td>\n",
       "      <td>12</td>\n",
       "      <td>0</td>\n",
       "      <td>5.19</td>\n",
       "      <td>LY</td>\n",
       "      <td>1602778036</td>\n",
       "    </tr>\n",
       "  </tbody>\n",
       "</table>\n",
       "<p>72 rows × 9 columns</p>\n",
       "</div>"
      ],
      "text/plain": [
       "               City    Lat     Lon Max Temp Humidity Cloudiness Wind Speed  \\\n",
       "0         busselton -33.65  115.33       54       58         90      12.28   \n",
       "2        kaitangata -46.28  169.85    37.99       72         17          3   \n",
       "3            albany   42.6  -73.97       68       49         24          3   \n",
       "5          yar-sale  66.83   70.83    31.23       93         39      12.55   \n",
       "6           aloleng  16.13  119.78    81.01       78         38       3.58   \n",
       "..              ...    ...     ...      ...      ...        ...        ...   \n",
       "72         khatanga  71.97   102.5    15.64       97        100       3.78   \n",
       "73  bambous virieux -20.34   57.76     75.2       78         20       6.93   \n",
       "75          bubaque  11.28  -15.83    82.89       71         29        6.2   \n",
       "76           makaha  21.47 -158.22     75.2      100          1       8.86   \n",
       "77            sabha  27.04   14.43    91.26       12          0       5.19   \n",
       "\n",
       "   Country        Date  \n",
       "0       AU  1602778015  \n",
       "2       NZ  1602778015  \n",
       "3       US  1602778016  \n",
       "5       RU  1602778016  \n",
       "6       PH  1602778016  \n",
       "..     ...         ...  \n",
       "72      RU  1602777739  \n",
       "73      MU  1602778035  \n",
       "75      GW  1602778036  \n",
       "76      US  1602778036  \n",
       "77      LY  1602778036  \n",
       "\n",
       "[72 rows x 9 columns]"
      ]
     },
     "execution_count": 4,
     "metadata": {},
     "output_type": "execute_result"
    }
   ],
   "source": [
    "#Create dataframe\n",
    "raw_data = {\"City\": cities, \"Lat\": lats, \"Lon\": lons, \"Max Temp\": max_temps, \"Humidity\": humidities, \"Cloudiness\": clouds, \"Wind Speed\": wind_speeds, \"Country\": countries, \"Date\": dates}\n",
    "\n",
    "city_data = pd.DataFrame(raw_data)\n",
    "\n",
    "#Find indexes where Lat is blank for future removal\n",
    "index_names = city_data[city_data[\"Lat\"] == \"\"].index\n",
    "\n",
    "city_data.drop(index_names, inplace = True)\n",
    "\n",
    "#Export dataframe to a csv file\n",
    "city_data.to_csv(\"../output_data/cities.csv\", index = False, header = True)\n",
    "\n",
    "#Print out cleaned dataframe\n",
    "city_data"
   ]
  },
  {
   "cell_type": "code",
   "execution_count": 5,
   "metadata": {},
   "outputs": [
    {
     "data": {
      "text/html": [
       "<div>\n",
       "<style scoped>\n",
       "    .dataframe tbody tr th:only-of-type {\n",
       "        vertical-align: middle;\n",
       "    }\n",
       "\n",
       "    .dataframe tbody tr th {\n",
       "        vertical-align: top;\n",
       "    }\n",
       "\n",
       "    .dataframe thead th {\n",
       "        text-align: right;\n",
       "    }\n",
       "</style>\n",
       "<table border=\"1\" class=\"dataframe\">\n",
       "  <thead>\n",
       "    <tr style=\"text-align: right;\">\n",
       "      <th></th>\n",
       "      <th>City</th>\n",
       "      <th>Lat</th>\n",
       "      <th>Lon</th>\n",
       "      <th>Max Temp</th>\n",
       "      <th>Humidity</th>\n",
       "      <th>Cloudiness</th>\n",
       "      <th>Wind Speed</th>\n",
       "      <th>Country</th>\n",
       "      <th>Date</th>\n",
       "    </tr>\n",
       "  </thead>\n",
       "  <tbody>\n",
       "    <tr>\n",
       "      <th>3</th>\n",
       "      <td>albany</td>\n",
       "      <td>42.6</td>\n",
       "      <td>-73.97</td>\n",
       "      <td>68</td>\n",
       "      <td>49</td>\n",
       "      <td>24</td>\n",
       "      <td>3</td>\n",
       "      <td>US</td>\n",
       "      <td>1602778016</td>\n",
       "    </tr>\n",
       "    <tr>\n",
       "      <th>21</th>\n",
       "      <td>saldanha</td>\n",
       "      <td>-33.01</td>\n",
       "      <td>17.94</td>\n",
       "      <td>73.4</td>\n",
       "      <td>46</td>\n",
       "      <td>0</td>\n",
       "      <td>16.11</td>\n",
       "      <td>ZA</td>\n",
       "      <td>1602778021</td>\n",
       "    </tr>\n",
       "    <tr>\n",
       "      <th>39</th>\n",
       "      <td>punta arenas</td>\n",
       "      <td>-53.15</td>\n",
       "      <td>-70.92</td>\n",
       "      <td>55.4</td>\n",
       "      <td>47</td>\n",
       "      <td>20</td>\n",
       "      <td>36.91</td>\n",
       "      <td>CL</td>\n",
       "      <td>1602778026</td>\n",
       "    </tr>\n",
       "    <tr>\n",
       "      <th>64</th>\n",
       "      <td>coihaique</td>\n",
       "      <td>-45.58</td>\n",
       "      <td>-72.07</td>\n",
       "      <td>62.6</td>\n",
       "      <td>45</td>\n",
       "      <td>20</td>\n",
       "      <td>8.05</td>\n",
       "      <td>CL</td>\n",
       "      <td>1602778033</td>\n",
       "    </tr>\n",
       "    <tr>\n",
       "      <th>77</th>\n",
       "      <td>sabha</td>\n",
       "      <td>27.04</td>\n",
       "      <td>14.43</td>\n",
       "      <td>91.26</td>\n",
       "      <td>12</td>\n",
       "      <td>0</td>\n",
       "      <td>5.19</td>\n",
       "      <td>LY</td>\n",
       "      <td>1602778036</td>\n",
       "    </tr>\n",
       "  </tbody>\n",
       "</table>\n",
       "</div>"
      ],
      "text/plain": [
       "            City    Lat    Lon Max Temp Humidity Cloudiness Wind Speed  \\\n",
       "3         albany   42.6 -73.97       68       49         24          3   \n",
       "21      saldanha -33.01  17.94     73.4       46          0      16.11   \n",
       "39  punta arenas -53.15 -70.92     55.4       47         20      36.91   \n",
       "64     coihaique -45.58 -72.07     62.6       45         20       8.05   \n",
       "77         sabha  27.04  14.43    91.26       12          0       5.19   \n",
       "\n",
       "   Country        Date  \n",
       "3       US  1602778016  \n",
       "21      ZA  1602778021  \n",
       "39      CL  1602778026  \n",
       "64      CL  1602778033  \n",
       "77      LY  1602778036  "
      ]
     },
     "execution_count": 5,
     "metadata": {},
     "output_type": "execute_result"
    }
   ],
   "source": [
    "over_100 = city_data.loc[city_data[\"Humidity\"] < 50]\n",
    "\n",
    "over_100"
   ]
  },
  {
   "cell_type": "markdown",
   "metadata": {},
   "source": [
    "## Inspect the data and remove the cities where the humidity > 100%.\n",
    "----\n",
    "Skip this step if there are no cities that have humidity > 100%. "
   ]
  },
  {
   "cell_type": "code",
   "execution_count": 6,
   "metadata": {},
   "outputs": [
    {
     "data": {
      "text/plain": [
       "Int64Index([3, 21, 39, 64, 77], dtype='int64')"
      ]
     },
     "execution_count": 6,
     "metadata": {},
     "output_type": "execute_result"
    }
   ],
   "source": [
    "#  Get the indices of cities that have humidity over 100%.\n",
    "humid_index = city_data[city_data[\"Humidity\"] < 50].index\n",
    "humid_index"
   ]
  },
  {
   "cell_type": "code",
   "execution_count": 7,
   "metadata": {},
   "outputs": [
    {
     "data": {
      "text/html": [
       "<div>\n",
       "<style scoped>\n",
       "    .dataframe tbody tr th:only-of-type {\n",
       "        vertical-align: middle;\n",
       "    }\n",
       "\n",
       "    .dataframe tbody tr th {\n",
       "        vertical-align: top;\n",
       "    }\n",
       "\n",
       "    .dataframe thead th {\n",
       "        text-align: right;\n",
       "    }\n",
       "</style>\n",
       "<table border=\"1\" class=\"dataframe\">\n",
       "  <thead>\n",
       "    <tr style=\"text-align: right;\">\n",
       "      <th></th>\n",
       "      <th>City</th>\n",
       "      <th>Lat</th>\n",
       "      <th>Lon</th>\n",
       "      <th>Max Temp</th>\n",
       "      <th>Humidity</th>\n",
       "      <th>Cloudiness</th>\n",
       "      <th>Wind Speed</th>\n",
       "      <th>Country</th>\n",
       "      <th>Date</th>\n",
       "    </tr>\n",
       "  </thead>\n",
       "  <tbody>\n",
       "    <tr>\n",
       "      <th>0</th>\n",
       "      <td>busselton</td>\n",
       "      <td>-33.65</td>\n",
       "      <td>115.33</td>\n",
       "      <td>54</td>\n",
       "      <td>58</td>\n",
       "      <td>90</td>\n",
       "      <td>12.28</td>\n",
       "      <td>AU</td>\n",
       "      <td>1602778015</td>\n",
       "    </tr>\n",
       "    <tr>\n",
       "      <th>2</th>\n",
       "      <td>kaitangata</td>\n",
       "      <td>-46.28</td>\n",
       "      <td>169.85</td>\n",
       "      <td>37.99</td>\n",
       "      <td>72</td>\n",
       "      <td>17</td>\n",
       "      <td>3</td>\n",
       "      <td>NZ</td>\n",
       "      <td>1602778015</td>\n",
       "    </tr>\n",
       "    <tr>\n",
       "      <th>5</th>\n",
       "      <td>yar-sale</td>\n",
       "      <td>66.83</td>\n",
       "      <td>70.83</td>\n",
       "      <td>31.23</td>\n",
       "      <td>93</td>\n",
       "      <td>39</td>\n",
       "      <td>12.55</td>\n",
       "      <td>RU</td>\n",
       "      <td>1602778016</td>\n",
       "    </tr>\n",
       "    <tr>\n",
       "      <th>6</th>\n",
       "      <td>aloleng</td>\n",
       "      <td>16.13</td>\n",
       "      <td>119.78</td>\n",
       "      <td>81.01</td>\n",
       "      <td>78</td>\n",
       "      <td>38</td>\n",
       "      <td>3.58</td>\n",
       "      <td>PH</td>\n",
       "      <td>1602778016</td>\n",
       "    </tr>\n",
       "    <tr>\n",
       "      <th>7</th>\n",
       "      <td>kapaa</td>\n",
       "      <td>22.08</td>\n",
       "      <td>-159.32</td>\n",
       "      <td>78.12</td>\n",
       "      <td>78</td>\n",
       "      <td>40</td>\n",
       "      <td>12.03</td>\n",
       "      <td>US</td>\n",
       "      <td>1602778017</td>\n",
       "    </tr>\n",
       "    <tr>\n",
       "      <th>...</th>\n",
       "      <td>...</td>\n",
       "      <td>...</td>\n",
       "      <td>...</td>\n",
       "      <td>...</td>\n",
       "      <td>...</td>\n",
       "      <td>...</td>\n",
       "      <td>...</td>\n",
       "      <td>...</td>\n",
       "      <td>...</td>\n",
       "    </tr>\n",
       "    <tr>\n",
       "      <th>71</th>\n",
       "      <td>vaini</td>\n",
       "      <td>-21.2</td>\n",
       "      <td>-175.2</td>\n",
       "      <td>73.4</td>\n",
       "      <td>83</td>\n",
       "      <td>75</td>\n",
       "      <td>8.05</td>\n",
       "      <td>TO</td>\n",
       "      <td>1602778035</td>\n",
       "    </tr>\n",
       "    <tr>\n",
       "      <th>72</th>\n",
       "      <td>khatanga</td>\n",
       "      <td>71.97</td>\n",
       "      <td>102.5</td>\n",
       "      <td>15.64</td>\n",
       "      <td>97</td>\n",
       "      <td>100</td>\n",
       "      <td>3.78</td>\n",
       "      <td>RU</td>\n",
       "      <td>1602777739</td>\n",
       "    </tr>\n",
       "    <tr>\n",
       "      <th>73</th>\n",
       "      <td>bambous virieux</td>\n",
       "      <td>-20.34</td>\n",
       "      <td>57.76</td>\n",
       "      <td>75.2</td>\n",
       "      <td>78</td>\n",
       "      <td>20</td>\n",
       "      <td>6.93</td>\n",
       "      <td>MU</td>\n",
       "      <td>1602778035</td>\n",
       "    </tr>\n",
       "    <tr>\n",
       "      <th>75</th>\n",
       "      <td>bubaque</td>\n",
       "      <td>11.28</td>\n",
       "      <td>-15.83</td>\n",
       "      <td>82.89</td>\n",
       "      <td>71</td>\n",
       "      <td>29</td>\n",
       "      <td>6.2</td>\n",
       "      <td>GW</td>\n",
       "      <td>1602778036</td>\n",
       "    </tr>\n",
       "    <tr>\n",
       "      <th>76</th>\n",
       "      <td>makaha</td>\n",
       "      <td>21.47</td>\n",
       "      <td>-158.22</td>\n",
       "      <td>75.2</td>\n",
       "      <td>100</td>\n",
       "      <td>1</td>\n",
       "      <td>8.86</td>\n",
       "      <td>US</td>\n",
       "      <td>1602778036</td>\n",
       "    </tr>\n",
       "  </tbody>\n",
       "</table>\n",
       "<p>67 rows × 9 columns</p>\n",
       "</div>"
      ],
      "text/plain": [
       "               City    Lat     Lon Max Temp Humidity Cloudiness Wind Speed  \\\n",
       "0         busselton -33.65  115.33       54       58         90      12.28   \n",
       "2        kaitangata -46.28  169.85    37.99       72         17          3   \n",
       "5          yar-sale  66.83   70.83    31.23       93         39      12.55   \n",
       "6           aloleng  16.13  119.78    81.01       78         38       3.58   \n",
       "7             kapaa  22.08 -159.32    78.12       78         40      12.03   \n",
       "..              ...    ...     ...      ...      ...        ...        ...   \n",
       "71            vaini  -21.2  -175.2     73.4       83         75       8.05   \n",
       "72         khatanga  71.97   102.5    15.64       97        100       3.78   \n",
       "73  bambous virieux -20.34   57.76     75.2       78         20       6.93   \n",
       "75          bubaque  11.28  -15.83    82.89       71         29        6.2   \n",
       "76           makaha  21.47 -158.22     75.2      100          1       8.86   \n",
       "\n",
       "   Country        Date  \n",
       "0       AU  1602778015  \n",
       "2       NZ  1602778015  \n",
       "5       RU  1602778016  \n",
       "6       PH  1602778016  \n",
       "7       US  1602778017  \n",
       "..     ...         ...  \n",
       "71      TO  1602778035  \n",
       "72      RU  1602777739  \n",
       "73      MU  1602778035  \n",
       "75      GW  1602778036  \n",
       "76      US  1602778036  \n",
       "\n",
       "[67 rows x 9 columns]"
      ]
     },
     "execution_count": 7,
     "metadata": {},
     "output_type": "execute_result"
    }
   ],
   "source": [
    "# Make a new DataFrame equal to the city data to drop all humidity outliers by index.\n",
    "# Passing \"inplace=False\" will make a copy of the city_data DataFrame, which we call \"clean_city_data\".\n",
    "clean_city_data = city_data.drop(humid_index, inplace = False)\n",
    "\n",
    "clean_city_data"
   ]
  },
  {
   "cell_type": "markdown",
   "metadata": {},
   "source": [
    "## Plotting the Data\n",
    "* Use proper labeling of the plots using plot titles (including date of analysis) and axes labels.\n",
    "* Save the plotted figures as .pngs."
   ]
  },
  {
   "cell_type": "markdown",
   "metadata": {},
   "source": [
    "## Latitude vs. Temperature Plot"
   ]
  },
  {
   "cell_type": "code",
   "execution_count": 21,
   "metadata": {
    "scrolled": true
   },
   "outputs": [
    {
     "data": {
      "image/png": "[encoded data removed]",
      "text/plain": [
       "<Figure size 432x288 with 1 Axes>"
      ]
     },
     "metadata": {
      "needs_background": "light"
     },
     "output_type": "display_data"
    }
   ],
   "source": [
    "lat_vs_temp = clean_city_data.plot(kind = \"scatter\", x = \"Lat\", y = \"Max Temp\", grid = True)\n",
    "plt.xlabel = \"Latitude\"\n",
    "plt.ylabel = \"Max Temperature (F)\"\n",
    "plt.title = \"Latitude vs Max Temp (F)\"\n",
    "plt.savefig = \"../output_data/Latitude vs Max Temp.png\"\n",
    "plt.show()"
   ]
  },
  {
   "cell_type": "markdown",
   "metadata": {},
   "source": [
    "## Latitude vs. Humidity Plot"
   ]
  },
  {
   "cell_type": "code",
   "execution_count": 22,
   "metadata": {},
   "outputs": [
    {
     "data": {
      "image/png": "[encoded data removed]",
      "text/plain": [
       "<Figure size 432x288 with 1 Axes>"
      ]
     },
     "metadata": {
      "needs_background": "light"
     },
     "output_type": "display_data"
    }
   ],
   "source": [
    "plt.scatter(clean_city_data[\"Lat\"], clean_city_data[\"Humidity\"], marker = \"o\", facecolors = \"red\", edgecolors = \"black\")\n",
    "plt.title = \"Latitude vs Humidity\"\n",
    "plt.xlabel = \"Latitude\"\n",
    "plt.ylabel =\"Humidity\"\n",
    "plt.savefig = \"Latitude vs Humidity.png\"\n",
    "plt.show()"
   ]
  },
  {
   "cell_type": "markdown",
   "metadata": {},
   "source": [
    "## Latitude vs. Cloudiness Plot"
   ]
  },
  {
   "cell_type": "code",
   "execution_count": 23,
   "metadata": {},
   "outputs": [
    {
     "data": {
      "image/png": "[encoded data removed]",
      "text/plain": [
       "<Figure size 432x288 with 1 Axes>"
      ]
     },
     "metadata": {
      "needs_background": "light"
     },
     "output_type": "display_data"
    }
   ],
   "source": [
    "plt.scatter(clean_city_data[\"Lat\"], clean_city_data[\"Cloudiness\"], marker = \"o\", facecolors = \"red\", edgecolors = \"black\")\n",
    "plt.title = \"Latitude vs Cloudiness\"\n",
    "plt.xlabel = \"Latitude\"\n",
    "plt.ylabel = \"Cloudiness\"\n",
    "plt.savefig = \"../output_data/Latitude vs Cloudiness.png\"\n",
    "plt.show() "
   ]
  },
  {
   "cell_type": "markdown",
   "metadata": {},
   "source": [
    "## Latitude vs. Wind Speed Plot"
   ]
  },
  {
   "cell_type": "code",
   "execution_count": 25,
   "metadata": {},
   "outputs": [
    {
     "data": {
      "image/png": "[encoded data removed]",
      "text/plain": [
       "<Figure size 432x288 with 1 Axes>"
      ]
     },
     "metadata": {
      "needs_background": "light"
     },
     "output_type": "display_data"
    }
   ],
   "source": [
    "plt.scatter(clean_city_data[\"Lat\"], clean_city_data[\"Wind Speed\"], marker = \"o\", facecolors = \"red\", edgecolors = \"black\")\n",
    "plt.title = \"Latitude vs Wind Speed\"\n",
    "plt.xlabel = \"Latitude\"\n",
    "plt.ylabel = \"Wind Speed\"\n",
    "plt.savefig = \"../output_data/Latitude vs Wind Speed.png\"\n",
    "plt.show()"
   ]
  },
  {
   "cell_type": "markdown",
   "metadata": {},
   "source": [
    "## Linear Regression"
   ]
  },
  {
   "cell_type": "markdown",
   "metadata": {},
   "source": [
    "####  Northern Hemisphere - Max Temp vs. Latitude Linear Regression"
   ]
  },
  {
   "cell_type": "code",
   "execution_count": 26,
   "metadata": {},
   "outputs": [
    {
     "name": "stdout",
     "output_type": "stream",
     "text": [
      "The r-value is: 0.787683333616776\n"
     ]
    },
    {
     "data": {
      "image/png": "[encoded data removed]",
      "text/plain": [
       "<Figure size 432x288 with 1 Axes>"
      ]
     },
     "metadata": {
      "needs_background": "light"
     },
     "output_type": "display_data"
    }
   ],
   "source": [
    "north_index = clean_city_data[clean_city_data[\"Lat\"] > 0].index\n",
    "north_city_data = clean_city_data.drop(north_index, inplace= False)\n",
    "\n",
    "x_values = north_city_data[\"Max Temp\"]\n",
    "y_values = north_city_data[\"Lat\"]\n",
    "\n",
    "(slope, intercept, rvalue, pvalue, stderr) = linregress(x_values.astype(float), y_values.astype(float))\n",
    "regress_values = x_values * slope + intercept\n",
    "line_eq = \"y = \" + str(round(slope,2)) + \"x + \" + str(round(intercept,2))\n",
    "\n",
    "print(f\"The r-value is: {rvalue}\")\n",
    "plt.scatter(x_values, y_values)\n",
    "plt.plot(x_values, regress_values, \"r-\")\n",
    "\n",
    "plt.annotate(line_eq, (60, -50), fontsize = 15, color = \"red\")\n",
    "plt.title = \"Max Temp vs. Latitude (Northern Hemisphere)\"\n",
    "plt.xlabel = \"Max Temp (F)\"\n",
    "plt.ylabel = \"Latitude\"\n",
    "plt.savefig = \"../output_data/Max Temp vs Latitude (North Hemisphere).png\"\n",
    "plt.show()"
   ]
  },
  {
   "cell_type": "markdown",
   "metadata": {},
   "source": [
    "####  Southern Hemisphere - Max Temp vs. Latitude Linear Regression"
   ]
  },
  {
   "cell_type": "code",
   "execution_count": 27,
   "metadata": {},
   "outputs": [
    {
     "name": "stdout",
     "output_type": "stream",
     "text": [
      "The r-value is: -0.9258726898491167\n"
     ]
    },
    {
     "data": {
      "image/png": "[encoded data removed]",
      "text/plain": [
       "<Figure size 432x288 with 1 Axes>"
      ]
     },
     "metadata": {
      "needs_background": "light"
     },
     "output_type": "display_data"
    }
   ],
   "source": [
    "south_index = clean_city_data[clean_city_data[\"Lat\"] < 0].index\n",
    "south_city_data = clean_city_data.drop(south_index, inplace = False)\n",
    "\n",
    "x_values = south_city_data[\"Max Temp\"]\n",
    "y_values = south_city_data[\"Lat\"]\n",
    "\n",
    "(slope, intercept, rvalue, pvalue, stderr) = linregress(x_values.astype(float), y_values.astype(float))\n",
    "regress_values = x_values * slope + intercept\n",
    "line_eq = \"y = \" + str(round(slope,2)) + \"x + \" + str(round(intercept,2))\n",
    "\n",
    "print(f\"The r-value is: {rvalue}\")\n",
    "plt.scatter(x_values, y_values)\n",
    "plt.plot(x_values, regress_values, \"r-\")\n",
    "\n",
    "plt.annotate(line_eq, (10, 10), fontsize = 15, color = \"red\")\n",
    "plt.title = \"Max Temp vs. Latitude (Southern Hemisphere)\"\n",
    "plt.xlabel = \"Max Temp (F)\"\n",
    "plt.ylabel = \"Latitude\"\n",
    "plt.savefig = \"../output_data/Max Temp vs Latitude (South Hemisphere)\"\n",
    "plt.show()"
   ]
  },
  {
   "cell_type": "markdown",
   "metadata": {},
   "source": [
    "####  Northern Hemisphere - Humidity (%) vs. Latitude Linear Regression"
   ]
  },
  {
   "cell_type": "code",
   "execution_count": 28,
   "metadata": {},
   "outputs": [
    {
     "name": "stdout",
     "output_type": "stream",
     "text": [
      "The r-value is: 0.6158149791062928\n"
     ]
    },
    {
     "data": {
      "image/png": "[encoded data removed]",
      "text/plain": [
       "<Figure size 432x288 with 1 Axes>"
      ]
     },
     "metadata": {
      "needs_background": "light"
     },
     "output_type": "display_data"
    }
   ],
   "source": [
    "x_values = north_city_data[\"Humidity\"]\n",
    "y_values = north_city_data[\"Lat\"]\n",
    "\n",
    "(slope, intercept, rvalue, pvalue, stderr) = linregress(x_values.astype(float), y_values.astype(float))\n",
    "regress_values = x_values * slope + intercept\n",
    "line_eq = \"y = \" + str(round(slope,2)) + \"x + \" + str(round(intercept,2))\n",
    "\n",
    "print(f\"The r-value is: {rvalue}\")\n",
    "plt.scatter(x_values, y_values)\n",
    "plt.plot(x_values, regress_values, \"r-\")\n",
    "\n",
    "plt.annotate(line_eq, (60, 3), fontsize = 15, color = \"red\")\n",
    "plt.title = \"Humidity (%) vs. Latitude (Northern Hemisphere)\"\n",
    "plt.xlabel = \"Humidity\"\n",
    "plt.ylabel = \"Latitude\"\n",
    "plt.savefig = \"../output_data/Humidity vs Latitude (North Hemisphere).png\"\n",
    "plt.show()"
   ]
  },
  {
   "cell_type": "markdown",
   "metadata": {},
   "source": [
    "####  Southern Hemisphere - Humidity (%) vs. Latitude Linear Regression"
   ]
  },
  {
   "cell_type": "code",
   "execution_count": 29,
   "metadata": {},
   "outputs": [
    {
     "name": "stdout",
     "output_type": "stream",
     "text": [
      "The r-value is: 0.2531457244406325\n"
     ]
    },
    {
     "data": {
      "image/png": "[encoded data removed]",
      "text/plain": [
       "<Figure size 432x288 with 1 Axes>"
      ]
     },
     "metadata": {
      "needs_background": "light"
     },
     "output_type": "display_data"
    }
   ],
   "source": [
    "x_values = south_city_data[\"Humidity\"]\n",
    "y_values = south_city_data[\"Lat\"]\n",
    "\n",
    "(slope, intercept, rvalue, pvalue, stderr) = linregress(x_values.astype(float), y_values.astype(float))\n",
    "regress_values = x_values * slope + intercept\n",
    "line_eq = \"y = \" + str(round(slope,2)) + \"x + \" + str(round(intercept,2))\n",
    "\n",
    "print(f\"The r-value is: {rvalue}\")\n",
    "plt.scatter(x_values, y_values)\n",
    "plt.plot(x_values, regress_values, \"r-\")\n",
    "\n",
    "plt.annotate(line_eq, (60, 3), fontsize = 15, color = \"red\")\n",
    "plt.title = \"Humidity (%) vs Latitude (Southern Hemisphere)\"\n",
    "plt.xlabel = \"Humidity\"\n",
    "plt.ylabel = \"Latitude\"\n",
    "plt.savefig = \"../output_data/Humidity vs Latitude (South Hemisphere)\"\n",
    "plt.show()"
   ]
  },
  {
   "cell_type": "markdown",
   "metadata": {},
   "source": [
    "####  Northern Hemisphere - Cloudiness (%) vs. Latitude Linear Regression"
   ]
  },
  {
   "cell_type": "code",
   "execution_count": 30,
   "metadata": {},
   "outputs": [
    {
     "name": "stdout",
     "output_type": "stream",
     "text": [
      "The r-value is: 0.3965934254518462\n"
     ]
    },
    {
     "data": {
      "image/png": "[encoded data removed]",
      "text/plain": [
       "<Figure size 432x288 with 1 Axes>"
      ]
     },
     "metadata": {
      "needs_background": "light"
     },
     "output_type": "display_data"
    }
   ],
   "source": [
    "x_values = north_city_data[\"Cloudiness\"]\n",
    "y_values = north_city_data[\"Lat\"]\n",
    "\n",
    "(slope, intercept, rvalue, pvalue, stderr) = linregress(x_values.astype(float), y_values.astype(float))\n",
    "regress_values = x_values * slope + intercept\n",
    "line_eq = \"y = \" + str(round(slope,2)) + \"x + \" + str(round(intercept,2))\n",
    "\n",
    "print(f\"The r-value is: {rvalue}\")\n",
    "plt.scatter(x_values, y_values)\n",
    "plt.plot(x_values, regress_values, \"r-\")\n",
    "\n",
    "plt.annotate(line_eq, (0, -50), fontsize = 15, color = \"red\")\n",
    "plt.title = \"Cloudiness (%) vs Latitude (Northern Hemisphere)\"\n",
    "plt.xlabel = \"Cloudiness (%)\"\n",
    "plt.ylabel = \"Latitude\"\n",
    "plt.savefig = \"../output_data/Max Temp vs Latitude (North Hemisphere).png\"\n",
    "plt.show()"
   ]
  },
  {
   "cell_type": "markdown",
   "metadata": {},
   "source": [
    "####  Southern Hemisphere - Cloudiness (%) vs. Latitude Linear Regression"
   ]
  },
  {
   "cell_type": "code",
   "execution_count": 31,
   "metadata": {},
   "outputs": [
    {
     "name": "stdout",
     "output_type": "stream",
     "text": [
      "The r-value is: 0.26515495132049344\n"
     ]
    },
    {
     "data": {
      "image/png": "[encoded data removed]",
      "text/plain": [
       "<Figure size 432x288 with 1 Axes>"
      ]
     },
     "metadata": {
      "needs_background": "light"
     },
     "output_type": "display_data"
    }
   ],
   "source": [
    "x_values = south_city_data[\"Cloudiness\"]\n",
    "y_values = south_city_data[\"Lat\"]\n",
    "\n",
    "(slope, intercept, rvalue, pvalue, stderr) = linregress(x_values.astype(float), y_values.astype(float))\n",
    "regress_values = x_values * slope + intercept\n",
    "line_eq = \"y = \" + str(round(slope,2)) + \"x + \" + str(round(intercept,2))\n",
    "\n",
    "print(f\"The r-value is: {rvalue}\")\n",
    "plt.scatter(x_values, y_values)\n",
    "plt.plot(x_values, regress_values, \"r-\")\n",
    "\n",
    "plt.annotate(line_eq, (10, 10), fontsize = 15, color = \"red\")\n",
    "plt.title = \"Cloudiness (%) vs Latitude (Southern Hemisphere)\"\n",
    "plt.xlabel = \"Max Temp (F)\"\n",
    "plt.ylabel = \"Latitude\"\n",
    "plt.savefig = \"../output_data/Cloudiness vs Latitude (South Hemisphere)\"\n",
    "plt.show()"
   ]
  },
  {
   "cell_type": "markdown",
   "metadata": {},
   "source": [
    "####  Northern Hemisphere - Wind Speed (mph) vs. Latitude Linear Regression"
   ]
  },
  {
   "cell_type": "code",
   "execution_count": 32,
   "metadata": {},
   "outputs": [
    {
     "name": "stdout",
     "output_type": "stream",
     "text": [
      "The r-value is: -0.17315469155498275\n"
     ]
    },
    {
     "data": {
      "image/png": "[encoded data removed]",
      "text/plain": [
       "<Figure size 432x288 with 1 Axes>"
      ]
     },
     "metadata": {
      "needs_background": "light"
     },
     "output_type": "display_data"
    }
   ],
   "source": [
    "x_values = north_city_data[\"Wind Speed\"]\n",
    "y_values = north_city_data[\"Lat\"]\n",
    "\n",
    "(slope, intercept, rvalue, pvalue, stderr) = linregress(x_values.astype(float), y_values.astype(float))\n",
    "regress_values = x_values * slope + intercept\n",
    "line_eq = \"y = \" + str(round(slope,2)) + \"x + \" + str(round(intercept,2))\n",
    "\n",
    "print(f\"The r-value is: {rvalue}\")\n",
    "plt.scatter(x_values, y_values)\n",
    "plt.plot(x_values, regress_values, \"r-\")\n",
    "\n",
    "plt.annotate(line_eq, (5, -45), fontsize = 15, color = \"red\")\n",
    "plt.title = \"Wind Speed (mph) vs. Latitude (Northern Hemisphere)\"\n",
    "plt.xlabel = \"Wind Speed (mph)\"\n",
    "plt.ylabel = \"Latitude\"\n",
    "plt.savefig = \"../output_data/Wind Speed vs Latitude (North Hemisphere).png\"\n",
    "plt.show()"
   ]
  },
  {
   "cell_type": "markdown",
   "metadata": {},
   "source": [
    "####  Southern Hemisphere - Wind Speed (mph) vs. Latitude Linear Regression"
   ]
  },
  {
   "cell_type": "code",
   "execution_count": 33,
   "metadata": {},
   "outputs": [
    {
     "name": "stdout",
     "output_type": "stream",
     "text": [
      "The r-value is: 0.20882447736858176\n"
     ]
    },
    {
     "data": {
      "image/png": "[encoded data removed]",
      "text/plain": [
       "<Figure size 432x288 with 1 Axes>"
      ]
     },
     "metadata": {
      "needs_background": "light"
     },
     "output_type": "display_data"
    }
   ],
   "source": [
    "x_values = south_city_data[\"Wind Speed\"]\n",
    "y_values = south_city_data[\"Lat\"]\n",
    "\n",
    "(slope, intercept, rvalue, pvalue, stderr) = linregress(x_values.astype(float), y_values.astype(float))\n",
    "regress_values = x_values * slope + intercept\n",
    "line_eq = \"y = \" + str(round(slope,2)) + \"x + \" + str(round(intercept,2))\n",
    "\n",
    "print(f\"The r-value is: {rvalue}\")\n",
    "plt.scatter(x_values, y_values)\n",
    "plt.plot(x_values, regress_values, \"r-\")\n",
    "\n",
    "plt.annotate(line_eq, (5, 5), fontsize = 15, color = \"red\")\n",
    "plt.title = \"Wind Speed (mph) vs. Latitude (Southern Hemisphere)\"\n",
    "plt.xlabel = \"Wind Speed\"\n",
    "plt.ylabel = \"Latitude\"\n",
    "plt.savefig = \"../output_data/Wind Speed vs Latitude (South Hemisphere).png\"\n",
    "plt.show()"
   ]
  },
  {
   "cell_type": "code",
   "execution_count": null,
   "metadata": {},
   "outputs": [],
   "source": []
  }
 ],
 "metadata": {
  "anaconda-cloud": {},
  "kernel_info": {
   "name": "python3"
  },
  "kernelspec": {
   "display_name": "Python [conda env:PythonData] *",
   "language": "python",
   "name": "conda-env-PythonData-py"
  },
  "language_info": {
   "codemirror_mode": {
    "name": "ipython",
    "version": 3
   },
   "file_extension": ".py",
   "mimetype": "text/x-python",
   "name": "python",
   "nbconvert_exporter": "python",
   "pygments_lexer": "ipython3",
   "version": "3.6.10"
  },
  "latex_envs": {
   "LaTeX_envs_menu_present": true,
   "autoclose": false,
   "autocomplete": true,
   "bibliofile": "biblio.bib",
   "cite_by": "apalike",
   "current_citInitial": 1,
   "eqLabelWithNumbers": true,
   "eqNumInitial": 1,
   "hotkeys": {
    "equation": "Ctrl-E",
    "itemize": "Ctrl-I"
   },
   "labels_anchors": false,
   "latex_user_defs": false,
   "report_style_numbering": false,
   "user_envs_cfg": false
  },
  "nteract": {
   "version": "0.12.3"
  }
 },
 "nbformat": 4,
 "nbformat_minor": 2
}
