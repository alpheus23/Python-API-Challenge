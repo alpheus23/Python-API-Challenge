{
 "cells": [
  {
   "cell_type": "markdown",
   "metadata": {},
   "source": [
    "# WeatherPy\n",
    "----\n",
    "\n",
    "#### Note\n",
    "* Instructions have been included for each segment. You do not have to follow them exactly, but they are included to help you think through the steps."
   ]
  },
  {
   "cell_type": "code",
   "execution_count": null,
   "metadata": {
    "scrolled": true
   },
   "outputs": [],
   "source": [
    "# Dependencies and Setup\n",
    "import matplotlib.pyplot as plt\n",
    "import pandas as pd\n",
    "import numpy as np\n",
    "import requests\n",
    "import time\n",
    "import json\n",
    "from scipy.stats import linregress\n",
    "\n",
    "# Import API key\n",
    "from api_keys import weather_api_key\n",
    "\n",
    "# Incorporated citipy to determine city based on latitude and longitude\n",
    "from citipy import citipy\n",
    "\n",
    "# Output File (CSV)\n",
    "output_data_file = \"output_data/cities.csv\"\n",
    "\n",
    "# Range of latitudes and longitudes\n",
    "lat_range = (-90, 90)\n",
    "lng_range = (-180, 180)"
   ]
  },
  {
   "cell_type": "markdown",
   "metadata": {},
   "source": [
    "## Generate Cities List"
   ]
  },
  {
   "cell_type": "code",
   "execution_count": null,
   "metadata": {},
   "outputs": [],
   "source": [
    "# List for holding lat_lngs and cities\n",
    "lat_lngs = []\n",
    "cities = []\n",
    "\n",
    "# Create a set of random lat and lng combinations\n",
    "lats = np.random.uniform(lat_range[0], lat_range[1], size=100)\n",
    "lngs = np.random.uniform(lng_range[0], lng_range[1], size=100)\n",
    "lat_lngs = zip(lats, lngs)\n",
    "\n",
    "# Identify nearest city for each lat, lng combination\n",
    "for lat_lng in lat_lngs:\n",
    "    city = citipy.nearest_city(lat_lng[0], lat_lng[1]).city_name\n",
    "    \n",
    "    # If the city is unique, then add it to a our cities list\n",
    "    if city not in cities:\n",
    "        cities.append(city)\n",
    "\n",
    "# Print the city count to confirm sufficient count\n",
    "print(len(cities))"
   ]
  },
  {
   "cell_type": "markdown",
   "metadata": {},
   "source": [
    "### Perform API Calls\n",
    "* Perform a weather check on each city using a series of successive API calls.\n",
    "* Include a print log of each city as it'sbeing processed (with the city number and city name).\n"
   ]
  },
  {
   "cell_type": "code",
   "execution_count": null,
   "metadata": {
    "scrolled": true,
    "tags": []
   },
   "outputs": [],
   "source": [
    "#Creating lists to hold values to later populate dataframe\n",
    "lats = []\n",
    "lons = []\n",
    "max_temps = []\n",
    "humidities = []\n",
    "clouds = []\n",
    "wind_speeds = []\n",
    "countries =  []\n",
    "dates = []\n",
    "skip_counter = 0\n",
    "\n",
    "#Beginning of print process\n",
    "print(\"Beginning Data Retrieval\")\n",
    "print(\"------------------------------\")\n",
    "\n",
    "#Loop through each city in cities and generate json link to pull data\n",
    "for name in cities:\n",
    "    weather_url = f\"https://api.openweathermap.org/data/2.5/weather?q={name}&appid={weather_api_key}&units=imperial\"\n",
    "    response = requests.get(weather_url).json()\n",
    "\n",
    "    #Catch exception in case no data found for selected city\n",
    "    try:\n",
    "        #Store data into variables\n",
    "        lat = response[\"coord\"][\"lat\"]\n",
    "        lon = response[\"coord\"][\"lon\"]\n",
    "        max_temp = response[\"main\"][\"temp_max\"]\n",
    "        humidity = response[\"main\"][\"humidity\"]\n",
    "        cloudiness = response[\"clouds\"][\"all\"]\n",
    "        wind_speed = response[\"wind\"][\"speed\"]\n",
    "        country = response[\"sys\"][\"country\"]\n",
    "        date = response[\"dt\"]\n",
    "\n",
    "        #Append data to corresponding lists\n",
    "        lats.append(lat)\n",
    "        lons.append(lon)\n",
    "        max_temps.append(max_temp)\n",
    "        humidities.append(humidity)\n",
    "        clouds.append(cloudiness)\n",
    "        wind_speeds.append(wind_speed)\n",
    "        countries.append(country)\n",
    "        dates.append(date)\n",
    "\n",
    "        #Print log of city being processed\n",
    "        print(f\"Processing record {cities.index(name)} | {name.capitalize()}\")\n",
    "        print(f\"Data visual: {len(lats)}\\n\")\n",
    "    except KeyError:\n",
    "        print(f\"No data found for {name.capitalize()}. Skipping...\")\n",
    "\n",
    "        #Remove city from cities list for easier dataframe creation later\n",
    "        #cities.remove(name)\n",
    "        lats.append(\"\")\n",
    "        lons.append(\"\")\n",
    "        max_temps.append(\"\")\n",
    "        humidities.append(\"\")\n",
    "        clouds.append(\"\")\n",
    "        wind_speeds.append(\"\")\n",
    "        countries.append(\"\")\n",
    "        dates.append(\"\")\n",
    "        print(f\"Data visual: {len(lats)}\\n\")\n",
    "        skip_counter += 1\n",
    "\n",
    "#End of print process\n",
    "print(\"-----------------------------\")\n",
    "print(\"Data Retrieval Complete\")\n",
    "print(\"-----------------------------\")\n",
    "\n",
    "print(f\"Number of Skips: {skip_counter}\")"
   ]
  },
  {
   "cell_type": "markdown",
   "metadata": {},
   "source": [
    "### Convert Raw Data to DataFrame\n",
    "* Export the city data into a .csv.\n",
    "* Display the DataFrame"
   ]
  },
  {
   "cell_type": "code",
   "execution_count": null,
   "metadata": {},
   "outputs": [],
   "source": [
    "#Create dataframe\n",
    "raw_data = {\"City\": cities, \"Lat\": lats, \"Lon\": lons, \"Max Temp\": max_temps, \"Humidity\": humidities, \"Cloudiness\": clouds, \"Wind Speed\": wind_speeds, \"Country\": countries, \"Date\": dates}\n",
    "\n",
    "city_data = pd.DataFrame(raw_data)\n",
    "\n",
    "#Find indexes where Lat is blank for future removal\n",
    "index_names = city_data[city_data[\"Lat\"] == \"\"].index\n",
    "\n",
    "city_data.drop(index_names, inplace = True)\n",
    "\n",
    "#Export dataframe to a csv file\n",
    "city_data.to_csv(\"../output_data/cities.csv\", index = False, header = True)\n",
    "\n",
    "#Print out cleaned dataframe\n",
    "city_data"
   ]
  },
  {
   "cell_type": "code",
   "execution_count": null,
   "metadata": {},
   "outputs": [],
   "source": [
    "over_100 = city_data.loc[city_data[\"Humidity\"] < 50]\n",
    "\n",
    "over_100"
   ]
  },
  {
   "cell_type": "markdown",
   "metadata": {},
   "source": [
    "## Inspect the data and remove the cities where the humidity > 100%.\n",
    "----\n",
    "Skip this step if there are no cities that have humidity > 100%. "
   ]
  },
  {
   "cell_type": "code",
   "execution_count": null,
   "metadata": {},
   "outputs": [],
   "source": [
    "#  Get the indices of cities that have humidity over 100%.\n",
    "humid_index = city_data[city_data[\"Humidity\"] < 50].index\n",
    "humid_index"
   ]
  },
  {
   "cell_type": "code",
   "execution_count": null,
   "metadata": {},
   "outputs": [],
   "source": [
    "# Make a new DataFrame equal to the city data to drop all humidity outliers by index.\n",
    "# Passing \"inplace=False\" will make a copy of the city_data DataFrame, which we call \"clean_city_data\".\n",
    "clean_city_data = city_data.drop(humid_index, inplace = False)\n",
    "\n",
    "clean_city_data"
   ]
  },
  {
   "cell_type": "markdown",
   "metadata": {},
   "source": [
    "## Plotting the Data\n",
    "* Use proper labeling of the plots using plot titles (including date of analysis) and axes labels.\n",
    "* Save the plotted figures as .pngs."
   ]
  },
  {
   "cell_type": "markdown",
   "metadata": {},
   "source": [
    "## Latitude vs. Temperature Plot"
   ]
  },
  {
   "cell_type": "code",
   "execution_count": null,
   "metadata": {
    "scrolled": true
   },
   "outputs": [],
   "source": [
    "lat_vs_temp = clean_city_data.plot(kind = \"scatter\", x = \"Lat\", y = \"Max Temp\", grid = True)\n",
    "plt.xlabel = \"Latitude\"\n",
    "plt.ylabel = \"Max Temperature (F)\"\n",
    "plt.title = \"Latitude vs Max Temp (F)\"\n",
    "plt.savefig = \"../output_data/Latitude vs Max Temp.png\"\n",
    "plt.show()"
   ]
  },
  {
   "cell_type": "markdown",
   "metadata": {},
   "source": [
    "## Latitude vs. Humidity Plot"
   ]
  },
  {
   "cell_type": "code",
   "execution_count": null,
   "metadata": {},
   "outputs": [],
   "source": [
    "plt.scatter(clean_city_data[\"Lat\"], clean_city_data[\"Humidity\"], marker = \"o\", facecolors = \"red\", edgecolors = \"black\")\n",
    "# plt.ylim(-60, 80)\n",
    "# plt.ylim(-10, 35)\n",
    "plt.title = \"Latitude vs Humidity\"\n",
    "plt.xlabel = \"Latitude\"\n",
    "plt.ylabel =\"Humidity\"\n",
    "plt.savefig = \"Latitude vs Humidity.png\"\n",
    "plt.show()"
   ]
  },
  {
   "cell_type": "markdown",
   "metadata": {},
   "source": [
    "## Latitude vs. Cloudiness Plot"
   ]
  },
  {
   "cell_type": "code",
   "execution_count": null,
   "metadata": {},
   "outputs": [],
   "source": [
    "plt.scatter(clean_city_data[\"Lat\"], clean_city_data[\"Cloudiness\"], marker = \"o\", facecolors = \"red\", edgecolors = \"black\")\n",
    "plt.title = \"Latitude vs Cloudiness\"\n",
    "plt.savefig = \"../output_data/Latitude vs Cloudiness.png\"\n",
    "plt.show() "
   ]
  },
  {
   "cell_type": "markdown",
   "metadata": {},
   "source": [
    "## Latitude vs. Wind Speed Plot"
   ]
  },
  {
   "cell_type": "code",
   "execution_count": null,
   "metadata": {},
   "outputs": [],
   "source": [
    "plt.scatter(clean_city_data[\"Lat\"], clean_city_data[\"Wind Speed\"], marker = \"o\", facecolors = \"red\", edgecolors = \"black\")\n",
    "plt.savefig = \"../output_data/Latitude vs Wind Speed.png\"\n",
    "plt.show()"
   ]
  },
  {
   "cell_type": "markdown",
   "metadata": {},
   "source": [
    "## Linear Regression"
   ]
  },
  {
   "cell_type": "code",
   "execution_count": null,
   "metadata": {},
   "outputs": [],
   "source": [
    "# north_index = clean_city_data[clean_city_data[\"Lat\"] > 0].index\n",
    "# north_city_data = clean_city_data.drop(north_index, inplace = False)\n",
    "\n",
    "# north_city_data"
   ]
  },
  {
   "cell_type": "code",
   "execution_count": null,
   "metadata": {},
   "outputs": [],
   "source": [
    "# (slope, intercept, rvalue, pvalue, stderr) = linregress(x_values.astype(float), y_values)\n",
    "#north_city_data[\"Lat\"].astype(float)"
   ]
  },
  {
   "cell_type": "markdown",
   "metadata": {},
   "source": [
    "####  Northern Hemisphere - Max Temp vs. Latitude Linear Regression"
   ]
  },
  {
   "cell_type": "code",
   "execution_count": null,
   "metadata": {},
   "outputs": [],
   "source": [
    "north_index = clean_city_data[clean_city_data[\"Lat\"] > 0].index\n",
    "north_city_data = clean_city_data.drop(north_index, inplace= False)\n",
    "\n",
    "x_values = north_city_data[\"Max Temp\"]\n",
    "y_values = north_city_data[\"Lat\"]\n",
    "(slope, intercept, rvalue, pvalue, stderr) = linregress(x_values.astype(float), y_values.astype(float))\n",
    "regress_values = x_values * slope + intercept\n",
    "line_eq = \"y = \" + str(round(slope,2)) + \"x + \" + str(round(intercept,2))\n",
    "plt.scatter(x_values, y_values)\n",
    "plt.plot(x_values, regress_values, \"r-\")\n",
    "plt.xlabel = \"Max Temp (F)\"\n",
    "plt.ylabel = \"Latitude\"\n",
    "plt.savefig = \"../output_data/Max Temp vs Latitude (North Hemisphere).png\"\n",
    "plt.show()"
   ]
  },
  {
   "cell_type": "markdown",
   "metadata": {},
   "source": [
    "####  Southern Hemisphere - Max Temp vs. Latitude Linear Regression"
   ]
  },
  {
   "cell_type": "code",
   "execution_count": null,
   "metadata": {},
   "outputs": [],
   "source": [
    "south_index = clean_city_data[clean_city_data[\"Lat\"] < 0].index\n",
    "south_city_data = clean_city_data.drop(south_index, inplace = False)\n",
    "\n",
    "x_values = south_city_data[\"Max Temp\"]\n",
    "y_values = south_city_data[\"Lat\"]\n",
    "#(slope, intercept, rvalue, pvalue, stderr) = linregress(x_values, y_values)\n",
    "#regress_values = x_values * slope + intercept\n",
    "#line_eq = \"y = \" + str(round(slope,2)) + \"x + \" + str(round(intercept,2))\n",
    "plt.scatter(x_values, y_values)\n",
    "#plt.plot(x_values, regress_values, \"r-\")\n",
    "plt.xlabel = \"Max Temp (F)\"\n",
    "plt.ylabel = \"Latitude\"\n",
    "plt.savefig = \"../output_data/Max Temp vs Latitude (South Hemisphere)\"\n",
    "plt.show()"
   ]
  },
  {
   "cell_type": "markdown",
   "metadata": {},
   "source": [
    "####  Northern Hemisphere - Humidity (%) vs. Latitude Linear Regression"
   ]
  },
  {
   "cell_type": "code",
   "execution_count": null,
   "metadata": {},
   "outputs": [],
   "source": [
    "x_values = north_city_data[\"Humidity\"]\n",
    "y_values = north_city_data[\"Lat\"]\n",
    "#(slope, intercept, rvalue, pvalue, stderr) = linregress(x_values, y_values)\n",
    "#regress_values = x_values * slope + intercept\n",
    "#line_eq = \"y = \" + str(round(slope,2)) + \"x + \" + str(round(intercept,2))\n",
    "plt.scatter(x_values, y_values)\n",
    "#plt.plot(x_values, regress_values, \"r-\")\n",
    "plt.xlabel = \"Humidity\"\n",
    "plt.ylabel = \"Latitude\"\n",
    "plt.savefig = \"../output_data/Humidity vs Latitude (North Hemisphere).png\"\n",
    "plt.show()"
   ]
  },
  {
   "cell_type": "markdown",
   "metadata": {},
   "source": [
    "####  Southern Hemisphere - Humidity (%) vs. Latitude Linear Regression"
   ]
  },
  {
   "cell_type": "code",
   "execution_count": null,
   "metadata": {},
   "outputs": [],
   "source": [
    "x_values = south_city_data[\"Humidity\"]\n",
    "y_values = south_city_data[\"Lat\"]\n",
    "#(slope, intercept, rvalue, pvalue, stderr) = linregress(x_values, y_values)\n",
    "#regress_values = x_values * slope + intercept\n",
    "#line_eq = \"y = \" + str(round(slope,2)) + \"x + \" + str(round(intercept,2))\n",
    "plt.scatter(x_values, y_values)\n",
    "#plt.plot(x_values, regress_values, \"r-\")\n",
    "plt.xlabel = \"Humidity\"\n",
    "plt.ylabel = \"Latitude\"\n",
    "plt.savefig = \"../output_data/Humidity vs Latitude (South Hemisphere)\"\n",
    "plt.show()"
   ]
  },
  {
   "cell_type": "markdown",
   "metadata": {},
   "source": [
    "####  Northern Hemisphere - Cloudiness (%) vs. Latitude Linear Regression"
   ]
  },
  {
   "cell_type": "code",
   "execution_count": null,
   "metadata": {},
   "outputs": [],
   "source": [
    "x_values = north_city_data[\"Cloudiness\"]\n",
    "y_values = north_city_data[\"Lat\"]\n",
    "#(slope, intercept, rvalue, pvalue, stderr) = linregress(x_values, y_values)\n",
    "#regress_values = x_values * slope + intercept\n",
    "#line_eq = \"y = \" + str(round(slope,2)) + \"x + \" + str(round(intercept,2))\n",
    "plt.scatter(x_values, y_values)\n",
    "#plt.plot(x_values, regress_values, \"r-\")\n",
    "plt.xlabel = \"Cloudiness (%)\"\n",
    "plt.ylabel = \"Latitude\"\n",
    "plt.savefig = \"../output_data/Max Temp vs Latitude (North Hemisphere).png\"\n",
    "plt.show()"
   ]
  },
  {
   "cell_type": "markdown",
   "metadata": {},
   "source": [
    "####  Southern Hemisphere - Cloudiness (%) vs. Latitude Linear Regression"
   ]
  },
  {
   "cell_type": "code",
   "execution_count": null,
   "metadata": {},
   "outputs": [],
   "source": [
    "x_values = south_city_data[\"Cloudiness\"]\n",
    "y_values = south_city_data[\"Lat\"]\n",
    "#(slope, intercept, rvalue, pvalue, stderr) = linregress(x_values, y_values)\n",
    "#regress_values = x_values * slope + intercept\n",
    "#line_eq = \"y = \" + str(round(slope,2)) + \"x + \" + str(round(intercept,2))\n",
    "plt.scatter(x_values, y_values)\n",
    "#plt.plot(x_values, regress_values, \"r-\")\n",
    "plt.xlabel = \"Max Temp (F)\"\n",
    "plt.ylabel = \"Latitude\"\n",
    "plt.savefig = \"../output_data/Cloudiness vs Latitude (South Hemisphere)\"\n",
    "plt.show()"
   ]
  },
  {
   "cell_type": "markdown",
   "metadata": {},
   "source": [
    "####  Northern Hemisphere - Wind Speed (mph) vs. Latitude Linear Regression"
   ]
  },
  {
   "cell_type": "code",
   "execution_count": null,
   "metadata": {},
   "outputs": [],
   "source": [
    "x_values = north_city_data[\"Wind Speed\"]\n",
    "y_values = north_city_data[\"Lat\"]\n",
    "#(slope, intercept, rvalue, pvalue, stderr) = linregress(x_values, y_values)\n",
    "#regress_values = x_values * slope + intercept\n",
    "#line_eq = \"y = \" + str(round(slope,2)) + \"x + \" + str(round(intercept,2))\n",
    "plt.scatter(x_values, y_values)\n",
    "#plt.plot(x_values, regress_values, \"r-\")\n",
    "plt.xlabel = \"Wind Speed (mph)\"\n",
    "plt.ylabel = \"Latitude\"\n",
    "plt.savefig = \"../output_data/Wind Speed vs Latitude (North Hemisphere).png\"\n",
    "plt.show()"
   ]
  },
  {
   "cell_type": "markdown",
   "metadata": {},
   "source": [
    "####  Southern Hemisphere - Wind Speed (mph) vs. Latitude Linear Regression"
   ]
  },
  {
   "cell_type": "code",
   "execution_count": null,
   "metadata": {},
   "outputs": [],
   "source": [
    "x_values = south_city_data[\"Wind Speed\"]\n",
    "y_values = south_city_data[\"Lat\"]\n",
    "#(slope, intercept, rvalue, pvalue, stderr) = linregress(x_values, y_values)\n",
    "#regress_values = x_values * slope + intercept\n",
    "#line_eq = \"y = \" + str(round(slope,2)) + \"x + \" + str(round(intercept,2))\n",
    "plt.scatter(x_values, y_values)\n",
    "#plt.plot(x_values, regress_values, \"r-\")\n",
    "plt.xlabel = \"Wind Speed\"\n",
    "plt.ylabel = \"Latitude\"\n",
    "plt.savefig = \"../output_data/Wind Speed vs Latitude (South Hemisphere)\"\n",
    "plt.show()"
   ]
  },
  {
   "cell_type": "code",
   "execution_count": null,
   "metadata": {},
   "outputs": [],
   "source": []
  }
 ],
 "metadata": {
  "anaconda-cloud": {},
  "kernel_info": {
   "name": "python3"
  },
  "kernelspec": {
   "display_name": "Python [conda env:PythonData] *",
   "language": "python",
   "name": "conda-env-PythonData-py"
  },
  "language_info": {
   "codemirror_mode": {
    "name": "ipython",
    "version": 3
   },
   "file_extension": ".py",
   "mimetype": "text/x-python",
   "name": "python",
   "nbconvert_exporter": "python",
   "pygments_lexer": "ipython3",
   "version": "3.6.10"
  },
  "latex_envs": {
   "LaTeX_envs_menu_present": true,
   "autoclose": false,
   "autocomplete": true,
   "bibliofile": "biblio.bib",
   "cite_by": "apalike",
   "current_citInitial": 1,
   "eqLabelWithNumbers": true,
   "eqNumInitial": 1,
   "hotkeys": {
    "equation": "Ctrl-E",
    "itemize": "Ctrl-I"
   },
   "labels_anchors": false,
   "latex_user_defs": false,
   "report_style_numbering": false,
   "user_envs_cfg": false
  },
  "nteract": {
   "version": "0.12.3"
  }
 },
 "nbformat": 4,
 "nbformat_minor": 2
}
