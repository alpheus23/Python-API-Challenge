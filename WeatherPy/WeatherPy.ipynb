{
 "cells": [
  {
   "cell_type": "markdown",
   "metadata": {},
   "source": [
    "# WeatherPy\n",
    "----\n",
    "\n",
    "#### Note\n",
    "* Instructions have been included for each segment. You do not have to follow them exactly, but they are included to help you think through the steps."
   ]
  },
  {
   "cell_type": "code",
   "execution_count": 15,
   "metadata": {
    "scrolled": true
   },
   "outputs": [],
   "source": [
    "# Dependencies and Setup\n",
    "import matplotlib.pyplot as plt\n",
    "import pandas as pd\n",
    "import numpy as np\n",
    "import requests\n",
    "import time\n",
    "import requests\n",
    "import json\n",
    "from scipy.stats import linregress\n",
    "\n",
    "# Import API key\n",
    "from api_keys import weather_api_key\n",
    "\n",
    "# Incorporated citipy to determine city based on latitude and longitude\n",
    "from citipy import citipy\n",
    "\n",
    "# Output File (CSV)\n",
    "output_data_file = \"output_data/cities.csv\"\n",
    "\n",
    "# Range of latitudes and longitudes\n",
    "lat_range = (-90, 90)\n",
    "lng_range = (-180, 180)"
   ]
  },
  {
   "cell_type": "markdown",
   "metadata": {},
   "source": [
    "## Generate Cities List"
   ]
  },
  {
   "cell_type": "code",
   "execution_count": 33,
   "metadata": {},
   "outputs": [
    {
     "output_type": "stream",
     "name": "stdout",
     "text": [
      "597\n['souillac', 'mrirt', 'cape town', 'alofi', 'luena', 'mahadday weyne', 'butaritari', 'ngukurr', 'tsihombe', 'kununurra', 'hermanus', 'vaini', 'brae', 'port alfred', 'taolanaro', 'cabo san lucas', 'vanavara', 'bluff', 'barrow', 'chabahar', 'mataura', 'albany', 'kodiak', 'kapaa', 'watsa', 'nizhneyansk', 'georgetown', 'isiro', 'atuona', 'ponta do sol', 'hobart', 'cayenne', 'pisco', 'filadelfia', 'bredasdorp', 'illoqqortoormiut', 'hualmay', 'chibombo', 'springbok', 'mahebourg', 'saint-georges', 'vao', 'canton', 'sentyabrskiy', 'ushuaia', 'tiksi', 'punta arenas', 'luderitz', 'union', 'songkhla', 'castro', 'leshukonskoye', 'cidreira', 'east london', 'mount isa', 'bokspits', 'malmyzh', 'lorengau', 'chuy', 'rikitea', 'yellowknife', 'alice springs', 'komsomolskiy', 'dikson', 'busselton', 'hami', 'lagoa', 'flin flon', 'taiyuan', 'sterling', 'chapais', 'polyarnyy', 'bambous virieux', 'hithadhoo', 'dudinka', 'shar', 'port lincoln', 'pevek', 'narsaq', 'terme', 'kensington', 'bethel', 'qaanaaq', 'ancud', 'waipawa', 'kamenka', 'talawdi', 'guerrero negro', 'eureka', 'airai', 'thompson', 'tasiilaq', 'khatanga', 'upernavik', 'jieshi', 'griffith', 'dieppe', 'san quintin', 'trenggalek', 'zaysan', 'vallenar', 'chokurdakh', 'belushya guba', 'port elizabeth', 'klaksvik', 'rosarito', 'taitung', 'wladyslawowo', 'kaitangata', 'puerto leguizamo', 'marietta', 'jamestown', 'hornepayne', 'tuktoyaktuk', 'torbay', 'halalo', 'vila velha', 'carnarvon', 'mys shmidta', 'farah', 'mangan', 'nelson bay', 'samusu', 'kavieng', 'bretzfeld', 'surt', 'karpathos', 'hjelset', 'celestun', 'harper', 'herat', 'bengkulu', 'hun', 'marin', 'singleton', 'santa vitoria do palmar', 'solnechnyy', 'avarua', 'samut songkhram', 'bargal', 'berlevag', 'yulara', 'russell', 'longyearbyen', 'dabola', 'barentsburg', 'sao filipe', 'merauke', 'new norfolk', 'kutum', 'bandarbeyla', 'saint george', 'yarada', 'victoria', 'hilo', 'katangli', 'havelock', 'tecoanapa', 'pandan niog', 'saleaula', 'nikolskoye', 'norman wells', 'rio tercero', 'zhangye', 'fairbanks', 'puerto ayora', 'nabire', 'severo-kurilsk', 'provideniya', 'kusa', 'alotau', 'umzimvubu', 'vagur', 'comodoro rivadavia', 'belle fourche', 'praya', 'hobyo', 'monkey bay', 'opuwo', 'maceio', 'zyryanka', 'wanning', 'itoman', 'nizwa', 'tokur', 'takaka', 'ascope', 'santiago', 'verkhnevilyuysk', 'wum', 'presidencia roque saenz pena', 'lasa', 'boyolangu', 'tisul', 'alamosa', 'ribeira grande', 'westport', 'puyo', 'ordynskoye', 'lata', 'kegayli', 'skjervoy', 'grootfontein', 'hofn', 'sisimiut', 'la ronge', 'half moon bay', 'dharchula', 'gat', 'pemba', 'te anau', 'zeya', 'laguna', 'gravdal', 'urumqi', 'ferguson', 'henties bay', 'bilma', 'buk', 'iwanai', 'tumaco', 'faanui', 'kushima', 'lima', 'rio gallegos', 'icanti', 'lavrentiya', 'kwekwe', 'wiarton', 'mosquera', 'hailar', 'olot', 'warqla', 'raudeberg', 'elk city', 'ikole', 'boguchany', 'ilulissat', 'geraldton', 'bamnet narong', 'priladozhskiy', 'nchelenge', 'poopo', 'aswan', 'guamuchil', 'kirovskiy', 'impfondo', 'faya', 'lebu', 'grand river south east', 'saint-philippe', 'lolua', 'zhigansk', 'novoselytsya', 'mar del plata', 'fort abbas', 'kita', 'iqaluit', 'alta floresta', 'karratha', 'umm lajj', 'ndouci', 'arraial do cabo', 'tuatapere', 'qasigiannguit', 'cherskiy', 'karaul', 'coquimbo', 'acari', 'iskateley', 'coihaique', 'oytal', 'daru', 'diffa', 'sehithwa', 'dolores', 'clyde river', 'kenai', 'coria', 'santa rita', 'khorramshahr', 'bundaberg', 'traralgon', 'hambantota', 'moron', 'maimon', 'sao sebastiao', 'viligili', 'axim', 'pokhara', 'loanda', 'yar-sale', 'ende', 'katherine', 'ahipara', 'katsuura', 'saldanha', 'maningrida', 'hasaki', 'sorland', 'sitka', 'sindor', 'beringovskiy', 'san andres', 'diapaga', 'port shepstone', 'afgoye', 'bud', 'garmsar', 'port hardy', 'vestmannaeyjar', 'atka', 'tadine', 'buala', 'sivas', 'alyangula', 'mount gambier', 'aitape', 'chimala', 'port-gentil', 'attawapiskat', 'aykhal', 'lugovskiy', 'tomatlan', 'hervey bay', 'lafiagi', 'dhidhdhoo', 'qaqortoq', 'ostrovnoy', 'caravelas', 'kieta', 'amderma', 'soligalich', 'salmas', 'ligayan', 'saint-francois', 'pipili', 'scarborough', 'sambava', 'araguatins', 'polovinnoye', 'saint-augustin', 'port hedland', 'kurchum', 'sur', 'esperance', 'gamba', 'rorvik', 'kjollefjord', 'poum', 'maridi', 'lundazi', 'tabulbah', 'sawai madhopur', 'san patricio', 'zonguldak', 'miri', 'makat', 'gasa', 'nogliki', 'imbituba', 'kahului', 'kisangani', 'gushikawa', 'rockport', 'makung', 'leningradskiy', 'farafangana', 'ixtapa', 'fortuna', 'mazagao', 'ahuimanu', 'suao', 'dingle', 'basco', 'maragogi', 'garowe', 'port hawkesbury', 'marquette', 'oriximina', 'noumea', 'ardmore', 'tarko-sale', 'mahibadhoo', 'codrington', 'phonhong', 'tazovskiy', 'severo-yeniseyskiy', 'saskylakh', 'biu', 'bilibino', 'morant bay', 'saint-pierre', 'lodingen', 'ijaki', 'carazinho', 'grindavik', 'lompoc', 'pointe michel', 'tervel', 'mukhen', 'poso', 'augusto correa', 'ust-omchug', 'weligama', 'avera', 'plettenberg bay', 'andros town', 'diamantino', 'banyo', 'cumaru', 'paka', 'saryshagan', 'dakar', 'dwarka', 'quelimane', 'pangnirtung', 'port keats', 'nidzica', 'richards bay', 'kaseda', 'atar', 'yerbogachen', 'honolulu', 'alto lucero', 'cauas', 'nybro', 'tabou', 'olga', 'nova olimpia', 'bom jesus', 'petropavlovsk-kamchatskiy', 'kaeo', 'byron bay', 'choma', 'mushie', 'roebourne', 'la rioja', 'pochutla', 'roald', 'udachnyy', 'mesyagutovo', 'port blair', 'gaya', 'muzhi', 'shenjiamen', 'arica', 'dinsor', 'marystown', 'amuntai', 'mahanoro', 'cabadiangan', 'zhangjiakou', 'cabanas', 'sao joao da barra', 'sibu', 'turan', 'grand centre', 'fukue', 'salalah', 'pampierstad', 'bintulu', 'saint helens', 'mamou', 'pauini', 'kimberley', 'coahuayana', 'padang', 'shihezi', 'marawi', 'barbar', 'port augusta', 'batsfjord', 'ushtobe', 'kuche', 'clonakilty', 'baquero', 'meulaboh', 'sharlyk', 'beloha', 'wanaka', 'vardo', 'klyuchi', 'karasjok', 'cam ranh', 'boa vista', 'portland', 'carutapera', 'turukhansk', 'tumannyy', 'louisbourg', 'mitsamiouli', 'rincon', 'aquiraz', 'gaoua', 'thinadhoo', 'birjand', 'tiarei', 'san ramon', 'ilo', 'bayeux', 'nguiu', 'hirara', 'novyy urengoy', 'vostok', 'palabuhanratu', 'kudahuvadhoo', 'olinda', 'holovyne', 'puerto parra', 'conceicao do araguaia', 'kristiansund', 'kosh-agach', 'aromashevo', 'alihe', 'uruzgan', 'dunedin', 'nevers', 'kamaishi', 'bihac', 'kalangala', 'thano bula khan', 'gilgit', 'nicoya', 'montrose', 'acapulco', 'sayyan', 'santa cruz de tenerife', 'surgut', 'ugoofaaru', 'mumbwa', 'ust-kuyga', 'naze', 'san joaquin', 'buchanan', 'minab', 'midland', 'virpur', 'chaman', 'milingimbi', 'vaitupu', 'bay roberts', 'bousso', 'kholm', 'aklavik', 'ambilobe', 'srednekolymsk', 'coalcoman', 'la baule-escoublac', 'kamenskoye', 'boende', 'malaya purga', 'trat', 'oga', 'talcahuano', 'eirunepe', 'lyaskelya', 'krasnoarmeysk', 'lincoln', 'ialibu', 'sabha', 'nadvoitsy', 'nanning', 'villa maria', 'amli', 'grand gaube', 'nabul', 'husavik', 'bang len', 'huarmey', 'chesterville', 'bridlington', 'tarakan', 'samarai', 'marsabit', 'elat', 'nantucket', 'bada', 'timberlake', 'port macquarie', 'at-bashi', 'sakaiminato', 'juneau', 'tidore', 'dubbo', 'mpika', 'solaro', 'nanortalik', 'windhoek', 'nikolayevsk-na-amure', 'zhezkazgan', 'namibe', 'calama', 'foumban', 'tura', 'andenes', 'menongue']\n"
     ]
    }
   ],
   "source": [
    "# List for holding lat_lngs and cities\n",
    "lat_lngs = []\n",
    "cities = []\n",
    "\n",
    "# Create a set of random lat and lng combinations\n",
    "lats = np.random.uniform(lat_range[0], lat_range[1], size=1500)\n",
    "lngs = np.random.uniform(lng_range[0], lng_range[1], size=1500)\n",
    "lat_lngs = zip(lats, lngs)\n",
    "\n",
    "# Identify nearest city for each lat, lng combination\n",
    "for lat_lng in lat_lngs:\n",
    "    city = citipy.nearest_city(lat_lng[0], lat_lng[1]).city_name\n",
    "    \n",
    "    # If the city is unique, then add it to a our cities list\n",
    "    if city not in cities:\n",
    "        cities.append(city)\n",
    "\n",
    "# Print the city count to confirm sufficient count\n",
    "print(len(cities))\n",
    "print(cities)"
   ]
  },
  {
   "cell_type": "markdown",
   "metadata": {},
   "source": [
    "### Perform API Calls\n",
    "* Perform a weather check on each city using a series of successive API calls.\n",
    "* Include a print log of each city as it'sbeing processed (with the city number and city name).\n"
   ]
  },
  {
   "cell_type": "code",
   "execution_count": 35,
   "metadata": {
    "scrolled": true
   },
   "outputs": [
    {
     "output_type": "stream",
     "name": "stdout",
     "text": [
      "https://api.openweathermap.org/data/2.5/weather?q=souillac&appid=9ce71775c97a7b35fb443ccc88625786\n",
      "Rain\n",
      "297.15\n"
     ]
    }
   ],
   "source": [
    "#for city in cities:\n",
    "weather_url = f\"https://api.openweathermap.org/data/2.5/weather?q={cities[0]}&appid={weather_api_key}\"\n",
    "print(weather_url)\n",
    "response = requests.get(weather_url).json()\n",
    "print(response[\"weather\"][0][\"main\"])\n",
    "print(response[\"main\"][\"temp\"])"
   ]
  },
  {
   "cell_type": "markdown",
   "metadata": {},
   "source": [
    "### Convert Raw Data to DataFrame\n",
    "* Export the city data into a .csv.\n",
    "* Display the DataFrame"
   ]
  },
  {
   "cell_type": "code",
   "execution_count": null,
   "metadata": {},
   "outputs": [],
   "source": []
  },
  {
   "cell_type": "code",
   "execution_count": null,
   "metadata": {},
   "outputs": [],
   "source": []
  },
  {
   "cell_type": "markdown",
   "metadata": {},
   "source": [
    "## Inspect the data and remove the cities where the humidity > 100%.\n",
    "----\n",
    "Skip this step if there are no cities that have humidity > 100%. "
   ]
  },
  {
   "cell_type": "code",
   "execution_count": null,
   "metadata": {},
   "outputs": [],
   "source": []
  },
  {
   "cell_type": "code",
   "execution_count": null,
   "metadata": {},
   "outputs": [],
   "source": [
    "#  Get the indices of cities that have humidity over 100%.\n"
   ]
  },
  {
   "cell_type": "code",
   "execution_count": null,
   "metadata": {},
   "outputs": [],
   "source": [
    "# Make a new DataFrame equal to the city data to drop all humidity outliers by index.\n",
    "# Passing \"inplace=False\" will make a copy of the city_data DataFrame, which we call \"clean_city_data\".\n"
   ]
  },
  {
   "cell_type": "code",
   "execution_count": null,
   "metadata": {},
   "outputs": [],
   "source": [
    "\n"
   ]
  },
  {
   "cell_type": "markdown",
   "metadata": {},
   "source": [
    "## Plotting the Data\n",
    "* Use proper labeling of the plots using plot titles (including date of analysis) and axes labels.\n",
    "* Save the plotted figures as .pngs."
   ]
  },
  {
   "cell_type": "markdown",
   "metadata": {},
   "source": [
    "## Latitude vs. Temperature Plot"
   ]
  },
  {
   "cell_type": "code",
   "execution_count": null,
   "metadata": {
    "scrolled": true
   },
   "outputs": [],
   "source": []
  },
  {
   "cell_type": "markdown",
   "metadata": {},
   "source": [
    "## Latitude vs. Humidity Plot"
   ]
  },
  {
   "cell_type": "code",
   "execution_count": null,
   "metadata": {},
   "outputs": [],
   "source": []
  },
  {
   "cell_type": "markdown",
   "metadata": {},
   "source": [
    "## Latitude vs. Cloudiness Plot"
   ]
  },
  {
   "cell_type": "code",
   "execution_count": null,
   "metadata": {},
   "outputs": [],
   "source": []
  },
  {
   "cell_type": "markdown",
   "metadata": {},
   "source": [
    "## Latitude vs. Wind Speed Plot"
   ]
  },
  {
   "cell_type": "code",
   "execution_count": null,
   "metadata": {},
   "outputs": [],
   "source": []
  },
  {
   "cell_type": "markdown",
   "metadata": {},
   "source": [
    "## Linear Regression"
   ]
  },
  {
   "cell_type": "code",
   "execution_count": null,
   "metadata": {},
   "outputs": [],
   "source": []
  },
  {
   "cell_type": "markdown",
   "metadata": {},
   "source": [
    "####  Northern Hemisphere - Max Temp vs. Latitude Linear Regression"
   ]
  },
  {
   "cell_type": "code",
   "execution_count": null,
   "metadata": {},
   "outputs": [],
   "source": []
  },
  {
   "cell_type": "markdown",
   "metadata": {},
   "source": [
    "####  Southern Hemisphere - Max Temp vs. Latitude Linear Regression"
   ]
  },
  {
   "cell_type": "code",
   "execution_count": null,
   "metadata": {},
   "outputs": [],
   "source": []
  },
  {
   "cell_type": "markdown",
   "metadata": {},
   "source": [
    "####  Northern Hemisphere - Humidity (%) vs. Latitude Linear Regression"
   ]
  },
  {
   "cell_type": "code",
   "execution_count": null,
   "metadata": {},
   "outputs": [],
   "source": []
  },
  {
   "cell_type": "markdown",
   "metadata": {},
   "source": [
    "####  Southern Hemisphere - Humidity (%) vs. Latitude Linear Regression"
   ]
  },
  {
   "cell_type": "code",
   "execution_count": null,
   "metadata": {},
   "outputs": [],
   "source": []
  },
  {
   "cell_type": "markdown",
   "metadata": {},
   "source": [
    "####  Northern Hemisphere - Cloudiness (%) vs. Latitude Linear Regression"
   ]
  },
  {
   "cell_type": "code",
   "execution_count": null,
   "metadata": {},
   "outputs": [],
   "source": []
  },
  {
   "cell_type": "markdown",
   "metadata": {},
   "source": [
    "####  Southern Hemisphere - Cloudiness (%) vs. Latitude Linear Regression"
   ]
  },
  {
   "cell_type": "code",
   "execution_count": null,
   "metadata": {},
   "outputs": [],
   "source": []
  },
  {
   "cell_type": "markdown",
   "metadata": {},
   "source": [
    "####  Northern Hemisphere - Wind Speed (mph) vs. Latitude Linear Regression"
   ]
  },
  {
   "cell_type": "code",
   "execution_count": null,
   "metadata": {},
   "outputs": [],
   "source": []
  },
  {
   "cell_type": "markdown",
   "metadata": {},
   "source": [
    "####  Southern Hemisphere - Wind Speed (mph) vs. Latitude Linear Regression"
   ]
  },
  {
   "cell_type": "code",
   "execution_count": null,
   "metadata": {},
   "outputs": [],
   "source": []
  },
  {
   "cell_type": "code",
   "execution_count": null,
   "metadata": {},
   "outputs": [],
   "source": []
  }
 ],
 "metadata": {
  "anaconda-cloud": {},
  "kernel_info": {
   "name": "python3"
  },
  "kernelspec": {
   "name": "Python 3.8.3 64-bit ('base': conda)",
   "display_name": "Python 3.8.3 64-bit ('base': conda)",
   "metadata": {
    "interpreter": {
     "hash": "485035c5b2a6f2b50dc2dc5ca51aeeb931032fbc9adc2e30c7c528d6bf8a9176"
    }
   }
  },
  "language_info": {
   "codemirror_mode": {
    "name": "ipython",
    "version": 3
   },
   "file_extension": ".py",
   "mimetype": "text/x-python",
   "name": "python",
   "nbconvert_exporter": "python",
   "pygments_lexer": "ipython3",
   "version": "3.8.3-final"
  },
  "latex_envs": {
   "LaTeX_envs_menu_present": true,
   "autoclose": false,
   "autocomplete": true,
   "bibliofile": "biblio.bib",
   "cite_by": "apalike",
   "current_citInitial": 1,
   "eqLabelWithNumbers": true,
   "eqNumInitial": 1,
   "hotkeys": {
    "equation": "Ctrl-E",
    "itemize": "Ctrl-I"
   },
   "labels_anchors": false,
   "latex_user_defs": false,
   "report_style_numbering": false,
   "user_envs_cfg": false
  },
  "nteract": {
   "version": "0.12.3"
  }
 },
 "nbformat": 4,
 "nbformat_minor": 2
}