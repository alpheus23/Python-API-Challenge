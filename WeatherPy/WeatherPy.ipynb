{
 "cells": [
  {
   "cell_type": "markdown",
   "metadata": {},
   "source": [
    "# WeatherPy\n",
    "----\n",
    "\n",
    "#### Note\n",
    "* Instructions have been included for each segment. You do not have to follow them exactly, but they are included to help you think through the steps."
   ]
  },
  {
   "cell_type": "code",
   "execution_count": 63,
   "metadata": {
    "scrolled": true
   },
   "outputs": [],
   "source": [
    "# Dependencies and Setup\n",
    "import matplotlib.pyplot as plt\n",
    "import pandas as pd\n",
    "import numpy as np\n",
    "import requests\n",
    "import time\n",
    "import json\n",
    "from scipy.stats import linregress\n",
    "from scipy import stats\n",
    "\n",
    "# Import API key\n",
    "from api_keys import weather_api_key\n",
    "\n",
    "# Incorporated citipy to determine city based on latitude and longitude\n",
    "from citipy import citipy\n",
    "\n",
    "# Output File (CSV)\n",
    "output_data_file = \"output_data/cities.csv\"\n",
    "\n",
    "# Range of latitudes and longitudes\n",
    "lat_range = (-90, 90)\n",
    "lng_range = (-180, 180)"
   ]
  },
  {
   "cell_type": "markdown",
   "metadata": {},
   "source": [
    "## Generate Cities List"
   ]
  },
  {
   "cell_type": "code",
   "execution_count": 64,
   "metadata": {},
   "outputs": [
    {
     "output_type": "stream",
     "name": "stdout",
     "text": [
      "75\n"
     ]
    }
   ],
   "source": [
    "# List for holding lat_lngs and cities\n",
    "lat_lngs = []\n",
    "cities = []\n",
    "\n",
    "# Create a set of random lat and lng combinations\n",
    "lats = np.random.uniform(lat_range[0], lat_range[1], size=100)\n",
    "lngs = np.random.uniform(lng_range[0], lng_range[1], size=100)\n",
    "lat_lngs = zip(lats, lngs)\n",
    "\n",
    "# Identify nearest city for each lat, lng combination\n",
    "for lat_lng in lat_lngs:\n",
    "    city = citipy.nearest_city(lat_lng[0], lat_lng[1]).city_name\n",
    "    \n",
    "    # If the city is unique, then add it to a our cities list\n",
    "    if city not in cities:\n",
    "        cities.append(city)\n",
    "\n",
    "# Print the city count to confirm sufficient count\n",
    "print(len(cities))"
   ]
  },
  {
   "cell_type": "markdown",
   "metadata": {},
   "source": [
    "### Perform API Calls\n",
    "* Perform a weather check on each city using a series of successive API calls.\n",
    "* Include a print log of each city as it'sbeing processed (with the city number and city name).\n"
   ]
  },
  {
   "cell_type": "code",
   "execution_count": 65,
   "metadata": {
    "scrolled": true,
    "tags": []
   },
   "outputs": [
    {
     "output_type": "stream",
     "name": "stdout",
     "text": [
      "Beginning Data Retrieval\n",
      "------------------------------\n",
      "Processing record 0 | Jining\n",
      "Data visual: 1\n",
      "\n",
      "Processing record 1 | Sur\n",
      "Data visual: 2\n",
      "\n",
      "Processing record 2 | Puro\n",
      "Data visual: 3\n",
      "\n",
      "Processing record 3 | Khatanga\n",
      "Data visual: 4\n",
      "\n",
      "Processing record 4 | Barrow\n",
      "Data visual: 5\n",
      "\n",
      "Processing record 5 | Kashi\n",
      "Data visual: 6\n",
      "\n",
      "Processing record 6 | Jamestown\n",
      "Data visual: 7\n",
      "\n",
      "No data found for Umzimvubu. Skipping...\n",
      "Data visual: 8\n",
      "\n",
      "Processing record 8 | Rikitea\n",
      "Data visual: 9\n",
      "\n",
      "Processing record 9 | Souillac\n",
      "Data visual: 10\n",
      "\n",
      "Processing record 10 | Bredasdorp\n",
      "Data visual: 11\n",
      "\n",
      "Processing record 11 | Atuona\n",
      "Data visual: 12\n",
      "\n",
      "Processing record 12 | Buchanan\n",
      "Data visual: 13\n",
      "\n",
      "Processing record 13 | Ribeira grande\n",
      "Data visual: 14\n",
      "\n",
      "Processing record 14 | Georgetown\n",
      "Data visual: 15\n",
      "\n",
      "Processing record 15 | Posse\n",
      "Data visual: 16\n",
      "\n",
      "No data found for Wahran. Skipping...\n",
      "Data visual: 17\n",
      "\n",
      "Processing record 17 | Shimanovsk\n",
      "Data visual: 18\n",
      "\n",
      "Processing record 18 | Kavieng\n",
      "Data visual: 19\n",
      "\n",
      "Processing record 19 | Port alfred\n",
      "Data visual: 20\n",
      "\n",
      "Processing record 20 | Carauari\n",
      "Data visual: 21\n",
      "\n",
      "Processing record 21 | Tocopilla\n",
      "Data visual: 22\n",
      "\n",
      "Processing record 22 | Karratha\n",
      "Data visual: 23\n",
      "\n",
      "Processing record 23 | Ponta do sol\n",
      "Data visual: 24\n",
      "\n",
      "Processing record 24 | Camacha\n",
      "Data visual: 25\n",
      "\n",
      "Processing record 25 | Tiksi\n",
      "Data visual: 26\n",
      "\n",
      "Processing record 26 | Shingu\n",
      "Data visual: 27\n",
      "\n",
      "Processing record 27 | Saint-georges\n",
      "Data visual: 28\n",
      "\n",
      "Processing record 28 | Lima\n",
      "Data visual: 29\n",
      "\n",
      "Processing record 29 | San cristobal\n",
      "Data visual: 30\n",
      "\n",
      "Processing record 30 | Lebu\n",
      "Data visual: 31\n",
      "\n",
      "Processing record 31 | Kapaa\n",
      "Data visual: 32\n",
      "\n",
      "Processing record 32 | Upernavik\n",
      "Data visual: 33\n",
      "\n",
      "Processing record 33 | Puerto ayora\n",
      "Data visual: 34\n",
      "\n",
      "Processing record 34 | Kapiri mposhi\n",
      "Data visual: 35\n",
      "\n",
      "No data found for Illoqqortoormiut. Skipping...\n",
      "Data visual: 36\n",
      "\n",
      "Processing record 36 | Mataura\n",
      "Data visual: 37\n",
      "\n",
      "Processing record 37 | Victoria\n",
      "Data visual: 38\n",
      "\n",
      "Processing record 38 | Krasnoye\n",
      "Data visual: 39\n",
      "\n",
      "Processing record 39 | Vilcun\n",
      "Data visual: 40\n",
      "\n",
      "Processing record 40 | Limon\n",
      "Data visual: 41\n",
      "\n",
      "Processing record 41 | Ushuaia\n",
      "Data visual: 42\n",
      "\n",
      "Processing record 42 | Koungou\n",
      "Data visual: 43\n",
      "\n",
      "Processing record 43 | Punta arenas\n",
      "Data visual: 44\n",
      "\n",
      "Processing record 44 | Arraial do cabo\n",
      "Data visual: 45\n",
      "\n",
      "Processing record 45 | Carutapera\n",
      "Data visual: 46\n",
      "\n",
      "Processing record 46 | Pevek\n",
      "Data visual: 47\n",
      "\n",
      "Processing record 47 | Micheweni\n",
      "Data visual: 48\n",
      "\n",
      "Processing record 48 | Sitka\n",
      "Data visual: 49\n",
      "\n",
      "Processing record 49 | New norfolk\n",
      "Data visual: 50\n",
      "\n",
      "No data found for Vaitupu. Skipping...\n",
      "Data visual: 51\n",
      "\n",
      "Processing record 51 | Luanda\n",
      "Data visual: 52\n",
      "\n",
      "Processing record 52 | Yellowknife\n",
      "Data visual: 53\n",
      "\n",
      "Processing record 53 | Sola\n",
      "Data visual: 54\n",
      "\n",
      "Processing record 54 | Tasiilaq\n",
      "Data visual: 55\n",
      "\n",
      "Processing record 55 | Kodiak\n",
      "Data visual: 56\n",
      "\n",
      "Processing record 56 | Pachmarhi\n",
      "Data visual: 57\n",
      "\n",
      "No data found for Ondorhaan. Skipping...\n",
      "Data visual: 58\n",
      "\n",
      "Processing record 58 | Lapua\n",
      "Data visual: 59\n",
      "\n",
      "Processing record 59 | Haines junction\n",
      "Data visual: 60\n",
      "\n",
      "Processing record 60 | Bandundu\n",
      "Data visual: 61\n",
      "\n",
      "Processing record 61 | Cape town\n",
      "Data visual: 62\n",
      "\n",
      "Processing record 62 | Barinas\n",
      "Data visual: 63\n",
      "\n",
      "Processing record 63 | Fort morgan\n",
      "Data visual: 64\n",
      "\n",
      "Processing record 64 | Belyy yar\n",
      "Data visual: 65\n",
      "\n",
      "Processing record 65 | Albany\n",
      "Data visual: 66\n",
      "\n",
      "Processing record 66 | Codrington\n",
      "Data visual: 67\n",
      "\n",
      "Processing record 67 | Nacogdoches\n",
      "Data visual: 68\n",
      "\n",
      "Processing record 68 | Vaini\n",
      "Data visual: 69\n",
      "\n",
      "Processing record 69 | Mount gambier\n",
      "Data visual: 70\n",
      "\n",
      "Processing record 70 | Asau\n",
      "Data visual: 71\n",
      "\n",
      "Processing record 71 | Qorveh\n",
      "Data visual: 72\n",
      "\n",
      "Processing record 72 | Leningradskiy\n",
      "Data visual: 73\n",
      "\n",
      "Processing record 73 | Zinder\n",
      "Data visual: 74\n",
      "\n",
      "Processing record 74 | Kruisfontein\n",
      "Data visual: 75\n",
      "\n",
      "-----------------------------\n",
      "Data Retrieval Complete\n",
      "-----------------------------\n",
      "Number of Skips: 5\n"
     ]
    }
   ],
   "source": [
    "#Creating lists to hold values to later populate dataframe\n",
    "lats = []\n",
    "lons = []\n",
    "max_temps = []\n",
    "humidities = []\n",
    "clouds = []\n",
    "wind_speeds = []\n",
    "countries =  []\n",
    "dates = []\n",
    "skip_counter = 0\n",
    "\n",
    "#Beginning of print process\n",
    "print(\"Beginning Data Retrieval\")\n",
    "print(\"------------------------------\")\n",
    "\n",
    "#Loop through each city in cities and generate json link to pull data\n",
    "for name in cities:\n",
    "    weather_url = f\"https://api.openweathermap.org/data/2.5/weather?q={name}&appid={weather_api_key}&units=metric\"\n",
    "    response = requests.get(weather_url).json()\n",
    "\n",
    "    #Catch exception in case no data found for selected city\n",
    "    try:\n",
    "        #Store data into variables\n",
    "        lat = response[\"coord\"][\"lat\"]\n",
    "        lon = response[\"coord\"][\"lon\"]\n",
    "        max_temp = response[\"main\"][\"temp_max\"]\n",
    "        humidity = response[\"main\"][\"humidity\"]\n",
    "        cloudiness = response[\"clouds\"][\"all\"]\n",
    "        wind_speed = response[\"wind\"][\"speed\"]\n",
    "        country = response[\"sys\"][\"country\"]\n",
    "        date = response[\"dt\"]\n",
    "\n",
    "        #Append data to corresponding lists\n",
    "        lats.append(lat)\n",
    "        lons.append(lon)\n",
    "        max_temps.append(max_temp)\n",
    "        humidities.append(humidity)\n",
    "        clouds.append(cloudiness)\n",
    "        wind_speeds.append(wind_speed)\n",
    "        countries.append(country)\n",
    "        dates.append(date)\n",
    "\n",
    "        #Print log of city being processed\n",
    "        print(f\"Processing record {cities.index(name)} | {name.capitalize()}\")\n",
    "        print(f\"Data visual: {len(lats)}\\n\")\n",
    "    except KeyError:\n",
    "        print(f\"No data found for {name.capitalize()}. Skipping...\")\n",
    "\n",
    "        #Remove city from cities list for easier dataframe creation later\n",
    "        #cities.remove(name)\n",
    "        lats.append(\"\")\n",
    "        lons.append(\"\")\n",
    "        max_temps.append(\"\")\n",
    "        humidities.append(\"\")\n",
    "        clouds.append(\"\")\n",
    "        wind_speeds.append(\"\")\n",
    "        countries.append(\"\")\n",
    "        dates.append(\"\")\n",
    "        print(f\"Data visual: {len(lats)}\\n\")\n",
    "        skip_counter += 1\n",
    "\n",
    "#End of print process\n",
    "print(\"-----------------------------\")\n",
    "print(\"Data Retrieval Complete\")\n",
    "print(\"-----------------------------\")\n",
    "\n",
    "print(f\"Number of Skips: {skip_counter}\")"
   ]
  },
  {
   "cell_type": "markdown",
   "metadata": {},
   "source": [
    "### Convert Raw Data to DataFrame\n",
    "* Export the city data into a .csv.\n",
    "* Display the DataFrame"
   ]
  },
  {
   "cell_type": "code",
   "execution_count": 66,
   "metadata": {},
   "outputs": [
    {
     "output_type": "execute_result",
     "data": {
      "text/plain": [
       "             City    Lat     Lon Max Temp Humidity Cloudiness Wind Speed  \\\n",
       "0          jining  35.41  116.58    11.58       87         92       0.53   \n",
       "1             sur  22.57   59.53    26.64       41          0       4.99   \n",
       "2            puro  12.48  123.38     25.3       88        100       2.38   \n",
       "3        khatanga  71.97   102.5    -5.08       98        100       4.31   \n",
       "4          barrow  71.29 -156.79       -3       73         90        7.2   \n",
       "..            ...    ...     ...      ...      ...        ...        ...   \n",
       "70           asau  46.43    26.4    10.56       78          6       1.33   \n",
       "71         qorveh  35.17    47.8    10.11       36          0       2.27   \n",
       "72  leningradskiy  69.38  178.42    -1.73       92         95       3.59   \n",
       "73         zinder  13.81    8.99       37       25         20        3.1   \n",
       "74   kruisfontein    -34   24.73    18.89       55          0       2.24   \n",
       "\n",
       "   Country        Date  \n",
       "0       CN  1602690818  \n",
       "1       OM  1602690819  \n",
       "2       PH  1602690819  \n",
       "3       RU  1602690819  \n",
       "4       US  1602690820  \n",
       "..     ...         ...  \n",
       "70      RO  1602690837  \n",
       "71      IR  1602690837  \n",
       "72      RU  1602690837  \n",
       "73      NE  1602690837  \n",
       "74      ZA  1602690838  \n",
       "\n",
       "[70 rows x 9 columns]"
      ],
      "text/html": "<div>\n<style scoped>\n    .dataframe tbody tr th:only-of-type {\n        vertical-align: middle;\n    }\n\n    .dataframe tbody tr th {\n        vertical-align: top;\n    }\n\n    .dataframe thead th {\n        text-align: right;\n    }\n</style>\n<table border=\"1\" class=\"dataframe\">\n  <thead>\n    <tr style=\"text-align: right;\">\n      <th></th>\n      <th>City</th>\n      <th>Lat</th>\n      <th>Lon</th>\n      <th>Max Temp</th>\n      <th>Humidity</th>\n      <th>Cloudiness</th>\n      <th>Wind Speed</th>\n      <th>Country</th>\n      <th>Date</th>\n    </tr>\n  </thead>\n  <tbody>\n    <tr>\n      <th>0</th>\n      <td>jining</td>\n      <td>35.41</td>\n      <td>116.58</td>\n      <td>11.58</td>\n      <td>87</td>\n      <td>92</td>\n      <td>0.53</td>\n      <td>CN</td>\n      <td>1602690818</td>\n    </tr>\n    <tr>\n      <th>1</th>\n      <td>sur</td>\n      <td>22.57</td>\n      <td>59.53</td>\n      <td>26.64</td>\n      <td>41</td>\n      <td>0</td>\n      <td>4.99</td>\n      <td>OM</td>\n      <td>1602690819</td>\n    </tr>\n    <tr>\n      <th>2</th>\n      <td>puro</td>\n      <td>12.48</td>\n      <td>123.38</td>\n      <td>25.3</td>\n      <td>88</td>\n      <td>100</td>\n      <td>2.38</td>\n      <td>PH</td>\n      <td>1602690819</td>\n    </tr>\n    <tr>\n      <th>3</th>\n      <td>khatanga</td>\n      <td>71.97</td>\n      <td>102.5</td>\n      <td>-5.08</td>\n      <td>98</td>\n      <td>100</td>\n      <td>4.31</td>\n      <td>RU</td>\n      <td>1602690819</td>\n    </tr>\n    <tr>\n      <th>4</th>\n      <td>barrow</td>\n      <td>71.29</td>\n      <td>-156.79</td>\n      <td>-3</td>\n      <td>73</td>\n      <td>90</td>\n      <td>7.2</td>\n      <td>US</td>\n      <td>1602690820</td>\n    </tr>\n    <tr>\n      <th>...</th>\n      <td>...</td>\n      <td>...</td>\n      <td>...</td>\n      <td>...</td>\n      <td>...</td>\n      <td>...</td>\n      <td>...</td>\n      <td>...</td>\n      <td>...</td>\n    </tr>\n    <tr>\n      <th>70</th>\n      <td>asau</td>\n      <td>46.43</td>\n      <td>26.4</td>\n      <td>10.56</td>\n      <td>78</td>\n      <td>6</td>\n      <td>1.33</td>\n      <td>RO</td>\n      <td>1602690837</td>\n    </tr>\n    <tr>\n      <th>71</th>\n      <td>qorveh</td>\n      <td>35.17</td>\n      <td>47.8</td>\n      <td>10.11</td>\n      <td>36</td>\n      <td>0</td>\n      <td>2.27</td>\n      <td>IR</td>\n      <td>1602690837</td>\n    </tr>\n    <tr>\n      <th>72</th>\n      <td>leningradskiy</td>\n      <td>69.38</td>\n      <td>178.42</td>\n      <td>-1.73</td>\n      <td>92</td>\n      <td>95</td>\n      <td>3.59</td>\n      <td>RU</td>\n      <td>1602690837</td>\n    </tr>\n    <tr>\n      <th>73</th>\n      <td>zinder</td>\n      <td>13.81</td>\n      <td>8.99</td>\n      <td>37</td>\n      <td>25</td>\n      <td>20</td>\n      <td>3.1</td>\n      <td>NE</td>\n      <td>1602690837</td>\n    </tr>\n    <tr>\n      <th>74</th>\n      <td>kruisfontein</td>\n      <td>-34</td>\n      <td>24.73</td>\n      <td>18.89</td>\n      <td>55</td>\n      <td>0</td>\n      <td>2.24</td>\n      <td>ZA</td>\n      <td>1602690838</td>\n    </tr>\n  </tbody>\n</table>\n<p>70 rows × 9 columns</p>\n</div>"
     },
     "metadata": {},
     "execution_count": 66
    }
   ],
   "source": [
    "#Create dataframe\n",
    "raw_data = {\"City\": cities, \"Lat\": lats, \"Lon\": lons, \"Max Temp\": max_temps, \"Humidity\": humidities, \"Cloudiness\": clouds, \"Wind Speed\": wind_speeds, \"Country\": countries, \"Date\": dates}\n",
    "\n",
    "city_data = pd.DataFrame(raw_data)\n",
    "\n",
    "#Find indexes where Lat is blank for future removal\n",
    "index_names = city_data[city_data[\"Lat\"] == \"\"].index\n",
    "\n",
    "city_data.drop(index_names, inplace = True)\n",
    "\n",
    "#Export dataframe to a csv file\n",
    "city_data.to_csv(\"../output_data/cities.csv\", index = False, header = True)\n",
    "\n",
    "#Print out cleaned dataframe\n",
    "city_data"
   ]
  },
  {
   "cell_type": "code",
   "execution_count": 67,
   "metadata": {},
   "outputs": [
    {
     "output_type": "execute_result",
     "data": {
      "text/plain": [
       "           City    Lat     Lon Max Temp Humidity Cloudiness Wind Speed  \\\n",
       "1           sur  22.57   59.53    26.64       41          0       4.99   \n",
       "5         kashi  39.45   75.98       12       32         20          3   \n",
       "15        posse -14.09  -46.37    32.54       31         88       2.03   \n",
       "21    tocopilla -22.09   -70.2    20.18       46         13       4.79   \n",
       "22     karratha -20.74  116.85     29.4       28          0       6.52   \n",
       "61    cape town -33.93   18.42    23.33       49         33        4.6   \n",
       "63  fort morgan  40.25  -103.8       20       14         40        6.7   \n",
       "71       qorveh  35.17    47.8    10.11       36          0       2.27   \n",
       "73       zinder  13.81    8.99       37       25         20        3.1   \n",
       "\n",
       "   Country        Date  \n",
       "1       OM  1602690819  \n",
       "5       CN  1602690820  \n",
       "15      BR  1602690822  \n",
       "21      CL  1602690824  \n",
       "22      AU  1602690824  \n",
       "61      ZA  1602690752  \n",
       "63      US  1602690544  \n",
       "71      IR  1602690837  \n",
       "73      NE  1602690837  "
      ],
      "text/html": "<div>\n<style scoped>\n    .dataframe tbody tr th:only-of-type {\n        vertical-align: middle;\n    }\n\n    .dataframe tbody tr th {\n        vertical-align: top;\n    }\n\n    .dataframe thead th {\n        text-align: right;\n    }\n</style>\n<table border=\"1\" class=\"dataframe\">\n  <thead>\n    <tr style=\"text-align: right;\">\n      <th></th>\n      <th>City</th>\n      <th>Lat</th>\n      <th>Lon</th>\n      <th>Max Temp</th>\n      <th>Humidity</th>\n      <th>Cloudiness</th>\n      <th>Wind Speed</th>\n      <th>Country</th>\n      <th>Date</th>\n    </tr>\n  </thead>\n  <tbody>\n    <tr>\n      <th>1</th>\n      <td>sur</td>\n      <td>22.57</td>\n      <td>59.53</td>\n      <td>26.64</td>\n      <td>41</td>\n      <td>0</td>\n      <td>4.99</td>\n      <td>OM</td>\n      <td>1602690819</td>\n    </tr>\n    <tr>\n      <th>5</th>\n      <td>kashi</td>\n      <td>39.45</td>\n      <td>75.98</td>\n      <td>12</td>\n      <td>32</td>\n      <td>20</td>\n      <td>3</td>\n      <td>CN</td>\n      <td>1602690820</td>\n    </tr>\n    <tr>\n      <th>15</th>\n      <td>posse</td>\n      <td>-14.09</td>\n      <td>-46.37</td>\n      <td>32.54</td>\n      <td>31</td>\n      <td>88</td>\n      <td>2.03</td>\n      <td>BR</td>\n      <td>1602690822</td>\n    </tr>\n    <tr>\n      <th>21</th>\n      <td>tocopilla</td>\n      <td>-22.09</td>\n      <td>-70.2</td>\n      <td>20.18</td>\n      <td>46</td>\n      <td>13</td>\n      <td>4.79</td>\n      <td>CL</td>\n      <td>1602690824</td>\n    </tr>\n    <tr>\n      <th>22</th>\n      <td>karratha</td>\n      <td>-20.74</td>\n      <td>116.85</td>\n      <td>29.4</td>\n      <td>28</td>\n      <td>0</td>\n      <td>6.52</td>\n      <td>AU</td>\n      <td>1602690824</td>\n    </tr>\n    <tr>\n      <th>61</th>\n      <td>cape town</td>\n      <td>-33.93</td>\n      <td>18.42</td>\n      <td>23.33</td>\n      <td>49</td>\n      <td>33</td>\n      <td>4.6</td>\n      <td>ZA</td>\n      <td>1602690752</td>\n    </tr>\n    <tr>\n      <th>63</th>\n      <td>fort morgan</td>\n      <td>40.25</td>\n      <td>-103.8</td>\n      <td>20</td>\n      <td>14</td>\n      <td>40</td>\n      <td>6.7</td>\n      <td>US</td>\n      <td>1602690544</td>\n    </tr>\n    <tr>\n      <th>71</th>\n      <td>qorveh</td>\n      <td>35.17</td>\n      <td>47.8</td>\n      <td>10.11</td>\n      <td>36</td>\n      <td>0</td>\n      <td>2.27</td>\n      <td>IR</td>\n      <td>1602690837</td>\n    </tr>\n    <tr>\n      <th>73</th>\n      <td>zinder</td>\n      <td>13.81</td>\n      <td>8.99</td>\n      <td>37</td>\n      <td>25</td>\n      <td>20</td>\n      <td>3.1</td>\n      <td>NE</td>\n      <td>1602690837</td>\n    </tr>\n  </tbody>\n</table>\n</div>"
     },
     "metadata": {},
     "execution_count": 67
    }
   ],
   "source": [
    "over_100 = city_data.loc[city_data[\"Humidity\"] < 50]\n",
    "\n",
    "over_100"
   ]
  },
  {
   "cell_type": "markdown",
   "metadata": {},
   "source": [
    "## Inspect the data and remove the cities where the humidity > 100%.\n",
    "----\n",
    "Skip this step if there are no cities that have humidity > 100%. "
   ]
  },
  {
   "cell_type": "code",
   "execution_count": 68,
   "metadata": {},
   "outputs": [
    {
     "output_type": "execute_result",
     "data": {
      "text/plain": [
       "Int64Index([1, 5, 15, 21, 22, 61, 63, 71, 73], dtype='int64')"
      ]
     },
     "metadata": {},
     "execution_count": 68
    }
   ],
   "source": [
    "#  Get the indices of cities that have humidity over 100%.\n",
    "humid_index = city_data[city_data[\"Humidity\"] < 50].index\n",
    "humid_index"
   ]
  },
  {
   "cell_type": "code",
   "execution_count": 69,
   "metadata": {},
   "outputs": [
    {
     "output_type": "execute_result",
     "data": {
      "text/plain": [
       "             City    Lat     Lon Max Temp Humidity Cloudiness Wind Speed  \\\n",
       "0          jining  35.41  116.58    11.58       87         92       0.53   \n",
       "2            puro  12.48  123.38     25.3       88        100       2.38   \n",
       "3        khatanga  71.97   102.5    -5.08       98        100       4.31   \n",
       "4          barrow  71.29 -156.79       -3       73         90        7.2   \n",
       "6       jamestown   42.1  -79.24    15.56       58          1        4.1   \n",
       "..            ...    ...     ...      ...      ...        ...        ...   \n",
       "68          vaini  -21.2  -175.2       22       78         40        3.6   \n",
       "69  mount gambier -37.83  140.77       19       68         87        4.6   \n",
       "70           asau  46.43    26.4    10.56       78          6       1.33   \n",
       "72  leningradskiy  69.38  178.42    -1.73       92         95       3.59   \n",
       "74   kruisfontein    -34   24.73    18.89       55          0       2.24   \n",
       "\n",
       "   Country        Date  \n",
       "0       CN  1602690818  \n",
       "2       PH  1602690819  \n",
       "3       RU  1602690819  \n",
       "4       US  1602690820  \n",
       "6       US  1602690673  \n",
       "..     ...         ...  \n",
       "68      TO  1602690836  \n",
       "69      AU  1602690836  \n",
       "70      RO  1602690837  \n",
       "72      RU  1602690837  \n",
       "74      ZA  1602690838  \n",
       "\n",
       "[61 rows x 9 columns]"
      ],
      "text/html": "<div>\n<style scoped>\n    .dataframe tbody tr th:only-of-type {\n        vertical-align: middle;\n    }\n\n    .dataframe tbody tr th {\n        vertical-align: top;\n    }\n\n    .dataframe thead th {\n        text-align: right;\n    }\n</style>\n<table border=\"1\" class=\"dataframe\">\n  <thead>\n    <tr style=\"text-align: right;\">\n      <th></th>\n      <th>City</th>\n      <th>Lat</th>\n      <th>Lon</th>\n      <th>Max Temp</th>\n      <th>Humidity</th>\n      <th>Cloudiness</th>\n      <th>Wind Speed</th>\n      <th>Country</th>\n      <th>Date</th>\n    </tr>\n  </thead>\n  <tbody>\n    <tr>\n      <th>0</th>\n      <td>jining</td>\n      <td>35.41</td>\n      <td>116.58</td>\n      <td>11.58</td>\n      <td>87</td>\n      <td>92</td>\n      <td>0.53</td>\n      <td>CN</td>\n      <td>1602690818</td>\n    </tr>\n    <tr>\n      <th>2</th>\n      <td>puro</td>\n      <td>12.48</td>\n      <td>123.38</td>\n      <td>25.3</td>\n      <td>88</td>\n      <td>100</td>\n      <td>2.38</td>\n      <td>PH</td>\n      <td>1602690819</td>\n    </tr>\n    <tr>\n      <th>3</th>\n      <td>khatanga</td>\n      <td>71.97</td>\n      <td>102.5</td>\n      <td>-5.08</td>\n      <td>98</td>\n      <td>100</td>\n      <td>4.31</td>\n      <td>RU</td>\n      <td>1602690819</td>\n    </tr>\n    <tr>\n      <th>4</th>\n      <td>barrow</td>\n      <td>71.29</td>\n      <td>-156.79</td>\n      <td>-3</td>\n      <td>73</td>\n      <td>90</td>\n      <td>7.2</td>\n      <td>US</td>\n      <td>1602690820</td>\n    </tr>\n    <tr>\n      <th>6</th>\n      <td>jamestown</td>\n      <td>42.1</td>\n      <td>-79.24</td>\n      <td>15.56</td>\n      <td>58</td>\n      <td>1</td>\n      <td>4.1</td>\n      <td>US</td>\n      <td>1602690673</td>\n    </tr>\n    <tr>\n      <th>...</th>\n      <td>...</td>\n      <td>...</td>\n      <td>...</td>\n      <td>...</td>\n      <td>...</td>\n      <td>...</td>\n      <td>...</td>\n      <td>...</td>\n      <td>...</td>\n    </tr>\n    <tr>\n      <th>68</th>\n      <td>vaini</td>\n      <td>-21.2</td>\n      <td>-175.2</td>\n      <td>22</td>\n      <td>78</td>\n      <td>40</td>\n      <td>3.6</td>\n      <td>TO</td>\n      <td>1602690836</td>\n    </tr>\n    <tr>\n      <th>69</th>\n      <td>mount gambier</td>\n      <td>-37.83</td>\n      <td>140.77</td>\n      <td>19</td>\n      <td>68</td>\n      <td>87</td>\n      <td>4.6</td>\n      <td>AU</td>\n      <td>1602690836</td>\n    </tr>\n    <tr>\n      <th>70</th>\n      <td>asau</td>\n      <td>46.43</td>\n      <td>26.4</td>\n      <td>10.56</td>\n      <td>78</td>\n      <td>6</td>\n      <td>1.33</td>\n      <td>RO</td>\n      <td>1602690837</td>\n    </tr>\n    <tr>\n      <th>72</th>\n      <td>leningradskiy</td>\n      <td>69.38</td>\n      <td>178.42</td>\n      <td>-1.73</td>\n      <td>92</td>\n      <td>95</td>\n      <td>3.59</td>\n      <td>RU</td>\n      <td>1602690837</td>\n    </tr>\n    <tr>\n      <th>74</th>\n      <td>kruisfontein</td>\n      <td>-34</td>\n      <td>24.73</td>\n      <td>18.89</td>\n      <td>55</td>\n      <td>0</td>\n      <td>2.24</td>\n      <td>ZA</td>\n      <td>1602690838</td>\n    </tr>\n  </tbody>\n</table>\n<p>61 rows × 9 columns</p>\n</div>"
     },
     "metadata": {},
     "execution_count": 69
    }
   ],
   "source": [
    "# Make a new DataFrame equal to the city data to drop all humidity outliers by index.\n",
    "# Passing \"inplace=False\" will make a copy of the city_data DataFrame, which we call \"clean_city_data\".\n",
    "clean_city_data = city_data.drop(humid_index, inplace = False)\n",
    "\n",
    "clean_city_data"
   ]
  },
  {
   "cell_type": "markdown",
   "metadata": {},
   "source": [
    "## Plotting the Data\n",
    "* Use proper labeling of the plots using plot titles (including date of analysis) and axes labels.\n",
    "* Save the plotted figures as .pngs."
   ]
  },
  {
   "cell_type": "markdown",
   "metadata": {},
   "source": [
    "## Latitude vs. Temperature Plot"
   ]
  },
  {
   "cell_type": "code",
   "execution_count": 70,
   "metadata": {
    "scrolled": true
   },
   "outputs": [
    {
     "output_type": "display_data",
     "data": {
      "text/plain": "<Figure size 432x288 with 1 Axes>",
      "image/svg+xml": "<?xml version=\"1.0\" encoding=\"utf-8\" standalone=\"no\"?>\r\n<!DOCTYPE svg PUBLIC \"-//W3C//DTD SVG 1.1//EN\"\r\n  \"http://www.w3.org/Graphics/SVG/1.1/DTD/svg11.dtd\">\r\n<!-- Created with matplotlib (https://matplotlib.org/) -->\r\n<svg height=\"262.19625pt\" version=\"1.1\" viewBox=\"0 0 390.982812 262.19625\" width=\"390.982812pt\" xmlns=\"http://www.w3.org/2000/svg\" xmlns:xlink=\"http://www.w3.org/1999/xlink\">\r\n <defs>\r\n  <style type=\"text/css\">\r\n*{stroke-linecap:butt;stroke-linejoin:round;}\r\n  </style>\r\n </defs>\r\n <g id=\"figure_1\">\r\n  <g id=\"patch_1\">\r\n   <path d=\"M 0 262.19625 \r\nL 390.982812 262.19625 \r\nL 390.982812 0 \r\nL 0 0 \r\nz\r\n\" style=\"fill:none;\"/>\r\n  </g>\r\n  <g id=\"axes_1\">\r\n   <g id=\"patch_2\">\r\n    <path d=\"M 48.982813 224.64 \r\nL 383.782813 224.64 \r\nL 383.782813 7.2 \r\nL 48.982813 7.2 \r\nz\r\n\" style=\"fill:#ffffff;\"/>\r\n   </g>\r\n   <g id=\"PathCollection_1\">\r\n    <defs>\r\n     <path d=\"M 0 2.236068 \r\nC 0.593012 2.236068 1.161816 2.000462 1.581139 1.581139 \r\nC 2.000462 1.161816 2.236068 0.593012 2.236068 0 \r\nC 2.236068 -0.593012 2.000462 -1.161816 1.581139 -1.581139 \r\nC 1.161816 -2.000462 0.593012 -2.236068 0 -2.236068 \r\nC -0.593012 -2.236068 -1.161816 -2.000462 -1.581139 -1.581139 \r\nC -2.000462 -1.161816 -2.236068 -0.593012 -2.236068 0 \r\nC -2.236068 0.593012 -2.000462 1.161816 -1.581139 1.581139 \r\nC -1.161816 2.000462 -0.593012 2.236068 0 2.236068 \r\nz\r\n\" id=\"mfac03cef51\" style=\"stroke:#1f77b4;\"/>\r\n    </defs>\r\n    <g clip-path=\"url(#pdff54ba433)\">\r\n     <use style=\"fill:#1f77b4;stroke:#1f77b4;\" x=\"279.395317\" xlink:href=\"#mfac03cef51\" y=\"107.207153\"/>\r\n     <use style=\"fill:#1f77b4;stroke:#1f77b4;\" x=\"224.696217\" xlink:href=\"#mfac03cef51\" y=\"44.946597\"/>\r\n     <use style=\"fill:#1f77b4;stroke:#1f77b4;\" x=\"366.608536\" xlink:href=\"#mfac03cef51\" y=\"182.809256\"/>\r\n     <use style=\"fill:#1f77b4;stroke:#1f77b4;\" x=\"364.986408\" xlink:href=\"#mfac03cef51\" y=\"173.370338\"/>\r\n     <use style=\"fill:#1f77b4;stroke:#1f77b4;\" x=\"295.354191\" xlink:href=\"#mfac03cef51\" y=\"89.146146\"/>\r\n     <use style=\"fill:#1f77b4;stroke:#1f77b4;\" x=\"139.773061\" xlink:href=\"#mfac03cef51\" y=\"54.793929\"/>\r\n     <use style=\"fill:#1f77b4;stroke:#1f77b4;\" x=\"145.975314\" xlink:href=\"#mfac03cef51\" y=\"50.84592\"/>\r\n     <use style=\"fill:#1f77b4;stroke:#1f77b4;\" x=\"112.554713\" xlink:href=\"#mfac03cef51\" y=\"73.535627\"/>\r\n     <use style=\"fill:#1f77b4;stroke:#1f77b4;\" x=\"171.54768\" xlink:href=\"#mfac03cef51\" y=\"45.627288\"/>\r\n     <use style=\"fill:#1f77b4;stroke:#1f77b4;\" x=\"208.952036\" xlink:href=\"#mfac03cef51\" y=\"19.080331\"/>\r\n     <use style=\"fill:#1f77b4;stroke:#1f77b4;\" x=\"286.814166\" xlink:href=\"#mfac03cef51\" y=\"59.921803\"/>\r\n     <use style=\"fill:#1f77b4;stroke:#1f77b4;\" x=\"207.83086\" xlink:href=\"#mfac03cef51\" y=\"32.694155\"/>\r\n     <use style=\"fill:#1f77b4;stroke:#1f77b4;\" x=\"318.970462\" xlink:href=\"#mfac03cef51\" y=\"170.602194\"/>\r\n     <use style=\"fill:#1f77b4;stroke:#1f77b4;\" x=\"188.794714\" xlink:href=\"#mfac03cef51\" y=\"37.822029\"/>\r\n     <use style=\"fill:#1f77b4;stroke:#1f77b4;\" x=\"114.797066\" xlink:href=\"#mfac03cef51\" y=\"81.159369\"/>\r\n     <use style=\"fill:#1f77b4;stroke:#1f77b4;\" x=\"183.284251\" xlink:href=\"#mfac03cef51\" y=\"29.426837\"/>\r\n     <use style=\"fill:#1f77b4;stroke:#1f77b4;\" x=\"272.859097\" xlink:href=\"#mfac03cef51\" y=\"55.383862\"/>\r\n     <use style=\"fill:#1f77b4;stroke:#1f77b4;\" x=\"273.837144\" xlink:href=\"#mfac03cef51\" y=\"55.383862\"/>\r\n     <use style=\"fill:#1f77b4;stroke:#1f77b4;\" x=\"365.940601\" xlink:href=\"#mfac03cef51\" y=\"214.756364\"/>\r\n     <use style=\"fill:#1f77b4;stroke:#1f77b4;\" x=\"275.387707\" xlink:href=\"#mfac03cef51\" y=\"82.974545\"/>\r\n     <use style=\"fill:#1f77b4;stroke:#1f77b4;\" x=\"223.694315\" xlink:href=\"#mfac03cef51\" y=\"19.080331\"/>\r\n     <use style=\"fill:#1f77b4;stroke:#1f77b4;\" x=\"166.204201\" xlink:href=\"#mfac03cef51\" y=\"78.073569\"/>\r\n     <use style=\"fill:#1f77b4;stroke:#1f77b4;\" x=\"213.460597\" xlink:href=\"#mfac03cef51\" y=\"19.080331\"/>\r\n     <use style=\"fill:#1f77b4;stroke:#1f77b4;\" x=\"105.183573\" xlink:href=\"#mfac03cef51\" y=\"99.67417\"/>\r\n     <use style=\"fill:#1f77b4;stroke:#1f77b4;\" x=\"247.596843\" xlink:href=\"#mfac03cef51\" y=\"55.383862\"/>\r\n     <use style=\"fill:#1f77b4;stroke:#1f77b4;\" x=\"368.564631\" xlink:href=\"#mfac03cef51\" y=\"160.754861\"/>\r\n     <use style=\"fill:#1f77b4;stroke:#1f77b4;\" x=\"193.160146\" xlink:href=\"#mfac03cef51\" y=\"50.84592\"/>\r\n     <use style=\"fill:#1f77b4;stroke:#1f77b4;\" x=\"161.600221\" xlink:href=\"#mfac03cef51\" y=\"48.622329\"/>\r\n     <use style=\"fill:#1f77b4;stroke:#1f77b4;\" x=\"84.739994\" xlink:href=\"#mfac03cef51\" y=\"152.178152\"/>\r\n     <use style=\"fill:#1f77b4;stroke:#1f77b4;\" x=\"248.097794\" xlink:href=\"#mfac03cef51\" y=\"38.729617\"/>\r\n     <use style=\"fill:#1f77b4;stroke:#1f77b4;\" x=\"313.984805\" xlink:href=\"#mfac03cef51\" y=\"118.915041\"/>\r\n     <use style=\"fill:#1f77b4;stroke:#1f77b4;\" x=\"102.726527\" xlink:href=\"#mfac03cef51\" y=\"82.61151\"/>\r\n     <use style=\"fill:#1f77b4;stroke:#1f77b4;\" x=\"218.780222\" xlink:href=\"#mfac03cef51\" y=\"28.156213\"/>\r\n     <use style=\"fill:#1f77b4;stroke:#1f77b4;\" x=\"64.200994\" xlink:href=\"#mfac03cef51\" y=\"132.528866\"/>\r\n     <use style=\"fill:#1f77b4;stroke:#1f77b4;\" x=\"164.558218\" xlink:href=\"#mfac03cef51\" y=\"41.770038\"/>\r\n     <use style=\"fill:#1f77b4;stroke:#1f77b4;\" x=\"68.137039\" xlink:href=\"#mfac03cef51\" y=\"118.915041\"/>\r\n     <use style=\"fill:#1f77b4;stroke:#1f77b4;\" x=\"140.130883\" xlink:href=\"#mfac03cef51\" y=\"23.618272\"/>\r\n     <use style=\"fill:#1f77b4;stroke:#1f77b4;\" x=\"192.062824\" xlink:href=\"#mfac03cef51\" y=\"17.083636\"/>\r\n     <use style=\"fill:#1f77b4;stroke:#1f77b4;\" x=\"361.193492\" xlink:href=\"#mfac03cef51\" y=\"158.395131\"/>\r\n     <use style=\"fill:#1f77b4;stroke:#1f77b4;\" x=\"183.069558\" xlink:href=\"#mfac03cef51\" y=\"38.956514\"/>\r\n     <use style=\"fill:#1f77b4;stroke:#1f77b4;\" x=\"331.017145\" xlink:href=\"#mfac03cef51\" y=\"132.528866\"/>\r\n     <use style=\"fill:#1f77b4;stroke:#1f77b4;\" x=\"92.874487\" xlink:href=\"#mfac03cef51\" y=\"106.798738\"/>\r\n     <use style=\"fill:#1f77b4;stroke:#1f77b4;\" x=\"173.837743\" xlink:href=\"#mfac03cef51\" y=\"37.232096\"/>\r\n     <use style=\"fill:#1f77b4;stroke:#1f77b4;\" x=\"343.922603\" xlink:href=\"#mfac03cef51\" y=\"177.908279\"/>\r\n     <use style=\"fill:#1f77b4;stroke:#1f77b4;\" x=\"161.814914\" xlink:href=\"#mfac03cef51\" y=\"41.724658\"/>\r\n     <use style=\"fill:#1f77b4;stroke:#1f77b4;\" x=\"351.436871\" xlink:href=\"#mfac03cef51\" y=\"137.066807\"/>\r\n     <use style=\"fill:#1f77b4;stroke:#1f77b4;\" x=\"332.782402\" xlink:href=\"#mfac03cef51\" y=\"150.680631\"/>\r\n     <use style=\"fill:#1f77b4;stroke:#1f77b4;\" x=\"248.527181\" xlink:href=\"#mfac03cef51\" y=\"67.953959\"/>\r\n     <use style=\"fill:#1f77b4;stroke:#1f77b4;\" x=\"345.139198\" xlink:href=\"#mfac03cef51\" y=\"144.645169\"/>\r\n     <use style=\"fill:#1f77b4;stroke:#1f77b4;\" x=\"339.843429\" xlink:href=\"#mfac03cef51\" y=\"164.612111\"/>\r\n     <use style=\"fill:#1f77b4;stroke:#1f77b4;\" x=\"187.005603\" xlink:href=\"#mfac03cef51\" y=\"48.304673\"/>\r\n     <use style=\"fill:#1f77b4;stroke:#1f77b4;\" x=\"215.488257\" xlink:href=\"#mfac03cef51\" y=\"23.618272\"/>\r\n     <use style=\"fill:#1f77b4;stroke:#1f77b4;\" x=\"322.787233\" xlink:href=\"#mfac03cef51\" y=\"146.14269\"/>\r\n     <use style=\"fill:#1f77b4;stroke:#1f77b4;\" x=\"296.546932\" xlink:href=\"#mfac03cef51\" y=\"84.109031\"/>\r\n     <use style=\"fill:#1f77b4;stroke:#1f77b4;\" x=\"103.63301\" xlink:href=\"#mfac03cef51\" y=\"71.538933\"/>\r\n     <use style=\"fill:#1f77b4;stroke:#1f77b4;\" x=\"270.306631\" xlink:href=\"#mfac03cef51\" y=\"56.382209\"/>\r\n     <use style=\"fill:#1f77b4;stroke:#1f77b4;\" x=\"144.353186\" xlink:href=\"#mfac03cef51\" y=\"59.921803\"/>\r\n     <use style=\"fill:#1f77b4;stroke:#1f77b4;\" x=\"104.682622\" xlink:href=\"#mfac03cef51\" y=\"73.535627\"/>\r\n     <use style=\"fill:#1f77b4;stroke:#1f77b4;\" x=\"305.683328\" xlink:href=\"#mfac03cef51\" y=\"111.835853\"/>\r\n     <use style=\"fill:#1f77b4;stroke:#1f77b4;\" x=\"360.430137\" xlink:href=\"#mfac03cef51\" y=\"167.607153\"/>\r\n     <use style=\"fill:#1f77b4;stroke:#1f77b4;\" x=\"113.819018\" xlink:href=\"#mfac03cef51\" y=\"74.034801\"/>\r\n    </g>\r\n   </g>\r\n   <g id=\"matplotlib.axis_1\">\r\n    <g id=\"xtick_1\">\r\n     <g id=\"line2d_1\">\r\n      <path clip-path=\"url(#pdff54ba433)\" d=\"M 51.796488 224.64 \r\nL 51.796488 7.2 \r\n\" style=\"fill:none;stroke:#b0b0b0;stroke-linecap:square;stroke-width:0.8;\"/>\r\n     </g>\r\n     <g id=\"line2d_2\">\r\n      <defs>\r\n       <path d=\"M 0 0 \r\nL 0 3.5 \r\n\" id=\"me924d8b4b6\" style=\"stroke:#000000;stroke-width:0.8;\"/>\r\n      </defs>\r\n      <g>\r\n       <use style=\"stroke:#000000;stroke-width:0.8;\" x=\"51.796488\" xlink:href=\"#me924d8b4b6\" y=\"224.64\"/>\r\n      </g>\r\n     </g>\r\n     <g id=\"text_1\">\r\n      <!-- −60 -->\r\n      <defs>\r\n       <path d=\"M 10.59375 35.5 \r\nL 73.1875 35.5 \r\nL 73.1875 27.203125 \r\nL 10.59375 27.203125 \r\nz\r\n\" id=\"DejaVuSans-8722\"/>\r\n       <path d=\"M 33.015625 40.375 \r\nQ 26.375 40.375 22.484375 35.828125 \r\nQ 18.609375 31.296875 18.609375 23.390625 \r\nQ 18.609375 15.53125 22.484375 10.953125 \r\nQ 26.375 6.390625 33.015625 6.390625 \r\nQ 39.65625 6.390625 43.53125 10.953125 \r\nQ 47.40625 15.53125 47.40625 23.390625 \r\nQ 47.40625 31.296875 43.53125 35.828125 \r\nQ 39.65625 40.375 33.015625 40.375 \r\nz\r\nM 52.59375 71.296875 \r\nL 52.59375 62.3125 \r\nQ 48.875 64.0625 45.09375 64.984375 \r\nQ 41.3125 65.921875 37.59375 65.921875 \r\nQ 27.828125 65.921875 22.671875 59.328125 \r\nQ 17.53125 52.734375 16.796875 39.40625 \r\nQ 19.671875 43.65625 24.015625 45.921875 \r\nQ 28.375 48.1875 33.59375 48.1875 \r\nQ 44.578125 48.1875 50.953125 41.515625 \r\nQ 57.328125 34.859375 57.328125 23.390625 \r\nQ 57.328125 12.15625 50.6875 5.359375 \r\nQ 44.046875 -1.421875 33.015625 -1.421875 \r\nQ 20.359375 -1.421875 13.671875 8.265625 \r\nQ 6.984375 17.96875 6.984375 36.375 \r\nQ 6.984375 53.65625 15.1875 63.9375 \r\nQ 23.390625 74.21875 37.203125 74.21875 \r\nQ 40.921875 74.21875 44.703125 73.484375 \r\nQ 48.484375 72.75 52.59375 71.296875 \r\nz\r\n\" id=\"DejaVuSans-54\"/>\r\n       <path d=\"M 31.78125 66.40625 \r\nQ 24.171875 66.40625 20.328125 58.90625 \r\nQ 16.5 51.421875 16.5 36.375 \r\nQ 16.5 21.390625 20.328125 13.890625 \r\nQ 24.171875 6.390625 31.78125 6.390625 \r\nQ 39.453125 6.390625 43.28125 13.890625 \r\nQ 47.125 21.390625 47.125 36.375 \r\nQ 47.125 51.421875 43.28125 58.90625 \r\nQ 39.453125 66.40625 31.78125 66.40625 \r\nz\r\nM 31.78125 74.21875 \r\nQ 44.046875 74.21875 50.515625 64.515625 \r\nQ 56.984375 54.828125 56.984375 36.375 \r\nQ 56.984375 17.96875 50.515625 8.265625 \r\nQ 44.046875 -1.421875 31.78125 -1.421875 \r\nQ 19.53125 -1.421875 13.0625 8.265625 \r\nQ 6.59375 17.96875 6.59375 36.375 \r\nQ 6.59375 54.828125 13.0625 64.515625 \r\nQ 19.53125 74.21875 31.78125 74.21875 \r\nz\r\n\" id=\"DejaVuSans-48\"/>\r\n      </defs>\r\n      <g transform=\"translate(41.244145 239.238437)scale(0.1 -0.1)\">\r\n       <use xlink:href=\"#DejaVuSans-8722\"/>\r\n       <use x=\"83.789062\" xlink:href=\"#DejaVuSans-54\"/>\r\n       <use x=\"147.412109\" xlink:href=\"#DejaVuSans-48\"/>\r\n      </g>\r\n     </g>\r\n    </g>\r\n    <g id=\"xtick_2\">\r\n     <g id=\"line2d_3\">\r\n      <path clip-path=\"url(#pdff54ba433)\" d=\"M 99.506127 224.64 \r\nL 99.506127 7.2 \r\n\" style=\"fill:none;stroke:#b0b0b0;stroke-linecap:square;stroke-width:0.8;\"/>\r\n     </g>\r\n     <g id=\"line2d_4\">\r\n      <g>\r\n       <use style=\"stroke:#000000;stroke-width:0.8;\" x=\"99.506127\" xlink:href=\"#me924d8b4b6\" y=\"224.64\"/>\r\n      </g>\r\n     </g>\r\n     <g id=\"text_2\">\r\n      <!-- −40 -->\r\n      <defs>\r\n       <path d=\"M 37.796875 64.3125 \r\nL 12.890625 25.390625 \r\nL 37.796875 25.390625 \r\nz\r\nM 35.203125 72.90625 \r\nL 47.609375 72.90625 \r\nL 47.609375 25.390625 \r\nL 58.015625 25.390625 \r\nL 58.015625 17.1875 \r\nL 47.609375 17.1875 \r\nL 47.609375 0 \r\nL 37.796875 0 \r\nL 37.796875 17.1875 \r\nL 4.890625 17.1875 \r\nL 4.890625 26.703125 \r\nz\r\n\" id=\"DejaVuSans-52\"/>\r\n      </defs>\r\n      <g transform=\"translate(88.953783 239.238437)scale(0.1 -0.1)\">\r\n       <use xlink:href=\"#DejaVuSans-8722\"/>\r\n       <use x=\"83.789062\" xlink:href=\"#DejaVuSans-52\"/>\r\n       <use x=\"147.412109\" xlink:href=\"#DejaVuSans-48\"/>\r\n      </g>\r\n     </g>\r\n    </g>\r\n    <g id=\"xtick_3\">\r\n     <g id=\"line2d_5\">\r\n      <path clip-path=\"url(#pdff54ba433)\" d=\"M 147.215765 224.64 \r\nL 147.215765 7.2 \r\n\" style=\"fill:none;stroke:#b0b0b0;stroke-linecap:square;stroke-width:0.8;\"/>\r\n     </g>\r\n     <g id=\"line2d_6\">\r\n      <g>\r\n       <use style=\"stroke:#000000;stroke-width:0.8;\" x=\"147.215765\" xlink:href=\"#me924d8b4b6\" y=\"224.64\"/>\r\n      </g>\r\n     </g>\r\n     <g id=\"text_3\">\r\n      <!-- −20 -->\r\n      <defs>\r\n       <path d=\"M 19.1875 8.296875 \r\nL 53.609375 8.296875 \r\nL 53.609375 0 \r\nL 7.328125 0 \r\nL 7.328125 8.296875 \r\nQ 12.9375 14.109375 22.625 23.890625 \r\nQ 32.328125 33.6875 34.8125 36.53125 \r\nQ 39.546875 41.84375 41.421875 45.53125 \r\nQ 43.3125 49.21875 43.3125 52.78125 \r\nQ 43.3125 58.59375 39.234375 62.25 \r\nQ 35.15625 65.921875 28.609375 65.921875 \r\nQ 23.96875 65.921875 18.8125 64.3125 \r\nQ 13.671875 62.703125 7.8125 59.421875 \r\nL 7.8125 69.390625 \r\nQ 13.765625 71.78125 18.9375 73 \r\nQ 24.125 74.21875 28.421875 74.21875 \r\nQ 39.75 74.21875 46.484375 68.546875 \r\nQ 53.21875 62.890625 53.21875 53.421875 \r\nQ 53.21875 48.921875 51.53125 44.890625 \r\nQ 49.859375 40.875 45.40625 35.40625 \r\nQ 44.1875 33.984375 37.640625 27.21875 \r\nQ 31.109375 20.453125 19.1875 8.296875 \r\nz\r\n\" id=\"DejaVuSans-50\"/>\r\n      </defs>\r\n      <g transform=\"translate(136.663421 239.238437)scale(0.1 -0.1)\">\r\n       <use xlink:href=\"#DejaVuSans-8722\"/>\r\n       <use x=\"83.789062\" xlink:href=\"#DejaVuSans-50\"/>\r\n       <use x=\"147.412109\" xlink:href=\"#DejaVuSans-48\"/>\r\n      </g>\r\n     </g>\r\n    </g>\r\n    <g id=\"xtick_4\">\r\n     <g id=\"line2d_7\">\r\n      <path clip-path=\"url(#pdff54ba433)\" d=\"M 194.925403 224.64 \r\nL 194.925403 7.2 \r\n\" style=\"fill:none;stroke:#b0b0b0;stroke-linecap:square;stroke-width:0.8;\"/>\r\n     </g>\r\n     <g id=\"line2d_8\">\r\n      <g>\r\n       <use style=\"stroke:#000000;stroke-width:0.8;\" x=\"194.925403\" xlink:href=\"#me924d8b4b6\" y=\"224.64\"/>\r\n      </g>\r\n     </g>\r\n     <g id=\"text_4\">\r\n      <!-- 0 -->\r\n      <g transform=\"translate(191.744153 239.238437)scale(0.1 -0.1)\">\r\n       <use xlink:href=\"#DejaVuSans-48\"/>\r\n      </g>\r\n     </g>\r\n    </g>\r\n    <g id=\"xtick_5\">\r\n     <g id=\"line2d_9\">\r\n      <path clip-path=\"url(#pdff54ba433)\" d=\"M 242.635041 224.64 \r\nL 242.635041 7.2 \r\n\" style=\"fill:none;stroke:#b0b0b0;stroke-linecap:square;stroke-width:0.8;\"/>\r\n     </g>\r\n     <g id=\"line2d_10\">\r\n      <g>\r\n       <use style=\"stroke:#000000;stroke-width:0.8;\" x=\"242.635041\" xlink:href=\"#me924d8b4b6\" y=\"224.64\"/>\r\n      </g>\r\n     </g>\r\n     <g id=\"text_5\">\r\n      <!-- 20 -->\r\n      <g transform=\"translate(236.272541 239.238437)scale(0.1 -0.1)\">\r\n       <use xlink:href=\"#DejaVuSans-50\"/>\r\n       <use x=\"63.623047\" xlink:href=\"#DejaVuSans-48\"/>\r\n      </g>\r\n     </g>\r\n    </g>\r\n    <g id=\"xtick_6\">\r\n     <g id=\"line2d_11\">\r\n      <path clip-path=\"url(#pdff54ba433)\" d=\"M 290.344679 224.64 \r\nL 290.344679 7.2 \r\n\" style=\"fill:none;stroke:#b0b0b0;stroke-linecap:square;stroke-width:0.8;\"/>\r\n     </g>\r\n     <g id=\"line2d_12\">\r\n      <g>\r\n       <use style=\"stroke:#000000;stroke-width:0.8;\" x=\"290.344679\" xlink:href=\"#me924d8b4b6\" y=\"224.64\"/>\r\n      </g>\r\n     </g>\r\n     <g id=\"text_6\">\r\n      <!-- 40 -->\r\n      <g transform=\"translate(283.982179 239.238437)scale(0.1 -0.1)\">\r\n       <use xlink:href=\"#DejaVuSans-52\"/>\r\n       <use x=\"63.623047\" xlink:href=\"#DejaVuSans-48\"/>\r\n      </g>\r\n     </g>\r\n    </g>\r\n    <g id=\"xtick_7\">\r\n     <g id=\"line2d_13\">\r\n      <path clip-path=\"url(#pdff54ba433)\" d=\"M 338.054317 224.64 \r\nL 338.054317 7.2 \r\n\" style=\"fill:none;stroke:#b0b0b0;stroke-linecap:square;stroke-width:0.8;\"/>\r\n     </g>\r\n     <g id=\"line2d_14\">\r\n      <g>\r\n       <use style=\"stroke:#000000;stroke-width:0.8;\" x=\"338.054317\" xlink:href=\"#me924d8b4b6\" y=\"224.64\"/>\r\n      </g>\r\n     </g>\r\n     <g id=\"text_7\">\r\n      <!-- 60 -->\r\n      <g transform=\"translate(331.691817 239.238437)scale(0.1 -0.1)\">\r\n       <use xlink:href=\"#DejaVuSans-54\"/>\r\n       <use x=\"63.623047\" xlink:href=\"#DejaVuSans-48\"/>\r\n      </g>\r\n     </g>\r\n    </g>\r\n    <g id=\"text_8\">\r\n     <!-- Lat -->\r\n     <defs>\r\n      <path d=\"M 9.8125 72.90625 \r\nL 19.671875 72.90625 \r\nL 19.671875 8.296875 \r\nL 55.171875 8.296875 \r\nL 55.171875 0 \r\nL 9.8125 0 \r\nz\r\n\" id=\"DejaVuSans-76\"/>\r\n      <path d=\"M 34.28125 27.484375 \r\nQ 23.390625 27.484375 19.1875 25 \r\nQ 14.984375 22.515625 14.984375 16.5 \r\nQ 14.984375 11.71875 18.140625 8.90625 \r\nQ 21.296875 6.109375 26.703125 6.109375 \r\nQ 34.1875 6.109375 38.703125 11.40625 \r\nQ 43.21875 16.703125 43.21875 25.484375 \r\nL 43.21875 27.484375 \r\nz\r\nM 52.203125 31.203125 \r\nL 52.203125 0 \r\nL 43.21875 0 \r\nL 43.21875 8.296875 \r\nQ 40.140625 3.328125 35.546875 0.953125 \r\nQ 30.953125 -1.421875 24.3125 -1.421875 \r\nQ 15.921875 -1.421875 10.953125 3.296875 \r\nQ 6 8.015625 6 15.921875 \r\nQ 6 25.140625 12.171875 29.828125 \r\nQ 18.359375 34.515625 30.609375 34.515625 \r\nL 43.21875 34.515625 \r\nL 43.21875 35.40625 \r\nQ 43.21875 41.609375 39.140625 45 \r\nQ 35.0625 48.390625 27.6875 48.390625 \r\nQ 23 48.390625 18.546875 47.265625 \r\nQ 14.109375 46.140625 10.015625 43.890625 \r\nL 10.015625 52.203125 \r\nQ 14.9375 54.109375 19.578125 55.046875 \r\nQ 24.21875 56 28.609375 56 \r\nQ 40.484375 56 46.34375 49.84375 \r\nQ 52.203125 43.703125 52.203125 31.203125 \r\nz\r\n\" id=\"DejaVuSans-97\"/>\r\n      <path d=\"M 18.3125 70.21875 \r\nL 18.3125 54.6875 \r\nL 36.8125 54.6875 \r\nL 36.8125 47.703125 \r\nL 18.3125 47.703125 \r\nL 18.3125 18.015625 \r\nQ 18.3125 11.328125 20.140625 9.421875 \r\nQ 21.96875 7.515625 27.59375 7.515625 \r\nL 36.8125 7.515625 \r\nL 36.8125 0 \r\nL 27.59375 0 \r\nQ 17.1875 0 13.234375 3.875 \r\nQ 9.28125 7.765625 9.28125 18.015625 \r\nL 9.28125 47.703125 \r\nL 2.6875 47.703125 \r\nL 2.6875 54.6875 \r\nL 9.28125 54.6875 \r\nL 9.28125 70.21875 \r\nz\r\n\" id=\"DejaVuSans-116\"/>\r\n     </defs>\r\n     <g transform=\"translate(208.572656 252.916562)scale(0.1 -0.1)\">\r\n      <use xlink:href=\"#DejaVuSans-76\"/>\r\n      <use x=\"55.712891\" xlink:href=\"#DejaVuSans-97\"/>\r\n      <use x=\"116.992188\" xlink:href=\"#DejaVuSans-116\"/>\r\n     </g>\r\n    </g>\r\n   </g>\r\n   <g id=\"matplotlib.axis_2\">\r\n    <g id=\"ytick_1\">\r\n     <g id=\"line2d_15\">\r\n      <path clip-path=\"url(#pdff54ba433)\" d=\"M 48.982813 205.135928 \r\nL 383.782813 205.135928 \r\n\" style=\"fill:none;stroke:#b0b0b0;stroke-linecap:square;stroke-width:0.8;\"/>\r\n     </g>\r\n     <g id=\"line2d_16\">\r\n      <defs>\r\n       <path d=\"M 0 0 \r\nL -3.5 0 \r\n\" id=\"m9e583614e3\" style=\"stroke:#000000;stroke-width:0.8;\"/>\r\n      </defs>\r\n      <g>\r\n       <use style=\"stroke:#000000;stroke-width:0.8;\" x=\"48.982813\" xlink:href=\"#m9e583614e3\" y=\"205.135928\"/>\r\n      </g>\r\n     </g>\r\n     <g id=\"text_9\">\r\n      <!-- −10 -->\r\n      <defs>\r\n       <path d=\"M 12.40625 8.296875 \r\nL 28.515625 8.296875 \r\nL 28.515625 63.921875 \r\nL 10.984375 60.40625 \r\nL 10.984375 69.390625 \r\nL 28.421875 72.90625 \r\nL 38.28125 72.90625 \r\nL 38.28125 8.296875 \r\nL 54.390625 8.296875 \r\nL 54.390625 0 \r\nL 12.40625 0 \r\nz\r\n\" id=\"DejaVuSans-49\"/>\r\n      </defs>\r\n      <g transform=\"translate(20.878125 208.935147)scale(0.1 -0.1)\">\r\n       <use xlink:href=\"#DejaVuSans-8722\"/>\r\n       <use x=\"83.789062\" xlink:href=\"#DejaVuSans-49\"/>\r\n       <use x=\"147.412109\" xlink:href=\"#DejaVuSans-48\"/>\r\n      </g>\r\n     </g>\r\n    </g>\r\n    <g id=\"ytick_2\">\r\n     <g id=\"line2d_17\">\r\n      <path clip-path=\"url(#pdff54ba433)\" d=\"M 48.982813 159.756514 \r\nL 383.782813 159.756514 \r\n\" style=\"fill:none;stroke:#b0b0b0;stroke-linecap:square;stroke-width:0.8;\"/>\r\n     </g>\r\n     <g id=\"line2d_18\">\r\n      <g>\r\n       <use style=\"stroke:#000000;stroke-width:0.8;\" x=\"48.982813\" xlink:href=\"#m9e583614e3\" y=\"159.756514\"/>\r\n      </g>\r\n     </g>\r\n     <g id=\"text_10\">\r\n      <!-- 0 -->\r\n      <g transform=\"translate(35.620312 163.555733)scale(0.1 -0.1)\">\r\n       <use xlink:href=\"#DejaVuSans-48\"/>\r\n      </g>\r\n     </g>\r\n    </g>\r\n    <g id=\"ytick_3\">\r\n     <g id=\"line2d_19\">\r\n      <path clip-path=\"url(#pdff54ba433)\" d=\"M 48.982813 114.3771 \r\nL 383.782813 114.3771 \r\n\" style=\"fill:none;stroke:#b0b0b0;stroke-linecap:square;stroke-width:0.8;\"/>\r\n     </g>\r\n     <g id=\"line2d_20\">\r\n      <g>\r\n       <use style=\"stroke:#000000;stroke-width:0.8;\" x=\"48.982813\" xlink:href=\"#m9e583614e3\" y=\"114.3771\"/>\r\n      </g>\r\n     </g>\r\n     <g id=\"text_11\">\r\n      <!-- 10 -->\r\n      <g transform=\"translate(29.257812 118.176319)scale(0.1 -0.1)\">\r\n       <use xlink:href=\"#DejaVuSans-49\"/>\r\n       <use x=\"63.623047\" xlink:href=\"#DejaVuSans-48\"/>\r\n      </g>\r\n     </g>\r\n    </g>\r\n    <g id=\"ytick_4\">\r\n     <g id=\"line2d_21\">\r\n      <path clip-path=\"url(#pdff54ba433)\" d=\"M 48.982813 68.997686 \r\nL 383.782813 68.997686 \r\n\" style=\"fill:none;stroke:#b0b0b0;stroke-linecap:square;stroke-width:0.8;\"/>\r\n     </g>\r\n     <g id=\"line2d_22\">\r\n      <g>\r\n       <use style=\"stroke:#000000;stroke-width:0.8;\" x=\"48.982813\" xlink:href=\"#m9e583614e3\" y=\"68.997686\"/>\r\n      </g>\r\n     </g>\r\n     <g id=\"text_12\">\r\n      <!-- 20 -->\r\n      <g transform=\"translate(29.257812 72.796905)scale(0.1 -0.1)\">\r\n       <use xlink:href=\"#DejaVuSans-50\"/>\r\n       <use x=\"63.623047\" xlink:href=\"#DejaVuSans-48\"/>\r\n      </g>\r\n     </g>\r\n    </g>\r\n    <g id=\"ytick_5\">\r\n     <g id=\"line2d_23\">\r\n      <path clip-path=\"url(#pdff54ba433)\" d=\"M 48.982813 23.618272 \r\nL 383.782813 23.618272 \r\n\" style=\"fill:none;stroke:#b0b0b0;stroke-linecap:square;stroke-width:0.8;\"/>\r\n     </g>\r\n     <g id=\"line2d_24\">\r\n      <g>\r\n       <use style=\"stroke:#000000;stroke-width:0.8;\" x=\"48.982813\" xlink:href=\"#m9e583614e3\" y=\"23.618272\"/>\r\n      </g>\r\n     </g>\r\n     <g id=\"text_13\">\r\n      <!-- 30 -->\r\n      <defs>\r\n       <path d=\"M 40.578125 39.3125 \r\nQ 47.65625 37.796875 51.625 33 \r\nQ 55.609375 28.21875 55.609375 21.1875 \r\nQ 55.609375 10.40625 48.1875 4.484375 \r\nQ 40.765625 -1.421875 27.09375 -1.421875 \r\nQ 22.515625 -1.421875 17.65625 -0.515625 \r\nQ 12.796875 0.390625 7.625 2.203125 \r\nL 7.625 11.71875 \r\nQ 11.71875 9.328125 16.59375 8.109375 \r\nQ 21.484375 6.890625 26.8125 6.890625 \r\nQ 36.078125 6.890625 40.9375 10.546875 \r\nQ 45.796875 14.203125 45.796875 21.1875 \r\nQ 45.796875 27.640625 41.28125 31.265625 \r\nQ 36.765625 34.90625 28.71875 34.90625 \r\nL 20.21875 34.90625 \r\nL 20.21875 43.015625 \r\nL 29.109375 43.015625 \r\nQ 36.375 43.015625 40.234375 45.921875 \r\nQ 44.09375 48.828125 44.09375 54.296875 \r\nQ 44.09375 59.90625 40.109375 62.90625 \r\nQ 36.140625 65.921875 28.71875 65.921875 \r\nQ 24.65625 65.921875 20.015625 65.03125 \r\nQ 15.375 64.15625 9.8125 62.3125 \r\nL 9.8125 71.09375 \r\nQ 15.4375 72.65625 20.34375 73.4375 \r\nQ 25.25 74.21875 29.59375 74.21875 \r\nQ 40.828125 74.21875 47.359375 69.109375 \r\nQ 53.90625 64.015625 53.90625 55.328125 \r\nQ 53.90625 49.265625 50.4375 45.09375 \r\nQ 46.96875 40.921875 40.578125 39.3125 \r\nz\r\n\" id=\"DejaVuSans-51\"/>\r\n      </defs>\r\n      <g transform=\"translate(29.257812 27.417491)scale(0.1 -0.1)\">\r\n       <use xlink:href=\"#DejaVuSans-51\"/>\r\n       <use x=\"63.623047\" xlink:href=\"#DejaVuSans-48\"/>\r\n      </g>\r\n     </g>\r\n    </g>\r\n    <g id=\"text_14\">\r\n     <!-- Max Temp -->\r\n     <defs>\r\n      <path d=\"M 9.8125 72.90625 \r\nL 24.515625 72.90625 \r\nL 43.109375 23.296875 \r\nL 61.8125 72.90625 \r\nL 76.515625 72.90625 \r\nL 76.515625 0 \r\nL 66.890625 0 \r\nL 66.890625 64.015625 \r\nL 48.09375 14.015625 \r\nL 38.1875 14.015625 \r\nL 19.390625 64.015625 \r\nL 19.390625 0 \r\nL 9.8125 0 \r\nz\r\n\" id=\"DejaVuSans-77\"/>\r\n      <path d=\"M 54.890625 54.6875 \r\nL 35.109375 28.078125 \r\nL 55.90625 0 \r\nL 45.3125 0 \r\nL 29.390625 21.484375 \r\nL 13.484375 0 \r\nL 2.875 0 \r\nL 24.125 28.609375 \r\nL 4.6875 54.6875 \r\nL 15.28125 54.6875 \r\nL 29.78125 35.203125 \r\nL 44.28125 54.6875 \r\nz\r\n\" id=\"DejaVuSans-120\"/>\r\n      <path id=\"DejaVuSans-32\"/>\r\n      <path d=\"M -0.296875 72.90625 \r\nL 61.375 72.90625 \r\nL 61.375 64.59375 \r\nL 35.5 64.59375 \r\nL 35.5 0 \r\nL 25.59375 0 \r\nL 25.59375 64.59375 \r\nL -0.296875 64.59375 \r\nz\r\n\" id=\"DejaVuSans-84\"/>\r\n      <path d=\"M 56.203125 29.59375 \r\nL 56.203125 25.203125 \r\nL 14.890625 25.203125 \r\nQ 15.484375 15.921875 20.484375 11.0625 \r\nQ 25.484375 6.203125 34.421875 6.203125 \r\nQ 39.59375 6.203125 44.453125 7.46875 \r\nQ 49.3125 8.734375 54.109375 11.28125 \r\nL 54.109375 2.78125 \r\nQ 49.265625 0.734375 44.1875 -0.34375 \r\nQ 39.109375 -1.421875 33.890625 -1.421875 \r\nQ 20.796875 -1.421875 13.15625 6.1875 \r\nQ 5.515625 13.8125 5.515625 26.8125 \r\nQ 5.515625 40.234375 12.765625 48.109375 \r\nQ 20.015625 56 32.328125 56 \r\nQ 43.359375 56 49.78125 48.890625 \r\nQ 56.203125 41.796875 56.203125 29.59375 \r\nz\r\nM 47.21875 32.234375 \r\nQ 47.125 39.59375 43.09375 43.984375 \r\nQ 39.0625 48.390625 32.421875 48.390625 \r\nQ 24.90625 48.390625 20.390625 44.140625 \r\nQ 15.875 39.890625 15.1875 32.171875 \r\nz\r\n\" id=\"DejaVuSans-101\"/>\r\n      <path d=\"M 52 44.1875 \r\nQ 55.375 50.25 60.0625 53.125 \r\nQ 64.75 56 71.09375 56 \r\nQ 79.640625 56 84.28125 50.015625 \r\nQ 88.921875 44.046875 88.921875 33.015625 \r\nL 88.921875 0 \r\nL 79.890625 0 \r\nL 79.890625 32.71875 \r\nQ 79.890625 40.578125 77.09375 44.375 \r\nQ 74.3125 48.1875 68.609375 48.1875 \r\nQ 61.625 48.1875 57.5625 43.546875 \r\nQ 53.515625 38.921875 53.515625 30.90625 \r\nL 53.515625 0 \r\nL 44.484375 0 \r\nL 44.484375 32.71875 \r\nQ 44.484375 40.625 41.703125 44.40625 \r\nQ 38.921875 48.1875 33.109375 48.1875 \r\nQ 26.21875 48.1875 22.15625 43.53125 \r\nQ 18.109375 38.875 18.109375 30.90625 \r\nL 18.109375 0 \r\nL 9.078125 0 \r\nL 9.078125 54.6875 \r\nL 18.109375 54.6875 \r\nL 18.109375 46.1875 \r\nQ 21.1875 51.21875 25.484375 53.609375 \r\nQ 29.78125 56 35.6875 56 \r\nQ 41.65625 56 45.828125 52.96875 \r\nQ 50 49.953125 52 44.1875 \r\nz\r\n\" id=\"DejaVuSans-109\"/>\r\n      <path d=\"M 18.109375 8.203125 \r\nL 18.109375 -20.796875 \r\nL 9.078125 -20.796875 \r\nL 9.078125 54.6875 \r\nL 18.109375 54.6875 \r\nL 18.109375 46.390625 \r\nQ 20.953125 51.265625 25.265625 53.625 \r\nQ 29.59375 56 35.59375 56 \r\nQ 45.5625 56 51.78125 48.09375 \r\nQ 58.015625 40.1875 58.015625 27.296875 \r\nQ 58.015625 14.40625 51.78125 6.484375 \r\nQ 45.5625 -1.421875 35.59375 -1.421875 \r\nQ 29.59375 -1.421875 25.265625 0.953125 \r\nQ 20.953125 3.328125 18.109375 8.203125 \r\nz\r\nM 48.6875 27.296875 \r\nQ 48.6875 37.203125 44.609375 42.84375 \r\nQ 40.53125 48.484375 33.40625 48.484375 \r\nQ 26.265625 48.484375 22.1875 42.84375 \r\nQ 18.109375 37.203125 18.109375 27.296875 \r\nQ 18.109375 17.390625 22.1875 11.75 \r\nQ 26.265625 6.109375 33.40625 6.109375 \r\nQ 40.53125 6.109375 44.609375 11.75 \r\nQ 48.6875 17.390625 48.6875 27.296875 \r\nz\r\n\" id=\"DejaVuSans-112\"/>\r\n     </defs>\r\n     <g transform=\"translate(14.798437 141.171562)rotate(-90)scale(0.1 -0.1)\">\r\n      <use xlink:href=\"#DejaVuSans-77\"/>\r\n      <use x=\"86.279297\" xlink:href=\"#DejaVuSans-97\"/>\r\n      <use x=\"147.558594\" xlink:href=\"#DejaVuSans-120\"/>\r\n      <use x=\"206.738281\" xlink:href=\"#DejaVuSans-32\"/>\r\n      <use x=\"238.525391\" xlink:href=\"#DejaVuSans-84\"/>\r\n      <use x=\"282.609375\" xlink:href=\"#DejaVuSans-101\"/>\r\n      <use x=\"344.132812\" xlink:href=\"#DejaVuSans-109\"/>\r\n      <use x=\"441.544922\" xlink:href=\"#DejaVuSans-112\"/>\r\n     </g>\r\n    </g>\r\n   </g>\r\n   <g id=\"patch_3\">\r\n    <path d=\"M 48.982813 224.64 \r\nL 48.982813 7.2 \r\n\" style=\"fill:none;stroke:#000000;stroke-linecap:square;stroke-linejoin:miter;stroke-width:0.8;\"/>\r\n   </g>\r\n   <g id=\"patch_4\">\r\n    <path d=\"M 383.782813 224.64 \r\nL 383.782813 7.2 \r\n\" style=\"fill:none;stroke:#000000;stroke-linecap:square;stroke-linejoin:miter;stroke-width:0.8;\"/>\r\n   </g>\r\n   <g id=\"patch_5\">\r\n    <path d=\"M 48.982812 224.64 \r\nL 383.782813 224.64 \r\n\" style=\"fill:none;stroke:#000000;stroke-linecap:square;stroke-linejoin:miter;stroke-width:0.8;\"/>\r\n   </g>\r\n   <g id=\"patch_6\">\r\n    <path d=\"M 48.982812 7.2 \r\nL 383.782813 7.2 \r\n\" style=\"fill:none;stroke:#000000;stroke-linecap:square;stroke-linejoin:miter;stroke-width:0.8;\"/>\r\n   </g>\r\n  </g>\r\n </g>\r\n <defs>\r\n  <clipPath id=\"pdff54ba433\">\r\n   <rect height=\"217.44\" width=\"334.8\" x=\"48.982813\" y=\"7.2\"/>\r\n  </clipPath>\r\n </defs>\r\n</svg>\r\n",
      "image/png": "[encoded data removed]"
     },
     "metadata": {
      "needs_background": "light"
     }
    }
   ],
   "source": [
    "lat_vs_temp = clean_city_data.plot(kind = \"scatter\", x = \"Lat\", y = \"Max Temp\", grid = True)\n",
    "plt.xlabel = \"Latitude\"\n",
    "# plt.ylabel = \"Max Temperature (F)\"\n",
    "# plt.title = \"Latitude vs Max Temp (F)\"\n",
    "# plt.savefig(\"../output_data/Latitude vs Max Temp.png\")\n",
    "# plt.show()"
   ]
  },
  {
   "cell_type": "markdown",
   "metadata": {},
   "source": [
    "## Latitude vs. Humidity Plot"
   ]
  },
  {
   "cell_type": "code",
   "execution_count": 71,
   "metadata": {},
   "outputs": [
    {
     "output_type": "display_data",
     "data": {
      "text/plain": "<Figure size 432x288 with 1 Axes>",
      "image/svg+xml": "<?xml version=\"1.0\" encoding=\"utf-8\" standalone=\"no\"?>\r\n<!DOCTYPE svg PUBLIC \"-//W3C//DTD SVG 1.1//EN\"\r\n  \"http://www.w3.org/Graphics/SVG/1.1/DTD/svg11.dtd\">\r\n<!-- Created with matplotlib (https://matplotlib.org/) -->\r\n<svg height=\"248.518125pt\" version=\"1.1\" viewBox=\"0 0 375.2875 248.518125\" width=\"375.2875pt\" xmlns=\"http://www.w3.org/2000/svg\" xmlns:xlink=\"http://www.w3.org/1999/xlink\">\r\n <defs>\r\n  <style type=\"text/css\">\r\n*{stroke-linecap:butt;stroke-linejoin:round;}\r\n  </style>\r\n </defs>\r\n <g id=\"figure_1\">\r\n  <g id=\"patch_1\">\r\n   <path d=\"M 0 248.518125 \r\nL 375.2875 248.518125 \r\nL 375.2875 0 \r\nL 0 0 \r\nz\r\n\" style=\"fill:none;\"/>\r\n  </g>\r\n  <g id=\"axes_1\">\r\n   <g id=\"patch_2\">\r\n    <path d=\"M 33.2875 224.64 \r\nL 368.0875 224.64 \r\nL 368.0875 7.2 \r\nL 33.2875 7.2 \r\nz\r\n\" style=\"fill:#ffffff;\"/>\r\n   </g>\r\n   <g id=\"PathCollection_1\">\r\n    <defs>\r\n     <path d=\"M 0 3 \r\nC 0.795609 3 1.55874 2.683901 2.12132 2.12132 \r\nC 2.683901 1.55874 3 0.795609 3 0 \r\nC 3 -0.795609 2.683901 -1.55874 2.12132 -2.12132 \r\nC 1.55874 -2.683901 0.795609 -3 0 -3 \r\nC -0.795609 -3 -1.55874 -2.683901 -2.12132 -2.12132 \r\nC -2.683901 -1.55874 -3 -0.795609 -3 0 \r\nC -3 0.795609 -2.683901 1.55874 -2.12132 2.12132 \r\nC -1.55874 2.683901 -0.795609 3 0 3 \r\nz\r\n\" id=\"me11d49da66\" style=\"stroke:#000000;\"/>\r\n    </defs>\r\n    <g clip-path=\"url(#p07db46913c)\">\r\n     <use style=\"fill:#ff0000;stroke:#000000;\" x=\"263.700005\" xlink:href=\"#me11d49da66\" y=\"70.62\"/>\r\n     <use style=\"fill:#ff0000;stroke:#000000;\" x=\"209.000904\" xlink:href=\"#me11d49da66\" y=\"66.501818\"/>\r\n     <use style=\"fill:#ff0000;stroke:#000000;\" x=\"350.913223\" xlink:href=\"#me11d49da66\" y=\"25.32\"/>\r\n     <use style=\"fill:#ff0000;stroke:#000000;\" x=\"349.291095\" xlink:href=\"#me11d49da66\" y=\"128.274545\"/>\r\n     <use style=\"fill:#ff0000;stroke:#000000;\" x=\"279.658878\" xlink:href=\"#me11d49da66\" y=\"190.047273\"/>\r\n     <use style=\"fill:#ff0000;stroke:#000000;\" x=\"124.077749\" xlink:href=\"#me11d49da66\" y=\"107.683636\"/>\r\n     <use style=\"fill:#ff0000;stroke:#000000;\" x=\"130.280002\" xlink:href=\"#me11d49da66\" y=\"107.683636\"/>\r\n     <use style=\"fill:#ff0000;stroke:#000000;\" x=\"96.8594\" xlink:href=\"#me11d49da66\" y=\"202.401818\"/>\r\n     <use style=\"fill:#ff0000;stroke:#000000;\" x=\"155.852368\" xlink:href=\"#me11d49da66\" y=\"120.038182\"/>\r\n     <use style=\"fill:#ff0000;stroke:#000000;\" x=\"193.256724\" xlink:href=\"#me11d49da66\" y=\"140.629091\"/>\r\n     <use style=\"fill:#ff0000;stroke:#000000;\" x=\"271.118853\" xlink:href=\"#me11d49da66\" y=\"107.683636\"/>\r\n     <use style=\"fill:#ff0000;stroke:#000000;\" x=\"192.135547\" xlink:href=\"#me11d49da66\" y=\"87.092727\"/>\r\n     <use style=\"fill:#ff0000;stroke:#000000;\" x=\"303.275149\" xlink:href=\"#me11d49da66\" y=\"87.092727\"/>\r\n     <use style=\"fill:#ff0000;stroke:#000000;\" x=\"173.099402\" xlink:href=\"#me11d49da66\" y=\"111.801818\"/>\r\n     <use style=\"fill:#ff0000;stroke:#000000;\" x=\"99.101753\" xlink:href=\"#me11d49da66\" y=\"140.629091\"/>\r\n     <use style=\"fill:#ff0000;stroke:#000000;\" x=\"167.588939\" xlink:href=\"#me11d49da66\" y=\"91.210909\"/>\r\n     <use style=\"fill:#ff0000;stroke:#000000;\" x=\"257.163784\" xlink:href=\"#me11d49da66\" y=\"165.338182\"/>\r\n     <use style=\"fill:#ff0000;stroke:#000000;\" x=\"258.141832\" xlink:href=\"#me11d49da66\" y=\"181.810909\"/>\r\n     <use style=\"fill:#ff0000;stroke:#000000;\" x=\"350.245288\" xlink:href=\"#me11d49da66\" y=\"62.383636\"/>\r\n     <use style=\"fill:#ff0000;stroke:#000000;\" x=\"259.692395\" xlink:href=\"#me11d49da66\" y=\"111.801818\"/>\r\n     <use style=\"fill:#ff0000;stroke:#000000;\" x=\"207.999002\" xlink:href=\"#me11d49da66\" y=\"140.629091\"/>\r\n     <use style=\"fill:#ff0000;stroke:#000000;\" x=\"150.508888\" xlink:href=\"#me11d49da66\" y=\"111.801818\"/>\r\n     <use style=\"fill:#ff0000;stroke:#000000;\" x=\"197.765285\" xlink:href=\"#me11d49da66\" y=\"214.756364\"/>\r\n     <use style=\"fill:#ff0000;stroke:#000000;\" x=\"89.488261\" xlink:href=\"#me11d49da66\" y=\"169.456364\"/>\r\n     <use style=\"fill:#ff0000;stroke:#000000;\" x=\"231.901531\" xlink:href=\"#me11d49da66\" y=\"66.501818\"/>\r\n     <use style=\"fill:#ff0000;stroke:#000000;\" x=\"352.869318\" xlink:href=\"#me11d49da66\" y=\"54.147273\"/>\r\n     <use style=\"fill:#ff0000;stroke:#000000;\" x=\"177.464834\" xlink:href=\"#me11d49da66\" y=\"107.683636\"/>\r\n     <use style=\"fill:#ff0000;stroke:#000000;\" x=\"145.904908\" xlink:href=\"#me11d49da66\" y=\"210.638182\"/>\r\n     <use style=\"fill:#ff0000;stroke:#000000;\" x=\"69.044681\" xlink:href=\"#me11d49da66\" y=\"50.029091\"/>\r\n     <use style=\"fill:#ff0000;stroke:#000000;\" x=\"232.402482\" xlink:href=\"#me11d49da66\" y=\"95.329091\"/>\r\n     <use style=\"fill:#ff0000;stroke:#000000;\" x=\"298.289492\" xlink:href=\"#me11d49da66\" y=\"157.101818\"/>\r\n     <use style=\"fill:#ff0000;stroke:#000000;\" x=\"87.031215\" xlink:href=\"#me11d49da66\" y=\"185.929091\"/>\r\n     <use style=\"fill:#ff0000;stroke:#000000;\" x=\"203.084909\" xlink:href=\"#me11d49da66\" y=\"140.629091\"/>\r\n     <use style=\"fill:#ff0000;stroke:#000000;\" x=\"48.505682\" xlink:href=\"#me11d49da66\" y=\"140.629091\"/>\r\n     <use style=\"fill:#ff0000;stroke:#000000;\" x=\"148.862906\" xlink:href=\"#me11d49da66\" y=\"87.092727\"/>\r\n     <use style=\"fill:#ff0000;stroke:#000000;\" x=\"52.441727\" xlink:href=\"#me11d49da66\" y=\"194.165455\"/>\r\n     <use style=\"fill:#ff0000;stroke:#000000;\" x=\"124.435571\" xlink:href=\"#me11d49da66\" y=\"173.574545\"/>\r\n     <use style=\"fill:#ff0000;stroke:#000000;\" x=\"176.367512\" xlink:href=\"#me11d49da66\" y=\"210.638182\"/>\r\n     <use style=\"fill:#ff0000;stroke:#000000;\" x=\"345.498179\" xlink:href=\"#me11d49da66\" y=\"54.147273\"/>\r\n     <use style=\"fill:#ff0000;stroke:#000000;\" x=\"167.374245\" xlink:href=\"#me11d49da66\" y=\"115.92\"/>\r\n     <use style=\"fill:#ff0000;stroke:#000000;\" x=\"315.321833\" xlink:href=\"#me11d49da66\" y=\"70.62\"/>\r\n     <use style=\"fill:#ff0000;stroke:#000000;\" x=\"77.179174\" xlink:href=\"#me11d49da66\" y=\"169.456364\"/>\r\n     <use style=\"fill:#ff0000;stroke:#000000;\" x=\"158.14243\" xlink:href=\"#me11d49da66\" y=\"161.22\"/>\r\n     <use style=\"fill:#ff0000;stroke:#000000;\" x=\"328.22729\" xlink:href=\"#me11d49da66\" y=\"190.047273\"/>\r\n     <use style=\"fill:#ff0000;stroke:#000000;\" x=\"146.119601\" xlink:href=\"#me11d49da66\" y=\"82.974545\"/>\r\n     <use style=\"fill:#ff0000;stroke:#000000;\" x=\"335.741558\" xlink:href=\"#me11d49da66\" y=\"120.038182\"/>\r\n     <use style=\"fill:#ff0000;stroke:#000000;\" x=\"317.08709\" xlink:href=\"#me11d49da66\" y=\"95.329091\"/>\r\n     <use style=\"fill:#ff0000;stroke:#000000;\" x=\"232.831869\" xlink:href=\"#me11d49da66\" y=\"17.083636\"/>\r\n     <use style=\"fill:#ff0000;stroke:#000000;\" x=\"329.443886\" xlink:href=\"#me11d49da66\" y=\"50.029091\"/>\r\n     <use style=\"fill:#ff0000;stroke:#000000;\" x=\"324.148116\" xlink:href=\"#me11d49da66\" y=\"62.383636\"/>\r\n     <use style=\"fill:#ff0000;stroke:#000000;\" x=\"171.31029\" xlink:href=\"#me11d49da66\" y=\"54.147273\"/>\r\n     <use style=\"fill:#ff0000;stroke:#000000;\" x=\"199.792944\" xlink:href=\"#me11d49da66\" y=\"169.456364\"/>\r\n     <use style=\"fill:#ff0000;stroke:#000000;\" x=\"307.09192\" xlink:href=\"#me11d49da66\" y=\"103.565455\"/>\r\n     <use style=\"fill:#ff0000;stroke:#000000;\" x=\"280.851619\" xlink:href=\"#me11d49da66\" y=\"140.629091\"/>\r\n     <use style=\"fill:#ff0000;stroke:#000000;\" x=\"87.937698\" xlink:href=\"#me11d49da66\" y=\"185.929091\"/>\r\n     <use style=\"fill:#ff0000;stroke:#000000;\" x=\"254.611318\" xlink:href=\"#me11d49da66\" y=\"169.456364\"/>\r\n     <use style=\"fill:#ff0000;stroke:#000000;\" x=\"128.657874\" xlink:href=\"#me11d49da66\" y=\"107.683636\"/>\r\n     <use style=\"fill:#ff0000;stroke:#000000;\" x=\"88.98731\" xlink:href=\"#me11d49da66\" y=\"148.865455\"/>\r\n     <use style=\"fill:#ff0000;stroke:#000000;\" x=\"289.988015\" xlink:href=\"#me11d49da66\" y=\"107.683636\"/>\r\n     <use style=\"fill:#ff0000;stroke:#000000;\" x=\"344.734825\" xlink:href=\"#me11d49da66\" y=\"50.029091\"/>\r\n     <use style=\"fill:#ff0000;stroke:#000000;\" x=\"98.123705\" xlink:href=\"#me11d49da66\" y=\"202.401818\"/>\r\n    </g>\r\n   </g>\r\n   <g id=\"matplotlib.axis_1\">\r\n    <g id=\"xtick_1\">\r\n     <g id=\"line2d_1\">\r\n      <defs>\r\n       <path d=\"M 0 0 \r\nL 0 3.5 \r\n\" id=\"m7c774d87cc\" style=\"stroke:#000000;stroke-width:0.8;\"/>\r\n      </defs>\r\n      <g>\r\n       <use style=\"stroke:#000000;stroke-width:0.8;\" x=\"36.101176\" xlink:href=\"#m7c774d87cc\" y=\"224.64\"/>\r\n      </g>\r\n     </g>\r\n     <g id=\"text_1\">\r\n      <!-- −60 -->\r\n      <defs>\r\n       <path d=\"M 10.59375 35.5 \r\nL 73.1875 35.5 \r\nL 73.1875 27.203125 \r\nL 10.59375 27.203125 \r\nz\r\n\" id=\"DejaVuSans-8722\"/>\r\n       <path d=\"M 33.015625 40.375 \r\nQ 26.375 40.375 22.484375 35.828125 \r\nQ 18.609375 31.296875 18.609375 23.390625 \r\nQ 18.609375 15.53125 22.484375 10.953125 \r\nQ 26.375 6.390625 33.015625 6.390625 \r\nQ 39.65625 6.390625 43.53125 10.953125 \r\nQ 47.40625 15.53125 47.40625 23.390625 \r\nQ 47.40625 31.296875 43.53125 35.828125 \r\nQ 39.65625 40.375 33.015625 40.375 \r\nz\r\nM 52.59375 71.296875 \r\nL 52.59375 62.3125 \r\nQ 48.875 64.0625 45.09375 64.984375 \r\nQ 41.3125 65.921875 37.59375 65.921875 \r\nQ 27.828125 65.921875 22.671875 59.328125 \r\nQ 17.53125 52.734375 16.796875 39.40625 \r\nQ 19.671875 43.65625 24.015625 45.921875 \r\nQ 28.375 48.1875 33.59375 48.1875 \r\nQ 44.578125 48.1875 50.953125 41.515625 \r\nQ 57.328125 34.859375 57.328125 23.390625 \r\nQ 57.328125 12.15625 50.6875 5.359375 \r\nQ 44.046875 -1.421875 33.015625 -1.421875 \r\nQ 20.359375 -1.421875 13.671875 8.265625 \r\nQ 6.984375 17.96875 6.984375 36.375 \r\nQ 6.984375 53.65625 15.1875 63.9375 \r\nQ 23.390625 74.21875 37.203125 74.21875 \r\nQ 40.921875 74.21875 44.703125 73.484375 \r\nQ 48.484375 72.75 52.59375 71.296875 \r\nz\r\n\" id=\"DejaVuSans-54\"/>\r\n       <path d=\"M 31.78125 66.40625 \r\nQ 24.171875 66.40625 20.328125 58.90625 \r\nQ 16.5 51.421875 16.5 36.375 \r\nQ 16.5 21.390625 20.328125 13.890625 \r\nQ 24.171875 6.390625 31.78125 6.390625 \r\nQ 39.453125 6.390625 43.28125 13.890625 \r\nQ 47.125 21.390625 47.125 36.375 \r\nQ 47.125 51.421875 43.28125 58.90625 \r\nQ 39.453125 66.40625 31.78125 66.40625 \r\nz\r\nM 31.78125 74.21875 \r\nQ 44.046875 74.21875 50.515625 64.515625 \r\nQ 56.984375 54.828125 56.984375 36.375 \r\nQ 56.984375 17.96875 50.515625 8.265625 \r\nQ 44.046875 -1.421875 31.78125 -1.421875 \r\nQ 19.53125 -1.421875 13.0625 8.265625 \r\nQ 6.59375 17.96875 6.59375 36.375 \r\nQ 6.59375 54.828125 13.0625 64.515625 \r\nQ 19.53125 74.21875 31.78125 74.21875 \r\nz\r\n\" id=\"DejaVuSans-48\"/>\r\n      </defs>\r\n      <g transform=\"translate(25.548832 239.238437)scale(0.1 -0.1)\">\r\n       <use xlink:href=\"#DejaVuSans-8722\"/>\r\n       <use x=\"83.789062\" xlink:href=\"#DejaVuSans-54\"/>\r\n       <use x=\"147.412109\" xlink:href=\"#DejaVuSans-48\"/>\r\n      </g>\r\n     </g>\r\n    </g>\r\n    <g id=\"xtick_2\">\r\n     <g id=\"line2d_2\">\r\n      <g>\r\n       <use style=\"stroke:#000000;stroke-width:0.8;\" x=\"83.810814\" xlink:href=\"#m7c774d87cc\" y=\"224.64\"/>\r\n      </g>\r\n     </g>\r\n     <g id=\"text_2\">\r\n      <!-- −40 -->\r\n      <defs>\r\n       <path d=\"M 37.796875 64.3125 \r\nL 12.890625 25.390625 \r\nL 37.796875 25.390625 \r\nz\r\nM 35.203125 72.90625 \r\nL 47.609375 72.90625 \r\nL 47.609375 25.390625 \r\nL 58.015625 25.390625 \r\nL 58.015625 17.1875 \r\nL 47.609375 17.1875 \r\nL 47.609375 0 \r\nL 37.796875 0 \r\nL 37.796875 17.1875 \r\nL 4.890625 17.1875 \r\nL 4.890625 26.703125 \r\nz\r\n\" id=\"DejaVuSans-52\"/>\r\n      </defs>\r\n      <g transform=\"translate(73.25847 239.238437)scale(0.1 -0.1)\">\r\n       <use xlink:href=\"#DejaVuSans-8722\"/>\r\n       <use x=\"83.789062\" xlink:href=\"#DejaVuSans-52\"/>\r\n       <use x=\"147.412109\" xlink:href=\"#DejaVuSans-48\"/>\r\n      </g>\r\n     </g>\r\n    </g>\r\n    <g id=\"xtick_3\">\r\n     <g id=\"line2d_3\">\r\n      <g>\r\n       <use style=\"stroke:#000000;stroke-width:0.8;\" x=\"131.520452\" xlink:href=\"#m7c774d87cc\" y=\"224.64\"/>\r\n      </g>\r\n     </g>\r\n     <g id=\"text_3\">\r\n      <!-- −20 -->\r\n      <defs>\r\n       <path d=\"M 19.1875 8.296875 \r\nL 53.609375 8.296875 \r\nL 53.609375 0 \r\nL 7.328125 0 \r\nL 7.328125 8.296875 \r\nQ 12.9375 14.109375 22.625 23.890625 \r\nQ 32.328125 33.6875 34.8125 36.53125 \r\nQ 39.546875 41.84375 41.421875 45.53125 \r\nQ 43.3125 49.21875 43.3125 52.78125 \r\nQ 43.3125 58.59375 39.234375 62.25 \r\nQ 35.15625 65.921875 28.609375 65.921875 \r\nQ 23.96875 65.921875 18.8125 64.3125 \r\nQ 13.671875 62.703125 7.8125 59.421875 \r\nL 7.8125 69.390625 \r\nQ 13.765625 71.78125 18.9375 73 \r\nQ 24.125 74.21875 28.421875 74.21875 \r\nQ 39.75 74.21875 46.484375 68.546875 \r\nQ 53.21875 62.890625 53.21875 53.421875 \r\nQ 53.21875 48.921875 51.53125 44.890625 \r\nQ 49.859375 40.875 45.40625 35.40625 \r\nQ 44.1875 33.984375 37.640625 27.21875 \r\nQ 31.109375 20.453125 19.1875 8.296875 \r\nz\r\n\" id=\"DejaVuSans-50\"/>\r\n      </defs>\r\n      <g transform=\"translate(120.968108 239.238437)scale(0.1 -0.1)\">\r\n       <use xlink:href=\"#DejaVuSans-8722\"/>\r\n       <use x=\"83.789062\" xlink:href=\"#DejaVuSans-50\"/>\r\n       <use x=\"147.412109\" xlink:href=\"#DejaVuSans-48\"/>\r\n      </g>\r\n     </g>\r\n    </g>\r\n    <g id=\"xtick_4\">\r\n     <g id=\"line2d_4\">\r\n      <g>\r\n       <use style=\"stroke:#000000;stroke-width:0.8;\" x=\"179.23009\" xlink:href=\"#m7c774d87cc\" y=\"224.64\"/>\r\n      </g>\r\n     </g>\r\n     <g id=\"text_4\">\r\n      <!-- 0 -->\r\n      <g transform=\"translate(176.04884 239.238437)scale(0.1 -0.1)\">\r\n       <use xlink:href=\"#DejaVuSans-48\"/>\r\n      </g>\r\n     </g>\r\n    </g>\r\n    <g id=\"xtick_5\">\r\n     <g id=\"line2d_5\">\r\n      <g>\r\n       <use style=\"stroke:#000000;stroke-width:0.8;\" x=\"226.939728\" xlink:href=\"#m7c774d87cc\" y=\"224.64\"/>\r\n      </g>\r\n     </g>\r\n     <g id=\"text_5\">\r\n      <!-- 20 -->\r\n      <g transform=\"translate(220.577228 239.238437)scale(0.1 -0.1)\">\r\n       <use xlink:href=\"#DejaVuSans-50\"/>\r\n       <use x=\"63.623047\" xlink:href=\"#DejaVuSans-48\"/>\r\n      </g>\r\n     </g>\r\n    </g>\r\n    <g id=\"xtick_6\">\r\n     <g id=\"line2d_6\">\r\n      <g>\r\n       <use style=\"stroke:#000000;stroke-width:0.8;\" x=\"274.649366\" xlink:href=\"#m7c774d87cc\" y=\"224.64\"/>\r\n      </g>\r\n     </g>\r\n     <g id=\"text_6\">\r\n      <!-- 40 -->\r\n      <g transform=\"translate(268.286866 239.238437)scale(0.1 -0.1)\">\r\n       <use xlink:href=\"#DejaVuSans-52\"/>\r\n       <use x=\"63.623047\" xlink:href=\"#DejaVuSans-48\"/>\r\n      </g>\r\n     </g>\r\n    </g>\r\n    <g id=\"xtick_7\">\r\n     <g id=\"line2d_7\">\r\n      <g>\r\n       <use style=\"stroke:#000000;stroke-width:0.8;\" x=\"322.359005\" xlink:href=\"#m7c774d87cc\" y=\"224.64\"/>\r\n      </g>\r\n     </g>\r\n     <g id=\"text_7\">\r\n      <!-- 60 -->\r\n      <g transform=\"translate(315.996505 239.238437)scale(0.1 -0.1)\">\r\n       <use xlink:href=\"#DejaVuSans-54\"/>\r\n       <use x=\"63.623047\" xlink:href=\"#DejaVuSans-48\"/>\r\n      </g>\r\n     </g>\r\n    </g>\r\n   </g>\r\n   <g id=\"matplotlib.axis_2\">\r\n    <g id=\"ytick_1\">\r\n     <g id=\"line2d_8\">\r\n      <defs>\r\n       <path d=\"M 0 0 \r\nL -3.5 0 \r\n\" id=\"m70c5b9fe1c\" style=\"stroke:#000000;stroke-width:0.8;\"/>\r\n      </defs>\r\n      <g>\r\n       <use style=\"stroke:#000000;stroke-width:0.8;\" x=\"33.2875\" xlink:href=\"#m70c5b9fe1c\" y=\"222.992727\"/>\r\n      </g>\r\n     </g>\r\n     <g id=\"text_8\">\r\n      <!-- 50 -->\r\n      <defs>\r\n       <path d=\"M 10.796875 72.90625 \r\nL 49.515625 72.90625 \r\nL 49.515625 64.59375 \r\nL 19.828125 64.59375 \r\nL 19.828125 46.734375 \r\nQ 21.96875 47.46875 24.109375 47.828125 \r\nQ 26.265625 48.1875 28.421875 48.1875 \r\nQ 40.625 48.1875 47.75 41.5 \r\nQ 54.890625 34.8125 54.890625 23.390625 \r\nQ 54.890625 11.625 47.5625 5.09375 \r\nQ 40.234375 -1.421875 26.90625 -1.421875 \r\nQ 22.3125 -1.421875 17.546875 -0.640625 \r\nQ 12.796875 0.140625 7.71875 1.703125 \r\nL 7.71875 11.625 \r\nQ 12.109375 9.234375 16.796875 8.0625 \r\nQ 21.484375 6.890625 26.703125 6.890625 \r\nQ 35.15625 6.890625 40.078125 11.328125 \r\nQ 45.015625 15.765625 45.015625 23.390625 \r\nQ 45.015625 31 40.078125 35.4375 \r\nQ 35.15625 39.890625 26.703125 39.890625 \r\nQ 22.75 39.890625 18.8125 39.015625 \r\nQ 14.890625 38.140625 10.796875 36.28125 \r\nz\r\n\" id=\"DejaVuSans-53\"/>\r\n      </defs>\r\n      <g transform=\"translate(13.5625 226.791946)scale(0.1 -0.1)\">\r\n       <use xlink:href=\"#DejaVuSans-53\"/>\r\n       <use x=\"63.623047\" xlink:href=\"#DejaVuSans-48\"/>\r\n      </g>\r\n     </g>\r\n    </g>\r\n    <g id=\"ytick_2\">\r\n     <g id=\"line2d_9\">\r\n      <g>\r\n       <use style=\"stroke:#000000;stroke-width:0.8;\" x=\"33.2875\" xlink:href=\"#m70c5b9fe1c\" y=\"181.810909\"/>\r\n      </g>\r\n     </g>\r\n     <g id=\"text_9\">\r\n      <!-- 60 -->\r\n      <g transform=\"translate(13.5625 185.610128)scale(0.1 -0.1)\">\r\n       <use xlink:href=\"#DejaVuSans-54\"/>\r\n       <use x=\"63.623047\" xlink:href=\"#DejaVuSans-48\"/>\r\n      </g>\r\n     </g>\r\n    </g>\r\n    <g id=\"ytick_3\">\r\n     <g id=\"line2d_10\">\r\n      <g>\r\n       <use style=\"stroke:#000000;stroke-width:0.8;\" x=\"33.2875\" xlink:href=\"#m70c5b9fe1c\" y=\"140.629091\"/>\r\n      </g>\r\n     </g>\r\n     <g id=\"text_10\">\r\n      <!-- 70 -->\r\n      <defs>\r\n       <path d=\"M 8.203125 72.90625 \r\nL 55.078125 72.90625 \r\nL 55.078125 68.703125 \r\nL 28.609375 0 \r\nL 18.3125 0 \r\nL 43.21875 64.59375 \r\nL 8.203125 64.59375 \r\nz\r\n\" id=\"DejaVuSans-55\"/>\r\n      </defs>\r\n      <g transform=\"translate(13.5625 144.42831)scale(0.1 -0.1)\">\r\n       <use xlink:href=\"#DejaVuSans-55\"/>\r\n       <use x=\"63.623047\" xlink:href=\"#DejaVuSans-48\"/>\r\n      </g>\r\n     </g>\r\n    </g>\r\n    <g id=\"ytick_4\">\r\n     <g id=\"line2d_11\">\r\n      <g>\r\n       <use style=\"stroke:#000000;stroke-width:0.8;\" x=\"33.2875\" xlink:href=\"#m70c5b9fe1c\" y=\"99.447273\"/>\r\n      </g>\r\n     </g>\r\n     <g id=\"text_11\">\r\n      <!-- 80 -->\r\n      <defs>\r\n       <path d=\"M 31.78125 34.625 \r\nQ 24.75 34.625 20.71875 30.859375 \r\nQ 16.703125 27.09375 16.703125 20.515625 \r\nQ 16.703125 13.921875 20.71875 10.15625 \r\nQ 24.75 6.390625 31.78125 6.390625 \r\nQ 38.8125 6.390625 42.859375 10.171875 \r\nQ 46.921875 13.96875 46.921875 20.515625 \r\nQ 46.921875 27.09375 42.890625 30.859375 \r\nQ 38.875 34.625 31.78125 34.625 \r\nz\r\nM 21.921875 38.8125 \r\nQ 15.578125 40.375 12.03125 44.71875 \r\nQ 8.5 49.078125 8.5 55.328125 \r\nQ 8.5 64.0625 14.71875 69.140625 \r\nQ 20.953125 74.21875 31.78125 74.21875 \r\nQ 42.671875 74.21875 48.875 69.140625 \r\nQ 55.078125 64.0625 55.078125 55.328125 \r\nQ 55.078125 49.078125 51.53125 44.71875 \r\nQ 48 40.375 41.703125 38.8125 \r\nQ 48.828125 37.15625 52.796875 32.3125 \r\nQ 56.78125 27.484375 56.78125 20.515625 \r\nQ 56.78125 9.90625 50.3125 4.234375 \r\nQ 43.84375 -1.421875 31.78125 -1.421875 \r\nQ 19.734375 -1.421875 13.25 4.234375 \r\nQ 6.78125 9.90625 6.78125 20.515625 \r\nQ 6.78125 27.484375 10.78125 32.3125 \r\nQ 14.796875 37.15625 21.921875 38.8125 \r\nz\r\nM 18.3125 54.390625 \r\nQ 18.3125 48.734375 21.84375 45.5625 \r\nQ 25.390625 42.390625 31.78125 42.390625 \r\nQ 38.140625 42.390625 41.71875 45.5625 \r\nQ 45.3125 48.734375 45.3125 54.390625 \r\nQ 45.3125 60.0625 41.71875 63.234375 \r\nQ 38.140625 66.40625 31.78125 66.40625 \r\nQ 25.390625 66.40625 21.84375 63.234375 \r\nQ 18.3125 60.0625 18.3125 54.390625 \r\nz\r\n\" id=\"DejaVuSans-56\"/>\r\n      </defs>\r\n      <g transform=\"translate(13.5625 103.246491)scale(0.1 -0.1)\">\r\n       <use xlink:href=\"#DejaVuSans-56\"/>\r\n       <use x=\"63.623047\" xlink:href=\"#DejaVuSans-48\"/>\r\n      </g>\r\n     </g>\r\n    </g>\r\n    <g id=\"ytick_5\">\r\n     <g id=\"line2d_12\">\r\n      <g>\r\n       <use style=\"stroke:#000000;stroke-width:0.8;\" x=\"33.2875\" xlink:href=\"#m70c5b9fe1c\" y=\"58.265455\"/>\r\n      </g>\r\n     </g>\r\n     <g id=\"text_12\">\r\n      <!-- 90 -->\r\n      <defs>\r\n       <path d=\"M 10.984375 1.515625 \r\nL 10.984375 10.5 \r\nQ 14.703125 8.734375 18.5 7.8125 \r\nQ 22.3125 6.890625 25.984375 6.890625 \r\nQ 35.75 6.890625 40.890625 13.453125 \r\nQ 46.046875 20.015625 46.78125 33.40625 \r\nQ 43.953125 29.203125 39.59375 26.953125 \r\nQ 35.25 24.703125 29.984375 24.703125 \r\nQ 19.046875 24.703125 12.671875 31.3125 \r\nQ 6.296875 37.9375 6.296875 49.421875 \r\nQ 6.296875 60.640625 12.9375 67.421875 \r\nQ 19.578125 74.21875 30.609375 74.21875 \r\nQ 43.265625 74.21875 49.921875 64.515625 \r\nQ 56.59375 54.828125 56.59375 36.375 \r\nQ 56.59375 19.140625 48.40625 8.859375 \r\nQ 40.234375 -1.421875 26.421875 -1.421875 \r\nQ 22.703125 -1.421875 18.890625 -0.6875 \r\nQ 15.09375 0.046875 10.984375 1.515625 \r\nz\r\nM 30.609375 32.421875 \r\nQ 37.25 32.421875 41.125 36.953125 \r\nQ 45.015625 41.5 45.015625 49.421875 \r\nQ 45.015625 57.28125 41.125 61.84375 \r\nQ 37.25 66.40625 30.609375 66.40625 \r\nQ 23.96875 66.40625 20.09375 61.84375 \r\nQ 16.21875 57.28125 16.21875 49.421875 \r\nQ 16.21875 41.5 20.09375 36.953125 \r\nQ 23.96875 32.421875 30.609375 32.421875 \r\nz\r\n\" id=\"DejaVuSans-57\"/>\r\n      </defs>\r\n      <g transform=\"translate(13.5625 62.064673)scale(0.1 -0.1)\">\r\n       <use xlink:href=\"#DejaVuSans-57\"/>\r\n       <use x=\"63.623047\" xlink:href=\"#DejaVuSans-48\"/>\r\n      </g>\r\n     </g>\r\n    </g>\r\n    <g id=\"ytick_6\">\r\n     <g id=\"line2d_13\">\r\n      <g>\r\n       <use style=\"stroke:#000000;stroke-width:0.8;\" x=\"33.2875\" xlink:href=\"#m70c5b9fe1c\" y=\"17.083636\"/>\r\n      </g>\r\n     </g>\r\n     <g id=\"text_13\">\r\n      <!-- 100 -->\r\n      <defs>\r\n       <path d=\"M 12.40625 8.296875 \r\nL 28.515625 8.296875 \r\nL 28.515625 63.921875 \r\nL 10.984375 60.40625 \r\nL 10.984375 69.390625 \r\nL 28.421875 72.90625 \r\nL 38.28125 72.90625 \r\nL 38.28125 8.296875 \r\nL 54.390625 8.296875 \r\nL 54.390625 0 \r\nL 12.40625 0 \r\nz\r\n\" id=\"DejaVuSans-49\"/>\r\n      </defs>\r\n      <g transform=\"translate(7.2 20.882855)scale(0.1 -0.1)\">\r\n       <use xlink:href=\"#DejaVuSans-49\"/>\r\n       <use x=\"63.623047\" xlink:href=\"#DejaVuSans-48\"/>\r\n       <use x=\"127.246094\" xlink:href=\"#DejaVuSans-48\"/>\r\n      </g>\r\n     </g>\r\n    </g>\r\n   </g>\r\n   <g id=\"patch_3\">\r\n    <path d=\"M 33.2875 224.64 \r\nL 33.2875 7.2 \r\n\" style=\"fill:none;stroke:#000000;stroke-linecap:square;stroke-linejoin:miter;stroke-width:0.8;\"/>\r\n   </g>\r\n   <g id=\"patch_4\">\r\n    <path d=\"M 368.0875 224.64 \r\nL 368.0875 7.2 \r\n\" style=\"fill:none;stroke:#000000;stroke-linecap:square;stroke-linejoin:miter;stroke-width:0.8;\"/>\r\n   </g>\r\n   <g id=\"patch_5\">\r\n    <path d=\"M 33.2875 224.64 \r\nL 368.0875 224.64 \r\n\" style=\"fill:none;stroke:#000000;stroke-linecap:square;stroke-linejoin:miter;stroke-width:0.8;\"/>\r\n   </g>\r\n   <g id=\"patch_6\">\r\n    <path d=\"M 33.2875 7.2 \r\nL 368.0875 7.2 \r\n\" style=\"fill:none;stroke:#000000;stroke-linecap:square;stroke-linejoin:miter;stroke-width:0.8;\"/>\r\n   </g>\r\n  </g>\r\n </g>\r\n <defs>\r\n  <clipPath id=\"p07db46913c\">\r\n   <rect height=\"217.44\" width=\"334.8\" x=\"33.2875\" y=\"7.2\"/>\r\n  </clipPath>\r\n </defs>\r\n</svg>\r\n",
      "image/png": "[encoded data removed]"
     },
     "metadata": {
      "needs_background": "light"
     }
    }
   ],
   "source": [
    "plt.scatter(clean_city_data[\"Lat\"], clean_city_data[\"Humidity\"], marker = \"o\", facecolors = \"red\", edgecolors = \"black\")\n",
    "# plt.ylim(-60, 80)\n",
    "# plt.ylim(-10, 35)\n",
    "plt.title = \"Latitude vs Humidity\"\n",
    "# plt.xlabel = \"Latitude\"\n",
    "# plt.ylabel =\"Humidity\"\n",
    "plt.savefig = \"../output_data/Latitude vs Humidity.png\"\n",
    "plt.show()"
   ]
  },
  {
   "cell_type": "markdown",
   "metadata": {},
   "source": [
    "## Latitude vs. Cloudiness Plot"
   ]
  },
  {
   "cell_type": "code",
   "execution_count": 72,
   "metadata": {},
   "outputs": [
    {
     "output_type": "display_data",
     "data": {
      "text/plain": "<Figure size 432x288 with 1 Axes>",
      "image/svg+xml": "<?xml version=\"1.0\" encoding=\"utf-8\" standalone=\"no\"?>\r\n<!DOCTYPE svg PUBLIC \"-//W3C//DTD SVG 1.1//EN\"\r\n  \"http://www.w3.org/Graphics/SVG/1.1/DTD/svg11.dtd\">\r\n<!-- Created with matplotlib (https://matplotlib.org/) -->\r\n<svg height=\"248.518125pt\" version=\"1.1\" viewBox=\"0 0 375.2875 248.518125\" width=\"375.2875pt\" xmlns=\"http://www.w3.org/2000/svg\" xmlns:xlink=\"http://www.w3.org/1999/xlink\">\r\n <defs>\r\n  <style type=\"text/css\">\r\n*{stroke-linecap:butt;stroke-linejoin:round;}\r\n  </style>\r\n </defs>\r\n <g id=\"figure_1\">\r\n  <g id=\"patch_1\">\r\n   <path d=\"M 0 248.518125 \r\nL 375.2875 248.518125 \r\nL 375.2875 0 \r\nL 0 0 \r\nz\r\n\" style=\"fill:none;\"/>\r\n  </g>\r\n  <g id=\"axes_1\">\r\n   <g id=\"patch_2\">\r\n    <path d=\"M 33.2875 224.64 \r\nL 368.0875 224.64 \r\nL 368.0875 7.2 \r\nL 33.2875 7.2 \r\nz\r\n\" style=\"fill:#ffffff;\"/>\r\n   </g>\r\n   <g id=\"PathCollection_1\">\r\n    <defs>\r\n     <path d=\"M 0 3 \r\nC 0.795609 3 1.55874 2.683901 2.12132 2.12132 \r\nC 2.683901 1.55874 3 0.795609 3 0 \r\nC 3 -0.795609 2.683901 -1.55874 2.12132 -2.12132 \r\nC 1.55874 -2.683901 0.795609 -3 0 -3 \r\nC -0.795609 -3 -1.55874 -2.683901 -2.12132 -2.12132 \r\nC -2.683901 -1.55874 -3 -0.795609 -3 0 \r\nC -3 0.795609 -2.683901 1.55874 -2.12132 2.12132 \r\nC -1.55874 2.683901 -0.795609 3 0 3 \r\nz\r\n\" id=\"m5badad26e8\" style=\"stroke:#000000;\"/>\r\n    </defs>\r\n    <g clip-path=\"url(#p4166d5edb2)\">\r\n     <use style=\"fill:#ff0000;stroke:#000000;\" x=\"263.700005\" xlink:href=\"#m5badad26e8\" y=\"32.897455\"/>\r\n     <use style=\"fill:#ff0000;stroke:#000000;\" x=\"209.000904\" xlink:href=\"#m5badad26e8\" y=\"17.083636\"/>\r\n     <use style=\"fill:#ff0000;stroke:#000000;\" x=\"350.913223\" xlink:href=\"#m5badad26e8\" y=\"17.083636\"/>\r\n     <use style=\"fill:#ff0000;stroke:#000000;\" x=\"349.291095\" xlink:href=\"#m5badad26e8\" y=\"36.850909\"/>\r\n     <use style=\"fill:#ff0000;stroke:#000000;\" x=\"279.658878\" xlink:href=\"#m5badad26e8\" y=\"212.779636\"/>\r\n     <use style=\"fill:#ff0000;stroke:#000000;\" x=\"124.077749\" xlink:href=\"#m5badad26e8\" y=\"171.268364\"/>\r\n     <use style=\"fill:#ff0000;stroke:#000000;\" x=\"130.280002\" xlink:href=\"#m5badad26e8\" y=\"135.687273\"/>\r\n     <use style=\"fill:#ff0000;stroke:#000000;\" x=\"96.8594\" xlink:href=\"#m5badad26e8\" y=\"214.756364\"/>\r\n     <use style=\"fill:#ff0000;stroke:#000000;\" x=\"155.852368\" xlink:href=\"#m5badad26e8\" y=\"159.408\"/>\r\n     <use style=\"fill:#ff0000;stroke:#000000;\" x=\"193.256724\" xlink:href=\"#m5badad26e8\" y=\"66.501818\"/>\r\n     <use style=\"fill:#ff0000;stroke:#000000;\" x=\"271.118853\" xlink:href=\"#m5badad26e8\" y=\"66.501818\"/>\r\n     <use style=\"fill:#ff0000;stroke:#000000;\" x=\"192.135547\" xlink:href=\"#m5badad26e8\" y=\"175.221818\"/>\r\n     <use style=\"fill:#ff0000;stroke:#000000;\" x=\"303.275149\" xlink:href=\"#m5badad26e8\" y=\"36.850909\"/>\r\n     <use style=\"fill:#ff0000;stroke:#000000;\" x=\"173.099402\" xlink:href=\"#m5badad26e8\" y=\"19.060364\"/>\r\n     <use style=\"fill:#ff0000;stroke:#000000;\" x=\"99.101753\" xlink:href=\"#m5badad26e8\" y=\"214.756364\"/>\r\n     <use style=\"fill:#ff0000;stroke:#000000;\" x=\"167.588939\" xlink:href=\"#m5badad26e8\" y=\"66.501818\"/>\r\n     <use style=\"fill:#ff0000;stroke:#000000;\" x=\"257.163784\" xlink:href=\"#m5badad26e8\" y=\"66.501818\"/>\r\n     <use style=\"fill:#ff0000;stroke:#000000;\" x=\"258.141832\" xlink:href=\"#m5badad26e8\" y=\"175.221818\"/>\r\n     <use style=\"fill:#ff0000;stroke:#000000;\" x=\"350.245288\" xlink:href=\"#m5badad26e8\" y=\"214.756364\"/>\r\n     <use style=\"fill:#ff0000;stroke:#000000;\" x=\"259.692395\" xlink:href=\"#m5badad26e8\" y=\"167.314909\"/>\r\n     <use style=\"fill:#ff0000;stroke:#000000;\" x=\"207.999002\" xlink:href=\"#m5badad26e8\" y=\"135.687273\"/>\r\n     <use style=\"fill:#ff0000;stroke:#000000;\" x=\"150.508888\" xlink:href=\"#m5badad26e8\" y=\"36.850909\"/>\r\n     <use style=\"fill:#ff0000;stroke:#000000;\" x=\"197.765285\" xlink:href=\"#m5badad26e8\" y=\"135.687273\"/>\r\n     <use style=\"fill:#ff0000;stroke:#000000;\" x=\"89.488261\" xlink:href=\"#m5badad26e8\" y=\"179.175273\"/>\r\n     <use style=\"fill:#ff0000;stroke:#000000;\" x=\"231.901531\" xlink:href=\"#m5badad26e8\" y=\"212.779636\"/>\r\n     <use style=\"fill:#ff0000;stroke:#000000;\" x=\"352.869318\" xlink:href=\"#m5badad26e8\" y=\"214.756364\"/>\r\n     <use style=\"fill:#ff0000;stroke:#000000;\" x=\"177.464834\" xlink:href=\"#m5badad26e8\" y=\"66.501818\"/>\r\n     <use style=\"fill:#ff0000;stroke:#000000;\" x=\"145.904908\" xlink:href=\"#m5badad26e8\" y=\"66.501818\"/>\r\n     <use style=\"fill:#ff0000;stroke:#000000;\" x=\"69.044681\" xlink:href=\"#m5badad26e8\" y=\"62.548364\"/>\r\n     <use style=\"fill:#ff0000;stroke:#000000;\" x=\"232.402482\" xlink:href=\"#m5badad26e8\" y=\"24.990545\"/>\r\n     <use style=\"fill:#ff0000;stroke:#000000;\" x=\"298.289492\" xlink:href=\"#m5badad26e8\" y=\"175.221818\"/>\r\n     <use style=\"fill:#ff0000;stroke:#000000;\" x=\"87.031215\" xlink:href=\"#m5badad26e8\" y=\"169.291636\"/>\r\n     <use style=\"fill:#ff0000;stroke:#000000;\" x=\"203.084909\" xlink:href=\"#m5badad26e8\" y=\"66.501818\"/>\r\n     <use style=\"fill:#ff0000;stroke:#000000;\" x=\"48.505682\" xlink:href=\"#m5badad26e8\" y=\"66.501818\"/>\r\n     <use style=\"fill:#ff0000;stroke:#000000;\" x=\"148.862906\" xlink:href=\"#m5badad26e8\" y=\"135.687273\"/>\r\n     <use style=\"fill:#ff0000;stroke:#000000;\" x=\"52.441727\" xlink:href=\"#m5badad26e8\" y=\"135.687273\"/>\r\n     <use style=\"fill:#ff0000;stroke:#000000;\" x=\"124.435571\" xlink:href=\"#m5badad26e8\" y=\"135.687273\"/>\r\n     <use style=\"fill:#ff0000;stroke:#000000;\" x=\"176.367512\" xlink:href=\"#m5badad26e8\" y=\"165.338182\"/>\r\n     <use style=\"fill:#ff0000;stroke:#000000;\" x=\"345.498179\" xlink:href=\"#m5badad26e8\" y=\"17.083636\"/>\r\n     <use style=\"fill:#ff0000;stroke:#000000;\" x=\"167.374245\" xlink:href=\"#m5badad26e8\" y=\"206.849455\"/>\r\n     <use style=\"fill:#ff0000;stroke:#000000;\" x=\"315.321833\" xlink:href=\"#m5badad26e8\" y=\"66.501818\"/>\r\n     <use style=\"fill:#ff0000;stroke:#000000;\" x=\"77.179174\" xlink:href=\"#m5badad26e8\" y=\"17.083636\"/>\r\n     <use style=\"fill:#ff0000;stroke:#000000;\" x=\"158.14243\" xlink:href=\"#m5badad26e8\" y=\"175.221818\"/>\r\n     <use style=\"fill:#ff0000;stroke:#000000;\" x=\"328.22729\" xlink:href=\"#m5badad26e8\" y=\"36.850909\"/>\r\n     <use style=\"fill:#ff0000;stroke:#000000;\" x=\"146.119601\" xlink:href=\"#m5badad26e8\" y=\"21.037091\"/>\r\n     <use style=\"fill:#ff0000;stroke:#000000;\" x=\"335.741558\" xlink:href=\"#m5badad26e8\" y=\"175.221818\"/>\r\n     <use style=\"fill:#ff0000;stroke:#000000;\" x=\"317.08709\" xlink:href=\"#m5badad26e8\" y=\"212.779636\"/>\r\n     <use style=\"fill:#ff0000;stroke:#000000;\" x=\"232.831869\" xlink:href=\"#m5badad26e8\" y=\"17.083636\"/>\r\n     <use style=\"fill:#ff0000;stroke:#000000;\" x=\"329.443886\" xlink:href=\"#m5badad26e8\" y=\"147.547636\"/>\r\n     <use style=\"fill:#ff0000;stroke:#000000;\" x=\"324.148116\" xlink:href=\"#m5badad26e8\" y=\"127.780364\"/>\r\n     <use style=\"fill:#ff0000;stroke:#000000;\" x=\"171.31029\" xlink:href=\"#m5badad26e8\" y=\"40.804364\"/>\r\n     <use style=\"fill:#ff0000;stroke:#000000;\" x=\"199.792944\" xlink:href=\"#m5badad26e8\" y=\"210.802909\"/>\r\n     <use style=\"fill:#ff0000;stroke:#000000;\" x=\"307.09192\" xlink:href=\"#m5badad26e8\" y=\"60.571636\"/>\r\n     <use style=\"fill:#ff0000;stroke:#000000;\" x=\"280.851619\" xlink:href=\"#m5badad26e8\" y=\"214.756364\"/>\r\n     <use style=\"fill:#ff0000;stroke:#000000;\" x=\"87.937698\" xlink:href=\"#m5badad26e8\" y=\"42.781091\"/>\r\n     <use style=\"fill:#ff0000;stroke:#000000;\" x=\"254.611318\" xlink:href=\"#m5badad26e8\" y=\"212.779636\"/>\r\n     <use style=\"fill:#ff0000;stroke:#000000;\" x=\"128.657874\" xlink:href=\"#m5badad26e8\" y=\"135.687273\"/>\r\n     <use style=\"fill:#ff0000;stroke:#000000;\" x=\"88.98731\" xlink:href=\"#m5badad26e8\" y=\"42.781091\"/>\r\n     <use style=\"fill:#ff0000;stroke:#000000;\" x=\"289.988015\" xlink:href=\"#m5badad26e8\" y=\"202.896\"/>\r\n     <use style=\"fill:#ff0000;stroke:#000000;\" x=\"344.734825\" xlink:href=\"#m5badad26e8\" y=\"26.967273\"/>\r\n     <use style=\"fill:#ff0000;stroke:#000000;\" x=\"98.123705\" xlink:href=\"#m5badad26e8\" y=\"214.756364\"/>\r\n    </g>\r\n   </g>\r\n   <g id=\"matplotlib.axis_1\">\r\n    <g id=\"xtick_1\">\r\n     <g id=\"line2d_1\">\r\n      <defs>\r\n       <path d=\"M 0 0 \r\nL 0 3.5 \r\n\" id=\"m39196d09b1\" style=\"stroke:#000000;stroke-width:0.8;\"/>\r\n      </defs>\r\n      <g>\r\n       <use style=\"stroke:#000000;stroke-width:0.8;\" x=\"36.101176\" xlink:href=\"#m39196d09b1\" y=\"224.64\"/>\r\n      </g>\r\n     </g>\r\n     <g id=\"text_1\">\r\n      <!-- −60 -->\r\n      <defs>\r\n       <path d=\"M 10.59375 35.5 \r\nL 73.1875 35.5 \r\nL 73.1875 27.203125 \r\nL 10.59375 27.203125 \r\nz\r\n\" id=\"DejaVuSans-8722\"/>\r\n       <path d=\"M 33.015625 40.375 \r\nQ 26.375 40.375 22.484375 35.828125 \r\nQ 18.609375 31.296875 18.609375 23.390625 \r\nQ 18.609375 15.53125 22.484375 10.953125 \r\nQ 26.375 6.390625 33.015625 6.390625 \r\nQ 39.65625 6.390625 43.53125 10.953125 \r\nQ 47.40625 15.53125 47.40625 23.390625 \r\nQ 47.40625 31.296875 43.53125 35.828125 \r\nQ 39.65625 40.375 33.015625 40.375 \r\nz\r\nM 52.59375 71.296875 \r\nL 52.59375 62.3125 \r\nQ 48.875 64.0625 45.09375 64.984375 \r\nQ 41.3125 65.921875 37.59375 65.921875 \r\nQ 27.828125 65.921875 22.671875 59.328125 \r\nQ 17.53125 52.734375 16.796875 39.40625 \r\nQ 19.671875 43.65625 24.015625 45.921875 \r\nQ 28.375 48.1875 33.59375 48.1875 \r\nQ 44.578125 48.1875 50.953125 41.515625 \r\nQ 57.328125 34.859375 57.328125 23.390625 \r\nQ 57.328125 12.15625 50.6875 5.359375 \r\nQ 44.046875 -1.421875 33.015625 -1.421875 \r\nQ 20.359375 -1.421875 13.671875 8.265625 \r\nQ 6.984375 17.96875 6.984375 36.375 \r\nQ 6.984375 53.65625 15.1875 63.9375 \r\nQ 23.390625 74.21875 37.203125 74.21875 \r\nQ 40.921875 74.21875 44.703125 73.484375 \r\nQ 48.484375 72.75 52.59375 71.296875 \r\nz\r\n\" id=\"DejaVuSans-54\"/>\r\n       <path d=\"M 31.78125 66.40625 \r\nQ 24.171875 66.40625 20.328125 58.90625 \r\nQ 16.5 51.421875 16.5 36.375 \r\nQ 16.5 21.390625 20.328125 13.890625 \r\nQ 24.171875 6.390625 31.78125 6.390625 \r\nQ 39.453125 6.390625 43.28125 13.890625 \r\nQ 47.125 21.390625 47.125 36.375 \r\nQ 47.125 51.421875 43.28125 58.90625 \r\nQ 39.453125 66.40625 31.78125 66.40625 \r\nz\r\nM 31.78125 74.21875 \r\nQ 44.046875 74.21875 50.515625 64.515625 \r\nQ 56.984375 54.828125 56.984375 36.375 \r\nQ 56.984375 17.96875 50.515625 8.265625 \r\nQ 44.046875 -1.421875 31.78125 -1.421875 \r\nQ 19.53125 -1.421875 13.0625 8.265625 \r\nQ 6.59375 17.96875 6.59375 36.375 \r\nQ 6.59375 54.828125 13.0625 64.515625 \r\nQ 19.53125 74.21875 31.78125 74.21875 \r\nz\r\n\" id=\"DejaVuSans-48\"/>\r\n      </defs>\r\n      <g transform=\"translate(25.548832 239.238437)scale(0.1 -0.1)\">\r\n       <use xlink:href=\"#DejaVuSans-8722\"/>\r\n       <use x=\"83.789062\" xlink:href=\"#DejaVuSans-54\"/>\r\n       <use x=\"147.412109\" xlink:href=\"#DejaVuSans-48\"/>\r\n      </g>\r\n     </g>\r\n    </g>\r\n    <g id=\"xtick_2\">\r\n     <g id=\"line2d_2\">\r\n      <g>\r\n       <use style=\"stroke:#000000;stroke-width:0.8;\" x=\"83.810814\" xlink:href=\"#m39196d09b1\" y=\"224.64\"/>\r\n      </g>\r\n     </g>\r\n     <g id=\"text_2\">\r\n      <!-- −40 -->\r\n      <defs>\r\n       <path d=\"M 37.796875 64.3125 \r\nL 12.890625 25.390625 \r\nL 37.796875 25.390625 \r\nz\r\nM 35.203125 72.90625 \r\nL 47.609375 72.90625 \r\nL 47.609375 25.390625 \r\nL 58.015625 25.390625 \r\nL 58.015625 17.1875 \r\nL 47.609375 17.1875 \r\nL 47.609375 0 \r\nL 37.796875 0 \r\nL 37.796875 17.1875 \r\nL 4.890625 17.1875 \r\nL 4.890625 26.703125 \r\nz\r\n\" id=\"DejaVuSans-52\"/>\r\n      </defs>\r\n      <g transform=\"translate(73.25847 239.238437)scale(0.1 -0.1)\">\r\n       <use xlink:href=\"#DejaVuSans-8722\"/>\r\n       <use x=\"83.789062\" xlink:href=\"#DejaVuSans-52\"/>\r\n       <use x=\"147.412109\" xlink:href=\"#DejaVuSans-48\"/>\r\n      </g>\r\n     </g>\r\n    </g>\r\n    <g id=\"xtick_3\">\r\n     <g id=\"line2d_3\">\r\n      <g>\r\n       <use style=\"stroke:#000000;stroke-width:0.8;\" x=\"131.520452\" xlink:href=\"#m39196d09b1\" y=\"224.64\"/>\r\n      </g>\r\n     </g>\r\n     <g id=\"text_3\">\r\n      <!-- −20 -->\r\n      <defs>\r\n       <path d=\"M 19.1875 8.296875 \r\nL 53.609375 8.296875 \r\nL 53.609375 0 \r\nL 7.328125 0 \r\nL 7.328125 8.296875 \r\nQ 12.9375 14.109375 22.625 23.890625 \r\nQ 32.328125 33.6875 34.8125 36.53125 \r\nQ 39.546875 41.84375 41.421875 45.53125 \r\nQ 43.3125 49.21875 43.3125 52.78125 \r\nQ 43.3125 58.59375 39.234375 62.25 \r\nQ 35.15625 65.921875 28.609375 65.921875 \r\nQ 23.96875 65.921875 18.8125 64.3125 \r\nQ 13.671875 62.703125 7.8125 59.421875 \r\nL 7.8125 69.390625 \r\nQ 13.765625 71.78125 18.9375 73 \r\nQ 24.125 74.21875 28.421875 74.21875 \r\nQ 39.75 74.21875 46.484375 68.546875 \r\nQ 53.21875 62.890625 53.21875 53.421875 \r\nQ 53.21875 48.921875 51.53125 44.890625 \r\nQ 49.859375 40.875 45.40625 35.40625 \r\nQ 44.1875 33.984375 37.640625 27.21875 \r\nQ 31.109375 20.453125 19.1875 8.296875 \r\nz\r\n\" id=\"DejaVuSans-50\"/>\r\n      </defs>\r\n      <g transform=\"translate(120.968108 239.238437)scale(0.1 -0.1)\">\r\n       <use xlink:href=\"#DejaVuSans-8722\"/>\r\n       <use x=\"83.789062\" xlink:href=\"#DejaVuSans-50\"/>\r\n       <use x=\"147.412109\" xlink:href=\"#DejaVuSans-48\"/>\r\n      </g>\r\n     </g>\r\n    </g>\r\n    <g id=\"xtick_4\">\r\n     <g id=\"line2d_4\">\r\n      <g>\r\n       <use style=\"stroke:#000000;stroke-width:0.8;\" x=\"179.23009\" xlink:href=\"#m39196d09b1\" y=\"224.64\"/>\r\n      </g>\r\n     </g>\r\n     <g id=\"text_4\">\r\n      <!-- 0 -->\r\n      <g transform=\"translate(176.04884 239.238437)scale(0.1 -0.1)\">\r\n       <use xlink:href=\"#DejaVuSans-48\"/>\r\n      </g>\r\n     </g>\r\n    </g>\r\n    <g id=\"xtick_5\">\r\n     <g id=\"line2d_5\">\r\n      <g>\r\n       <use style=\"stroke:#000000;stroke-width:0.8;\" x=\"226.939728\" xlink:href=\"#m39196d09b1\" y=\"224.64\"/>\r\n      </g>\r\n     </g>\r\n     <g id=\"text_5\">\r\n      <!-- 20 -->\r\n      <g transform=\"translate(220.577228 239.238437)scale(0.1 -0.1)\">\r\n       <use xlink:href=\"#DejaVuSans-50\"/>\r\n       <use x=\"63.623047\" xlink:href=\"#DejaVuSans-48\"/>\r\n      </g>\r\n     </g>\r\n    </g>\r\n    <g id=\"xtick_6\">\r\n     <g id=\"line2d_6\">\r\n      <g>\r\n       <use style=\"stroke:#000000;stroke-width:0.8;\" x=\"274.649366\" xlink:href=\"#m39196d09b1\" y=\"224.64\"/>\r\n      </g>\r\n     </g>\r\n     <g id=\"text_6\">\r\n      <!-- 40 -->\r\n      <g transform=\"translate(268.286866 239.238437)scale(0.1 -0.1)\">\r\n       <use xlink:href=\"#DejaVuSans-52\"/>\r\n       <use x=\"63.623047\" xlink:href=\"#DejaVuSans-48\"/>\r\n      </g>\r\n     </g>\r\n    </g>\r\n    <g id=\"xtick_7\">\r\n     <g id=\"line2d_7\">\r\n      <g>\r\n       <use style=\"stroke:#000000;stroke-width:0.8;\" x=\"322.359005\" xlink:href=\"#m39196d09b1\" y=\"224.64\"/>\r\n      </g>\r\n     </g>\r\n     <g id=\"text_7\">\r\n      <!-- 60 -->\r\n      <g transform=\"translate(315.996505 239.238437)scale(0.1 -0.1)\">\r\n       <use xlink:href=\"#DejaVuSans-54\"/>\r\n       <use x=\"63.623047\" xlink:href=\"#DejaVuSans-48\"/>\r\n      </g>\r\n     </g>\r\n    </g>\r\n   </g>\r\n   <g id=\"matplotlib.axis_2\">\r\n    <g id=\"ytick_1\">\r\n     <g id=\"line2d_8\">\r\n      <defs>\r\n       <path d=\"M 0 0 \r\nL -3.5 0 \r\n\" id=\"m5cef331e0d\" style=\"stroke:#000000;stroke-width:0.8;\"/>\r\n      </defs>\r\n      <g>\r\n       <use style=\"stroke:#000000;stroke-width:0.8;\" x=\"33.2875\" xlink:href=\"#m5cef331e0d\" y=\"214.756364\"/>\r\n      </g>\r\n     </g>\r\n     <g id=\"text_8\">\r\n      <!-- 0 -->\r\n      <g transform=\"translate(19.925 218.555582)scale(0.1 -0.1)\">\r\n       <use xlink:href=\"#DejaVuSans-48\"/>\r\n      </g>\r\n     </g>\r\n    </g>\r\n    <g id=\"ytick_2\">\r\n     <g id=\"line2d_9\">\r\n      <g>\r\n       <use style=\"stroke:#000000;stroke-width:0.8;\" x=\"33.2875\" xlink:href=\"#m5cef331e0d\" y=\"175.221818\"/>\r\n      </g>\r\n     </g>\r\n     <g id=\"text_9\">\r\n      <!-- 20 -->\r\n      <g transform=\"translate(13.5625 179.021037)scale(0.1 -0.1)\">\r\n       <use xlink:href=\"#DejaVuSans-50\"/>\r\n       <use x=\"63.623047\" xlink:href=\"#DejaVuSans-48\"/>\r\n      </g>\r\n     </g>\r\n    </g>\r\n    <g id=\"ytick_3\">\r\n     <g id=\"line2d_10\">\r\n      <g>\r\n       <use style=\"stroke:#000000;stroke-width:0.8;\" x=\"33.2875\" xlink:href=\"#m5cef331e0d\" y=\"135.687273\"/>\r\n      </g>\r\n     </g>\r\n     <g id=\"text_10\">\r\n      <!-- 40 -->\r\n      <g transform=\"translate(13.5625 139.486491)scale(0.1 -0.1)\">\r\n       <use xlink:href=\"#DejaVuSans-52\"/>\r\n       <use x=\"63.623047\" xlink:href=\"#DejaVuSans-48\"/>\r\n      </g>\r\n     </g>\r\n    </g>\r\n    <g id=\"ytick_4\">\r\n     <g id=\"line2d_11\">\r\n      <g>\r\n       <use style=\"stroke:#000000;stroke-width:0.8;\" x=\"33.2875\" xlink:href=\"#m5cef331e0d\" y=\"96.152727\"/>\r\n      </g>\r\n     </g>\r\n     <g id=\"text_11\">\r\n      <!-- 60 -->\r\n      <g transform=\"translate(13.5625 99.951946)scale(0.1 -0.1)\">\r\n       <use xlink:href=\"#DejaVuSans-54\"/>\r\n       <use x=\"63.623047\" xlink:href=\"#DejaVuSans-48\"/>\r\n      </g>\r\n     </g>\r\n    </g>\r\n    <g id=\"ytick_5\">\r\n     <g id=\"line2d_12\">\r\n      <g>\r\n       <use style=\"stroke:#000000;stroke-width:0.8;\" x=\"33.2875\" xlink:href=\"#m5cef331e0d\" y=\"56.618182\"/>\r\n      </g>\r\n     </g>\r\n     <g id=\"text_12\">\r\n      <!-- 80 -->\r\n      <defs>\r\n       <path d=\"M 31.78125 34.625 \r\nQ 24.75 34.625 20.71875 30.859375 \r\nQ 16.703125 27.09375 16.703125 20.515625 \r\nQ 16.703125 13.921875 20.71875 10.15625 \r\nQ 24.75 6.390625 31.78125 6.390625 \r\nQ 38.8125 6.390625 42.859375 10.171875 \r\nQ 46.921875 13.96875 46.921875 20.515625 \r\nQ 46.921875 27.09375 42.890625 30.859375 \r\nQ 38.875 34.625 31.78125 34.625 \r\nz\r\nM 21.921875 38.8125 \r\nQ 15.578125 40.375 12.03125 44.71875 \r\nQ 8.5 49.078125 8.5 55.328125 \r\nQ 8.5 64.0625 14.71875 69.140625 \r\nQ 20.953125 74.21875 31.78125 74.21875 \r\nQ 42.671875 74.21875 48.875 69.140625 \r\nQ 55.078125 64.0625 55.078125 55.328125 \r\nQ 55.078125 49.078125 51.53125 44.71875 \r\nQ 48 40.375 41.703125 38.8125 \r\nQ 48.828125 37.15625 52.796875 32.3125 \r\nQ 56.78125 27.484375 56.78125 20.515625 \r\nQ 56.78125 9.90625 50.3125 4.234375 \r\nQ 43.84375 -1.421875 31.78125 -1.421875 \r\nQ 19.734375 -1.421875 13.25 4.234375 \r\nQ 6.78125 9.90625 6.78125 20.515625 \r\nQ 6.78125 27.484375 10.78125 32.3125 \r\nQ 14.796875 37.15625 21.921875 38.8125 \r\nz\r\nM 18.3125 54.390625 \r\nQ 18.3125 48.734375 21.84375 45.5625 \r\nQ 25.390625 42.390625 31.78125 42.390625 \r\nQ 38.140625 42.390625 41.71875 45.5625 \r\nQ 45.3125 48.734375 45.3125 54.390625 \r\nQ 45.3125 60.0625 41.71875 63.234375 \r\nQ 38.140625 66.40625 31.78125 66.40625 \r\nQ 25.390625 66.40625 21.84375 63.234375 \r\nQ 18.3125 60.0625 18.3125 54.390625 \r\nz\r\n\" id=\"DejaVuSans-56\"/>\r\n      </defs>\r\n      <g transform=\"translate(13.5625 60.417401)scale(0.1 -0.1)\">\r\n       <use xlink:href=\"#DejaVuSans-56\"/>\r\n       <use x=\"63.623047\" xlink:href=\"#DejaVuSans-48\"/>\r\n      </g>\r\n     </g>\r\n    </g>\r\n    <g id=\"ytick_6\">\r\n     <g id=\"line2d_13\">\r\n      <g>\r\n       <use style=\"stroke:#000000;stroke-width:0.8;\" x=\"33.2875\" xlink:href=\"#m5cef331e0d\" y=\"17.083636\"/>\r\n      </g>\r\n     </g>\r\n     <g id=\"text_13\">\r\n      <!-- 100 -->\r\n      <defs>\r\n       <path d=\"M 12.40625 8.296875 \r\nL 28.515625 8.296875 \r\nL 28.515625 63.921875 \r\nL 10.984375 60.40625 \r\nL 10.984375 69.390625 \r\nL 28.421875 72.90625 \r\nL 38.28125 72.90625 \r\nL 38.28125 8.296875 \r\nL 54.390625 8.296875 \r\nL 54.390625 0 \r\nL 12.40625 0 \r\nz\r\n\" id=\"DejaVuSans-49\"/>\r\n      </defs>\r\n      <g transform=\"translate(7.2 20.882855)scale(0.1 -0.1)\">\r\n       <use xlink:href=\"#DejaVuSans-49\"/>\r\n       <use x=\"63.623047\" xlink:href=\"#DejaVuSans-48\"/>\r\n       <use x=\"127.246094\" xlink:href=\"#DejaVuSans-48\"/>\r\n      </g>\r\n     </g>\r\n    </g>\r\n   </g>\r\n   <g id=\"patch_3\">\r\n    <path d=\"M 33.2875 224.64 \r\nL 33.2875 7.2 \r\n\" style=\"fill:none;stroke:#000000;stroke-linecap:square;stroke-linejoin:miter;stroke-width:0.8;\"/>\r\n   </g>\r\n   <g id=\"patch_4\">\r\n    <path d=\"M 368.0875 224.64 \r\nL 368.0875 7.2 \r\n\" style=\"fill:none;stroke:#000000;stroke-linecap:square;stroke-linejoin:miter;stroke-width:0.8;\"/>\r\n   </g>\r\n   <g id=\"patch_5\">\r\n    <path d=\"M 33.2875 224.64 \r\nL 368.0875 224.64 \r\n\" style=\"fill:none;stroke:#000000;stroke-linecap:square;stroke-linejoin:miter;stroke-width:0.8;\"/>\r\n   </g>\r\n   <g id=\"patch_6\">\r\n    <path d=\"M 33.2875 7.2 \r\nL 368.0875 7.2 \r\n\" style=\"fill:none;stroke:#000000;stroke-linecap:square;stroke-linejoin:miter;stroke-width:0.8;\"/>\r\n   </g>\r\n  </g>\r\n </g>\r\n <defs>\r\n  <clipPath id=\"p4166d5edb2\">\r\n   <rect height=\"217.44\" width=\"334.8\" x=\"33.2875\" y=\"7.2\"/>\r\n  </clipPath>\r\n </defs>\r\n</svg>\r\n",
      "image/png": "[encoded data removed]"
     },
     "metadata": {
      "needs_background": "light"
     }
    }
   ],
   "source": [
    "plt.scatter(clean_city_data[\"Lat\"], clean_city_data[\"Cloudiness\"], marker = \"o\", facecolors = \"red\", edgecolors = \"black\")\n",
    "plt.title = \"Latitude vs Cloudiness\"\n",
    "plt.savefig = \"../output_data/Latitude vs Cloudiness.png\"\n",
    "plt.show() "
   ]
  },
  {
   "cell_type": "markdown",
   "metadata": {},
   "source": [
    "## Latitude vs. Wind Speed Plot"
   ]
  },
  {
   "cell_type": "code",
   "execution_count": 73,
   "metadata": {},
   "outputs": [
    {
     "output_type": "display_data",
     "data": {
      "text/plain": "<Figure size 432x288 with 1 Axes>",
      "image/svg+xml": "<?xml version=\"1.0\" encoding=\"utf-8\" standalone=\"no\"?>\r\n<!DOCTYPE svg PUBLIC \"-//W3C//DTD SVG 1.1//EN\"\r\n  \"http://www.w3.org/Graphics/SVG/1.1/DTD/svg11.dtd\">\r\n<!-- Created with matplotlib (https://matplotlib.org/) -->\r\n<svg height=\"248.518125pt\" version=\"1.1\" viewBox=\"0 0 368.925 248.518125\" width=\"368.925pt\" xmlns=\"http://www.w3.org/2000/svg\" xmlns:xlink=\"http://www.w3.org/1999/xlink\">\r\n <defs>\r\n  <style type=\"text/css\">\r\n*{stroke-linecap:butt;stroke-linejoin:round;}\r\n  </style>\r\n </defs>\r\n <g id=\"figure_1\">\r\n  <g id=\"patch_1\">\r\n   <path d=\"M -0 248.518125 \r\nL 368.925 248.518125 \r\nL 368.925 0 \r\nL -0 0 \r\nz\r\n\" style=\"fill:none;\"/>\r\n  </g>\r\n  <g id=\"axes_1\">\r\n   <g id=\"patch_2\">\r\n    <path d=\"M 26.925 224.64 \r\nL 361.725 224.64 \r\nL 361.725 7.2 \r\nL 26.925 7.2 \r\nz\r\n\" style=\"fill:#ffffff;\"/>\r\n   </g>\r\n   <g id=\"PathCollection_1\">\r\n    <defs>\r\n     <path d=\"M 0 3 \r\nC 0.795609 3 1.55874 2.683901 2.12132 2.12132 \r\nC 2.683901 1.55874 3 0.795609 3 0 \r\nC 3 -0.795609 2.683901 -1.55874 2.12132 -2.12132 \r\nC 1.55874 -2.683901 0.795609 -3 0 -3 \r\nC -0.795609 -3 -1.55874 -2.683901 -2.12132 -2.12132 \r\nC -2.683901 -1.55874 -3 -0.795609 -3 0 \r\nC -3 0.795609 -2.683901 1.55874 -2.12132 2.12132 \r\nC -1.55874 2.683901 -0.795609 3 0 3 \r\nz\r\n\" id=\"m9c1386268c\" style=\"stroke:#000000;\"/>\r\n    </defs>\r\n    <g clip-path=\"url(#p2e72754ba2)\">\r\n     <use style=\"fill:#ff0000;stroke:#000000;\" x=\"257.337505\" xlink:href=\"#m9c1386268c\" y=\"214.756364\"/>\r\n     <use style=\"fill:#ff0000;stroke:#000000;\" x=\"202.638404\" xlink:href=\"#m9c1386268c\" y=\"185.193345\"/>\r\n     <use style=\"fill:#ff0000;stroke:#000000;\" x=\"344.550723\" xlink:href=\"#m9c1386268c\" y=\"154.351925\"/>\r\n     <use style=\"fill:#ff0000;stroke:#000000;\" x=\"342.928595\" xlink:href=\"#m9c1386268c\" y=\"108.169695\"/>\r\n     <use style=\"fill:#ff0000;stroke:#000000;\" x=\"273.296378\" xlink:href=\"#m9c1386268c\" y=\"157.707727\"/>\r\n     <use style=\"fill:#ff0000;stroke:#000000;\" x=\"117.715249\" xlink:href=\"#m9c1386268c\" y=\"94.906286\"/>\r\n     <use style=\"fill:#ff0000;stroke:#000000;\" x=\"123.917502\" xlink:href=\"#m9c1386268c\" y=\"173.687737\"/>\r\n     <use style=\"fill:#ff0000;stroke:#000000;\" x=\"90.4969\" xlink:href=\"#m9c1386268c\" y=\"124.149705\"/>\r\n     <use style=\"fill:#ff0000;stroke:#000000;\" x=\"149.489868\" xlink:href=\"#m9c1386268c\" y=\"65.343267\"/>\r\n     <use style=\"fill:#ff0000;stroke:#000000;\" x=\"186.894224\" xlink:href=\"#m9c1386268c\" y=\"141.727717\"/>\r\n     <use style=\"fill:#ff0000;stroke:#000000;\" x=\"264.756353\" xlink:href=\"#m9c1386268c\" y=\"116.1597\"/>\r\n     <use style=\"fill:#ff0000;stroke:#000000;\" x=\"185.773047\" xlink:href=\"#m9c1386268c\" y=\"206.766358\"/>\r\n     <use style=\"fill:#ff0000;stroke:#000000;\" x=\"296.912649\" xlink:href=\"#m9c1386268c\" y=\"185.672745\"/>\r\n     <use style=\"fill:#ff0000;stroke:#000000;\" x=\"166.736902\" xlink:href=\"#m9c1386268c\" y=\"199.894954\"/>\r\n     <use style=\"fill:#ff0000;stroke:#000000;\" x=\"92.739253\" xlink:href=\"#m9c1386268c\" y=\"118.876302\"/>\r\n     <use style=\"fill:#ff0000;stroke:#000000;\" x=\"161.226439\" xlink:href=\"#m9c1386268c\" y=\"211.080961\"/>\r\n     <use style=\"fill:#ff0000;stroke:#000000;\" x=\"250.801284\" xlink:href=\"#m9c1386268c\" y=\"141.727717\"/>\r\n     <use style=\"fill:#ff0000;stroke:#000000;\" x=\"251.779332\" xlink:href=\"#m9c1386268c\" y=\"165.697732\"/>\r\n     <use style=\"fill:#ff0000;stroke:#000000;\" x=\"343.882788\" xlink:href=\"#m9c1386268c\" y=\"205.487958\"/>\r\n     <use style=\"fill:#ff0000;stroke:#000000;\" x=\"253.329895\" xlink:href=\"#m9c1386268c\" y=\"182.316943\"/>\r\n     <use style=\"fill:#ff0000;stroke:#000000;\" x=\"201.636502\" xlink:href=\"#m9c1386268c\" y=\"141.727717\"/>\r\n     <use style=\"fill:#ff0000;stroke:#000000;\" x=\"144.146388\" xlink:href=\"#m9c1386268c\" y=\"173.687737\"/>\r\n     <use style=\"fill:#ff0000;stroke:#000000;\" x=\"191.402785\" xlink:href=\"#m9c1386268c\" y=\"165.697732\"/>\r\n     <use style=\"fill:#ff0000;stroke:#000000;\" x=\"83.125761\" xlink:href=\"#m9c1386268c\" y=\"86.596681\"/>\r\n     <use style=\"fill:#ff0000;stroke:#000000;\" x=\"225.539031\" xlink:href=\"#m9c1386268c\" y=\"173.687737\"/>\r\n     <use style=\"fill:#ff0000;stroke:#000000;\" x=\"346.506818\" xlink:href=\"#m9c1386268c\" y=\"209.16336\"/>\r\n     <use style=\"fill:#ff0000;stroke:#000000;\" x=\"171.102334\" xlink:href=\"#m9c1386268c\" y=\"165.697732\"/>\r\n     <use style=\"fill:#ff0000;stroke:#000000;\" x=\"139.542408\" xlink:href=\"#m9c1386268c\" y=\"142.047317\"/>\r\n     <use style=\"fill:#ff0000;stroke:#000000;\" x=\"62.682181\" xlink:href=\"#m9c1386268c\" y=\"209.00356\"/>\r\n     <use style=\"fill:#ff0000;stroke:#000000;\" x=\"226.039982\" xlink:href=\"#m9c1386268c\" y=\"209.00356\"/>\r\n     <use style=\"fill:#ff0000;stroke:#000000;\" x=\"291.926992\" xlink:href=\"#m9c1386268c\" y=\"111.365697\"/>\r\n     <use style=\"fill:#ff0000;stroke:#000000;\" x=\"80.668715\" xlink:href=\"#m9c1386268c\" y=\"141.727717\"/>\r\n     <use style=\"fill:#ff0000;stroke:#000000;\" x=\"196.722409\" xlink:href=\"#m9c1386268c\" y=\"165.697732\"/>\r\n     <use style=\"fill:#ff0000;stroke:#000000;\" x=\"42.143182\" xlink:href=\"#m9c1386268c\" y=\"17.083636\"/>\r\n     <use style=\"fill:#ff0000;stroke:#000000;\" x=\"142.500406\" xlink:href=\"#m9c1386268c\" y=\"157.707727\"/>\r\n     <use style=\"fill:#ff0000;stroke:#000000;\" x=\"46.079227\" xlink:href=\"#m9c1386268c\" y=\"84.19968\"/>\r\n     <use style=\"fill:#ff0000;stroke:#000000;\" x=\"118.073071\" xlink:href=\"#m9c1386268c\" y=\"157.707727\"/>\r\n     <use style=\"fill:#ff0000;stroke:#000000;\" x=\"170.005012\" xlink:href=\"#m9c1386268c\" y=\"135.815113\"/>\r\n     <use style=\"fill:#ff0000;stroke:#000000;\" x=\"339.135679\" xlink:href=\"#m9c1386268c\" y=\"110.087296\"/>\r\n     <use style=\"fill:#ff0000;stroke:#000000;\" x=\"161.011745\" xlink:href=\"#m9c1386268c\" y=\"148.918721\"/>\r\n     <use style=\"fill:#ff0000;stroke:#000000;\" x=\"308.959333\" xlink:href=\"#m9c1386268c\" y=\"189.667747\"/>\r\n     <use style=\"fill:#ff0000;stroke:#000000;\" x=\"70.816674\" xlink:href=\"#m9c1386268c\" y=\"206.766358\"/>\r\n     <use style=\"fill:#ff0000;stroke:#000000;\" x=\"151.77993\" xlink:href=\"#m9c1386268c\" y=\"124.149705\"/>\r\n     <use style=\"fill:#ff0000;stroke:#000000;\" x=\"321.86479\" xlink:href=\"#m9c1386268c\" y=\"50.641658\"/>\r\n     <use style=\"fill:#ff0000;stroke:#000000;\" x=\"139.757101\" xlink:href=\"#m9c1386268c\" y=\"135.335713\"/>\r\n     <use style=\"fill:#ff0000;stroke:#000000;\" x=\"329.379058\" xlink:href=\"#m9c1386268c\" y=\"132.13971\"/>\r\n     <use style=\"fill:#ff0000;stroke:#000000;\" x=\"310.72459\" xlink:href=\"#m9c1386268c\" y=\"165.697732\"/>\r\n     <use style=\"fill:#ff0000;stroke:#000000;\" x=\"226.469369\" xlink:href=\"#m9c1386268c\" y=\"194.30195\"/>\r\n     <use style=\"fill:#ff0000;stroke:#000000;\" x=\"323.081386\" xlink:href=\"#m9c1386268c\" y=\"207.405559\"/>\r\n     <use style=\"fill:#ff0000;stroke:#000000;\" x=\"317.785616\" xlink:href=\"#m9c1386268c\" y=\"214.756364\"/>\r\n     <use style=\"fill:#ff0000;stroke:#000000;\" x=\"164.94779\" xlink:href=\"#m9c1386268c\" y=\"212.678962\"/>\r\n     <use style=\"fill:#ff0000;stroke:#000000;\" x=\"193.430444\" xlink:href=\"#m9c1386268c\" y=\"188.069746\"/>\r\n     <use style=\"fill:#ff0000;stroke:#000000;\" x=\"300.72942\" xlink:href=\"#m9c1386268c\" y=\"175.285738\"/>\r\n     <use style=\"fill:#ff0000;stroke:#000000;\" x=\"274.489119\" xlink:href=\"#m9c1386268c\" y=\"175.125938\"/>\r\n     <use style=\"fill:#ff0000;stroke:#000000;\" x=\"81.575198\" xlink:href=\"#m9c1386268c\" y=\"106.891294\"/>\r\n     <use style=\"fill:#ff0000;stroke:#000000;\" x=\"248.248818\" xlink:href=\"#m9c1386268c\" y=\"157.707727\"/>\r\n     <use style=\"fill:#ff0000;stroke:#000000;\" x=\"122.295374\" xlink:href=\"#m9c1386268c\" y=\"165.697732\"/>\r\n     <use style=\"fill:#ff0000;stroke:#000000;\" x=\"82.62481\" xlink:href=\"#m9c1386268c\" y=\"149.717722\"/>\r\n     <use style=\"fill:#ff0000;stroke:#000000;\" x=\"283.625515\" xlink:href=\"#m9c1386268c\" y=\"201.972355\"/>\r\n     <use style=\"fill:#ff0000;stroke:#000000;\" x=\"338.372325\" xlink:href=\"#m9c1386268c\" y=\"165.857532\"/>\r\n     <use style=\"fill:#ff0000;stroke:#000000;\" x=\"91.761205\" xlink:href=\"#m9c1386268c\" y=\"187.430546\"/>\r\n    </g>\r\n   </g>\r\n   <g id=\"matplotlib.axis_1\">\r\n    <g id=\"xtick_1\">\r\n     <g id=\"line2d_1\">\r\n      <defs>\r\n       <path d=\"M 0 0 \r\nL 0 3.5 \r\n\" id=\"m52e444a310\" style=\"stroke:#000000;stroke-width:0.8;\"/>\r\n      </defs>\r\n      <g>\r\n       <use style=\"stroke:#000000;stroke-width:0.8;\" x=\"29.738676\" xlink:href=\"#m52e444a310\" y=\"224.64\"/>\r\n      </g>\r\n     </g>\r\n     <g id=\"text_1\">\r\n      <!-- −60 -->\r\n      <defs>\r\n       <path d=\"M 10.59375 35.5 \r\nL 73.1875 35.5 \r\nL 73.1875 27.203125 \r\nL 10.59375 27.203125 \r\nz\r\n\" id=\"DejaVuSans-8722\"/>\r\n       <path d=\"M 33.015625 40.375 \r\nQ 26.375 40.375 22.484375 35.828125 \r\nQ 18.609375 31.296875 18.609375 23.390625 \r\nQ 18.609375 15.53125 22.484375 10.953125 \r\nQ 26.375 6.390625 33.015625 6.390625 \r\nQ 39.65625 6.390625 43.53125 10.953125 \r\nQ 47.40625 15.53125 47.40625 23.390625 \r\nQ 47.40625 31.296875 43.53125 35.828125 \r\nQ 39.65625 40.375 33.015625 40.375 \r\nz\r\nM 52.59375 71.296875 \r\nL 52.59375 62.3125 \r\nQ 48.875 64.0625 45.09375 64.984375 \r\nQ 41.3125 65.921875 37.59375 65.921875 \r\nQ 27.828125 65.921875 22.671875 59.328125 \r\nQ 17.53125 52.734375 16.796875 39.40625 \r\nQ 19.671875 43.65625 24.015625 45.921875 \r\nQ 28.375 48.1875 33.59375 48.1875 \r\nQ 44.578125 48.1875 50.953125 41.515625 \r\nQ 57.328125 34.859375 57.328125 23.390625 \r\nQ 57.328125 12.15625 50.6875 5.359375 \r\nQ 44.046875 -1.421875 33.015625 -1.421875 \r\nQ 20.359375 -1.421875 13.671875 8.265625 \r\nQ 6.984375 17.96875 6.984375 36.375 \r\nQ 6.984375 53.65625 15.1875 63.9375 \r\nQ 23.390625 74.21875 37.203125 74.21875 \r\nQ 40.921875 74.21875 44.703125 73.484375 \r\nQ 48.484375 72.75 52.59375 71.296875 \r\nz\r\n\" id=\"DejaVuSans-54\"/>\r\n       <path d=\"M 31.78125 66.40625 \r\nQ 24.171875 66.40625 20.328125 58.90625 \r\nQ 16.5 51.421875 16.5 36.375 \r\nQ 16.5 21.390625 20.328125 13.890625 \r\nQ 24.171875 6.390625 31.78125 6.390625 \r\nQ 39.453125 6.390625 43.28125 13.890625 \r\nQ 47.125 21.390625 47.125 36.375 \r\nQ 47.125 51.421875 43.28125 58.90625 \r\nQ 39.453125 66.40625 31.78125 66.40625 \r\nz\r\nM 31.78125 74.21875 \r\nQ 44.046875 74.21875 50.515625 64.515625 \r\nQ 56.984375 54.828125 56.984375 36.375 \r\nQ 56.984375 17.96875 50.515625 8.265625 \r\nQ 44.046875 -1.421875 31.78125 -1.421875 \r\nQ 19.53125 -1.421875 13.0625 8.265625 \r\nQ 6.59375 17.96875 6.59375 36.375 \r\nQ 6.59375 54.828125 13.0625 64.515625 \r\nQ 19.53125 74.21875 31.78125 74.21875 \r\nz\r\n\" id=\"DejaVuSans-48\"/>\r\n      </defs>\r\n      <g transform=\"translate(19.186332 239.238437)scale(0.1 -0.1)\">\r\n       <use xlink:href=\"#DejaVuSans-8722\"/>\r\n       <use x=\"83.789062\" xlink:href=\"#DejaVuSans-54\"/>\r\n       <use x=\"147.412109\" xlink:href=\"#DejaVuSans-48\"/>\r\n      </g>\r\n     </g>\r\n    </g>\r\n    <g id=\"xtick_2\">\r\n     <g id=\"line2d_2\">\r\n      <g>\r\n       <use style=\"stroke:#000000;stroke-width:0.8;\" x=\"77.448314\" xlink:href=\"#m52e444a310\" y=\"224.64\"/>\r\n      </g>\r\n     </g>\r\n     <g id=\"text_2\">\r\n      <!-- −40 -->\r\n      <defs>\r\n       <path d=\"M 37.796875 64.3125 \r\nL 12.890625 25.390625 \r\nL 37.796875 25.390625 \r\nz\r\nM 35.203125 72.90625 \r\nL 47.609375 72.90625 \r\nL 47.609375 25.390625 \r\nL 58.015625 25.390625 \r\nL 58.015625 17.1875 \r\nL 47.609375 17.1875 \r\nL 47.609375 0 \r\nL 37.796875 0 \r\nL 37.796875 17.1875 \r\nL 4.890625 17.1875 \r\nL 4.890625 26.703125 \r\nz\r\n\" id=\"DejaVuSans-52\"/>\r\n      </defs>\r\n      <g transform=\"translate(66.89597 239.238437)scale(0.1 -0.1)\">\r\n       <use xlink:href=\"#DejaVuSans-8722\"/>\r\n       <use x=\"83.789062\" xlink:href=\"#DejaVuSans-52\"/>\r\n       <use x=\"147.412109\" xlink:href=\"#DejaVuSans-48\"/>\r\n      </g>\r\n     </g>\r\n    </g>\r\n    <g id=\"xtick_3\">\r\n     <g id=\"line2d_3\">\r\n      <g>\r\n       <use style=\"stroke:#000000;stroke-width:0.8;\" x=\"125.157952\" xlink:href=\"#m52e444a310\" y=\"224.64\"/>\r\n      </g>\r\n     </g>\r\n     <g id=\"text_3\">\r\n      <!-- −20 -->\r\n      <defs>\r\n       <path d=\"M 19.1875 8.296875 \r\nL 53.609375 8.296875 \r\nL 53.609375 0 \r\nL 7.328125 0 \r\nL 7.328125 8.296875 \r\nQ 12.9375 14.109375 22.625 23.890625 \r\nQ 32.328125 33.6875 34.8125 36.53125 \r\nQ 39.546875 41.84375 41.421875 45.53125 \r\nQ 43.3125 49.21875 43.3125 52.78125 \r\nQ 43.3125 58.59375 39.234375 62.25 \r\nQ 35.15625 65.921875 28.609375 65.921875 \r\nQ 23.96875 65.921875 18.8125 64.3125 \r\nQ 13.671875 62.703125 7.8125 59.421875 \r\nL 7.8125 69.390625 \r\nQ 13.765625 71.78125 18.9375 73 \r\nQ 24.125 74.21875 28.421875 74.21875 \r\nQ 39.75 74.21875 46.484375 68.546875 \r\nQ 53.21875 62.890625 53.21875 53.421875 \r\nQ 53.21875 48.921875 51.53125 44.890625 \r\nQ 49.859375 40.875 45.40625 35.40625 \r\nQ 44.1875 33.984375 37.640625 27.21875 \r\nQ 31.109375 20.453125 19.1875 8.296875 \r\nz\r\n\" id=\"DejaVuSans-50\"/>\r\n      </defs>\r\n      <g transform=\"translate(114.605608 239.238437)scale(0.1 -0.1)\">\r\n       <use xlink:href=\"#DejaVuSans-8722\"/>\r\n       <use x=\"83.789062\" xlink:href=\"#DejaVuSans-50\"/>\r\n       <use x=\"147.412109\" xlink:href=\"#DejaVuSans-48\"/>\r\n      </g>\r\n     </g>\r\n    </g>\r\n    <g id=\"xtick_4\">\r\n     <g id=\"line2d_4\">\r\n      <g>\r\n       <use style=\"stroke:#000000;stroke-width:0.8;\" x=\"172.86759\" xlink:href=\"#m52e444a310\" y=\"224.64\"/>\r\n      </g>\r\n     </g>\r\n     <g id=\"text_4\">\r\n      <!-- 0 -->\r\n      <g transform=\"translate(169.68634 239.238437)scale(0.1 -0.1)\">\r\n       <use xlink:href=\"#DejaVuSans-48\"/>\r\n      </g>\r\n     </g>\r\n    </g>\r\n    <g id=\"xtick_5\">\r\n     <g id=\"line2d_5\">\r\n      <g>\r\n       <use style=\"stroke:#000000;stroke-width:0.8;\" x=\"220.577228\" xlink:href=\"#m52e444a310\" y=\"224.64\"/>\r\n      </g>\r\n     </g>\r\n     <g id=\"text_5\">\r\n      <!-- 20 -->\r\n      <g transform=\"translate(214.214728 239.238437)scale(0.1 -0.1)\">\r\n       <use xlink:href=\"#DejaVuSans-50\"/>\r\n       <use x=\"63.623047\" xlink:href=\"#DejaVuSans-48\"/>\r\n      </g>\r\n     </g>\r\n    </g>\r\n    <g id=\"xtick_6\">\r\n     <g id=\"line2d_6\">\r\n      <g>\r\n       <use style=\"stroke:#000000;stroke-width:0.8;\" x=\"268.286866\" xlink:href=\"#m52e444a310\" y=\"224.64\"/>\r\n      </g>\r\n     </g>\r\n     <g id=\"text_6\">\r\n      <!-- 40 -->\r\n      <g transform=\"translate(261.924366 239.238437)scale(0.1 -0.1)\">\r\n       <use xlink:href=\"#DejaVuSans-52\"/>\r\n       <use x=\"63.623047\" xlink:href=\"#DejaVuSans-48\"/>\r\n      </g>\r\n     </g>\r\n    </g>\r\n    <g id=\"xtick_7\">\r\n     <g id=\"line2d_7\">\r\n      <g>\r\n       <use style=\"stroke:#000000;stroke-width:0.8;\" x=\"315.996505\" xlink:href=\"#m52e444a310\" y=\"224.64\"/>\r\n      </g>\r\n     </g>\r\n     <g id=\"text_7\">\r\n      <!-- 60 -->\r\n      <g transform=\"translate(309.634005 239.238437)scale(0.1 -0.1)\">\r\n       <use xlink:href=\"#DejaVuSans-54\"/>\r\n       <use x=\"63.623047\" xlink:href=\"#DejaVuSans-48\"/>\r\n      </g>\r\n     </g>\r\n    </g>\r\n   </g>\r\n   <g id=\"matplotlib.axis_2\">\r\n    <g id=\"ytick_1\">\r\n     <g id=\"line2d_8\">\r\n      <defs>\r\n       <path d=\"M 0 0 \r\nL -3.5 0 \r\n\" id=\"m62c3de5021\" style=\"stroke:#000000;stroke-width:0.8;\"/>\r\n      </defs>\r\n      <g>\r\n       <use style=\"stroke:#000000;stroke-width:0.8;\" x=\"26.925\" xlink:href=\"#m62c3de5021\" y=\"223.225769\"/>\r\n      </g>\r\n     </g>\r\n     <g id=\"text_8\">\r\n      <!-- 0 -->\r\n      <g transform=\"translate(13.5625 227.024988)scale(0.1 -0.1)\">\r\n       <use xlink:href=\"#DejaVuSans-48\"/>\r\n      </g>\r\n     </g>\r\n    </g>\r\n    <g id=\"ytick_2\">\r\n     <g id=\"line2d_9\">\r\n      <g>\r\n       <use style=\"stroke:#000000;stroke-width:0.8;\" x=\"26.925\" xlink:href=\"#m62c3de5021\" y=\"191.265749\"/>\r\n      </g>\r\n     </g>\r\n     <g id=\"text_9\">\r\n      <!-- 2 -->\r\n      <g transform=\"translate(13.5625 195.064967)scale(0.1 -0.1)\">\r\n       <use xlink:href=\"#DejaVuSans-50\"/>\r\n      </g>\r\n     </g>\r\n    </g>\r\n    <g id=\"ytick_3\">\r\n     <g id=\"line2d_10\">\r\n      <g>\r\n       <use style=\"stroke:#000000;stroke-width:0.8;\" x=\"26.925\" xlink:href=\"#m62c3de5021\" y=\"159.305728\"/>\r\n      </g>\r\n     </g>\r\n     <g id=\"text_10\">\r\n      <!-- 4 -->\r\n      <g transform=\"translate(13.5625 163.104947)scale(0.1 -0.1)\">\r\n       <use xlink:href=\"#DejaVuSans-52\"/>\r\n      </g>\r\n     </g>\r\n    </g>\r\n    <g id=\"ytick_4\">\r\n     <g id=\"line2d_11\">\r\n      <g>\r\n       <use style=\"stroke:#000000;stroke-width:0.8;\" x=\"26.925\" xlink:href=\"#m62c3de5021\" y=\"127.345707\"/>\r\n      </g>\r\n     </g>\r\n     <g id=\"text_11\">\r\n      <!-- 6 -->\r\n      <g transform=\"translate(13.5625 131.144926)scale(0.1 -0.1)\">\r\n       <use xlink:href=\"#DejaVuSans-54\"/>\r\n      </g>\r\n     </g>\r\n    </g>\r\n    <g id=\"ytick_5\">\r\n     <g id=\"line2d_12\">\r\n      <g>\r\n       <use style=\"stroke:#000000;stroke-width:0.8;\" x=\"26.925\" xlink:href=\"#m62c3de5021\" y=\"95.385687\"/>\r\n      </g>\r\n     </g>\r\n     <g id=\"text_12\">\r\n      <!-- 8 -->\r\n      <defs>\r\n       <path d=\"M 31.78125 34.625 \r\nQ 24.75 34.625 20.71875 30.859375 \r\nQ 16.703125 27.09375 16.703125 20.515625 \r\nQ 16.703125 13.921875 20.71875 10.15625 \r\nQ 24.75 6.390625 31.78125 6.390625 \r\nQ 38.8125 6.390625 42.859375 10.171875 \r\nQ 46.921875 13.96875 46.921875 20.515625 \r\nQ 46.921875 27.09375 42.890625 30.859375 \r\nQ 38.875 34.625 31.78125 34.625 \r\nz\r\nM 21.921875 38.8125 \r\nQ 15.578125 40.375 12.03125 44.71875 \r\nQ 8.5 49.078125 8.5 55.328125 \r\nQ 8.5 64.0625 14.71875 69.140625 \r\nQ 20.953125 74.21875 31.78125 74.21875 \r\nQ 42.671875 74.21875 48.875 69.140625 \r\nQ 55.078125 64.0625 55.078125 55.328125 \r\nQ 55.078125 49.078125 51.53125 44.71875 \r\nQ 48 40.375 41.703125 38.8125 \r\nQ 48.828125 37.15625 52.796875 32.3125 \r\nQ 56.78125 27.484375 56.78125 20.515625 \r\nQ 56.78125 9.90625 50.3125 4.234375 \r\nQ 43.84375 -1.421875 31.78125 -1.421875 \r\nQ 19.734375 -1.421875 13.25 4.234375 \r\nQ 6.78125 9.90625 6.78125 20.515625 \r\nQ 6.78125 27.484375 10.78125 32.3125 \r\nQ 14.796875 37.15625 21.921875 38.8125 \r\nz\r\nM 18.3125 54.390625 \r\nQ 18.3125 48.734375 21.84375 45.5625 \r\nQ 25.390625 42.390625 31.78125 42.390625 \r\nQ 38.140625 42.390625 41.71875 45.5625 \r\nQ 45.3125 48.734375 45.3125 54.390625 \r\nQ 45.3125 60.0625 41.71875 63.234375 \r\nQ 38.140625 66.40625 31.78125 66.40625 \r\nQ 25.390625 66.40625 21.84375 63.234375 \r\nQ 18.3125 60.0625 18.3125 54.390625 \r\nz\r\n\" id=\"DejaVuSans-56\"/>\r\n      </defs>\r\n      <g transform=\"translate(13.5625 99.184906)scale(0.1 -0.1)\">\r\n       <use xlink:href=\"#DejaVuSans-56\"/>\r\n      </g>\r\n     </g>\r\n    </g>\r\n    <g id=\"ytick_6\">\r\n     <g id=\"line2d_13\">\r\n      <g>\r\n       <use style=\"stroke:#000000;stroke-width:0.8;\" x=\"26.925\" xlink:href=\"#m62c3de5021\" y=\"63.425666\"/>\r\n      </g>\r\n     </g>\r\n     <g id=\"text_13\">\r\n      <!-- 10 -->\r\n      <defs>\r\n       <path d=\"M 12.40625 8.296875 \r\nL 28.515625 8.296875 \r\nL 28.515625 63.921875 \r\nL 10.984375 60.40625 \r\nL 10.984375 69.390625 \r\nL 28.421875 72.90625 \r\nL 38.28125 72.90625 \r\nL 38.28125 8.296875 \r\nL 54.390625 8.296875 \r\nL 54.390625 0 \r\nL 12.40625 0 \r\nz\r\n\" id=\"DejaVuSans-49\"/>\r\n      </defs>\r\n      <g transform=\"translate(7.2 67.224885)scale(0.1 -0.1)\">\r\n       <use xlink:href=\"#DejaVuSans-49\"/>\r\n       <use x=\"63.623047\" xlink:href=\"#DejaVuSans-48\"/>\r\n      </g>\r\n     </g>\r\n    </g>\r\n    <g id=\"ytick_7\">\r\n     <g id=\"line2d_14\">\r\n      <g>\r\n       <use style=\"stroke:#000000;stroke-width:0.8;\" x=\"26.925\" xlink:href=\"#m62c3de5021\" y=\"31.465646\"/>\r\n      </g>\r\n     </g>\r\n     <g id=\"text_14\">\r\n      <!-- 12 -->\r\n      <g transform=\"translate(7.2 35.264864)scale(0.1 -0.1)\">\r\n       <use xlink:href=\"#DejaVuSans-49\"/>\r\n       <use x=\"63.623047\" xlink:href=\"#DejaVuSans-50\"/>\r\n      </g>\r\n     </g>\r\n    </g>\r\n   </g>\r\n   <g id=\"patch_3\">\r\n    <path d=\"M 26.925 224.64 \r\nL 26.925 7.2 \r\n\" style=\"fill:none;stroke:#000000;stroke-linecap:square;stroke-linejoin:miter;stroke-width:0.8;\"/>\r\n   </g>\r\n   <g id=\"patch_4\">\r\n    <path d=\"M 361.725 224.64 \r\nL 361.725 7.2 \r\n\" style=\"fill:none;stroke:#000000;stroke-linecap:square;stroke-linejoin:miter;stroke-width:0.8;\"/>\r\n   </g>\r\n   <g id=\"patch_5\">\r\n    <path d=\"M 26.925 224.64 \r\nL 361.725 224.64 \r\n\" style=\"fill:none;stroke:#000000;stroke-linecap:square;stroke-linejoin:miter;stroke-width:0.8;\"/>\r\n   </g>\r\n   <g id=\"patch_6\">\r\n    <path d=\"M 26.925 7.2 \r\nL 361.725 7.2 \r\n\" style=\"fill:none;stroke:#000000;stroke-linecap:square;stroke-linejoin:miter;stroke-width:0.8;\"/>\r\n   </g>\r\n  </g>\r\n </g>\r\n <defs>\r\n  <clipPath id=\"p2e72754ba2\">\r\n   <rect height=\"217.44\" width=\"334.8\" x=\"26.925\" y=\"7.2\"/>\r\n  </clipPath>\r\n </defs>\r\n</svg>\r\n",
      "image/png": "[encoded data removed]"
     },
     "metadata": {
      "needs_background": "light"
     }
    }
   ],
   "source": [
    "plt.scatter(clean_city_data[\"Lat\"], clean_city_data[\"Wind Speed\"], marker = \"o\", facecolors = \"red\", edgecolors = \"black\")\n",
    "plt.savefig = \"../output_data/Latitude vs Wind Speed.png\"\n",
    "plt.show()"
   ]
  },
  {
   "cell_type": "markdown",
   "metadata": {},
   "source": [
    "## Linear Regression"
   ]
  },
  {
   "cell_type": "code",
   "execution_count": 77,
   "metadata": {},
   "outputs": [
    {
     "output_type": "execute_result",
     "data": {
      "text/plain": [
       "8    -23.12\n",
       "9    -20.52\n",
       "10   -34.53\n",
       "11     -9.8\n",
       "18    -2.57\n",
       "19   -33.59\n",
       "20    -4.88\n",
       "28   -12.04\n",
       "30   -37.62\n",
       "33    -0.74\n",
       "34   -13.97\n",
       "36   -46.19\n",
       "39   -38.65\n",
       "41    -54.8\n",
       "42   -12.73\n",
       "43   -53.15\n",
       "44   -22.97\n",
       "45     -1.2\n",
       "47    -4.97\n",
       "49   -42.78\n",
       "51    -8.84\n",
       "53   -13.88\n",
       "60    -3.32\n",
       "66   -38.27\n",
       "68    -21.2\n",
       "69   -37.83\n",
       "74      -34\n",
       "Name: Lat, dtype: object"
      ]
     },
     "metadata": {},
     "execution_count": 77
    }
   ],
   "source": [
    "north_city_data[\"Lat\"]"
   ]
  },
  {
   "cell_type": "markdown",
   "metadata": {},
   "source": [
    "####  Northern Hemisphere - Max Temp vs. Latitude Linear Regression"
   ]
  },
  {
   "cell_type": "code",
   "execution_count": 83,
   "metadata": {},
   "outputs": [
    {
     "output_type": "error",
     "ename": "AttributeError",
     "evalue": "'float' object has no attribute 'shape'",
     "traceback": [
      "\u001b[1;31m---------------------------------------------------------------------------\u001b[0m",
      "\u001b[1;31mAttributeError\u001b[0m                            Traceback (most recent call last)",
      "\u001b[1;32m<ipython-input-83-104cc9c8531a>\u001b[0m in \u001b[0;36m<module>\u001b[1;34m\u001b[0m\n\u001b[0;32m      4\u001b[0m \u001b[0mx_values\u001b[0m \u001b[1;33m=\u001b[0m \u001b[0mnorth_city_data\u001b[0m\u001b[1;33m[\u001b[0m\u001b[1;34m\"Max Temp\"\u001b[0m\u001b[1;33m]\u001b[0m\u001b[1;33m\u001b[0m\u001b[1;33m\u001b[0m\u001b[0m\n\u001b[0;32m      5\u001b[0m \u001b[0my_values\u001b[0m \u001b[1;33m=\u001b[0m \u001b[0mnorth_city_data\u001b[0m\u001b[1;33m[\u001b[0m\u001b[1;34m\"Lat\"\u001b[0m\u001b[1;33m]\u001b[0m\u001b[1;33m\u001b[0m\u001b[1;33m\u001b[0m\u001b[0m\n\u001b[1;32m----> 6\u001b[1;33m \u001b[1;33m(\u001b[0m\u001b[0mslope\u001b[0m\u001b[1;33m,\u001b[0m \u001b[0mintercept\u001b[0m\u001b[1;33m,\u001b[0m \u001b[0mrvalue\u001b[0m\u001b[1;33m,\u001b[0m \u001b[0mpvalue\u001b[0m\u001b[1;33m,\u001b[0m \u001b[0mstderr\u001b[0m\u001b[1;33m)\u001b[0m \u001b[1;33m=\u001b[0m \u001b[0mlinregress\u001b[0m\u001b[1;33m(\u001b[0m\u001b[0mx_values\u001b[0m\u001b[1;33m,\u001b[0m \u001b[0my_values\u001b[0m\u001b[1;33m)\u001b[0m\u001b[1;33m\u001b[0m\u001b[1;33m\u001b[0m\u001b[0m\n\u001b[0m\u001b[0;32m      7\u001b[0m \u001b[0mregress_values\u001b[0m \u001b[1;33m=\u001b[0m \u001b[0mx_values\u001b[0m \u001b[1;33m*\u001b[0m \u001b[0mslope\u001b[0m \u001b[1;33m+\u001b[0m \u001b[0mintercept\u001b[0m\u001b[1;33m\u001b[0m\u001b[1;33m\u001b[0m\u001b[0m\n\u001b[0;32m      8\u001b[0m \u001b[0mline_eq\u001b[0m \u001b[1;33m=\u001b[0m \u001b[1;34m\"y = \"\u001b[0m \u001b[1;33m+\u001b[0m \u001b[0mstr\u001b[0m\u001b[1;33m(\u001b[0m\u001b[0mround\u001b[0m\u001b[1;33m(\u001b[0m\u001b[0mslope\u001b[0m\u001b[1;33m,\u001b[0m\u001b[1;36m2\u001b[0m\u001b[1;33m)\u001b[0m\u001b[1;33m)\u001b[0m \u001b[1;33m+\u001b[0m \u001b[1;34m\"x + \"\u001b[0m \u001b[1;33m+\u001b[0m \u001b[0mstr\u001b[0m\u001b[1;33m(\u001b[0m\u001b[0mround\u001b[0m\u001b[1;33m(\u001b[0m\u001b[0mintercept\u001b[0m\u001b[1;33m,\u001b[0m\u001b[1;36m2\u001b[0m\u001b[1;33m)\u001b[0m\u001b[1;33m)\u001b[0m\u001b[1;33m\u001b[0m\u001b[1;33m\u001b[0m\u001b[0m\n",
      "\u001b[1;32m~\\anaconda3\\lib\\site-packages\\scipy\\stats\\_stats_mstats_common.py\u001b[0m in \u001b[0;36mlinregress\u001b[1;34m(x, y)\u001b[0m\n\u001b[0;32m    114\u001b[0m \u001b[1;33m\u001b[0m\u001b[0m\n\u001b[0;32m    115\u001b[0m     \u001b[1;31m# average sum of squares:\u001b[0m\u001b[1;33m\u001b[0m\u001b[1;33m\u001b[0m\u001b[1;33m\u001b[0m\u001b[0m\n\u001b[1;32m--> 116\u001b[1;33m     \u001b[0mssxm\u001b[0m\u001b[1;33m,\u001b[0m \u001b[0mssxym\u001b[0m\u001b[1;33m,\u001b[0m \u001b[0mssyxm\u001b[0m\u001b[1;33m,\u001b[0m \u001b[0mssym\u001b[0m \u001b[1;33m=\u001b[0m \u001b[0mnp\u001b[0m\u001b[1;33m.\u001b[0m\u001b[0mcov\u001b[0m\u001b[1;33m(\u001b[0m\u001b[0mx\u001b[0m\u001b[1;33m,\u001b[0m \u001b[0my\u001b[0m\u001b[1;33m,\u001b[0m \u001b[0mbias\u001b[0m\u001b[1;33m=\u001b[0m\u001b[1;36m1\u001b[0m\u001b[1;33m)\u001b[0m\u001b[1;33m.\u001b[0m\u001b[0mflat\u001b[0m\u001b[1;33m\u001b[0m\u001b[1;33m\u001b[0m\u001b[0m\n\u001b[0m\u001b[0;32m    117\u001b[0m     \u001b[0mr_num\u001b[0m \u001b[1;33m=\u001b[0m \u001b[0mssxym\u001b[0m\u001b[1;33m\u001b[0m\u001b[1;33m\u001b[0m\u001b[0m\n\u001b[0;32m    118\u001b[0m     \u001b[0mr_den\u001b[0m \u001b[1;33m=\u001b[0m \u001b[0mnp\u001b[0m\u001b[1;33m.\u001b[0m\u001b[0msqrt\u001b[0m\u001b[1;33m(\u001b[0m\u001b[0mssxm\u001b[0m \u001b[1;33m*\u001b[0m \u001b[0mssym\u001b[0m\u001b[1;33m)\u001b[0m\u001b[1;33m\u001b[0m\u001b[1;33m\u001b[0m\u001b[0m\n",
      "\u001b[1;32m<__array_function__ internals>\u001b[0m in \u001b[0;36mcov\u001b[1;34m(*args, **kwargs)\u001b[0m\n",
      "\u001b[1;32m~\\anaconda3\\lib\\site-packages\\numpy\\lib\\function_base.py\u001b[0m in \u001b[0;36mcov\u001b[1;34m(m, y, rowvar, bias, ddof, fweights, aweights)\u001b[0m\n\u001b[0;32m   2429\u001b[0m             \u001b[0mw\u001b[0m \u001b[1;33m*=\u001b[0m \u001b[0maweights\u001b[0m\u001b[1;33m\u001b[0m\u001b[1;33m\u001b[0m\u001b[0m\n\u001b[0;32m   2430\u001b[0m \u001b[1;33m\u001b[0m\u001b[0m\n\u001b[1;32m-> 2431\u001b[1;33m     \u001b[0mavg\u001b[0m\u001b[1;33m,\u001b[0m \u001b[0mw_sum\u001b[0m \u001b[1;33m=\u001b[0m \u001b[0maverage\u001b[0m\u001b[1;33m(\u001b[0m\u001b[0mX\u001b[0m\u001b[1;33m,\u001b[0m \u001b[0maxis\u001b[0m\u001b[1;33m=\u001b[0m\u001b[1;36m1\u001b[0m\u001b[1;33m,\u001b[0m \u001b[0mweights\u001b[0m\u001b[1;33m=\u001b[0m\u001b[0mw\u001b[0m\u001b[1;33m,\u001b[0m \u001b[0mreturned\u001b[0m\u001b[1;33m=\u001b[0m\u001b[1;32mTrue\u001b[0m\u001b[1;33m)\u001b[0m\u001b[1;33m\u001b[0m\u001b[1;33m\u001b[0m\u001b[0m\n\u001b[0m\u001b[0;32m   2432\u001b[0m     \u001b[0mw_sum\u001b[0m \u001b[1;33m=\u001b[0m \u001b[0mw_sum\u001b[0m\u001b[1;33m[\u001b[0m\u001b[1;36m0\u001b[0m\u001b[1;33m]\u001b[0m\u001b[1;33m\u001b[0m\u001b[1;33m\u001b[0m\u001b[0m\n\u001b[0;32m   2433\u001b[0m \u001b[1;33m\u001b[0m\u001b[0m\n",
      "\u001b[1;32m<__array_function__ internals>\u001b[0m in \u001b[0;36maverage\u001b[1;34m(*args, **kwargs)\u001b[0m\n",
      "\u001b[1;32m~\\anaconda3\\lib\\site-packages\\numpy\\lib\\function_base.py\u001b[0m in \u001b[0;36maverage\u001b[1;34m(a, axis, weights, returned)\u001b[0m\n\u001b[0;32m    426\u001b[0m \u001b[1;33m\u001b[0m\u001b[0m\n\u001b[0;32m    427\u001b[0m     \u001b[1;32mif\u001b[0m \u001b[0mreturned\u001b[0m\u001b[1;33m:\u001b[0m\u001b[1;33m\u001b[0m\u001b[1;33m\u001b[0m\u001b[0m\n\u001b[1;32m--> 428\u001b[1;33m         \u001b[1;32mif\u001b[0m \u001b[0mscl\u001b[0m\u001b[1;33m.\u001b[0m\u001b[0mshape\u001b[0m \u001b[1;33m!=\u001b[0m \u001b[0mavg\u001b[0m\u001b[1;33m.\u001b[0m\u001b[0mshape\u001b[0m\u001b[1;33m:\u001b[0m\u001b[1;33m\u001b[0m\u001b[1;33m\u001b[0m\u001b[0m\n\u001b[0m\u001b[0;32m    429\u001b[0m             \u001b[0mscl\u001b[0m \u001b[1;33m=\u001b[0m \u001b[0mnp\u001b[0m\u001b[1;33m.\u001b[0m\u001b[0mbroadcast_to\u001b[0m\u001b[1;33m(\u001b[0m\u001b[0mscl\u001b[0m\u001b[1;33m,\u001b[0m \u001b[0mavg\u001b[0m\u001b[1;33m.\u001b[0m\u001b[0mshape\u001b[0m\u001b[1;33m)\u001b[0m\u001b[1;33m.\u001b[0m\u001b[0mcopy\u001b[0m\u001b[1;33m(\u001b[0m\u001b[1;33m)\u001b[0m\u001b[1;33m\u001b[0m\u001b[1;33m\u001b[0m\u001b[0m\n\u001b[0;32m    430\u001b[0m         \u001b[1;32mreturn\u001b[0m \u001b[0mavg\u001b[0m\u001b[1;33m,\u001b[0m \u001b[0mscl\u001b[0m\u001b[1;33m\u001b[0m\u001b[1;33m\u001b[0m\u001b[0m\n",
      "\u001b[1;31mAttributeError\u001b[0m: 'float' object has no attribute 'shape'"
     ]
    }
   ],
   "source": [
    "north_index = clean_city_data[clean_city_data[\"Lat\"] > 0].index\n",
    "north_city_data = clean_city_data.drop(north_index, inplace= False)\n",
    "\n",
    "x_values = north_city_data[\"Max Temp\"]\n",
    "y_values = north_city_data[\"Lat\"]\n",
    "(slope, intercept, rvalue, pvalue, stderr) = linregress(x_values, y_values)\n",
    "regress_values = x_values * slope + intercept\n",
    "line_eq = \"y = \" + str(round(slope,2)) + \"x + \" + str(round(intercept,2))\n",
    "plt.scatter(x_values, y_values)\n",
    "#plt.plot(x_values, regress_values, \"r-\")\n",
    "plt.xlabel = \"Max Temp (F)\"\n",
    "plt.ylabel = \"Latitude\"\n",
    "plt.show()"
   ]
  },
  {
   "cell_type": "markdown",
   "metadata": {},
   "source": [
    "####  Southern Hemisphere - Max Temp vs. Latitude Linear Regression"
   ]
  },
  {
   "cell_type": "code",
   "execution_count": null,
   "metadata": {},
   "outputs": [],
   "source": []
  },
  {
   "cell_type": "markdown",
   "metadata": {},
   "source": [
    "####  Northern Hemisphere - Humidity (%) vs. Latitude Linear Regression"
   ]
  },
  {
   "cell_type": "code",
   "execution_count": null,
   "metadata": {},
   "outputs": [],
   "source": []
  },
  {
   "cell_type": "markdown",
   "metadata": {},
   "source": [
    "####  Southern Hemisphere - Humidity (%) vs. Latitude Linear Regression"
   ]
  },
  {
   "cell_type": "code",
   "execution_count": null,
   "metadata": {},
   "outputs": [],
   "source": []
  },
  {
   "cell_type": "markdown",
   "metadata": {},
   "source": [
    "####  Northern Hemisphere - Cloudiness (%) vs. Latitude Linear Regression"
   ]
  },
  {
   "cell_type": "code",
   "execution_count": null,
   "metadata": {},
   "outputs": [],
   "source": []
  },
  {
   "cell_type": "markdown",
   "metadata": {},
   "source": [
    "####  Southern Hemisphere - Cloudiness (%) vs. Latitude Linear Regression"
   ]
  },
  {
   "cell_type": "code",
   "execution_count": null,
   "metadata": {},
   "outputs": [],
   "source": []
  },
  {
   "cell_type": "markdown",
   "metadata": {},
   "source": [
    "####  Northern Hemisphere - Wind Speed (mph) vs. Latitude Linear Regression"
   ]
  },
  {
   "cell_type": "code",
   "execution_count": null,
   "metadata": {},
   "outputs": [],
   "source": []
  },
  {
   "cell_type": "markdown",
   "metadata": {},
   "source": [
    "####  Southern Hemisphere - Wind Speed (mph) vs. Latitude Linear Regression"
   ]
  },
  {
   "cell_type": "code",
   "execution_count": null,
   "metadata": {},
   "outputs": [],
   "source": []
  },
  {
   "cell_type": "code",
   "execution_count": null,
   "metadata": {},
   "outputs": [],
   "source": []
  }
 ],
 "metadata": {
  "anaconda-cloud": {},
  "kernel_info": {
   "name": "python3"
  },
  "kernelspec": {
   "name": "Python 3.8.3 64-bit ('base': conda)",
   "display_name": "Python 3.8.3 64-bit ('base': conda)",
   "metadata": {
    "interpreter": {
     "hash": "485035c5b2a6f2b50dc2dc5ca51aeeb931032fbc9adc2e30c7c528d6bf8a9176"
    }
   }
  },
  "language_info": {
   "codemirror_mode": {
    "name": "ipython",
    "version": 3
   },
   "file_extension": ".py",
   "mimetype": "text/x-python",
   "name": "python",
   "nbconvert_exporter": "python",
   "pygments_lexer": "ipython3",
   "version": "3.8.3-final"
  },
  "latex_envs": {
   "LaTeX_envs_menu_present": true,
   "autoclose": false,
   "autocomplete": true,
   "bibliofile": "biblio.bib",
   "cite_by": "apalike",
   "current_citInitial": 1,
   "eqLabelWithNumbers": true,
   "eqNumInitial": 1,
   "hotkeys": {
    "equation": "Ctrl-E",
    "itemize": "Ctrl-I"
   },
   "labels_anchors": false,
   "latex_user_defs": false,
   "report_style_numbering": false,
   "user_envs_cfg": false
  },
  "nteract": {
   "version": "0.12.3"
  }
 },
 "nbformat": 4,
 "nbformat_minor": 2
}