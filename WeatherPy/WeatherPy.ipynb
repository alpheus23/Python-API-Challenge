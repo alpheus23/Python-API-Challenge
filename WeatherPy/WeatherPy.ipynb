{
 "cells": [
  {
   "cell_type": "markdown",
   "metadata": {},
   "source": [
    "# WeatherPy\n",
    "----\n",
    "\n",
    "#### Note\n",
    "* Instructions have been included for each segment. You do not have to follow them exactly, but they are included to help you think through the steps."
   ]
  },
  {
   "cell_type": "code",
   "execution_count": 49,
   "metadata": {
    "scrolled": true
   },
   "outputs": [],
   "source": [
    "# Dependencies and Setup\n",
    "import matplotlib.pyplot as plt\n",
    "import pandas as pd\n",
    "import numpy as np\n",
    "import requests\n",
    "import time\n",
    "import requests\n",
    "import json\n",
    "from scipy.stats import linregress\n",
    "\n",
    "# Import API key\n",
    "from api_keys import weather_api_key\n",
    "\n",
    "# Incorporated citipy to determine city based on latitude and longitude\n",
    "from citipy import citipy\n",
    "\n",
    "# Output File (CSV)\n",
    "output_data_file = \"output_data/cities.csv\"\n",
    "\n",
    "# Range of latitudes and longitudes\n",
    "lat_range = (-90, 90)\n",
    "lng_range = (-180, 180)"
   ]
  },
  {
   "cell_type": "markdown",
   "metadata": {},
   "source": [
    "## Generate Cities List"
   ]
  },
  {
   "cell_type": "code",
   "execution_count": 50,
   "metadata": {},
   "outputs": [
    {
     "output_type": "stream",
     "name": "stdout",
     "text": [
      "651\n['bluff', 'kapaa', 'rikitea', 'caravelas', 'albany', 'khatanga', 'bathsheba', 'mataura', 'sentyabrskiy', 'ponta do sol', 'batsfjord', 'norman wells', 'saint george', 'totolapan', 'isiro', 'avarua', 'agadez', 'fairbanks', 'arraial do cabo', 'bud', 'kalevala', 'andenes', 'hermanus', 'port-gentil', 'qaanaaq', 'carnarvon', 'illoqqortoormiut', 'cidreira', 'atuona', 'vyazemskiy', 'punta arenas', 'barentsburg', 'broken hill', 'kytlym', 'tank', 'khorixas', 'sheopur', 'roth', 'alofi', 'vaini', 'olinda', 'aklavik', 'tres arroyos', 'hilo', 'iqaluit', 'oxford', 'mys shmidta', 'sao filipe', 'puerto ayora', 'ushuaia', 'tomatlan', 'faanui', 'viedma', 'monrovia', 'bredasdorp', 'palpa', 'itanagar', 'bethel', 'cape town', 'new norfolk', 'sakaiminato', 'bolungarvik', 'torbay', 'esperance', 'port stanley', 'tuktoyaktuk', 'sola', 'dikson', 'bambous virieux', 'saint-philippe', 'port alfred', 'rudnogorsk', 'geraldton', 'lorengau', 'hithadhoo', 'omboue', 'hasaki', 'port shepstone', 'yellowknife', 'mackenzie', 'matongo', 'puerto del rosario', 'bilma', 'sumbawa', 'taolanaro', 'thompson', 'umea', 'ketchikan', 'pangody', 'miandrivazo', 'victoria', 'povenets', 'alexandria', 'mar del plata', 'mount gambier', 'chumikan', 'aguimes', 'sheffield', 'port hardy', 'jacareacanga', 'gulshat', 'peace river', 'praia da vitoria', 'makaryev', 'shakawe', 'castro', 'talnakh', 'luderitz', 'merauke', 'narsaq', 'nikolskoye', 'codrington', 'bukid', 'afgoye', 'kaitangata', 'richards bay', 'channel-port aux basques', 'vila', 'marsa matruh', 'moron', 'batemans bay', 'berlevag', 'vaitupu', 'nehe', 'belushya guba', 'pacific grove', 'hobart', 'los llanos de aridane', 'lago da pedra', 'samarai', 'butaritari', 'ilinskiy', 'panormos', 'aykhal', 'ilo', 'madoc', 'sitka', 'axim', 'fare', 'zhigansk', 'balkhash', 'port augusta', 'rawson', 'dong xoai', 'ribeira grande', 'mahebourg', 'salinopolis', 'laishevo', 'gaoyou', 'nantucket', 'georgetown', 'marzuq', 'srandakan', 'san pedro', 'busselton', 'pilao arcado', 'formosa', 'nara', 'vanavara', 'ahipara', 'laguna', 'moose factory', 'katsuura', 'qandala', 'indianola', 'upernavik', 'east london', 'monthey', 'sorong', 'cherskiy', 'abu kamal', 'cockburn town', 'teahupoo', 'camacupa', 'sakakah', 'hamilton', 'port elizabeth', 'christchurch', 'bull savanna', 'aktash', 'ulaanbaatar', 'kaeo', 'talikota', 'zabid', 'kosh-agach', 'riyadh', 'pangai', 'mandera', 'westerland', 'payakumbuh', 'thunder bay', 'santa rosa', 'ode', 'tezu', 'chokurdakh', 'aksu', 'itarema', 'vao', 'cap malheureux', 'vila velha', 'dingle', 'severo-kurilsk', 'margate', 'chinhoyi', 'sampit', 'lodwar', 'meybod', 'vestmanna', 'cartagena', 'saleaula', 'kununurra', 'pohrebyshche', 'barberton', 'saskylakh', 'maniitsoq', 'bichura', 'clyde river', 'nicoya', 'coquimbo', 'tartagal', 'fort nelson', 'omsukchan', 'namibe', 'wajid', 'manokwari', 'baturaja', 'anadyr', 'norrkoping', 'rocha', 'souillac', 'provideniya', 'mashhad', 'mao', 'pizarro', 'pevek', 'sarkand', 'kumluca', 'hovd', 'lebanon', 'fortuna', 'aswan', 'port macquarie', 'jaguaruna', 'xichang', 'lukovetskiy', 'maltahohe', 'tiksi', 'lucapa', 'nizhneyansk', 'bowen', 'barrow', 'tasiilaq', 'kralendijk', 'hobyo', 'zverinogolovskoye', 'jacksonville', 'buala', 'kahului', 'bengkulu', 'ziarat', 'beringovskiy', 'malwan', 'atasu', 'longyearbyen', 'dalbandin', 'fairfield', 'lagoa', 'neiafu', 'comodoro rivadavia', 'bardiyah', 'hounde', 'jamestown', 'gorin', 'college', 'gazanjyk', 'sibu', 'batagay', 'chicama', 'panji', 'south river', 'tabou', 'gimli', 'arman', 'constitucion', 'sheridan', 'isangel', 'adrar', 'kenai', 'kazalinsk', 'ayan', 'nautla', 'otane', 'shibetsu', 'santa vitoria do palmar', 'samusu', 'coihaique', 'ostrovnoy', 'lazaro cardenas', 'sabha', 'kungurtug', 'port blair', 'klaksvik', 'taltal', 'maceio', 'sept-iles', 'kodiak', 'nome', 'palivere', 'arlit', 'tateyama', 'whitehorse', 'tiarei', 'marfino', 'yatou', 'maarianhamina', 'la gomera', 'iwaki', 'rusape', 'pafos', 'nagato', 'rio grande', 'ukiah', 'saldanha', 'valday', 'grand centre', 'mount isa', 'broome', 'kushima', 'kipushi', 'konevo', 'tocopilla', 'sayyan', 'awjilah', 'aleksandrov gay', 'christiana', 'haapu', 'camacha', 'buraydah', 'morondava', 'ibaiti', 'sorvag', 'marivan', 'grand river south east', 'severo-yeniseyskiy', 'nanyamba', 'padang', 'mandawar', 'belousovka', 'ngukurr', 'jumla', 'mildura', 'burica', 'kavieng', 'krasnovishersk', 'te anau', 'kyzyl-suu', 'vallecillo', 'saint-francois', 'andevoranto', 'thomaston', 'waipawa', 'cabedelo', 'chapais', 'wulanhaote', 'boa vista', 'catamarca', 'mosta', 'chake chake', 'kuminskiy', 'shalinskoye', 'chuy', 'camargo', 'wasilla', 'kruisfontein', 'quatre cocos', 'korla', 'tawkar', 'acandi', 'khilok', 'mayo', 'kribi', 'hami', 'agirish', 'llandrindod wells', 'aksarka', 'black river', 'sinnamary', 'hofn', 'onokhoy', 'vila franca do campo', 'wanning', 'adre', 'husum', 'leningradskiy', 'myitkyina', 'vahan', 'carnot', 'machico', 'chinameca', 'karpuninskiy', 'brigantine', 'cornelius', 'diffa', 'tsihombe', 'muisne', 'shelton', 'gawler', 'korem', 'angoche', 'nakhon phanom', 'nizhnyaya pavlovka', 'sainte-suzanne', 'vestmannaeyjar', 'airai', 'kavaratti', 'ancud', 'batagay-alyta', 'lavrentiya', 'progreso', 'san cristobal', 'platanos', 'djambala', 'lebu', 'safaga', 'pisco', 'valvedditturai', 'hohhot', 'beidao', 'bubaque', 'leibnitz', 'pedasi', 'turbat', 'hoquiam', 'tokur', 'warqla', 'lufilufi', 'oranjestad', 'mandalgovi', 'las juntas', 'birjand', 'bandarbeyla', 'malanje', 'elko', 'saint-augustin', 'kupino', 'bulawayo', 'qaqortoq', 'jishui', 'teya', 'tuatapere', 'lasa', 'bayan', 'saint-pierre', 'porto novo', 'sobolevo', 'pauini', 'karratha', 'hachinohe', 'hoima', 'verkhnetulomskiy', 'koindu', 'bahia blanca', 'deputatskiy', 'grindavik', 'rio branco', 'kurumkan', 'mareeba', 'nanortalik', 'berezovyy', 'port lincoln', 'pathein', 'attawapiskat', 'logan', 'paamiut', 'inhambane', 'iquique', 'troitskoye', 'rosetta', 'grootfontein', 'honiara', 'huanren', 'lac du bonnet', 'nizwa', 'bytow', 'zaranj', 'devils lake', 'chipinge', 'bereda', 'turayf', 'riberalta', 'canberra', 'kirovskiy', 'kirakira', 'yerbogachen', 'voi', 'marv dasht', 'jilib', 'amderma', 'arrecife', 'acapulco', 'taoudenni', 'tigil', 'grants', 'the valley', 'muli', 'namwala', 'fukue', 'upata', 'virar', 'truth or consequences', 'at-bashi', 'muros', 'biak', 'atar', 'hegang', 'merthyr tydfil', 'anloga', 'ola', 'dukat', 'iranshahr', 'weiser', 'flinders', 'davila', 'ponta delgada', 'impfondo', 'sandwick', 'lenger', 'cabo san lucas', 'sterling', 'kalaleh', 'kita', 'shingu', 'ximei', 'sovetskaya gavan', 'waldshut-tiengen', 'vagur', 'ardistan', 'rawannawi', 'magdalena', 'srednekolymsk', 'ternate', 'gurgan', 'baruun-urt', 'san quintin', 'kalianget', 'chimbote', 'diapaga', 'kidal', 'dragomiresti', 'armacao dos buzios', 'waingapu', 'nalut', 'pilar', 'kangaba', 'bonavista', 'havelock', 'bargal', 'mehamn', 'mujiayingzi', 'namatanai', 'rafai', 'malindi', 'sungaipenuh', 'jalu', 'madera', 'ambon', 'samalaeulu', 'mayumba', 'karkaralinsk', 'naze', 'lashio', 'puerto escondido', 'faya', 'anderson', 'perivolion', 'beyneu', 'umzimvubu', 'neryungri', 'benguela', 'abhar', 'poputnaya', 'rohru', 'dawei', 'baykit', 'durban', 'matara', 'belyy yar', 'gizo', 'novo aripuana', 'henties bay', 'yertsevo', 'coruripe', 'filingue', 'noumea', 'filadelfia', 'akdepe', 'dhidhdhoo', 'san rafael', 'saint anthony', 'ouadda', 'miraflores', 'ballina', 'dzhebariki-khaya', 'asau', 'kango', 'dunkwa', 'candelaria', 'deloraine', 'vardo', 'isla vista', 'general cepeda', 'pak phanang', 'okhotsk', 'salalah', 'qabis', 'coro', 'shelburne', 'ambodifototra', 'majene', 'rongcheng', 'anzio', 'garowe', 'posse', 'gillette', 'pareora', 'sao manuel', 'suntar', 'felanitx', 'san carlos de bariloche', 'wufeng', 'lompoc', 'levelland', 'ilulissat', 'ulaangom', 'dois vizinhos', 'banepa', 'alta floresta', 'belgrade', 'camana', 'prado', 'sotouboua', 'tabiauea', 'ouahigouya', 'yumen', 'luganville', 'opuwo', 'gold coast', 'dunedin', 'rio grande da serra', 'tilichiki', 'denau']\n"
     ]
    }
   ],
   "source": [
    "# List for holding lat_lngs and cities\n",
    "lat_lngs = []\n",
    "cities = []\n",
    "\n",
    "# Create a set of random lat and lng combinations\n",
    "lats = np.random.uniform(lat_range[0], lat_range[1], size=1500)\n",
    "lngs = np.random.uniform(lng_range[0], lng_range[1], size=1500)\n",
    "lat_lngs = zip(lats, lngs)\n",
    "\n",
    "# Identify nearest city for each lat, lng combination\n",
    "for lat_lng in lat_lngs:\n",
    "    city = citipy.nearest_city(lat_lng[0], lat_lng[1]).city_name\n",
    "    \n",
    "    # If the city is unique, then add it to a our cities list\n",
    "    if city not in cities:\n",
    "        cities.append(city)\n",
    "\n",
    "# Print the city count to confirm sufficient count\n",
    "print(len(cities))\n",
    "print(cities)"
   ]
  },
  {
   "cell_type": "markdown",
   "metadata": {},
   "source": [
    "### Perform API Calls\n",
    "* Perform a weather check on each city using a series of successive API calls.\n",
    "* Include a print log of each city as it'sbeing processed (with the city number and city name).\n"
   ]
  },
  {
   "cell_type": "code",
   "execution_count": 52,
   "metadata": {
    "scrolled": true,
    "tags": [
     "outputPrepend"
    ]
   },
   "outputs": [
    {
     "output_type": "stream",
     "name": "stdout",
     "text": [
      "Pedasi is Rain with a temp of 27.64 degrees F\n",
      "Getting data for city: Turbat\n",
      "The weather in Turbat is Clear with a temp of 22.58 degrees F\n",
      "Getting data for city: Hoquiam\n",
      "The weather in Hoquiam is Clouds with a temp of 15.36 degrees F\n",
      "Getting data for city: Tokur\n",
      "The weather in Tokur is Clouds with a temp of -6.32 degrees F\n",
      "No data found for Warqla\n",
      "Getting data for city: Lufilufi\n",
      "The weather in Lufilufi is Clouds with a temp of 23 degrees F\n",
      "Getting data for city: Oranjestad\n",
      "The weather in Oranjestad is Clouds with a temp of 30 degrees F\n",
      "Getting data for city: Mandalgovi\n",
      "The weather in Mandalgovi is Clouds with a temp of -2.12 degrees F\n",
      "Getting data for city: Las juntas\n",
      "The weather in Las juntas is Clouds with a temp of 32 degrees F\n",
      "Getting data for city: Birjand\n",
      "The weather in Birjand is Clear with a temp of 11 degrees F\n",
      "Getting data for city: Bandarbeyla\n",
      "The weather in Bandarbeyla is Clouds with a temp of 26.31 degrees F\n",
      "Getting data for city: Malanje\n",
      "The weather in Malanje is Rain with a temp of 22.97 degrees F\n",
      "Getting data for city: Elko\n",
      "The weather in Elko is Clear with a temp of 18.07 degrees F\n",
      "Getting data for city: Saint-augustin\n",
      "The weather in Saint-augustin is Clear with a temp of 10.12 degrees F\n",
      "Getting data for city: Kupino\n",
      "The weather in Kupino is Clouds with a temp of 7.58 degrees F\n",
      "Getting data for city: Bulawayo\n",
      "The weather in Bulawayo is Clear with a temp of 22.64 degrees F\n",
      "Getting data for city: Qaqortoq\n",
      "The weather in Qaqortoq is Clouds with a temp of 6 degrees F\n",
      "Getting data for city: Jishui\n",
      "The weather in Jishui is Clouds with a temp of 16.03 degrees F\n",
      "Getting data for city: Teya\n",
      "The weather in Teya is Clouds with a temp of -0.5 degrees F\n",
      "Getting data for city: Tuatapere\n",
      "The weather in Tuatapere is Clouds with a temp of 6.67 degrees F\n",
      "Getting data for city: Lasa\n",
      "The weather in Lasa is Clear with a temp of 4.81 degrees F\n",
      "Getting data for city: Bayan\n",
      "The weather in Bayan is Clouds with a temp of 1.67 degrees F\n",
      "Getting data for city: Saint-pierre\n",
      "The weather in Saint-pierre is Clouds with a temp of 20.85 degrees F\n",
      "Getting data for city: Porto novo\n",
      "The weather in Porto novo is Clouds with a temp of 28 degrees F\n",
      "Getting data for city: Sobolevo\n",
      "The weather in Sobolevo is Clouds with a temp of 13.54 degrees F\n",
      "Getting data for city: Pauini\n",
      "The weather in Pauini is Clouds with a temp of 36.63 degrees F\n",
      "Getting data for city: Karratha\n",
      "The weather in Karratha is Rain with a temp of 26.47 degrees F\n",
      "Getting data for city: Hachinohe\n",
      "The weather in Hachinohe is Clouds with a temp of 11 degrees F\n",
      "Getting data for city: Hoima\n",
      "The weather in Hoima is Clouds with a temp of 17.78 degrees F\n",
      "Getting data for city: Verkhnetulomskiy\n",
      "The weather in Verkhnetulomskiy is Clouds with a temp of 2 degrees F\n",
      "Getting data for city: Koindu\n",
      "The weather in Koindu is Rain with a temp of 23.68 degrees F\n",
      "Getting data for city: Bahia blanca\n",
      "The weather in Bahia blanca is Clear with a temp of 29.08 degrees F\n",
      "Getting data for city: Deputatskiy\n",
      "The weather in Deputatskiy is Clouds with a temp of -11.42 degrees F\n",
      "Getting data for city: Grindavik\n",
      "The weather in Grindavik is Clouds with a temp of 8 degrees F\n",
      "Getting data for city: Rio branco\n",
      "The weather in Rio branco is Clouds with a temp of 35 degrees F\n",
      "Getting data for city: Kurumkan\n",
      "The weather in Kurumkan is Clear with a temp of -4.7 degrees F\n",
      "Getting data for city: Mareeba\n",
      "The weather in Mareeba is Clouds with a temp of 21.1 degrees F\n",
      "Getting data for city: Nanortalik\n",
      "The weather in Nanortalik is Rain with a temp of 3.67 degrees F\n",
      "Getting data for city: Berezovyy\n",
      "The weather in Berezovyy is Clear with a temp of -1.46 degrees F\n",
      "Getting data for city: Port lincoln\n",
      "The weather in Port lincoln is Clouds with a temp of 16.21 degrees F\n",
      "Getting data for city: Pathein\n",
      "The weather in Pathein is Clouds with a temp of 24.27 degrees F\n",
      "No data found for Attawapiskat\n",
      "Getting data for city: Logan\n",
      "The weather in Logan is Clear with a temp of 15.53 degrees F\n",
      "Getting data for city: Paamiut\n",
      "The weather in Paamiut is Clouds with a temp of 2.84 degrees F\n",
      "Getting data for city: Inhambane\n",
      "The weather in Inhambane is Clouds with a temp of 22.89 degrees F\n",
      "Getting data for city: Iquique\n",
      "The weather in Iquique is Clouds with a temp of 19 degrees F\n",
      "Getting data for city: Troitskoye\n",
      "The weather in Troitskoye is Clouds with a temp of 3.43 degrees F\n",
      "Getting data for city: Rosetta\n",
      "The weather in Rosetta is Clouds with a temp of 25 degrees F\n",
      "Getting data for city: Grootfontein\n",
      "The weather in Grootfontein is Clear with a temp of 24.4 degrees F\n",
      "Getting data for city: Honiara\n",
      "The weather in Honiara is Clouds with a temp of 24 degrees F\n",
      "Getting data for city: Huanren\n",
      "The weather in Huanren is Clouds with a temp of 0.94 degrees F\n",
      "Getting data for city: Lac du bonnet\n",
      "The weather in Lac du bonnet is Clouds with a temp of 8.08 degrees F\n",
      "Getting data for city: Nizwa\n",
      "The weather in Nizwa is Clear with a temp of 24.98 degrees F\n",
      "Getting data for city: Bytow\n",
      "The weather in Bytow is Clouds with a temp of 10.83 degrees F\n",
      "Getting data for city: Zaranj\n",
      "The weather in Zaranj is Clear with a temp of 18 degrees F\n",
      "Getting data for city: Devils lake\n",
      "The weather in Devils lake is Clear with a temp of 10 degrees F\n",
      "Getting data for city: Chipinge\n",
      "The weather in Chipinge is Clouds with a temp of 16.53 degrees F\n",
      "Getting data for city: Bereda\n",
      "The weather in Bereda is Clouds with a temp of 11.8 degrees F\n",
      "Getting data for city: Turayf\n",
      "The weather in Turayf is Clouds with a temp of 27 degrees F\n",
      "Getting data for city: Riberalta\n",
      "The weather in Riberalta is Smoke with a temp of 35 degrees F\n",
      "Getting data for city: Canberra\n",
      "The weather in Canberra is Clouds with a temp of 11.82 degrees F\n",
      "Getting data for city: Kirovskiy\n",
      "The weather in Kirovskiy is Clouds with a temp of 2.48 degrees F\n",
      "Getting data for city: Kirakira\n",
      "The weather in Kirakira is Clouds with a temp of 26.11 degrees F\n",
      "Getting data for city: Yerbogachen\n",
      "The weather in Yerbogachen is Clouds with a temp of -4.39 degrees F\n",
      "Getting data for city: Voi\n",
      "The weather in Voi is Clouds with a temp of 24.15 degrees F\n",
      "No data found for Marv dasht\n",
      "Getting data for city: Jilib\n",
      "The weather in Jilib is Clouds with a temp of 25.55 degrees F\n",
      "No data found for Amderma\n",
      "Getting data for city: Arrecife\n",
      "The weather in Arrecife is Clear with a temp of 25 degrees F\n",
      "Getting data for city: Acapulco\n",
      "The weather in Acapulco is Clouds with a temp of 31 degrees F\n",
      "Getting data for city: Taoudenni\n",
      "The weather in Taoudenni is Clouds with a temp of 36.52 degrees F\n",
      "Getting data for city: Tigil\n",
      "The weather in Tigil is Clouds with a temp of 3.17 degrees F\n",
      "Getting data for city: Grants\n",
      "The weather in Grants is Clear with a temp of 19 degrees F\n",
      "Getting data for city: The valley\n",
      "The weather in The valley is Clouds with a temp of 29.51 degrees F\n",
      "Getting data for city: Muli\n",
      "The weather in Muli is Rain with a temp of 28.44 degrees F\n",
      "Getting data for city: Namwala\n",
      "The weather in Namwala is Clouds with a temp of 24.16 degrees F\n",
      "Getting data for city: Fukue\n",
      "The weather in Fukue is Clear with a temp of 20.26 degrees F\n",
      "Getting data for city: Upata\n",
      "The weather in Upata is Rain with a temp of 30.37 degrees F\n",
      "Getting data for city: Virar\n",
      "The weather in Virar is Haze with a temp of 28 degrees F\n",
      "Getting data for city: Truth or consequences\n",
      "The weather in Truth or consequences is Clear with a temp of 23 degrees F\n",
      "Getting data for city: At-bashi\n",
      "The weather in At-bashi is Clouds with a temp of 3.19 degrees F\n",
      "Getting data for city: Muros\n",
      "The weather in Muros is Clouds with a temp of 14.74 degrees F\n",
      "Getting data for city: Biak\n",
      "The weather in Biak is Clouds with a temp of 25.38 degrees F\n",
      "Getting data for city: Atar\n",
      "The weather in Atar is Rain with a temp of 29 degrees F\n",
      "Getting data for city: Hegang\n",
      "The weather in Hegang is Clouds with a temp of -1.16 degrees F\n",
      "Getting data for city: Merthyr tydfil\n",
      "The weather in Merthyr tydfil is Rain with a temp of 9.08 degrees F\n",
      "Getting data for city: Anloga\n",
      "The weather in Anloga is Clouds with a temp of 28 degrees F\n",
      "Getting data for city: Ola\n",
      "The weather in Ola is Rain with a temp of 5.62 degrees F\n",
      "Getting data for city: Dukat\n",
      "The weather in Dukat is Clouds with a temp of -1.45 degrees F\n",
      "Getting data for city: Iranshahr\n",
      "The weather in Iranshahr is Clear with a temp of 22 degrees F\n",
      "Getting data for city: Weiser\n",
      "The weather in Weiser is Clouds with a temp of 12 degrees F\n",
      "Getting data for city: Flinders\n",
      "The weather in Flinders is Clouds with a temp of 15.09 degrees F\n",
      "Getting data for city: Davila\n",
      "The weather in Davila is Clouds with a temp of 27.19 degrees F\n",
      "Getting data for city: Ponta delgada\n",
      "The weather in Ponta delgada is Clouds with a temp of 21 degrees F\n",
      "Getting data for city: Impfondo\n",
      "The weather in Impfondo is Clouds with a temp of 23.48 degrees F\n",
      "Getting data for city: Sandwick\n",
      "The weather in Sandwick is Rain with a temp of 10 degrees F\n",
      "Getting data for city: Lenger\n",
      "The weather in Lenger is Clear with a temp of 8 degrees F\n",
      "Getting data for city: Cabo san lucas\n",
      "The weather in Cabo san lucas is Clouds with a temp of 25.76 degrees F\n",
      "Getting data for city: Sterling\n",
      "The weather in Sterling is Clouds with a temp of 20.04 degrees F\n",
      "Getting data for city: Kalaleh\n",
      "The weather in Kalaleh is Clear with a temp of 16 degrees F\n",
      "Getting data for city: Kita\n",
      "The weather in Kita is Clouds with a temp of 29.49 degrees F\n",
      "Getting data for city: Shingu\n",
      "The weather in Shingu is Clear with a temp of 16.02 degrees F\n",
      "Getting data for city: Ximei\n",
      "The weather in Ximei is Clouds with a temp of 24 degrees F\n",
      "Getting data for city: Sovetskaya gavan\n",
      "The weather in Sovetskaya gavan is Clear with a temp of 2.03 degrees F\n",
      "Getting data for city: Waldshut-tiengen\n",
      "The weather in Waldshut-tiengen is Clouds with a temp of 8 degrees F\n",
      "Getting data for city: Vagur\n",
      "The weather in Vagur is Clear with a temp of 8.56 degrees F\n",
      "No data found for Ardistan\n",
      "No data found for Rawannawi\n",
      "Getting data for city: Magdalena\n",
      "The weather in Magdalena is Clouds with a temp of 26.18 degrees F\n",
      "Getting data for city: Srednekolymsk\n",
      "The weather in Srednekolymsk is Clouds with a temp of 2.54 degrees F\n",
      "Getting data for city: Ternate\n",
      "The weather in Ternate is Clouds with a temp of 26.64 degrees F\n",
      "No data found for Gurgan\n",
      "Getting data for city: Baruun-urt\n",
      "The weather in Baruun-urt is Clear with a temp of -5.65 degrees F\n",
      "Getting data for city: San quintin\n",
      "The weather in San quintin is Clear with a temp of 31.14 degrees F\n",
      "Getting data for city: Kalianget\n",
      "The weather in Kalianget is Clouds with a temp of 27.61 degrees F\n",
      "Getting data for city: Chimbote\n",
      "The weather in Chimbote is Clouds with a temp of 20.02 degrees F\n",
      "Getting data for city: Diapaga\n",
      "The weather in Diapaga is Clouds with a temp of 32.15 degrees F\n",
      "Getting data for city: Kidal\n",
      "The weather in Kidal is Clear with a temp of 36.19 degrees F\n",
      "Getting data for city: Dragomiresti\n",
      "The weather in Dragomiresti is Clouds with a temp of 8.33 degrees F\n",
      "No data found for Armacao dos buzios\n",
      "Getting data for city: Waingapu\n",
      "The weather in Waingapu is Clouds with a temp of 26.26 degrees F\n",
      "Getting data for city: Nalut\n",
      "The weather in Nalut is Clear with a temp of 18.39 degrees F\n",
      "Getting data for city: Pilar\n",
      "The weather in Pilar is Clouds with a temp of 29 degrees F\n",
      "Getting data for city: Kangaba\n",
      "The weather in Kangaba is Clouds with a temp of 28.2 degrees F\n",
      "Getting data for city: Bonavista\n",
      "The weather in Bonavista is Clear with a temp of 11.11 degrees F\n",
      "Getting data for city: Havelock\n",
      "The weather in Havelock is Clouds with a temp of 25.12 degrees F\n",
      "No data found for Bargal\n",
      "Getting data for city: Mehamn\n",
      "The weather in Mehamn is Clouds with a temp of 2 degrees F\n",
      "Getting data for city: Mujiayingzi\n",
      "The weather in Mujiayingzi is Clouds with a temp of -0.19 degrees F\n",
      "Getting data for city: Namatanai\n",
      "The weather in Namatanai is Rain with a temp of 24.87 degrees F\n",
      "Getting data for city: Rafai\n",
      "The weather in Rafai is Clouds with a temp of 22.05 degrees F\n",
      "Getting data for city: Malindi\n",
      "The weather in Malindi is Clear with a temp of 26.08 degrees F\n",
      "Getting data for city: Sungaipenuh\n",
      "The weather in Sungaipenuh is Clouds with a temp of 18.9 degrees F\n",
      "Getting data for city: Jalu\n",
      "The weather in Jalu is Clouds with a temp of 25.86 degrees F\n",
      "Getting data for city: Madera\n",
      "The weather in Madera is Clear with a temp of 25.48 degrees F\n",
      "Getting data for city: Ambon\n",
      "The weather in Ambon is Clouds with a temp of 24.26 degrees F\n",
      "No data found for Samalaeulu\n",
      "Getting data for city: Mayumba\n",
      "The weather in Mayumba is Clouds with a temp of 24.32 degrees F\n",
      "No data found for Karkaralinsk\n",
      "Getting data for city: Naze\n",
      "The weather in Naze is Clouds with a temp of 22 degrees F\n",
      "Getting data for city: Lashio\n",
      "The weather in Lashio is Clouds with a temp of 18.36 degrees F\n",
      "Getting data for city: Puerto escondido\n",
      "The weather in Puerto escondido is Clouds with a temp of 31 degrees F\n",
      "Getting data for city: Faya\n",
      "The weather in Faya is Clear with a temp of 18 degrees F\n",
      "Getting data for city: Anderson\n",
      "The weather in Anderson is Clear with a temp of 25.75 degrees F\n",
      "Getting data for city: Perivolion\n",
      "The weather in Perivolion is Clouds with a temp of 14.68 degrees F\n",
      "Getting data for city: Beyneu\n",
      "The weather in Beyneu is Clouds with a temp of 12.87 degrees F\n",
      "No data found for Umzimvubu\n",
      "Getting data for city: Neryungri\n",
      "The weather in Neryungri is Clouds with a temp of -9.43 degrees F\n",
      "Getting data for city: Benguela\n",
      "The weather in Benguela is Clouds with a temp of 23.31 degrees F\n",
      "Getting data for city: Abhar\n",
      "The weather in Abhar is Clear with a temp of 12.02 degrees F\n",
      "Getting data for city: Poputnaya\n",
      "The weather in Poputnaya is Clouds with a temp of 16 degrees F\n",
      "Getting data for city: Rohru\n",
      "The weather in Rohru is Clear with a temp of 12.87 degrees F\n",
      "Getting data for city: Dawei\n",
      "The weather in Dawei is Rain with a temp of 23.47 degrees F\n",
      "Getting data for city: Baykit\n",
      "The weather in Baykit is Clouds with a temp of -3.86 degrees F\n",
      "Getting data for city: Durban\n",
      "The weather in Durban is Clouds with a temp of 18.99 degrees F\n",
      "Getting data for city: Matara\n",
      "The weather in Matara is Rain with a temp of 25.99 degrees F\n",
      "Getting data for city: Belyy yar\n",
      "The weather in Belyy yar is Rain with a temp of 4 degrees F\n",
      "Getting data for city: Gizo\n",
      "The weather in Gizo is Rain with a temp of 25.81 degrees F\n",
      "Getting data for city: Novo aripuana\n",
      "The weather in Novo aripuana is Rain with a temp of 34.9 degrees F\n",
      "Getting data for city: Henties bay\n",
      "The weather in Henties bay is Clear with a temp of 14.44 degrees F\n",
      "Getting data for city: Yertsevo\n",
      "The weather in Yertsevo is Clouds with a temp of 10 degrees F\n",
      "Getting data for city: Coruripe\n",
      "The weather in Coruripe is Clouds with a temp of 26.88 degrees F\n",
      "Getting data for city: Filingue\n",
      "The weather in Filingue is Clouds with a temp of 36.75 degrees F\n",
      "Getting data for city: Noumea\n",
      "The weather in Noumea is Clouds with a temp of 21 degrees F\n",
      "Getting data for city: Filadelfia\n",
      "The weather in Filadelfia is Clouds with a temp of 17.52 degrees F\n",
      "Getting data for city: Akdepe\n",
      "The weather in Akdepe is Clear with a temp of 11.01 degrees F\n",
      "Getting data for city: Dhidhdhoo\n",
      "The weather in Dhidhdhoo is Rain with a temp of 28.48 degrees F\n",
      "Getting data for city: San rafael\n",
      "The weather in San rafael is Clear with a temp of 30.31 degrees F\n",
      "Getting data for city: Saint anthony\n",
      "The weather in Saint anthony is Clear with a temp of 14.99 degrees F\n",
      "Getting data for city: Ouadda\n",
      "The weather in Ouadda is Clouds with a temp of 21.37 degrees F\n",
      "Getting data for city: Miraflores\n",
      "The weather in Miraflores is Clouds with a temp of 21.97 degrees F\n",
      "Getting data for city: Ballina\n",
      "The weather in Ballina is Clouds with a temp of 12.18 degrees F\n",
      "Getting data for city: Dzhebariki-khaya\n",
      "The weather in Dzhebariki-khaya is Clouds with a temp of -3.54 degrees F\n",
      "Getting data for city: Asau\n",
      "The weather in Asau is Clouds with a temp of 11.67 degrees F\n",
      "Getting data for city: Kango\n",
      "The weather in Kango is Rain with a temp of 23.75 degrees F\n",
      "Getting data for city: Dunkwa\n",
      "The weather in Dunkwa is Rain with a temp of 24.06 degrees F\n",
      "Getting data for city: Candelaria\n",
      "The weather in Candelaria is Rain with a temp of 26.11 degrees F\n",
      "Getting data for city: Deloraine\n",
      "The weather in Deloraine is Clouds with a temp of 4.34 degrees F\n",
      "Getting data for city: Vardo\n",
      "The weather in Vardo is Rain with a temp of 2 degrees F\n",
      "Getting data for city: Isla vista\n",
      "The weather in Isla vista is Clear with a temp of 25.62 degrees F\n",
      "Getting data for city: General cepeda\n",
      "The weather in General cepeda is Clear with a temp of 25 degrees F\n",
      "Getting data for city: Pak phanang\n",
      "The weather in Pak phanang is Clouds with a temp of 25.7 degrees F\n",
      "Getting data for city: Okhotsk\n",
      "The weather in Okhotsk is Rain with a temp of 8.4 degrees F\n",
      "Getting data for city: Salalah\n",
      "The weather in Salalah is Clouds with a temp of 28 degrees F\n",
      "No data found for Qabis\n",
      "Getting data for city: Coro\n",
      "The weather in Coro is Clouds with a temp of 32.85 degrees F\n",
      "Getting data for city: Shelburne\n",
      "The weather in Shelburne is Clear with a temp of 15.32 degrees F\n",
      "No data found for Ambodifototra\n",
      "Getting data for city: Majene\n",
      "The weather in Majene is Clouds with a temp of 26.15 degrees F\n",
      "Getting data for city: Rongcheng\n",
      "The weather in Rongcheng is Clear with a temp of 16.71 degrees F\n",
      "Getting data for city: Anzio\n",
      "The weather in Anzio is Clouds with a temp of 14.6 degrees F\n",
      "Getting data for city: Garowe\n",
      "The weather in Garowe is Clear with a temp of 29 degrees F\n",
      "Getting data for city: Posse\n",
      "The weather in Posse is Clouds with a temp of 32.76 degrees F\n",
      "Getting data for city: Gillette\n",
      "The weather in Gillette is Clear with a temp of 11.66 degrees F\n",
      "Getting data for city: Pareora\n",
      "The weather in Pareora is Clouds with a temp of 7.78 degrees F\n",
      "Getting data for city: Sao manuel\n",
      "The weather in Sao manuel is Clear with a temp of 35 degrees F\n",
      "Getting data for city: Suntar\n",
      "The weather in Suntar is Clouds with a temp of -4.68 degrees F\n",
      "Getting data for city: Felanitx\n",
      "The weather in Felanitx is Clouds with a temp of 18.98 degrees F\n",
      "Getting data for city: San carlos de bariloche\n",
      "The weather in San carlos de bariloche is Clouds with a temp of 16 degrees F\n",
      "Getting data for city: Wufeng\n",
      "The weather in Wufeng is Clouds with a temp of 10.76 degrees F\n",
      "Getting data for city: Lompoc\n",
      "The weather in Lompoc is Clear with a temp of 23.65 degrees F\n",
      "Getting data for city: Levelland\n",
      "The weather in Levelland is Clouds with a temp of 27.61 degrees F\n",
      "Getting data for city: Ilulissat\n",
      "The weather in Ilulissat is Clouds with a temp of 8 degrees F\n",
      "Getting data for city: Ulaangom\n",
      "The weather in Ulaangom is Clouds with a temp of 1.13 degrees F\n",
      "Getting data for city: Dois vizinhos\n",
      "The weather in Dois vizinhos is Clouds with a temp of 32.43 degrees F\n",
      "Getting data for city: Banepa\n",
      "The weather in Banepa is Clouds with a temp of 20 degrees F\n",
      "Getting data for city: Alta floresta\n",
      "The weather in Alta floresta is Rain with a temp of 32.29 degrees F\n",
      "Getting data for city: Belgrade\n",
      "The weather in Belgrade is Clouds with a temp of 8.54 degrees F\n",
      "Getting data for city: Camana\n",
      "The weather in Camana is Clouds with a temp of 19.18 degrees F\n",
      "Getting data for city: Prado\n",
      "The weather in Prado is Clouds with a temp of 25.54 degrees F\n",
      "Getting data for city: Sotouboua\n",
      "The weather in Sotouboua is Rain with a temp of 24.38 degrees F\n",
      "No data found for Tabiauea\n",
      "Getting data for city: Ouahigouya\n",
      "The weather in Ouahigouya is Clouds with a temp of 34.77 degrees F\n",
      "Getting data for city: Yumen\n",
      "The weather in Yumen is Clouds with a temp of 3.45 degrees F\n",
      "Getting data for city: Luganville\n",
      "The weather in Luganville is Rain with a temp of 25.72 degrees F\n",
      "Getting data for city: Opuwo\n",
      "The weather in Opuwo is Clouds with a temp of 28.97 degrees F\n",
      "Getting data for city: Gold coast\n",
      "The weather in Gold coast is Rain with a temp of 17.55 degrees F\n",
      "Getting data for city: Dunedin\n",
      "The weather in Dunedin is Clouds with a temp of 6.62 degrees F\n",
      "Getting data for city: Rio grande da serra\n",
      "The weather in Rio grande da serra is Clear with a temp of 27.75 degrees F\n",
      "Getting data for city: Tilichiki\n",
      "The weather in Tilichiki is Clouds with a temp of 1.2 degrees F\n",
      "No data found for Denau\n"
     ]
    }
   ],
   "source": [
    "for city_name in cities:\n",
    "    weather_url = f\"https://api.openweathermap.org/data/2.5/weather?q={city_name}&appid={weather_api_key}&units=metric\"\n",
    "    response = requests.get(weather_url).json()\n",
    "\n",
    "    try:\n",
    "        weather_main = response[\"weather\"][0][\"main\"]\n",
    "        weather_temp = response[\"main\"][\"temp\"]\n",
    "        print(f\"Getting data for city: {city_name.capitalize()}\")\n",
    "        print(f\"The weather in {city_name.capitalize()} is {weather_main} with a temp of {weather_temp} degrees F\")\n",
    "    except KeyError:\n",
    "        print(f\"No data found for {city_name.capitalize()}\")"
   ]
  },
  {
   "cell_type": "markdown",
   "metadata": {},
   "source": [
    "### Convert Raw Data to DataFrame\n",
    "* Export the city data into a .csv.\n",
    "* Display the DataFrame"
   ]
  },
  {
   "cell_type": "code",
   "execution_count": null,
   "metadata": {},
   "outputs": [],
   "source": []
  },
  {
   "cell_type": "code",
   "execution_count": null,
   "metadata": {},
   "outputs": [],
   "source": []
  },
  {
   "cell_type": "markdown",
   "metadata": {},
   "source": [
    "## Inspect the data and remove the cities where the humidity > 100%.\n",
    "----\n",
    "Skip this step if there are no cities that have humidity > 100%. "
   ]
  },
  {
   "cell_type": "code",
   "execution_count": null,
   "metadata": {},
   "outputs": [],
   "source": []
  },
  {
   "cell_type": "code",
   "execution_count": null,
   "metadata": {},
   "outputs": [],
   "source": [
    "#  Get the indices of cities that have humidity over 100%.\n"
   ]
  },
  {
   "cell_type": "code",
   "execution_count": null,
   "metadata": {},
   "outputs": [],
   "source": [
    "# Make a new DataFrame equal to the city data to drop all humidity outliers by index.\n",
    "# Passing \"inplace=False\" will make a copy of the city_data DataFrame, which we call \"clean_city_data\".\n"
   ]
  },
  {
   "cell_type": "code",
   "execution_count": null,
   "metadata": {},
   "outputs": [],
   "source": [
    "\n"
   ]
  },
  {
   "cell_type": "markdown",
   "metadata": {},
   "source": [
    "## Plotting the Data\n",
    "* Use proper labeling of the plots using plot titles (including date of analysis) and axes labels.\n",
    "* Save the plotted figures as .pngs."
   ]
  },
  {
   "cell_type": "markdown",
   "metadata": {},
   "source": [
    "## Latitude vs. Temperature Plot"
   ]
  },
  {
   "cell_type": "code",
   "execution_count": null,
   "metadata": {
    "scrolled": true
   },
   "outputs": [],
   "source": []
  },
  {
   "cell_type": "markdown",
   "metadata": {},
   "source": [
    "## Latitude vs. Humidity Plot"
   ]
  },
  {
   "cell_type": "code",
   "execution_count": null,
   "metadata": {},
   "outputs": [],
   "source": []
  },
  {
   "cell_type": "markdown",
   "metadata": {},
   "source": [
    "## Latitude vs. Cloudiness Plot"
   ]
  },
  {
   "cell_type": "code",
   "execution_count": null,
   "metadata": {},
   "outputs": [],
   "source": []
  },
  {
   "cell_type": "markdown",
   "metadata": {},
   "source": [
    "## Latitude vs. Wind Speed Plot"
   ]
  },
  {
   "cell_type": "code",
   "execution_count": null,
   "metadata": {},
   "outputs": [],
   "source": []
  },
  {
   "cell_type": "markdown",
   "metadata": {},
   "source": [
    "## Linear Regression"
   ]
  },
  {
   "cell_type": "code",
   "execution_count": null,
   "metadata": {},
   "outputs": [],
   "source": []
  },
  {
   "cell_type": "markdown",
   "metadata": {},
   "source": [
    "####  Northern Hemisphere - Max Temp vs. Latitude Linear Regression"
   ]
  },
  {
   "cell_type": "code",
   "execution_count": null,
   "metadata": {},
   "outputs": [],
   "source": []
  },
  {
   "cell_type": "markdown",
   "metadata": {},
   "source": [
    "####  Southern Hemisphere - Max Temp vs. Latitude Linear Regression"
   ]
  },
  {
   "cell_type": "code",
   "execution_count": null,
   "metadata": {},
   "outputs": [],
   "source": []
  },
  {
   "cell_type": "markdown",
   "metadata": {},
   "source": [
    "####  Northern Hemisphere - Humidity (%) vs. Latitude Linear Regression"
   ]
  },
  {
   "cell_type": "code",
   "execution_count": null,
   "metadata": {},
   "outputs": [],
   "source": []
  },
  {
   "cell_type": "markdown",
   "metadata": {},
   "source": [
    "####  Southern Hemisphere - Humidity (%) vs. Latitude Linear Regression"
   ]
  },
  {
   "cell_type": "code",
   "execution_count": null,
   "metadata": {},
   "outputs": [],
   "source": []
  },
  {
   "cell_type": "markdown",
   "metadata": {},
   "source": [
    "####  Northern Hemisphere - Cloudiness (%) vs. Latitude Linear Regression"
   ]
  },
  {
   "cell_type": "code",
   "execution_count": null,
   "metadata": {},
   "outputs": [],
   "source": []
  },
  {
   "cell_type": "markdown",
   "metadata": {},
   "source": [
    "####  Southern Hemisphere - Cloudiness (%) vs. Latitude Linear Regression"
   ]
  },
  {
   "cell_type": "code",
   "execution_count": null,
   "metadata": {},
   "outputs": [],
   "source": []
  },
  {
   "cell_type": "markdown",
   "metadata": {},
   "source": [
    "####  Northern Hemisphere - Wind Speed (mph) vs. Latitude Linear Regression"
   ]
  },
  {
   "cell_type": "code",
   "execution_count": null,
   "metadata": {},
   "outputs": [],
   "source": []
  },
  {
   "cell_type": "markdown",
   "metadata": {},
   "source": [
    "####  Southern Hemisphere - Wind Speed (mph) vs. Latitude Linear Regression"
   ]
  },
  {
   "cell_type": "code",
   "execution_count": null,
   "metadata": {},
   "outputs": [],
   "source": []
  },
  {
   "cell_type": "code",
   "execution_count": null,
   "metadata": {},
   "outputs": [],
   "source": []
  }
 ],
 "metadata": {
  "anaconda-cloud": {},
  "kernel_info": {
   "name": "python3"
  },
  "kernelspec": {
   "name": "Python 3.8.3 64-bit ('base': conda)",
   "display_name": "Python 3.8.3 64-bit ('base': conda)",
   "metadata": {
    "interpreter": {
     "hash": "485035c5b2a6f2b50dc2dc5ca51aeeb931032fbc9adc2e30c7c528d6bf8a9176"
    }
   }
  },
  "language_info": {
   "codemirror_mode": {
    "name": "ipython",
    "version": 3
   },
   "file_extension": ".py",
   "mimetype": "text/x-python",
   "name": "python",
   "nbconvert_exporter": "python",
   "pygments_lexer": "ipython3",
   "version": "3.8.3-final"
  },
  "latex_envs": {
   "LaTeX_envs_menu_present": true,
   "autoclose": false,
   "autocomplete": true,
   "bibliofile": "biblio.bib",
   "cite_by": "apalike",
   "current_citInitial": 1,
   "eqLabelWithNumbers": true,
   "eqNumInitial": 1,
   "hotkeys": {
    "equation": "Ctrl-E",
    "itemize": "Ctrl-I"
   },
   "labels_anchors": false,
   "latex_user_defs": false,
   "report_style_numbering": false,
   "user_envs_cfg": false
  },
  "nteract": {
   "version": "0.12.3"
  }
 },
 "nbformat": 4,
 "nbformat_minor": 2
}