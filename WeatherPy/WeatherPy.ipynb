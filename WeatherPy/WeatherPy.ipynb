{
 "cells": [
  {
   "cell_type": "markdown",
   "metadata": {},
   "source": [
    "# WeatherPy\n",
    "----\n",
    "\n",
    "#### Note\n",
    "* Instructions have been included for each segment. You do not have to follow them exactly, but they are included to help you think through the steps."
   ]
  },
  {
   "cell_type": "code",
   "execution_count": 1,
   "metadata": {
    "scrolled": true
   },
   "outputs": [],
   "source": [
    "# Dependencies and Setup\n",
    "import matplotlib.pyplot as plt\n",
    "import pandas as pd\n",
    "import numpy as np\n",
    "import requests\n",
    "import time\n",
    "import json\n",
    "from scipy.stats import linregress\n",
    "\n",
    "# Import API key\n",
    "from api_keys import weather_api_key\n",
    "\n",
    "# Incorporated citipy to determine city based on latitude and longitude\n",
    "from citipy import citipy\n",
    "\n",
    "# Output File (CSV)\n",
    "output_data_file = \"output_data/cities.csv\"\n",
    "\n",
    "# Range of latitudes and longitudes\n",
    "lat_range = (-90, 90)\n",
    "lng_range = (-180, 180)"
   ]
  },
  {
   "cell_type": "markdown",
   "metadata": {},
   "source": [
    "## Generate Cities List"
   ]
  },
  {
   "cell_type": "code",
   "execution_count": 2,
   "metadata": {},
   "outputs": [
    {
     "output_type": "stream",
     "name": "stdout",
     "text": [
      "78\n"
     ]
    }
   ],
   "source": [
    "# List for holding lat_lngs and cities\n",
    "lat_lngs = []\n",
    "cities = []\n",
    "\n",
    "# Create a set of random lat and lng combinations\n",
    "lats = np.random.uniform(lat_range[0], lat_range[1], size=100)\n",
    "lngs = np.random.uniform(lng_range[0], lng_range[1], size=100)\n",
    "lat_lngs = zip(lats, lngs)\n",
    "\n",
    "# Identify nearest city for each lat, lng combination\n",
    "for lat_lng in lat_lngs:\n",
    "    city = citipy.nearest_city(lat_lng[0], lat_lng[1]).city_name\n",
    "    \n",
    "    # If the city is unique, then add it to a our cities list\n",
    "    if city not in cities:\n",
    "        cities.append(city)\n",
    "\n",
    "# Print the city count to confirm sufficient count\n",
    "print(len(cities))"
   ]
  },
  {
   "cell_type": "markdown",
   "metadata": {},
   "source": [
    "### Perform API Calls\n",
    "* Perform a weather check on each city using a series of successive API calls.\n",
    "* Include a print log of each city as it'sbeing processed (with the city number and city name).\n"
   ]
  },
  {
   "cell_type": "code",
   "execution_count": 3,
   "metadata": {
    "scrolled": true,
    "tags": []
   },
   "outputs": [
    {
     "output_type": "stream",
     "name": "stdout",
     "text": [
      "Beginning Data Retrieval\n",
      "------------------------------\n",
      "Processing record 0 | Vaini\n",
      "Data visual: 1\n",
      "\n",
      "No data found for Illoqqortoormiut. Skipping...\n",
      "Data visual: 2\n",
      "\n",
      "Processing record 2 | Deputatskiy\n",
      "Data visual: 3\n",
      "\n",
      "No data found for Tuggurt. Skipping...\n",
      "Data visual: 4\n",
      "\n",
      "Processing record 4 | Busselton\n",
      "Data visual: 5\n",
      "\n",
      "Processing record 5 | Powell\n",
      "Data visual: 6\n",
      "\n",
      "Processing record 6 | Port hardy\n",
      "Data visual: 7\n",
      "\n",
      "Processing record 7 | Fortuna\n",
      "Data visual: 8\n",
      "\n",
      "Processing record 8 | Nabire\n",
      "Data visual: 9\n",
      "\n",
      "Processing record 9 | Punta arenas\n",
      "Data visual: 10\n",
      "\n",
      "Processing record 10 | Hilo\n",
      "Data visual: 11\n",
      "\n",
      "Processing record 11 | Los llanos de aridane\n",
      "Data visual: 12\n",
      "\n",
      "Processing record 12 | Bowen\n",
      "Data visual: 13\n",
      "\n",
      "Processing record 13 | Fuling\n",
      "Data visual: 14\n",
      "\n",
      "Processing record 14 | Mar del plata\n",
      "Data visual: 15\n",
      "\n",
      "Processing record 15 | Airai\n",
      "Data visual: 16\n",
      "\n",
      "Processing record 16 | Pilar\n",
      "Data visual: 17\n",
      "\n",
      "No data found for Umm jarr. Skipping...\n",
      "Data visual: 18\n",
      "\n",
      "Processing record 18 | Ushuaia\n",
      "Data visual: 19\n",
      "\n",
      "Processing record 19 | East london\n",
      "Data visual: 20\n",
      "\n",
      "Processing record 20 | Lavrentiya\n",
      "Data visual: 21\n",
      "\n",
      "Processing record 21 | Lebu\n",
      "Data visual: 22\n",
      "\n",
      "Processing record 22 | Vostok\n",
      "Data visual: 23\n",
      "\n",
      "Processing record 23 | Khatanga\n",
      "Data visual: 24\n",
      "\n",
      "Processing record 24 | Chuy\n",
      "Data visual: 25\n",
      "\n",
      "Processing record 25 | Prince rupert\n",
      "Data visual: 26\n",
      "\n",
      "Processing record 26 | Linden\n",
      "Data visual: 27\n",
      "\n",
      "Processing record 27 | Namibe\n",
      "Data visual: 28\n",
      "\n",
      "Processing record 28 | Sayyan\n",
      "Data visual: 29\n",
      "\n",
      "Processing record 29 | Longyearbyen\n",
      "Data visual: 30\n",
      "\n",
      "Processing record 30 | Tuktoyaktuk\n",
      "Data visual: 31\n",
      "\n",
      "Processing record 31 | Severo-kurilsk\n",
      "Data visual: 32\n",
      "\n",
      "Processing record 32 | Ligayan\n",
      "Data visual: 33\n",
      "\n",
      "Processing record 33 | Port said\n",
      "Data visual: 34\n",
      "\n",
      "Processing record 34 | Itaunja\n",
      "Data visual: 35\n",
      "\n",
      "Processing record 35 | Mataura\n",
      "Data visual: 36\n",
      "\n",
      "Processing record 36 | Hermanus\n",
      "Data visual: 37\n",
      "\n",
      "Processing record 37 | Albany\n",
      "Data visual: 38\n",
      "\n",
      "Processing record 38 | Jumla\n",
      "Data visual: 39\n",
      "\n",
      "Processing record 39 | Leningradskiy\n",
      "Data visual: 40\n",
      "\n",
      "Processing record 40 | Puerto ayora\n",
      "Data visual: 41\n",
      "\n",
      "Processing record 41 | Jamestown\n",
      "Data visual: 42\n",
      "\n",
      "No data found for Tabiauea. Skipping...\n",
      "Data visual: 43\n",
      "\n",
      "Processing record 43 | Sao joao da barra\n",
      "Data visual: 44\n",
      "\n",
      "Processing record 44 | Madison\n",
      "Data visual: 45\n",
      "\n",
      "Processing record 45 | Nacozari\n",
      "Data visual: 46\n",
      "\n",
      "Processing record 46 | Saint-philippe\n",
      "Data visual: 47\n",
      "\n",
      "Processing record 47 | Berlevag\n",
      "Data visual: 48\n",
      "\n",
      "Processing record 48 | Carnarvon\n",
      "Data visual: 49\n",
      "\n",
      "Processing record 49 | Stykkisholmur\n",
      "Data visual: 50\n",
      "\n",
      "Processing record 50 | Flin flon\n",
      "Data visual: 51\n",
      "\n",
      "Processing record 51 | Lompoc\n",
      "Data visual: 52\n",
      "\n",
      "No data found for Barentsburg. Skipping...\n",
      "Data visual: 53\n",
      "\n",
      "Processing record 53 | Dikson\n",
      "Data visual: 54\n",
      "\n",
      "Processing record 54 | Bathsheba\n",
      "Data visual: 55\n",
      "\n",
      "Processing record 55 | Yellowknife\n",
      "Data visual: 56\n",
      "\n",
      "Processing record 56 | Rikitea\n",
      "Data visual: 57\n",
      "\n",
      "Processing record 57 | Thompson\n",
      "Data visual: 58\n",
      "\n",
      "No data found for Coetupo. Skipping...\n",
      "Data visual: 59\n",
      "\n",
      "Processing record 59 | Mahebourg\n",
      "Data visual: 60\n",
      "\n",
      "Processing record 60 | Oussouye\n",
      "Data visual: 61\n",
      "\n",
      "No data found for Samalaeulu. Skipping...\n",
      "Data visual: 62\n",
      "\n",
      "Processing record 62 | Hithadhoo\n",
      "Data visual: 63\n",
      "\n",
      "Processing record 63 | Thinadhoo\n",
      "Data visual: 64\n",
      "\n",
      "Processing record 64 | Provideniya\n",
      "Data visual: 65\n",
      "\n",
      "Processing record 65 | Ribeira grande\n",
      "Data visual: 66\n",
      "\n",
      "No data found for Sorvag. Skipping...\n",
      "Data visual: 67\n",
      "\n",
      "Processing record 67 | Kyren\n",
      "Data visual: 68\n",
      "\n",
      "Processing record 68 | Clyde river\n",
      "Data visual: 69\n",
      "\n",
      "No data found for Saleaula. Skipping...\n",
      "Data visual: 70\n",
      "\n",
      "Processing record 70 | Cherepanovo\n",
      "Data visual: 71\n",
      "\n",
      "Processing record 71 | Kizukuri\n",
      "Data visual: 72\n",
      "\n",
      "Processing record 72 | Najran\n",
      "Data visual: 73\n",
      "\n",
      "Processing record 73 | Norman wells\n",
      "Data visual: 74\n",
      "\n",
      "Processing record 74 | Pemba\n",
      "Data visual: 75\n",
      "\n",
      "Processing record 75 | Atuona\n",
      "Data visual: 76\n",
      "\n",
      "Processing record 76 | Defiance\n",
      "Data visual: 77\n",
      "\n",
      "Processing record 77 | Gold coast\n",
      "Data visual: 78\n",
      "\n",
      "-----------------------------\n",
      "Data Retrieval Complete\n",
      "-----------------------------\n",
      "Number of Skips: 9\n"
     ]
    }
   ],
   "source": [
    "#Creating lists to hold values to later populate dataframe\n",
    "lats = []\n",
    "lons = []\n",
    "max_temps = []\n",
    "humidities = []\n",
    "clouds = []\n",
    "wind_speeds = []\n",
    "countries =  []\n",
    "dates = []\n",
    "skip_counter = 0\n",
    "\n",
    "#Beginning of print process\n",
    "print(\"Beginning Data Retrieval\")\n",
    "print(\"------------------------------\")\n",
    "\n",
    "#Loop through each city in cities and generate json link to pull data\n",
    "for name in cities:\n",
    "    weather_url = f\"https://api.openweathermap.org/data/2.5/weather?q={name}&appid={weather_api_key}&units=metric\"\n",
    "    response = requests.get(weather_url).json()\n",
    "\n",
    "    #Catch exception in case no data found for selected city\n",
    "    try:\n",
    "        #Store data into variables\n",
    "        lat = response[\"coord\"][\"lat\"]\n",
    "        lon = response[\"coord\"][\"lon\"]\n",
    "        max_temp = response[\"main\"][\"temp_max\"]\n",
    "        humidity = response[\"main\"][\"humidity\"]\n",
    "        cloudiness = response[\"clouds\"][\"all\"]\n",
    "        wind_speed = response[\"wind\"][\"speed\"]\n",
    "        country = response[\"sys\"][\"country\"]\n",
    "        date = response[\"dt\"]\n",
    "\n",
    "        #Append data to corresponding lists\n",
    "        lats.append(lat)\n",
    "        lons.append(lon)\n",
    "        max_temps.append(max_temp)\n",
    "        humidities.append(humidity)\n",
    "        clouds.append(cloudiness)\n",
    "        wind_speeds.append(wind_speed)\n",
    "        countries.append(country)\n",
    "        dates.append(date)\n",
    "\n",
    "        #Print log of city being processed\n",
    "        print(f\"Processing record {cities.index(name)} | {name.capitalize()}\")\n",
    "        print(f\"Data visual: {len(lats)}\\n\")\n",
    "    except KeyError:\n",
    "        print(f\"No data found for {name.capitalize()}. Skipping...\")\n",
    "\n",
    "        #Remove city from cities list for easier dataframe creation later\n",
    "        #cities.remove(name)\n",
    "        lats.append(\"\")\n",
    "        lons.append(\"\")\n",
    "        max_temps.append(\"\")\n",
    "        humidities.append(\"\")\n",
    "        clouds.append(\"\")\n",
    "        wind_speeds.append(\"\")\n",
    "        countries.append(\"\")\n",
    "        dates.append(\"\")\n",
    "        print(f\"Data visual: {len(lats)}\\n\")\n",
    "        skip_counter += 1\n",
    "\n",
    "#End of print process\n",
    "print(\"-----------------------------\")\n",
    "print(\"Data Retrieval Complete\")\n",
    "print(\"-----------------------------\")\n",
    "\n",
    "print(f\"Number of Skips: {skip_counter}\")"
   ]
  },
  {
   "cell_type": "markdown",
   "metadata": {},
   "source": [
    "### Convert Raw Data to DataFrame\n",
    "* Export the city data into a .csv.\n",
    "* Display the DataFrame"
   ]
  },
  {
   "cell_type": "code",
   "execution_count": 5,
   "metadata": {},
   "outputs": [
    {
     "output_type": "execute_result",
     "data": {
      "text/plain": [
       "            City    Lat     Lon Max Temp Humidity Cloudiness Wind Speed  \\\n",
       "0          vaini  -21.2  -175.2       21       83         40        3.1   \n",
       "2    deputatskiy   69.3   139.9   -10.57       98         99       1.34   \n",
       "4      busselton -33.65  115.33    13.89       67          0       5.77   \n",
       "5         powell  40.16  -83.08    12.78       76          1        1.5   \n",
       "6     port hardy   50.7 -127.42        8      100         90       2.38   \n",
       "..           ...    ...     ...      ...      ...        ...        ...   \n",
       "73  norman wells  65.28 -126.83       -7       85         90        3.6   \n",
       "74         pemba -12.97   40.52    26.19       75          0      10.13   \n",
       "75        atuona   -9.8 -139.03     25.1       75         34       9.62   \n",
       "76      defiance  41.33  -84.45        9       81          1       3.73   \n",
       "77    gold coast    -28  153.43    19.44       77         40        1.5   \n",
       "\n",
       "   Country        Date  \n",
       "0       TO  1602686579  \n",
       "2       RU  1602686579  \n",
       "4       AU  1602686354  \n",
       "5       US  1602686580  \n",
       "6       CA  1602686528  \n",
       "..     ...         ...  \n",
       "73      CA  1602686598  \n",
       "74      MZ  1602686598  \n",
       "75      PF  1602686598  \n",
       "76      US  1602686536  \n",
       "77      AU  1602686599  \n",
       "\n",
       "[69 rows x 9 columns]"
      ],
      "text/html": "<div>\n<style scoped>\n    .dataframe tbody tr th:only-of-type {\n        vertical-align: middle;\n    }\n\n    .dataframe tbody tr th {\n        vertical-align: top;\n    }\n\n    .dataframe thead th {\n        text-align: right;\n    }\n</style>\n<table border=\"1\" class=\"dataframe\">\n  <thead>\n    <tr style=\"text-align: right;\">\n      <th></th>\n      <th>City</th>\n      <th>Lat</th>\n      <th>Lon</th>\n      <th>Max Temp</th>\n      <th>Humidity</th>\n      <th>Cloudiness</th>\n      <th>Wind Speed</th>\n      <th>Country</th>\n      <th>Date</th>\n    </tr>\n  </thead>\n  <tbody>\n    <tr>\n      <th>0</th>\n      <td>vaini</td>\n      <td>-21.2</td>\n      <td>-175.2</td>\n      <td>21</td>\n      <td>83</td>\n      <td>40</td>\n      <td>3.1</td>\n      <td>TO</td>\n      <td>1602686579</td>\n    </tr>\n    <tr>\n      <th>2</th>\n      <td>deputatskiy</td>\n      <td>69.3</td>\n      <td>139.9</td>\n      <td>-10.57</td>\n      <td>98</td>\n      <td>99</td>\n      <td>1.34</td>\n      <td>RU</td>\n      <td>1602686579</td>\n    </tr>\n    <tr>\n      <th>4</th>\n      <td>busselton</td>\n      <td>-33.65</td>\n      <td>115.33</td>\n      <td>13.89</td>\n      <td>67</td>\n      <td>0</td>\n      <td>5.77</td>\n      <td>AU</td>\n      <td>1602686354</td>\n    </tr>\n    <tr>\n      <th>5</th>\n      <td>powell</td>\n      <td>40.16</td>\n      <td>-83.08</td>\n      <td>12.78</td>\n      <td>76</td>\n      <td>1</td>\n      <td>1.5</td>\n      <td>US</td>\n      <td>1602686580</td>\n    </tr>\n    <tr>\n      <th>6</th>\n      <td>port hardy</td>\n      <td>50.7</td>\n      <td>-127.42</td>\n      <td>8</td>\n      <td>100</td>\n      <td>90</td>\n      <td>2.38</td>\n      <td>CA</td>\n      <td>1602686528</td>\n    </tr>\n    <tr>\n      <th>...</th>\n      <td>...</td>\n      <td>...</td>\n      <td>...</td>\n      <td>...</td>\n      <td>...</td>\n      <td>...</td>\n      <td>...</td>\n      <td>...</td>\n      <td>...</td>\n    </tr>\n    <tr>\n      <th>73</th>\n      <td>norman wells</td>\n      <td>65.28</td>\n      <td>-126.83</td>\n      <td>-7</td>\n      <td>85</td>\n      <td>90</td>\n      <td>3.6</td>\n      <td>CA</td>\n      <td>1602686598</td>\n    </tr>\n    <tr>\n      <th>74</th>\n      <td>pemba</td>\n      <td>-12.97</td>\n      <td>40.52</td>\n      <td>26.19</td>\n      <td>75</td>\n      <td>0</td>\n      <td>10.13</td>\n      <td>MZ</td>\n      <td>1602686598</td>\n    </tr>\n    <tr>\n      <th>75</th>\n      <td>atuona</td>\n      <td>-9.8</td>\n      <td>-139.03</td>\n      <td>25.1</td>\n      <td>75</td>\n      <td>34</td>\n      <td>9.62</td>\n      <td>PF</td>\n      <td>1602686598</td>\n    </tr>\n    <tr>\n      <th>76</th>\n      <td>defiance</td>\n      <td>41.33</td>\n      <td>-84.45</td>\n      <td>9</td>\n      <td>81</td>\n      <td>1</td>\n      <td>3.73</td>\n      <td>US</td>\n      <td>1602686536</td>\n    </tr>\n    <tr>\n      <th>77</th>\n      <td>gold coast</td>\n      <td>-28</td>\n      <td>153.43</td>\n      <td>19.44</td>\n      <td>77</td>\n      <td>40</td>\n      <td>1.5</td>\n      <td>AU</td>\n      <td>1602686599</td>\n    </tr>\n  </tbody>\n</table>\n<p>69 rows × 9 columns</p>\n</div>"
     },
     "metadata": {},
     "execution_count": 5
    }
   ],
   "source": [
    "#Create dataframe\n",
    "raw_data = {\"City\": cities, \"Lat\": lats, \"Lon\": lons, \"Max Temp\": max_temps, \"Humidity\": humidities, \"Cloudiness\": clouds, \"Wind Speed\": wind_speeds, \"Country\": countries, \"Date\": dates}\n",
    "\n",
    "city_data = pd.DataFrame(raw_data)\n",
    "\n",
    "#Find indexes where Lat is blank for future removal\n",
    "index_names = city_data[city_data[\"Lat\"] == \"\"].index\n",
    "\n",
    "city_data.drop(index_names, inplace = True)\n",
    "\n",
    "#Export dataframe to a csv file\n",
    "city_data.to_csv(\"../output_data/cities.csv\", index = False, header = True)\n",
    "\n",
    "#Print out cleaned dataframe\n",
    "city_data"
   ]
  },
  {
   "cell_type": "code",
   "execution_count": 8,
   "metadata": {},
   "outputs": [
    {
     "output_type": "execute_result",
     "data": {
      "text/plain": [
       "        City    Lat    Lon Max Temp Humidity Cloudiness Wind Speed Country  \\\n",
       "28    sayyan  15.17  44.32    18.59       25          0       3.75      YE   \n",
       "36  hermanus -34.42  19.23       25       49          0       3.13      ZA   \n",
       "72    najran  17.49  44.13       31       11          0        4.1      SA   \n",
       "\n",
       "          Date  \n",
       "28  1602686586  \n",
       "36  1602686468  \n",
       "72  1602686004  "
      ],
      "text/html": "<div>\n<style scoped>\n    .dataframe tbody tr th:only-of-type {\n        vertical-align: middle;\n    }\n\n    .dataframe tbody tr th {\n        vertical-align: top;\n    }\n\n    .dataframe thead th {\n        text-align: right;\n    }\n</style>\n<table border=\"1\" class=\"dataframe\">\n  <thead>\n    <tr style=\"text-align: right;\">\n      <th></th>\n      <th>City</th>\n      <th>Lat</th>\n      <th>Lon</th>\n      <th>Max Temp</th>\n      <th>Humidity</th>\n      <th>Cloudiness</th>\n      <th>Wind Speed</th>\n      <th>Country</th>\n      <th>Date</th>\n    </tr>\n  </thead>\n  <tbody>\n    <tr>\n      <th>28</th>\n      <td>sayyan</td>\n      <td>15.17</td>\n      <td>44.32</td>\n      <td>18.59</td>\n      <td>25</td>\n      <td>0</td>\n      <td>3.75</td>\n      <td>YE</td>\n      <td>1602686586</td>\n    </tr>\n    <tr>\n      <th>36</th>\n      <td>hermanus</td>\n      <td>-34.42</td>\n      <td>19.23</td>\n      <td>25</td>\n      <td>49</td>\n      <td>0</td>\n      <td>3.13</td>\n      <td>ZA</td>\n      <td>1602686468</td>\n    </tr>\n    <tr>\n      <th>72</th>\n      <td>najran</td>\n      <td>17.49</td>\n      <td>44.13</td>\n      <td>31</td>\n      <td>11</td>\n      <td>0</td>\n      <td>4.1</td>\n      <td>SA</td>\n      <td>1602686004</td>\n    </tr>\n  </tbody>\n</table>\n</div>"
     },
     "metadata": {},
     "execution_count": 8
    }
   ],
   "source": [
    "over_100 = city_data.loc[city_data[\"Humidity\"] < 50]\n",
    "\n",
    "over_100"
   ]
  },
  {
   "cell_type": "markdown",
   "metadata": {},
   "source": [
    "## Inspect the data and remove the cities where the humidity > 100%.\n",
    "----\n",
    "Skip this step if there are no cities that have humidity > 100%. "
   ]
  },
  {
   "cell_type": "code",
   "execution_count": null,
   "metadata": {},
   "outputs": [],
   "source": []
  },
  {
   "cell_type": "code",
   "execution_count": 9,
   "metadata": {},
   "outputs": [
    {
     "output_type": "execute_result",
     "data": {
      "text/plain": [
       "Int64Index([28, 36, 72], dtype='int64')"
      ]
     },
     "metadata": {},
     "execution_count": 9
    }
   ],
   "source": [
    "#  Get the indices of cities that have humidity over 100%.\n",
    "humid_index = city_data[city_data[\"Humidity\"] < 50].index\n",
    "humid_index"
   ]
  },
  {
   "cell_type": "code",
   "execution_count": 10,
   "metadata": {},
   "outputs": [
    {
     "output_type": "execute_result",
     "data": {
      "text/plain": [
       "            City    Lat     Lon Max Temp Humidity Cloudiness Wind Speed  \\\n",
       "0          vaini  -21.2  -175.2       21       83         40        3.1   \n",
       "2    deputatskiy   69.3   139.9   -10.57       98         99       1.34   \n",
       "4      busselton -33.65  115.33    13.89       67          0       5.77   \n",
       "5         powell  40.16  -83.08    12.78       76          1        1.5   \n",
       "6     port hardy   50.7 -127.42        8      100         90       2.38   \n",
       "..           ...    ...     ...      ...      ...        ...        ...   \n",
       "73  norman wells  65.28 -126.83       -7       85         90        3.6   \n",
       "74         pemba -12.97   40.52    26.19       75          0      10.13   \n",
       "75        atuona   -9.8 -139.03     25.1       75         34       9.62   \n",
       "76      defiance  41.33  -84.45        9       81          1       3.73   \n",
       "77    gold coast    -28  153.43    19.44       77         40        1.5   \n",
       "\n",
       "   Country        Date  \n",
       "0       TO  1602686579  \n",
       "2       RU  1602686579  \n",
       "4       AU  1602686354  \n",
       "5       US  1602686580  \n",
       "6       CA  1602686528  \n",
       "..     ...         ...  \n",
       "73      CA  1602686598  \n",
       "74      MZ  1602686598  \n",
       "75      PF  1602686598  \n",
       "76      US  1602686536  \n",
       "77      AU  1602686599  \n",
       "\n",
       "[66 rows x 9 columns]"
      ],
      "text/html": "<div>\n<style scoped>\n    .dataframe tbody tr th:only-of-type {\n        vertical-align: middle;\n    }\n\n    .dataframe tbody tr th {\n        vertical-align: top;\n    }\n\n    .dataframe thead th {\n        text-align: right;\n    }\n</style>\n<table border=\"1\" class=\"dataframe\">\n  <thead>\n    <tr style=\"text-align: right;\">\n      <th></th>\n      <th>City</th>\n      <th>Lat</th>\n      <th>Lon</th>\n      <th>Max Temp</th>\n      <th>Humidity</th>\n      <th>Cloudiness</th>\n      <th>Wind Speed</th>\n      <th>Country</th>\n      <th>Date</th>\n    </tr>\n  </thead>\n  <tbody>\n    <tr>\n      <th>0</th>\n      <td>vaini</td>\n      <td>-21.2</td>\n      <td>-175.2</td>\n      <td>21</td>\n      <td>83</td>\n      <td>40</td>\n      <td>3.1</td>\n      <td>TO</td>\n      <td>1602686579</td>\n    </tr>\n    <tr>\n      <th>2</th>\n      <td>deputatskiy</td>\n      <td>69.3</td>\n      <td>139.9</td>\n      <td>-10.57</td>\n      <td>98</td>\n      <td>99</td>\n      <td>1.34</td>\n      <td>RU</td>\n      <td>1602686579</td>\n    </tr>\n    <tr>\n      <th>4</th>\n      <td>busselton</td>\n      <td>-33.65</td>\n      <td>115.33</td>\n      <td>13.89</td>\n      <td>67</td>\n      <td>0</td>\n      <td>5.77</td>\n      <td>AU</td>\n      <td>1602686354</td>\n    </tr>\n    <tr>\n      <th>5</th>\n      <td>powell</td>\n      <td>40.16</td>\n      <td>-83.08</td>\n      <td>12.78</td>\n      <td>76</td>\n      <td>1</td>\n      <td>1.5</td>\n      <td>US</td>\n      <td>1602686580</td>\n    </tr>\n    <tr>\n      <th>6</th>\n      <td>port hardy</td>\n      <td>50.7</td>\n      <td>-127.42</td>\n      <td>8</td>\n      <td>100</td>\n      <td>90</td>\n      <td>2.38</td>\n      <td>CA</td>\n      <td>1602686528</td>\n    </tr>\n    <tr>\n      <th>...</th>\n      <td>...</td>\n      <td>...</td>\n      <td>...</td>\n      <td>...</td>\n      <td>...</td>\n      <td>...</td>\n      <td>...</td>\n      <td>...</td>\n      <td>...</td>\n    </tr>\n    <tr>\n      <th>73</th>\n      <td>norman wells</td>\n      <td>65.28</td>\n      <td>-126.83</td>\n      <td>-7</td>\n      <td>85</td>\n      <td>90</td>\n      <td>3.6</td>\n      <td>CA</td>\n      <td>1602686598</td>\n    </tr>\n    <tr>\n      <th>74</th>\n      <td>pemba</td>\n      <td>-12.97</td>\n      <td>40.52</td>\n      <td>26.19</td>\n      <td>75</td>\n      <td>0</td>\n      <td>10.13</td>\n      <td>MZ</td>\n      <td>1602686598</td>\n    </tr>\n    <tr>\n      <th>75</th>\n      <td>atuona</td>\n      <td>-9.8</td>\n      <td>-139.03</td>\n      <td>25.1</td>\n      <td>75</td>\n      <td>34</td>\n      <td>9.62</td>\n      <td>PF</td>\n      <td>1602686598</td>\n    </tr>\n    <tr>\n      <th>76</th>\n      <td>defiance</td>\n      <td>41.33</td>\n      <td>-84.45</td>\n      <td>9</td>\n      <td>81</td>\n      <td>1</td>\n      <td>3.73</td>\n      <td>US</td>\n      <td>1602686536</td>\n    </tr>\n    <tr>\n      <th>77</th>\n      <td>gold coast</td>\n      <td>-28</td>\n      <td>153.43</td>\n      <td>19.44</td>\n      <td>77</td>\n      <td>40</td>\n      <td>1.5</td>\n      <td>AU</td>\n      <td>1602686599</td>\n    </tr>\n  </tbody>\n</table>\n<p>66 rows × 9 columns</p>\n</div>"
     },
     "metadata": {},
     "execution_count": 10
    }
   ],
   "source": [
    "# Make a new DataFrame equal to the city data to drop all humidity outliers by index.\n",
    "# Passing \"inplace=False\" will make a copy of the city_data DataFrame, which we call \"clean_city_data\".\n",
    "clean_city_data = city_data.drop(humid_index, inplace = False)\n",
    "\n",
    "clean_city_data"
   ]
  },
  {
   "cell_type": "code",
   "execution_count": null,
   "metadata": {},
   "outputs": [],
   "source": [
    "\n"
   ]
  },
  {
   "cell_type": "markdown",
   "metadata": {},
   "source": [
    "## Plotting the Data\n",
    "* Use proper labeling of the plots using plot titles (including date of analysis) and axes labels.\n",
    "* Save the plotted figures as .pngs."
   ]
  },
  {
   "cell_type": "markdown",
   "metadata": {},
   "source": [
    "## Latitude vs. Temperature Plot"
   ]
  },
  {
   "cell_type": "code",
   "execution_count": null,
   "metadata": {
    "scrolled": true
   },
   "outputs": [],
   "source": []
  },
  {
   "cell_type": "markdown",
   "metadata": {},
   "source": [
    "## Latitude vs. Humidity Plot"
   ]
  },
  {
   "cell_type": "code",
   "execution_count": null,
   "metadata": {},
   "outputs": [],
   "source": []
  },
  {
   "cell_type": "markdown",
   "metadata": {},
   "source": [
    "## Latitude vs. Cloudiness Plot"
   ]
  },
  {
   "cell_type": "code",
   "execution_count": null,
   "metadata": {},
   "outputs": [],
   "source": []
  },
  {
   "cell_type": "markdown",
   "metadata": {},
   "source": [
    "## Latitude vs. Wind Speed Plot"
   ]
  },
  {
   "cell_type": "code",
   "execution_count": null,
   "metadata": {},
   "outputs": [],
   "source": []
  },
  {
   "cell_type": "markdown",
   "metadata": {},
   "source": [
    "## Linear Regression"
   ]
  },
  {
   "cell_type": "code",
   "execution_count": null,
   "metadata": {},
   "outputs": [],
   "source": []
  },
  {
   "cell_type": "markdown",
   "metadata": {},
   "source": [
    "####  Northern Hemisphere - Max Temp vs. Latitude Linear Regression"
   ]
  },
  {
   "cell_type": "code",
   "execution_count": null,
   "metadata": {},
   "outputs": [],
   "source": []
  },
  {
   "cell_type": "markdown",
   "metadata": {},
   "source": [
    "####  Southern Hemisphere - Max Temp vs. Latitude Linear Regression"
   ]
  },
  {
   "cell_type": "code",
   "execution_count": null,
   "metadata": {},
   "outputs": [],
   "source": []
  },
  {
   "cell_type": "markdown",
   "metadata": {},
   "source": [
    "####  Northern Hemisphere - Humidity (%) vs. Latitude Linear Regression"
   ]
  },
  {
   "cell_type": "code",
   "execution_count": null,
   "metadata": {},
   "outputs": [],
   "source": []
  },
  {
   "cell_type": "markdown",
   "metadata": {},
   "source": [
    "####  Southern Hemisphere - Humidity (%) vs. Latitude Linear Regression"
   ]
  },
  {
   "cell_type": "code",
   "execution_count": null,
   "metadata": {},
   "outputs": [],
   "source": []
  },
  {
   "cell_type": "markdown",
   "metadata": {},
   "source": [
    "####  Northern Hemisphere - Cloudiness (%) vs. Latitude Linear Regression"
   ]
  },
  {
   "cell_type": "code",
   "execution_count": null,
   "metadata": {},
   "outputs": [],
   "source": []
  },
  {
   "cell_type": "markdown",
   "metadata": {},
   "source": [
    "####  Southern Hemisphere - Cloudiness (%) vs. Latitude Linear Regression"
   ]
  },
  {
   "cell_type": "code",
   "execution_count": null,
   "metadata": {},
   "outputs": [],
   "source": []
  },
  {
   "cell_type": "markdown",
   "metadata": {},
   "source": [
    "####  Northern Hemisphere - Wind Speed (mph) vs. Latitude Linear Regression"
   ]
  },
  {
   "cell_type": "code",
   "execution_count": null,
   "metadata": {},
   "outputs": [],
   "source": []
  },
  {
   "cell_type": "markdown",
   "metadata": {},
   "source": [
    "####  Southern Hemisphere - Wind Speed (mph) vs. Latitude Linear Regression"
   ]
  },
  {
   "cell_type": "code",
   "execution_count": null,
   "metadata": {},
   "outputs": [],
   "source": []
  },
  {
   "cell_type": "code",
   "execution_count": null,
   "metadata": {},
   "outputs": [],
   "source": []
  }
 ],
 "metadata": {
  "anaconda-cloud": {},
  "kernel_info": {
   "name": "python3"
  },
  "kernelspec": {
   "name": "Python 3.8.3 64-bit ('base': conda)",
   "display_name": "Python 3.8.3 64-bit ('base': conda)",
   "metadata": {
    "interpreter": {
     "hash": "485035c5b2a6f2b50dc2dc5ca51aeeb931032fbc9adc2e30c7c528d6bf8a9176"
    }
   }
  },
  "language_info": {
   "codemirror_mode": {
    "name": "ipython",
    "version": 3
   },
   "file_extension": ".py",
   "mimetype": "text/x-python",
   "name": "python",
   "nbconvert_exporter": "python",
   "pygments_lexer": "ipython3",
   "version": "3.8.3-final"
  },
  "latex_envs": {
   "LaTeX_envs_menu_present": true,
   "autoclose": false,
   "autocomplete": true,
   "bibliofile": "biblio.bib",
   "cite_by": "apalike",
   "current_citInitial": 1,
   "eqLabelWithNumbers": true,
   "eqNumInitial": 1,
   "hotkeys": {
    "equation": "Ctrl-E",
    "itemize": "Ctrl-I"
   },
   "labels_anchors": false,
   "latex_user_defs": false,
   "report_style_numbering": false,
   "user_envs_cfg": false
  },
  "nteract": {
   "version": "0.12.3"
  }
 },
 "nbformat": 4,
 "nbformat_minor": 2
}