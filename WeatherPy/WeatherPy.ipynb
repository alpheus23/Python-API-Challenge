{
 "cells": [
  {
   "cell_type": "markdown",
   "metadata": {},
   "source": [
    "# WeatherPy\n",
    "----\n",
    "\n",
    "#### Note\n",
    "* Instructions have been included for each segment. You do not have to follow them exactly, but they are included to help you think through the steps."
   ]
  },
  {
   "cell_type": "code",
   "execution_count": 10,
   "metadata": {
    "scrolled": true
   },
   "outputs": [],
   "source": [
    "# Dependencies and Setup\n",
    "import matplotlib.pyplot as plt\n",
    "import pandas as pd\n",
    "import numpy as np\n",
    "import requests\n",
    "import time\n",
    "import json\n",
    "from scipy.stats import linregress\n",
    "\n",
    "# Import API key\n",
    "from api_keys import weather_api_key\n",
    "\n",
    "# Incorporated citipy to determine city based on latitude and longitude\n",
    "from citipy import citipy\n",
    "\n",
    "# Output File (CSV)\n",
    "output_data_file = \"output_data/cities.csv\"\n",
    "\n",
    "# Range of latitudes and longitudes\n",
    "lat_range = (-90, 90)\n",
    "lng_range = (-180, 180)"
   ]
  },
  {
   "cell_type": "markdown",
   "metadata": {},
   "source": [
    "## Generate Cities List"
   ]
  },
  {
   "cell_type": "code",
   "execution_count": 11,
   "metadata": {},
   "outputs": [
    {
     "output_type": "stream",
     "name": "stdout",
     "text": [
      "78\n"
     ]
    }
   ],
   "source": [
    "# List for holding lat_lngs and cities\n",
    "lat_lngs = []\n",
    "cities = []\n",
    "\n",
    "# Create a set of random lat and lng combinations\n",
    "lats = np.random.uniform(lat_range[0], lat_range[1], size=100)\n",
    "lngs = np.random.uniform(lng_range[0], lng_range[1], size=100)\n",
    "lat_lngs = zip(lats, lngs)\n",
    "\n",
    "# Identify nearest city for each lat, lng combination\n",
    "for lat_lng in lat_lngs:\n",
    "    city = citipy.nearest_city(lat_lng[0], lat_lng[1]).city_name\n",
    "    \n",
    "    # If the city is unique, then add it to a our cities list\n",
    "    if city not in cities:\n",
    "        cities.append(city)\n",
    "\n",
    "# Print the city count to confirm sufficient count\n",
    "print(len(cities))"
   ]
  },
  {
   "cell_type": "markdown",
   "metadata": {},
   "source": [
    "### Perform API Calls\n",
    "* Perform a weather check on each city using a series of successive API calls.\n",
    "* Include a print log of each city as it'sbeing processed (with the city number and city name).\n"
   ]
  },
  {
   "cell_type": "code",
   "execution_count": 12,
   "metadata": {
    "scrolled": true,
    "tags": []
   },
   "outputs": [
    {
     "output_type": "stream",
     "name": "stdout",
     "text": [
      "Beginning Data Retrieval\n",
      "------------------------------\n",
      "No data found for Vaitupu. Skipping...\n",
      "Data visual: 1\n",
      "\n",
      "Processing record 1 | Bluff\n",
      "Data visual: 2\n",
      "\n",
      "Processing record 2 | Castro\n",
      "Data visual: 3\n",
      "\n",
      "Processing record 3 | Borovskoy\n",
      "Data visual: 4\n",
      "\n",
      "Processing record 4 | Pacifica\n",
      "Data visual: 5\n",
      "\n",
      "Processing record 5 | Hithadhoo\n",
      "Data visual: 6\n",
      "\n",
      "No data found for Illoqqortoormiut. Skipping...\n",
      "Data visual: 7\n",
      "\n",
      "Processing record 7 | Vaini\n",
      "Data visual: 8\n",
      "\n",
      "Processing record 8 | Port elizabeth\n",
      "Data visual: 9\n",
      "\n",
      "Processing record 9 | Muisne\n",
      "Data visual: 10\n",
      "\n",
      "Processing record 10 | Jamestown\n",
      "Data visual: 11\n",
      "\n",
      "Processing record 11 | Clyde river\n",
      "Data visual: 12\n",
      "\n",
      "Processing record 12 | Sabha\n",
      "Data visual: 13\n",
      "\n",
      "Processing record 13 | Albany\n",
      "Data visual: 14\n",
      "\n",
      "Processing record 14 | Saryagash\n",
      "Data visual: 15\n",
      "\n",
      "Processing record 15 | Saldanha\n",
      "Data visual: 16\n",
      "\n",
      "Processing record 16 | General jose eduvigis diaz\n",
      "Data visual: 17\n",
      "\n",
      "Processing record 17 | Busselton\n",
      "Data visual: 18\n",
      "\n",
      "Processing record 18 | Bathsheba\n",
      "Data visual: 19\n",
      "\n",
      "Processing record 19 | Necochea\n",
      "Data visual: 20\n",
      "\n",
      "Processing record 20 | Butaritari\n",
      "Data visual: 21\n",
      "\n",
      "Processing record 21 | Atuona\n",
      "Data visual: 22\n",
      "\n",
      "No data found for Mys shmidta. Skipping...\n",
      "Data visual: 23\n",
      "\n",
      "Processing record 23 | Milkovo\n",
      "Data visual: 24\n",
      "\n",
      "Processing record 24 | Bredasdorp\n",
      "Data visual: 25\n",
      "\n",
      "Processing record 25 | Thompson\n",
      "Data visual: 26\n",
      "\n",
      "Processing record 26 | Palencia\n",
      "Data visual: 27\n",
      "\n",
      "Processing record 27 | Mataura\n",
      "Data visual: 28\n",
      "\n",
      "Processing record 28 | Chokurdakh\n",
      "Data visual: 29\n",
      "\n",
      "Processing record 29 | Tomatlan\n",
      "Data visual: 30\n",
      "\n",
      "Processing record 30 | Hobart\n",
      "Data visual: 31\n",
      "\n",
      "Processing record 31 | Wonthaggi\n",
      "Data visual: 32\n",
      "\n",
      "Processing record 32 | Port alfred\n",
      "Data visual: 33\n",
      "\n",
      "Processing record 33 | Berlevag\n",
      "Data visual: 34\n",
      "\n",
      "Processing record 34 | Blackwater\n",
      "Data visual: 35\n",
      "\n",
      "Processing record 35 | Hilo\n",
      "Data visual: 36\n",
      "\n",
      "Processing record 36 | Cape town\n",
      "Data visual: 37\n",
      "\n",
      "Processing record 37 | Rujiena\n",
      "Data visual: 38\n",
      "\n",
      "No data found for Gilazi. Skipping...\n",
      "Data visual: 39\n",
      "\n",
      "Processing record 39 | Laguna\n",
      "Data visual: 40\n",
      "\n",
      "Processing record 40 | Holysov\n",
      "Data visual: 41\n",
      "\n",
      "Processing record 41 | Victoria\n",
      "Data visual: 42\n",
      "\n",
      "Processing record 42 | Tuktoyaktuk\n",
      "Data visual: 43\n",
      "\n",
      "Processing record 43 | Okhotsk\n",
      "Data visual: 44\n",
      "\n",
      "Processing record 44 | Hobyo\n",
      "Data visual: 45\n",
      "\n",
      "Processing record 45 | Hermanus\n",
      "Data visual: 46\n",
      "\n",
      "Processing record 46 | Kondinskoye\n",
      "Data visual: 47\n",
      "\n",
      "Processing record 47 | Avarua\n",
      "Data visual: 48\n",
      "\n",
      "Processing record 48 | Puerto ayora\n",
      "Data visual: 49\n",
      "\n",
      "Processing record 49 | Punta arenas\n",
      "Data visual: 50\n",
      "\n",
      "Processing record 50 | Neustadt\n",
      "Data visual: 51\n",
      "\n",
      "Processing record 51 | Chaozhou\n",
      "Data visual: 52\n",
      "\n",
      "Processing record 52 | Robertsport\n",
      "Data visual: 53\n",
      "\n",
      "Processing record 53 | Omboue\n",
      "Data visual: 54\n",
      "\n",
      "No data found for Sentyabrskiy. Skipping...\n",
      "Data visual: 55\n",
      "\n",
      "Processing record 55 | Christchurch\n",
      "Data visual: 56\n",
      "\n",
      "Processing record 56 | Najran\n",
      "Data visual: 57\n",
      "\n",
      "Processing record 57 | Ino\n",
      "Data visual: 58\n",
      "\n",
      "Processing record 58 | Mackay\n",
      "Data visual: 59\n",
      "\n",
      "Processing record 59 | Banda aceh\n",
      "Data visual: 60\n",
      "\n",
      "Processing record 60 | Kamenka\n",
      "Data visual: 61\n",
      "\n",
      "Processing record 61 | Bethel\n",
      "Data visual: 62\n",
      "\n",
      "Processing record 62 | Lebu\n",
      "Data visual: 63\n",
      "\n",
      "No data found for Taolanaro. Skipping...\n",
      "Data visual: 64\n",
      "\n",
      "Processing record 64 | Sola\n",
      "Data visual: 65\n",
      "\n",
      "Processing record 65 | Nishihara\n",
      "Data visual: 66\n",
      "\n",
      "Processing record 66 | Mayumba\n",
      "Data visual: 67\n",
      "\n",
      "Processing record 67 | Caravelas\n",
      "Data visual: 68\n",
      "\n",
      "Processing record 68 | Ust-kuyga\n",
      "Data visual: 69\n",
      "\n",
      "Processing record 69 | Kapaa\n",
      "Data visual: 70\n",
      "\n",
      "Processing record 70 | East london\n",
      "Data visual: 71\n",
      "\n",
      "Processing record 71 | Ribeira grande\n",
      "Data visual: 72\n",
      "\n",
      "Processing record 72 | Varazze\n",
      "Data visual: 73\n",
      "\n",
      "Processing record 73 | Tuy hoa\n",
      "Data visual: 74\n",
      "\n",
      "Processing record 74 | Geraldton\n",
      "Data visual: 75\n",
      "\n",
      "Processing record 75 | Saint-philippe\n",
      "Data visual: 76\n",
      "\n",
      "Processing record 76 | Raudeberg\n",
      "Data visual: 77\n",
      "\n",
      "Processing record 77 | Richards bay\n",
      "Data visual: 78\n",
      "\n",
      "-----------------------------\n",
      "Data Retrieval Complete\n",
      "-----------------------------\n",
      "Number of Skips: 6\n"
     ]
    }
   ],
   "source": [
    "#Creating lists to hold values to later populate dataframe\n",
    "lats = []\n",
    "lons = []\n",
    "max_temps = []\n",
    "humidities = []\n",
    "clouds = []\n",
    "wind_speeds = []\n",
    "countries =  []\n",
    "dates = []\n",
    "skip_counter = 0\n",
    "\n",
    "#Beginning of print process\n",
    "print(\"Beginning Data Retrieval\")\n",
    "print(\"------------------------------\")\n",
    "\n",
    "#Loop through each city in cities and generate json link to pull data\n",
    "for name in cities:\n",
    "    weather_url = f\"https://api.openweathermap.org/data/2.5/weather?q={name}&appid={weather_api_key}&units=metric\"\n",
    "    response = requests.get(weather_url).json()\n",
    "\n",
    "    #Catch exception in case no data found for selected city\n",
    "    try:\n",
    "        #Store data into variables\n",
    "        lat = response[\"coord\"][\"lat\"]\n",
    "        lon = response[\"coord\"][\"lon\"]\n",
    "        max_temp = response[\"main\"][\"temp_max\"]\n",
    "        humidity = response[\"main\"][\"humidity\"]\n",
    "        cloudiness = response[\"clouds\"][\"all\"]\n",
    "        wind_speed = response[\"wind\"][\"speed\"]\n",
    "        country = response[\"sys\"][\"country\"]\n",
    "        date = response[\"dt\"]\n",
    "\n",
    "        #Append data to corresponding lists\n",
    "        lats.append(lat)\n",
    "        lons.append(lon)\n",
    "        max_temps.append(max_temp)\n",
    "        humidities.append(humidity)\n",
    "        clouds.append(cloudiness)\n",
    "        wind_speeds.append(wind_speed)\n",
    "        countries.append(country)\n",
    "        dates.append(date)\n",
    "\n",
    "        #Print log of city being processed\n",
    "        print(f\"Processing record {cities.index(name)} | {name.capitalize()}\")\n",
    "        print(f\"Data visual: {len(lats)}\\n\")\n",
    "    except KeyError:\n",
    "        print(f\"No data found for {name.capitalize()}. Skipping...\")\n",
    "\n",
    "        #Remove city from cities list for easier dataframe creation later\n",
    "        #cities.remove(name)\n",
    "        lats.append(\"\")\n",
    "        lons.append(\"\")\n",
    "        max_temps.append(\"\")\n",
    "        humidities.append(\"\")\n",
    "        clouds.append(\"\")\n",
    "        wind_speeds.append(\"\")\n",
    "        countries.append(\"\")\n",
    "        dates.append(\"\")\n",
    "        print(f\"Data visual: {len(lats)}\\n\")\n",
    "        skip_counter += 1\n",
    "\n",
    "#End of print process\n",
    "print(\"-----------------------------\")\n",
    "print(\"Data Retrieval Complete\")\n",
    "print(\"-----------------------------\")\n",
    "\n",
    "print(f\"Number of Skips: {skip_counter}\")"
   ]
  },
  {
   "cell_type": "markdown",
   "metadata": {},
   "source": [
    "### Convert Raw Data to DataFrame\n",
    "* Export the city data into a .csv.\n",
    "* Display the DataFrame"
   ]
  },
  {
   "cell_type": "code",
   "execution_count": 13,
   "metadata": {},
   "outputs": [
    {
     "output_type": "execute_result",
     "data": {
      "text/plain": [
       "              City    Lat     Lon Max Temp Humidity Cloudiness Wind Speed  \\\n",
       "1            bluff  -46.6  168.33     2.78       90         87       0.89   \n",
       "2           castro -24.79  -50.01    29.39       37         28       2.37   \n",
       "3        borovskoy   53.8   64.15    10.84       45         25       4.86   \n",
       "4         pacifica  37.61 -122.49    17.78       72         20        1.5   \n",
       "5        hithadhoo   -0.6   73.08    28.48       74         90       5.32   \n",
       "..             ...    ...     ...      ...      ...        ...        ...   \n",
       "73         tuy hoa  13.08   109.3    25.42       88        100       1.63   \n",
       "74       geraldton -28.77   114.6       17       77         40        3.6   \n",
       "75  saint-philippe -21.36   55.77       26       74         20        3.6   \n",
       "76       raudeberg  61.99    5.14     8.89       72          8       9.72   \n",
       "77    richards bay -28.78   32.04    20.11       64         82       2.79   \n",
       "\n",
       "   Country        Date  \n",
       "1       NZ  1602685989  \n",
       "2       BR  1602685989  \n",
       "3       KZ  1602685990  \n",
       "4       US  1602685880  \n",
       "5       MV  1602685990  \n",
       "..     ...         ...  \n",
       "73      VN  1602686010  \n",
       "74      AU  1602685852  \n",
       "75      RE  1602685460  \n",
       "76      NO  1602686010  \n",
       "77      ZA  1602685223  \n",
       "\n",
       "[72 rows x 9 columns]"
      ],
      "text/html": "<div>\n<style scoped>\n    .dataframe tbody tr th:only-of-type {\n        vertical-align: middle;\n    }\n\n    .dataframe tbody tr th {\n        vertical-align: top;\n    }\n\n    .dataframe thead th {\n        text-align: right;\n    }\n</style>\n<table border=\"1\" class=\"dataframe\">\n  <thead>\n    <tr style=\"text-align: right;\">\n      <th></th>\n      <th>City</th>\n      <th>Lat</th>\n      <th>Lon</th>\n      <th>Max Temp</th>\n      <th>Humidity</th>\n      <th>Cloudiness</th>\n      <th>Wind Speed</th>\n      <th>Country</th>\n      <th>Date</th>\n    </tr>\n  </thead>\n  <tbody>\n    <tr>\n      <th>1</th>\n      <td>bluff</td>\n      <td>-46.6</td>\n      <td>168.33</td>\n      <td>2.78</td>\n      <td>90</td>\n      <td>87</td>\n      <td>0.89</td>\n      <td>NZ</td>\n      <td>1602685989</td>\n    </tr>\n    <tr>\n      <th>2</th>\n      <td>castro</td>\n      <td>-24.79</td>\n      <td>-50.01</td>\n      <td>29.39</td>\n      <td>37</td>\n      <td>28</td>\n      <td>2.37</td>\n      <td>BR</td>\n      <td>1602685989</td>\n    </tr>\n    <tr>\n      <th>3</th>\n      <td>borovskoy</td>\n      <td>53.8</td>\n      <td>64.15</td>\n      <td>10.84</td>\n      <td>45</td>\n      <td>25</td>\n      <td>4.86</td>\n      <td>KZ</td>\n      <td>1602685990</td>\n    </tr>\n    <tr>\n      <th>4</th>\n      <td>pacifica</td>\n      <td>37.61</td>\n      <td>-122.49</td>\n      <td>17.78</td>\n      <td>72</td>\n      <td>20</td>\n      <td>1.5</td>\n      <td>US</td>\n      <td>1602685880</td>\n    </tr>\n    <tr>\n      <th>5</th>\n      <td>hithadhoo</td>\n      <td>-0.6</td>\n      <td>73.08</td>\n      <td>28.48</td>\n      <td>74</td>\n      <td>90</td>\n      <td>5.32</td>\n      <td>MV</td>\n      <td>1602685990</td>\n    </tr>\n    <tr>\n      <th>...</th>\n      <td>...</td>\n      <td>...</td>\n      <td>...</td>\n      <td>...</td>\n      <td>...</td>\n      <td>...</td>\n      <td>...</td>\n      <td>...</td>\n      <td>...</td>\n    </tr>\n    <tr>\n      <th>73</th>\n      <td>tuy hoa</td>\n      <td>13.08</td>\n      <td>109.3</td>\n      <td>25.42</td>\n      <td>88</td>\n      <td>100</td>\n      <td>1.63</td>\n      <td>VN</td>\n      <td>1602686010</td>\n    </tr>\n    <tr>\n      <th>74</th>\n      <td>geraldton</td>\n      <td>-28.77</td>\n      <td>114.6</td>\n      <td>17</td>\n      <td>77</td>\n      <td>40</td>\n      <td>3.6</td>\n      <td>AU</td>\n      <td>1602685852</td>\n    </tr>\n    <tr>\n      <th>75</th>\n      <td>saint-philippe</td>\n      <td>-21.36</td>\n      <td>55.77</td>\n      <td>26</td>\n      <td>74</td>\n      <td>20</td>\n      <td>3.6</td>\n      <td>RE</td>\n      <td>1602685460</td>\n    </tr>\n    <tr>\n      <th>76</th>\n      <td>raudeberg</td>\n      <td>61.99</td>\n      <td>5.14</td>\n      <td>8.89</td>\n      <td>72</td>\n      <td>8</td>\n      <td>9.72</td>\n      <td>NO</td>\n      <td>1602686010</td>\n    </tr>\n    <tr>\n      <th>77</th>\n      <td>richards bay</td>\n      <td>-28.78</td>\n      <td>32.04</td>\n      <td>20.11</td>\n      <td>64</td>\n      <td>82</td>\n      <td>2.79</td>\n      <td>ZA</td>\n      <td>1602685223</td>\n    </tr>\n  </tbody>\n</table>\n<p>72 rows × 9 columns</p>\n</div>"
     },
     "metadata": {},
     "execution_count": 13
    }
   ],
   "source": [
    "#Create dataframe\n",
    "raw_data = {\"City\": cities, \"Lat\": lats, \"Lon\": lons, \"Max Temp\": max_temps, \"Humidity\": humidities, \"Cloudiness\": clouds, \"Wind Speed\": wind_speeds, \"Country\": countries, \"Date\": dates}\n",
    "\n",
    "countries_df = pd.DataFrame(raw_data)\n",
    "\n",
    "#Find indexes where Lat is blank for future removal\n",
    "index_names = countries_df[countries_df[\"Lat\"] == \"\"].index\n",
    "\n",
    "countries_df.drop(index_names, inplace = True)\n",
    "\n",
    "#Export dataframe to a csv file\n",
    "countries_df.to_csv(\"../output_data/cities.csv\", index = False, header = True)\n",
    "\n",
    "#Print out cleaned dataframe\n",
    "countries_df\n",
    "\n",
    "\n",
    "\n",
    "\n",
    "\n",
    "\n",
    "\n"
   ]
  },
  {
   "cell_type": "code",
   "execution_count": 15,
   "metadata": {},
   "outputs": [
    {
     "output_type": "execute_result",
     "data": {
      "text/plain": [
       "              City    Lat     Lon Max Temp Humidity Cloudiness Wind Speed  \\\n",
       "2           castro -24.79  -50.01    29.39       37         28       2.37   \n",
       "3        borovskoy   53.8   64.15    10.84       45         25       4.86   \n",
       "4         pacifica  37.61 -122.49    17.78       72         20        1.5   \n",
       "5        hithadhoo   -0.6   73.08    28.48       74         90       5.32   \n",
       "7            vaini  -21.2  -175.2       21       83         40        3.1   \n",
       "..             ...    ...     ...      ...      ...        ...        ...   \n",
       "73         tuy hoa  13.08   109.3    25.42       88        100       1.63   \n",
       "74       geraldton -28.77   114.6       17       77         40        3.6   \n",
       "75  saint-philippe -21.36   55.77       26       74         20        3.6   \n",
       "76       raudeberg  61.99    5.14     8.89       72          8       9.72   \n",
       "77    richards bay -28.78   32.04    20.11       64         82       2.79   \n",
       "\n",
       "   Country        Date  \n",
       "2       BR  1602685989  \n",
       "3       KZ  1602685990  \n",
       "4       US  1602685880  \n",
       "5       MV  1602685990  \n",
       "7       TO  1602685459  \n",
       "..     ...         ...  \n",
       "73      VN  1602686010  \n",
       "74      AU  1602685852  \n",
       "75      RE  1602685460  \n",
       "76      NO  1602686010  \n",
       "77      ZA  1602685223  \n",
       "\n",
       "[63 rows x 9 columns]"
      ],
      "text/html": "<div>\n<style scoped>\n    .dataframe tbody tr th:only-of-type {\n        vertical-align: middle;\n    }\n\n    .dataframe tbody tr th {\n        vertical-align: top;\n    }\n\n    .dataframe thead th {\n        text-align: right;\n    }\n</style>\n<table border=\"1\" class=\"dataframe\">\n  <thead>\n    <tr style=\"text-align: right;\">\n      <th></th>\n      <th>City</th>\n      <th>Lat</th>\n      <th>Lon</th>\n      <th>Max Temp</th>\n      <th>Humidity</th>\n      <th>Cloudiness</th>\n      <th>Wind Speed</th>\n      <th>Country</th>\n      <th>Date</th>\n    </tr>\n  </thead>\n  <tbody>\n    <tr>\n      <th>2</th>\n      <td>castro</td>\n      <td>-24.79</td>\n      <td>-50.01</td>\n      <td>29.39</td>\n      <td>37</td>\n      <td>28</td>\n      <td>2.37</td>\n      <td>BR</td>\n      <td>1602685989</td>\n    </tr>\n    <tr>\n      <th>3</th>\n      <td>borovskoy</td>\n      <td>53.8</td>\n      <td>64.15</td>\n      <td>10.84</td>\n      <td>45</td>\n      <td>25</td>\n      <td>4.86</td>\n      <td>KZ</td>\n      <td>1602685990</td>\n    </tr>\n    <tr>\n      <th>4</th>\n      <td>pacifica</td>\n      <td>37.61</td>\n      <td>-122.49</td>\n      <td>17.78</td>\n      <td>72</td>\n      <td>20</td>\n      <td>1.5</td>\n      <td>US</td>\n      <td>1602685880</td>\n    </tr>\n    <tr>\n      <th>5</th>\n      <td>hithadhoo</td>\n      <td>-0.6</td>\n      <td>73.08</td>\n      <td>28.48</td>\n      <td>74</td>\n      <td>90</td>\n      <td>5.32</td>\n      <td>MV</td>\n      <td>1602685990</td>\n    </tr>\n    <tr>\n      <th>7</th>\n      <td>vaini</td>\n      <td>-21.2</td>\n      <td>-175.2</td>\n      <td>21</td>\n      <td>83</td>\n      <td>40</td>\n      <td>3.1</td>\n      <td>TO</td>\n      <td>1602685459</td>\n    </tr>\n    <tr>\n      <th>...</th>\n      <td>...</td>\n      <td>...</td>\n      <td>...</td>\n      <td>...</td>\n      <td>...</td>\n      <td>...</td>\n      <td>...</td>\n      <td>...</td>\n      <td>...</td>\n    </tr>\n    <tr>\n      <th>73</th>\n      <td>tuy hoa</td>\n      <td>13.08</td>\n      <td>109.3</td>\n      <td>25.42</td>\n      <td>88</td>\n      <td>100</td>\n      <td>1.63</td>\n      <td>VN</td>\n      <td>1602686010</td>\n    </tr>\n    <tr>\n      <th>74</th>\n      <td>geraldton</td>\n      <td>-28.77</td>\n      <td>114.6</td>\n      <td>17</td>\n      <td>77</td>\n      <td>40</td>\n      <td>3.6</td>\n      <td>AU</td>\n      <td>1602685852</td>\n    </tr>\n    <tr>\n      <th>75</th>\n      <td>saint-philippe</td>\n      <td>-21.36</td>\n      <td>55.77</td>\n      <td>26</td>\n      <td>74</td>\n      <td>20</td>\n      <td>3.6</td>\n      <td>RE</td>\n      <td>1602685460</td>\n    </tr>\n    <tr>\n      <th>76</th>\n      <td>raudeberg</td>\n      <td>61.99</td>\n      <td>5.14</td>\n      <td>8.89</td>\n      <td>72</td>\n      <td>8</td>\n      <td>9.72</td>\n      <td>NO</td>\n      <td>1602686010</td>\n    </tr>\n    <tr>\n      <th>77</th>\n      <td>richards bay</td>\n      <td>-28.78</td>\n      <td>32.04</td>\n      <td>20.11</td>\n      <td>64</td>\n      <td>82</td>\n      <td>2.79</td>\n      <td>ZA</td>\n      <td>1602685223</td>\n    </tr>\n  </tbody>\n</table>\n<p>63 rows × 9 columns</p>\n</div>"
     },
     "metadata": {},
     "execution_count": 15
    }
   ],
   "source": [
    "over_100 = countries_df.loc[countries_df[\"Humidity\"] < 90]\n",
    "\n",
    "over_100"
   ]
  },
  {
   "cell_type": "markdown",
   "metadata": {},
   "source": [
    "## Inspect the data and remove the cities where the humidity > 100%.\n",
    "----\n",
    "Skip this step if there are no cities that have humidity > 100%. "
   ]
  },
  {
   "cell_type": "code",
   "execution_count": null,
   "metadata": {},
   "outputs": [],
   "source": []
  },
  {
   "cell_type": "code",
   "execution_count": null,
   "metadata": {},
   "outputs": [],
   "source": [
    "#  Get the indices of cities that have humidity over 100%.\n",
    "humid_index = "
   ]
  },
  {
   "cell_type": "code",
   "execution_count": null,
   "metadata": {},
   "outputs": [],
   "source": [
    "# Make a new DataFrame equal to the city data to drop all humidity outliers by index.\n",
    "# Passing \"inplace=False\" will make a copy of the city_data DataFrame, which we call \"clean_city_data\".\n"
   ]
  },
  {
   "cell_type": "code",
   "execution_count": null,
   "metadata": {},
   "outputs": [],
   "source": [
    "\n"
   ]
  },
  {
   "cell_type": "markdown",
   "metadata": {},
   "source": [
    "## Plotting the Data\n",
    "* Use proper labeling of the plots using plot titles (including date of analysis) and axes labels.\n",
    "* Save the plotted figures as .pngs."
   ]
  },
  {
   "cell_type": "markdown",
   "metadata": {},
   "source": [
    "## Latitude vs. Temperature Plot"
   ]
  },
  {
   "cell_type": "code",
   "execution_count": null,
   "metadata": {
    "scrolled": true
   },
   "outputs": [],
   "source": []
  },
  {
   "cell_type": "markdown",
   "metadata": {},
   "source": [
    "## Latitude vs. Humidity Plot"
   ]
  },
  {
   "cell_type": "code",
   "execution_count": null,
   "metadata": {},
   "outputs": [],
   "source": []
  },
  {
   "cell_type": "markdown",
   "metadata": {},
   "source": [
    "## Latitude vs. Cloudiness Plot"
   ]
  },
  {
   "cell_type": "code",
   "execution_count": null,
   "metadata": {},
   "outputs": [],
   "source": []
  },
  {
   "cell_type": "markdown",
   "metadata": {},
   "source": [
    "## Latitude vs. Wind Speed Plot"
   ]
  },
  {
   "cell_type": "code",
   "execution_count": null,
   "metadata": {},
   "outputs": [],
   "source": []
  },
  {
   "cell_type": "markdown",
   "metadata": {},
   "source": [
    "## Linear Regression"
   ]
  },
  {
   "cell_type": "code",
   "execution_count": null,
   "metadata": {},
   "outputs": [],
   "source": []
  },
  {
   "cell_type": "markdown",
   "metadata": {},
   "source": [
    "####  Northern Hemisphere - Max Temp vs. Latitude Linear Regression"
   ]
  },
  {
   "cell_type": "code",
   "execution_count": null,
   "metadata": {},
   "outputs": [],
   "source": []
  },
  {
   "cell_type": "markdown",
   "metadata": {},
   "source": [
    "####  Southern Hemisphere - Max Temp vs. Latitude Linear Regression"
   ]
  },
  {
   "cell_type": "code",
   "execution_count": null,
   "metadata": {},
   "outputs": [],
   "source": []
  },
  {
   "cell_type": "markdown",
   "metadata": {},
   "source": [
    "####  Northern Hemisphere - Humidity (%) vs. Latitude Linear Regression"
   ]
  },
  {
   "cell_type": "code",
   "execution_count": null,
   "metadata": {},
   "outputs": [],
   "source": []
  },
  {
   "cell_type": "markdown",
   "metadata": {},
   "source": [
    "####  Southern Hemisphere - Humidity (%) vs. Latitude Linear Regression"
   ]
  },
  {
   "cell_type": "code",
   "execution_count": null,
   "metadata": {},
   "outputs": [],
   "source": []
  },
  {
   "cell_type": "markdown",
   "metadata": {},
   "source": [
    "####  Northern Hemisphere - Cloudiness (%) vs. Latitude Linear Regression"
   ]
  },
  {
   "cell_type": "code",
   "execution_count": null,
   "metadata": {},
   "outputs": [],
   "source": []
  },
  {
   "cell_type": "markdown",
   "metadata": {},
   "source": [
    "####  Southern Hemisphere - Cloudiness (%) vs. Latitude Linear Regression"
   ]
  },
  {
   "cell_type": "code",
   "execution_count": null,
   "metadata": {},
   "outputs": [],
   "source": []
  },
  {
   "cell_type": "markdown",
   "metadata": {},
   "source": [
    "####  Northern Hemisphere - Wind Speed (mph) vs. Latitude Linear Regression"
   ]
  },
  {
   "cell_type": "code",
   "execution_count": null,
   "metadata": {},
   "outputs": [],
   "source": []
  },
  {
   "cell_type": "markdown",
   "metadata": {},
   "source": [
    "####  Southern Hemisphere - Wind Speed (mph) vs. Latitude Linear Regression"
   ]
  },
  {
   "cell_type": "code",
   "execution_count": null,
   "metadata": {},
   "outputs": [],
   "source": []
  },
  {
   "cell_type": "code",
   "execution_count": null,
   "metadata": {},
   "outputs": [],
   "source": []
  }
 ],
 "metadata": {
  "anaconda-cloud": {},
  "kernel_info": {
   "name": "python3"
  },
  "kernelspec": {
   "name": "Python 3.8.3 64-bit ('base': conda)",
   "display_name": "Python 3.8.3 64-bit ('base': conda)",
   "metadata": {
    "interpreter": {
     "hash": "485035c5b2a6f2b50dc2dc5ca51aeeb931032fbc9adc2e30c7c528d6bf8a9176"
    }
   }
  },
  "language_info": {
   "codemirror_mode": {
    "name": "ipython",
    "version": 3
   },
   "file_extension": ".py",
   "mimetype": "text/x-python",
   "name": "python",
   "nbconvert_exporter": "python",
   "pygments_lexer": "ipython3",
   "version": "3.8.3-final"
  },
  "latex_envs": {
   "LaTeX_envs_menu_present": true,
   "autoclose": false,
   "autocomplete": true,
   "bibliofile": "biblio.bib",
   "cite_by": "apalike",
   "current_citInitial": 1,
   "eqLabelWithNumbers": true,
   "eqNumInitial": 1,
   "hotkeys": {
    "equation": "Ctrl-E",
    "itemize": "Ctrl-I"
   },
   "labels_anchors": false,
   "latex_user_defs": false,
   "report_style_numbering": false,
   "user_envs_cfg": false
  },
  "nteract": {
   "version": "0.12.3"
  }
 },
 "nbformat": 4,
 "nbformat_minor": 2
}