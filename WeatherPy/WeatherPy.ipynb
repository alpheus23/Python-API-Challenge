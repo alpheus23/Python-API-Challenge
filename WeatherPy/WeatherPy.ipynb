{
 "cells": [
  {
   "cell_type": "markdown",
   "metadata": {},
   "source": [
    "# WeatherPy\n",
    "----\n",
    "\n",
    "#### Note\n",
    "* Instructions have been included for each segment. You do not have to follow them exactly, but they are included to help you think through the steps."
   ]
  },
  {
   "cell_type": "code",
   "execution_count": 58,
   "metadata": {
    "scrolled": true
   },
   "outputs": [],
   "source": [
    "# Dependencies and Setup\n",
    "import matplotlib.pyplot as plt\n",
    "import pandas as pd\n",
    "import numpy as np\n",
    "import requests\n",
    "import time\n",
    "import requests\n",
    "import json\n",
    "from scipy.stats import linregress\n",
    "\n",
    "# Import API key\n",
    "from api_keys import weather_api_key\n",
    "\n",
    "# Incorporated citipy to determine city based on latitude and longitude\n",
    "from citipy import citipy\n",
    "\n",
    "# Output File (CSV)\n",
    "output_data_file = \"output_data/cities.csv\"\n",
    "\n",
    "# Range of latitudes and longitudes\n",
    "lat_range = (-90, 90)\n",
    "lng_range = (-180, 180)"
   ]
  },
  {
   "cell_type": "markdown",
   "metadata": {},
   "source": [
    "## Generate Cities List"
   ]
  },
  {
   "cell_type": "code",
   "execution_count": 59,
   "metadata": {},
   "outputs": [
    {
     "output_type": "stream",
     "name": "stdout",
     "text": [
      "630\n['hermanus', 'rio gallegos', 'shingu', 'lorengau', 'samusu', 'noumea', 'butaritari', 'hobart', 'san quintin', 'visnes', 'pacific grove', 'bluff', 'busselton', 'sao sebastiao', 'jamestown', 'yellowknife', 'ushuaia', 'belushya guba', 'kaitangata', 'souillac', 'tuktoyaktuk', 'kikwit', 'luderitz', 'lolua', 'tuatapere', 'bad salzungen', 'avarua', 'coos bay', 'mar del plata', 'taolanaro', 'topeka', 'kapaa', 'asfi', 'salta', 'nowogard', 'tsihombe', 'benalla', 'hilo', 'madang', 'lebu', 'rikitea', 'ayios matthaios', 'bitung', 'punta arenas', 'fortuna', 'taonan', 'barrow', 'atuona', 'bethel', 'port alfred', 'east london', 'filadelfia', 'kamina', 'qaanaaq', 'bull savanna', 'melo', 'adrar', 'nikolskoye', 'mahebourg', 'kruisfontein', 'ostrovnoy', 'castro', 'santana do acarau', 'mataura', 'tasiilaq', 'albany', 'amderma', 'torbay', 'te anau', 'yar-sale', 'kazanskaya', 'bandarbeyla', 'puerto ayora', 'yarkovo', 'saurimo', 'dikson', 'pergamino', 'hof', 'san cristobal', 'bredasdorp', 'gzhatsk', 'yirol', 'komsomolskiy', 'senno', 'upernavik', 'tura', 'salina', 'nanakuli', 'bargal', 'kodiak', 'padang', 'saratovskaya', 'miraflores', 'sitka', 'rosarito', 'chuy', 'sept-iles', 'tiksi', 'pisco', 'carnarvon', 'najran', 'kamenskoye', 'mehamn', 'kabare', 'nome', 'nantucket', 'deputatskiy', 'brightwater', 'chicama', 'muros', 'unai', 'praia da vitoria', 'vaitupu', 'ojinaga', 'guozhen', 'new norfolk', 'ribeira grande', 'saleaula', 'serik', 'anahuac', 'cabo san lucas', 'voh', 'cayenne', 'khatanga', 'galle', 'klaksvik', 'antofagasta', 'kangar', 'buchanan', 'necochea', 'atar', 'georgetown', 'jeremoabo', 'imbituba', 'marzuq', 'sao raimundo das mangabeiras', 'kita', 'la mata', 'shambu', 'aden', 'leningradskiy', 'ilam', 'port elizabeth', 'banyuwangi', 'shalya', 'port hardy', 'jiayuguan', 'arraial do cabo', 'palmer', 'panaba', 'sampit', 'sayyan', 'karasburg', 'hangu', 'lagoa', 'thunder bay', 'vila velha', 'ilulissat', 'rocha', 'hofn', 'airai', 'alberton', 'chifeng', 'half moon bay', 'mocambique', 'postojna', 'sangar', 'pevek', 'port lincoln', 'bad doberan', 'camana', 'severo-kurilsk', 'krasnoselkup', 'clyde river', 'abha', 'malmyzh', 'ha giang', 'kungurtug', 'sur', 'ambovombe', 'san patricio', 'aitape', 'hansi', 'sulangan', 'umzimvubu', 'belyy yar', 'muroto', 'vaini', 'wicklow', 'mount isa', 'tambovka', 'ponta do sol', 'bathsheba', 'black river', 'lebedyn', 'vestmannaeyjar', 'vao', 'cape town', 'mawlamyine', 'omboue', 'port macquarie', 'vladivostok', 'council bluffs', 'champerico', 'sokolka', 'estevan', 'baoqing', 'narsaq', 'buala', 'bengkulu', 'hearst', 'gold coast', 'parvatipuram', 'saskylakh', 'lavrentiya', 'ahipara', 'sydney mines', 'koygorodok', 'saint-philippe', 'algiers', 'moosomin', 'lazaro cardenas', 'norman wells', 'valley city', 'suruc', 'boende', 'la ligua', 'gasa', 'edson', 'cherskiy', 'progreso', 'marcona', 'portland', 'illoqqortoormiut', 'gweta', 'leeuwarden', 'nguru', 'sorvag', 'oyama', 'santiago del estero', 'saint-pierre', 'otradnoye', 'provideniya', 'prado', 'quatre cocos', 'abu samrah', 'san policarpo', 'dolbeau', 'asau', 'vilhena', 'saint-augustin', 'erzincan', 'grand river south east', 'barentsburg', 'labutta', 'jacareacanga', 'ahuimanu', 'sao filipe', 'liverpool', 'comodoro rivadavia', 'sao joao da barra', 'buraydah', 'elat', 'beloha', 'mtwango', 'verkhoyansk', 'tiarei', 'diglur', 'marawi', 'faanui', 'acarau', 'tefe', 'sibolga', 'longyearbyen', 'codrington', 'victoria', 'vardo', 'andrews', 'jurm', 'margate', 'sentyabrskiy', 'thompson', 'coahuayana', 'privolzhye', 'artyk', 'rumoi', 'havre-saint-pierre', 'tucumcari', 'brandfort', 'banamba', 'sao gabriel da cachoeira', 'aflu', 'constitucion', 'maxixe', 'saldanha', 'viedma', 'ola', 'caravelas', 'mount gambier', 'shasta lake', 'mbacke', 'arlit', 'mount darwin', 'san vicente', 'bambous virieux', 'barao de melgaco', 'kloulklubed', 'alenquer', 'camacha', 'salalah', 'zhigansk', 'rustam', 'harlau', 'albanel', 'payo', 'tonstad', 'xichang', 'methoni', 'kousseri', 'hithadhoo', 'alice springs', 'hobyo', 'mazamari', 'xambioa', 'el cope', 'chokurdakh', 'karratha', 'bandeirantes', 'kushima', 'yerbogachen', 'flinders', 'taoudenni', 'huinan', 'sao felix do xingu', 'grindavik', 'hokitika', 'mizdah', 'foki', 'attawapiskat', 'port blair', 'tolaga bay', 'petropavlovsk-kamchatskiy', 'tumannyy', 'aswan', 'college', 'rogers', 'coquimbo', 'tateyama', 'riberalta', 'hasaki', 'brownfield', 'cidreira', 'maun', 'gazojak', 'hamilton', 'kununurra', 'north platte', 'esil', 'lano', 'cervo', 'bonthe', 'chuncheng', 'graaff-reinet', 'anadyr', 'vanersborg', 'kuching', 'esperance', 'nizhneyansk', 'baelen', 'charters towers', 'trindade', 'rawson', 'high level', 'amapa', 'coffs harbour', 'malatya', 'beira', 'guerrero negro', 'katsuura', 'turukhansk', 'baykit', 'kaeo', 'sibut', 'neiva', 'yabrud', 'tawnat', 'aljezur', 'tilichiki', 'pont-audemer', 'garissa', 'gizo', 'iralaya', 'akyab', 'sinnamary', 'ullal', 'carmen', 'limbang', 'kahului', 'dali', 'hakvik', 'lardos', 'whithorn', 'dingle', 'namatanai', 'arroyo', 'oussouye', 'hovd', 'geraldton', 'oranienburg', 'avera', 'rabo de peixe', 'walvis bay', 'huarmey', 'nanpiao', 'meulaboh', 'jalu', 'bundaberg', 'lewistown', 'berlevag', 'yulara', 'puerto escondido', 'lagos', 'paamiut', 'laguna', 'jaunpur', 'kostomuksha', 'nichinan', 'dharchula', 'iquique', 'san angelo', 'douentza', 'hervey bay', 'port-gentil', 'arkhipo-osipovka', 'quelimane', 'benemerito de las americas', 'belmonte', 'san jose', 'nemuro', 'alofi', 'tenenkou', 'carutapera', 'mairana', 'dzhusaly', 'fort-shevchenko', 'jadu', 'rafsanjan', 'puro', 'ewa beach', 'sioux lookout', 'arshan', 'phan rang', 'damietta', 'turtas', 'huntsville', 'shubarshi', 'surgut', 'vestmanna', 'vreed en hoop', 'anito', 'kazalinsk', 'sembe', 'blagoyevo', 'awjilah', 'giovinazzo', 'jieshi', 'adiake', 'kopanskaya', 'ust-kamchatsk', 'haines junction', 'mys shmidta', 'moron', 'stephenville', 'canoinhas', 'husavik', 'hami', 'kamaishi', 'poum', 'merauke', 'camopi', 'golden', 'saint anthony', 'batagay-alyta', 'makakilo city', 'porto novo', 'yemelyanovo', 'ancud', 'garowe', 'takapau', 'naze', 'robertson', 'maldonado', 'tucupita', 'beringovskiy', 'beyneu', 'tayoltita', 'licheng', 'atka', 'orcopampa', 'palkaka', 'gunjur', 'kuusamo', 'kourou', 'arman', 'korla', 'gorontalo', 'lar gerd', 'hvolsvollur', 'ciudad guayana', 'isangel', 'okhotsk', 'port keats', 'nishihara', 'trapani', 'nhulunbuy', 'mae sot', 'deer lake', 'vila franca do campo', 'tigil', 'russell', 'kondinskoye', 'la ronge', 'ler', 'hampton', 'taltal', 'snasa', 'zhanakorgan', 'mirpur mathelo', 'lomovka', 'hualmay', 'road town', 'bentiu', 'port hedland', 'san francisco', 'waterloo', 'samarai', 'palabuhanratu', 'sorong', 'samur', 'zomba', 'binga', 'bang saphan', 'oriximina', 'jablanica', 'ballina', 'okha', 'kholm', 'raudeberg', 'ous', 'bozeman', 'rajampet', 'gao', 'goderich', 'labuhan', 'alto araguaia', 'wajima', 'christchurch', 'makasar', 'ozgon', 'zapolyarnyy', 'nizhniy kuranakh', 'rajapur', 'broken hill', 'panguna', 'bonavista', 'tlahualilo', 'chapais', 'xianshuigu', 'samalaeulu', 'sarakhs', 'nanortalik', 'jacqueville', 'kiama', 'surt', 'pajapan', 'nioro', 'emilio carranza', 'penzance', 'punta cardon', 'kigoma', 'iskateley', 'kirakira', 'sao bernardo', 'deder', 'ca mau', 'ilo', 'bulgan', 'saint george', 'kristiinankaupunki', 'passagem franca', 'tazovskiy', 'maua', 'talcahuano', 'waupun', 'maebaru', 'cuxhaven', 'northam', 'englewood', 'falkenberg', 'gaffney', 'san pedro', 'tanhuato', 'madaras', 'araouane', 'aykhal', 'burica', 'tahe', 'puchezh', 'seminole', 'puerto leguizamo', 'agadir', 'roald', 'guantanamo', 'tucuma', 'byron bay', 'dwarka', 'west bay', 'lompoc', 'palora', 'thaton', 'mahibadhoo', 'olafsvik', 'harwich', 'copaceni', 'bloomingdale', 'privolzhsk', 'demyanovo', 'odweyne', 'takoradi', 'pangnirtung']\n"
     ]
    }
   ],
   "source": [
    "# List for holding lat_lngs and cities\n",
    "lat_lngs = []\n",
    "cities = []\n",
    "\n",
    "# Create a set of random lat and lng combinations\n",
    "lats = np.random.uniform(lat_range[0], lat_range[1], size=1500)\n",
    "lngs = np.random.uniform(lng_range[0], lng_range[1], size=1500)\n",
    "lat_lngs = zip(lats, lngs)\n",
    "\n",
    "# Identify nearest city for each lat, lng combination\n",
    "for lat_lng in lat_lngs:\n",
    "    city = citipy.nearest_city(lat_lng[0], lat_lng[1]).city_name\n",
    "    \n",
    "    # If the city is unique, then add it to a our cities list\n",
    "    if city not in cities:\n",
    "        cities.append(city)\n",
    "\n",
    "# Print the city count to confirm sufficient count\n",
    "print(len(cities))\n",
    "print(cities)"
   ]
  },
  {
   "cell_type": "markdown",
   "metadata": {},
   "source": [
    "### Perform API Calls\n",
    "* Perform a weather check on each city using a series of successive API calls.\n",
    "* Include a print log of each city as it'sbeing processed (with the city number and city name).\n"
   ]
  },
  {
   "cell_type": "code",
   "execution_count": 61,
   "metadata": {
    "scrolled": true,
    "tags": []
   },
   "outputs": [
    {
     "output_type": "stream",
     "name": "stdout",
     "text": [
      "12.22\n-34.42\n19.23\n12.22\n76\n7\n4.57\nZA\n"
     ]
    }
   ],
   "source": [
    "\n",
    "#for city_name in cities:\n",
    "weather_url = f\"https://api.openweathermap.org/data/2.5/weather?q={cities[0]}&appid={weather_api_key}&units=metric\"\n",
    "response = requests.get(weather_url).json()\n",
    "\n",
    "#try:\n",
    "temp = response[\"main\"][\"temp\"]\n",
    "lat = response[\"coord\"][\"lat\"]\n",
    "lon = response[\"coord\"][\"lon\"]\n",
    "max_temp = response[\"main\"][\"temp_max\"]\n",
    "humidity = response[\"main\"][\"humidity\"]\n",
    "cloudiness = response[\"clouds\"][\"all\"]\n",
    "wind_speed = response[\"wind\"][\"speed\"]\n",
    "country = response[\"sys\"][\"country\"]\n",
    "print(temp)\n",
    "print(lat)\n",
    "print(lon)\n",
    "print(max_temp)\n",
    "print(humidity)\n",
    "print(cloudiness)\n",
    "print(wind_speed)\n",
    "print(country)\n",
    "\n",
    "    # print(f\"Getting data for city: {cities[0].capitalize()}\")\n",
    "    # print(f\"The weather in {cities[0].capitalize()} is {weather_main} with a temp of {weather_temp} degrees F\")\n",
    "# except KeyError:\n",
    "#     print(f\"No data found for {cities[0].capitalize()}\")"
   ]
  },
  {
   "cell_type": "markdown",
   "metadata": {},
   "source": [
    "### Convert Raw Data to DataFrame\n",
    "* Export the city data into a .csv.\n",
    "* Display the DataFrame"
   ]
  },
  {
   "cell_type": "code",
   "execution_count": null,
   "metadata": {},
   "outputs": [],
   "source": []
  },
  {
   "cell_type": "code",
   "execution_count": null,
   "metadata": {},
   "outputs": [],
   "source": []
  },
  {
   "cell_type": "markdown",
   "metadata": {},
   "source": [
    "## Inspect the data and remove the cities where the humidity > 100%.\n",
    "----\n",
    "Skip this step if there are no cities that have humidity > 100%. "
   ]
  },
  {
   "cell_type": "code",
   "execution_count": null,
   "metadata": {},
   "outputs": [],
   "source": []
  },
  {
   "cell_type": "code",
   "execution_count": null,
   "metadata": {},
   "outputs": [],
   "source": [
    "#  Get the indices of cities that have humidity over 100%.\n"
   ]
  },
  {
   "cell_type": "code",
   "execution_count": null,
   "metadata": {},
   "outputs": [],
   "source": [
    "# Make a new DataFrame equal to the city data to drop all humidity outliers by index.\n",
    "# Passing \"inplace=False\" will make a copy of the city_data DataFrame, which we call \"clean_city_data\".\n"
   ]
  },
  {
   "cell_type": "code",
   "execution_count": null,
   "metadata": {},
   "outputs": [],
   "source": [
    "\n"
   ]
  },
  {
   "cell_type": "markdown",
   "metadata": {},
   "source": [
    "## Plotting the Data\n",
    "* Use proper labeling of the plots using plot titles (including date of analysis) and axes labels.\n",
    "* Save the plotted figures as .pngs."
   ]
  },
  {
   "cell_type": "markdown",
   "metadata": {},
   "source": [
    "## Latitude vs. Temperature Plot"
   ]
  },
  {
   "cell_type": "code",
   "execution_count": null,
   "metadata": {
    "scrolled": true
   },
   "outputs": [],
   "source": []
  },
  {
   "cell_type": "markdown",
   "metadata": {},
   "source": [
    "## Latitude vs. Humidity Plot"
   ]
  },
  {
   "cell_type": "code",
   "execution_count": null,
   "metadata": {},
   "outputs": [],
   "source": []
  },
  {
   "cell_type": "markdown",
   "metadata": {},
   "source": [
    "## Latitude vs. Cloudiness Plot"
   ]
  },
  {
   "cell_type": "code",
   "execution_count": null,
   "metadata": {},
   "outputs": [],
   "source": []
  },
  {
   "cell_type": "markdown",
   "metadata": {},
   "source": [
    "## Latitude vs. Wind Speed Plot"
   ]
  },
  {
   "cell_type": "code",
   "execution_count": null,
   "metadata": {},
   "outputs": [],
   "source": []
  },
  {
   "cell_type": "markdown",
   "metadata": {},
   "source": [
    "## Linear Regression"
   ]
  },
  {
   "cell_type": "code",
   "execution_count": null,
   "metadata": {},
   "outputs": [],
   "source": []
  },
  {
   "cell_type": "markdown",
   "metadata": {},
   "source": [
    "####  Northern Hemisphere - Max Temp vs. Latitude Linear Regression"
   ]
  },
  {
   "cell_type": "code",
   "execution_count": null,
   "metadata": {},
   "outputs": [],
   "source": []
  },
  {
   "cell_type": "markdown",
   "metadata": {},
   "source": [
    "####  Southern Hemisphere - Max Temp vs. Latitude Linear Regression"
   ]
  },
  {
   "cell_type": "code",
   "execution_count": null,
   "metadata": {},
   "outputs": [],
   "source": []
  },
  {
   "cell_type": "markdown",
   "metadata": {},
   "source": [
    "####  Northern Hemisphere - Humidity (%) vs. Latitude Linear Regression"
   ]
  },
  {
   "cell_type": "code",
   "execution_count": null,
   "metadata": {},
   "outputs": [],
   "source": []
  },
  {
   "cell_type": "markdown",
   "metadata": {},
   "source": [
    "####  Southern Hemisphere - Humidity (%) vs. Latitude Linear Regression"
   ]
  },
  {
   "cell_type": "code",
   "execution_count": null,
   "metadata": {},
   "outputs": [],
   "source": []
  },
  {
   "cell_type": "markdown",
   "metadata": {},
   "source": [
    "####  Northern Hemisphere - Cloudiness (%) vs. Latitude Linear Regression"
   ]
  },
  {
   "cell_type": "code",
   "execution_count": null,
   "metadata": {},
   "outputs": [],
   "source": []
  },
  {
   "cell_type": "markdown",
   "metadata": {},
   "source": [
    "####  Southern Hemisphere - Cloudiness (%) vs. Latitude Linear Regression"
   ]
  },
  {
   "cell_type": "code",
   "execution_count": null,
   "metadata": {},
   "outputs": [],
   "source": []
  },
  {
   "cell_type": "markdown",
   "metadata": {},
   "source": [
    "####  Northern Hemisphere - Wind Speed (mph) vs. Latitude Linear Regression"
   ]
  },
  {
   "cell_type": "code",
   "execution_count": null,
   "metadata": {},
   "outputs": [],
   "source": []
  },
  {
   "cell_type": "markdown",
   "metadata": {},
   "source": [
    "####  Southern Hemisphere - Wind Speed (mph) vs. Latitude Linear Regression"
   ]
  },
  {
   "cell_type": "code",
   "execution_count": null,
   "metadata": {},
   "outputs": [],
   "source": []
  },
  {
   "cell_type": "code",
   "execution_count": null,
   "metadata": {},
   "outputs": [],
   "source": []
  }
 ],
 "metadata": {
  "anaconda-cloud": {},
  "kernel_info": {
   "name": "python3"
  },
  "kernelspec": {
   "name": "Python 3.8.3 64-bit ('base': conda)",
   "display_name": "Python 3.8.3 64-bit ('base': conda)",
   "metadata": {
    "interpreter": {
     "hash": "485035c5b2a6f2b50dc2dc5ca51aeeb931032fbc9adc2e30c7c528d6bf8a9176"
    }
   }
  },
  "language_info": {
   "codemirror_mode": {
    "name": "ipython",
    "version": 3
   },
   "file_extension": ".py",
   "mimetype": "text/x-python",
   "name": "python",
   "nbconvert_exporter": "python",
   "pygments_lexer": "ipython3",
   "version": "3.8.3-final"
  },
  "latex_envs": {
   "LaTeX_envs_menu_present": true,
   "autoclose": false,
   "autocomplete": true,
   "bibliofile": "biblio.bib",
   "cite_by": "apalike",
   "current_citInitial": 1,
   "eqLabelWithNumbers": true,
   "eqNumInitial": 1,
   "hotkeys": {
    "equation": "Ctrl-E",
    "itemize": "Ctrl-I"
   },
   "labels_anchors": false,
   "latex_user_defs": false,
   "report_style_numbering": false,
   "user_envs_cfg": false
  },
  "nteract": {
   "version": "0.12.3"
  }
 },
 "nbformat": 4,
 "nbformat_minor": 2
}