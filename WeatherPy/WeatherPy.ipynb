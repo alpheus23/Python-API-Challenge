{
 "cells": [
  {
   "cell_type": "markdown",
   "metadata": {},
   "source": [
    "# WeatherPy\n",
    "----\n",
    "\n",
    "#### Note\n",
    "* Instructions have been included for each segment. You do not have to follow them exactly, but they are included to help you think through the steps."
   ]
  },
  {
   "cell_type": "code",
   "execution_count": 13,
   "metadata": {
    "scrolled": true
   },
   "outputs": [],
   "source": [
    "# Dependencies and Setup\n",
    "import matplotlib.pyplot as plt\n",
    "import pandas as pd\n",
    "import numpy as np\n",
    "import requests\n",
    "import time\n",
    "import json\n",
    "from scipy.stats import linregress\n",
    "\n",
    "# Import API key\n",
    "from api_keys import weather_api_key\n",
    "\n",
    "# Incorporated citipy to determine city based on latitude and longitude\n",
    "from citipy import citipy\n",
    "\n",
    "# Output File (CSV)\n",
    "output_data_file = \"output_data/cities.csv\"\n",
    "\n",
    "# Range of latitudes and longitudes\n",
    "lat_range = (-90, 90)\n",
    "lng_range = (-180, 180)"
   ]
  },
  {
   "cell_type": "markdown",
   "metadata": {},
   "source": [
    "## Generate Cities List"
   ]
  },
  {
   "cell_type": "code",
   "execution_count": 14,
   "metadata": {},
   "outputs": [
    {
     "output_type": "stream",
     "name": "stdout",
     "text": [
      "82\n"
     ]
    }
   ],
   "source": [
    "# List for holding lat_lngs and cities\n",
    "lat_lngs = []\n",
    "cities = []\n",
    "\n",
    "# Create a set of random lat and lng combinations\n",
    "lats = np.random.uniform(lat_range[0], lat_range[1], size=100)\n",
    "lngs = np.random.uniform(lng_range[0], lng_range[1], size=100)\n",
    "lat_lngs = zip(lats, lngs)\n",
    "\n",
    "# Identify nearest city for each lat, lng combination\n",
    "for lat_lng in lat_lngs:\n",
    "    city = citipy.nearest_city(lat_lng[0], lat_lng[1]).city_name\n",
    "    \n",
    "    # If the city is unique, then add it to a our cities list\n",
    "    if city not in cities:\n",
    "        cities.append(city)\n",
    "\n",
    "# Print the city count to confirm sufficient count\n",
    "print(len(cities))"
   ]
  },
  {
   "cell_type": "markdown",
   "metadata": {},
   "source": [
    "### Perform API Calls\n",
    "* Perform a weather check on each city using a series of successive API calls.\n",
    "* Include a print log of each city as it'sbeing processed (with the city number and city name).\n"
   ]
  },
  {
   "cell_type": "code",
   "execution_count": 15,
   "metadata": {
    "scrolled": true,
    "tags": []
   },
   "outputs": [
    {
     "output_type": "stream",
     "name": "stdout",
     "text": [
      "Beginning Data Retrieval\n",
      "------------------------------\n",
      "Processing record 0 | Nemuro\n",
      "Data visual: 1\n",
      "\n",
      "Processing record 1 | Rikitea\n",
      "Data visual: 2\n",
      "\n",
      "Processing record 2 | Cape town\n",
      "Data visual: 3\n",
      "\n",
      "Processing record 3 | Karema\n",
      "Data visual: 4\n",
      "\n",
      "Processing record 4 | Tuktoyaktuk\n",
      "Data visual: 5\n",
      "\n",
      "Processing record 5 | Vaini\n",
      "Data visual: 6\n",
      "\n",
      "Processing record 6 | Mar del plata\n",
      "Data visual: 7\n",
      "\n",
      "No data found for Barentsburg. Skipping...\n",
      "Data visual: 8\n",
      "\n",
      "No data found for Taolanaro. Skipping...\n",
      "Data visual: 9\n",
      "\n",
      "Processing record 9 | Kruisfontein\n",
      "Data visual: 10\n",
      "\n",
      "Processing record 10 | Sinnamary\n",
      "Data visual: 11\n",
      "\n",
      "Processing record 11 | Karratha\n",
      "Data visual: 12\n",
      "\n",
      "Processing record 12 | Albany\n",
      "Data visual: 13\n",
      "\n",
      "Processing record 13 | Nagua\n",
      "Data visual: 14\n",
      "\n",
      "Processing record 14 | Berlevag\n",
      "Data visual: 15\n",
      "\n",
      "Processing record 15 | Bambous virieux\n",
      "Data visual: 16\n",
      "\n",
      "Processing record 16 | Vung tau\n",
      "Data visual: 17\n",
      "\n",
      "Processing record 17 | Kloulklubed\n",
      "Data visual: 18\n",
      "\n",
      "Processing record 18 | Coihaique\n",
      "Data visual: 19\n",
      "\n",
      "Processing record 19 | Upernavik\n",
      "Data visual: 20\n",
      "\n",
      "Processing record 20 | Makakilo city\n",
      "Data visual: 21\n",
      "\n",
      "Processing record 21 | Umm kaddadah\n",
      "Data visual: 22\n",
      "\n",
      "Processing record 22 | Yellowknife\n",
      "Data visual: 23\n",
      "\n",
      "Processing record 23 | Talnakh\n",
      "Data visual: 24\n",
      "\n",
      "Processing record 24 | New norfolk\n",
      "Data visual: 25\n",
      "\n",
      "Processing record 25 | Hobart\n",
      "Data visual: 26\n",
      "\n",
      "Processing record 26 | Presidencia roque saenz pena\n",
      "Data visual: 27\n",
      "\n",
      "Processing record 27 | Ilulissat\n",
      "Data visual: 28\n",
      "\n",
      "Processing record 28 | Hithadhoo\n",
      "Data visual: 29\n",
      "\n",
      "Processing record 29 | Los llanos de aridane\n",
      "Data visual: 30\n",
      "\n",
      "Processing record 30 | Chokurdakh\n",
      "Data visual: 31\n",
      "\n",
      "Processing record 31 | Olafsvik\n",
      "Data visual: 32\n",
      "\n",
      "Processing record 32 | Atuona\n",
      "Data visual: 33\n",
      "\n",
      "Processing record 33 | Sampit\n",
      "Data visual: 34\n",
      "\n",
      "Processing record 34 | Ushuaia\n",
      "Data visual: 35\n",
      "\n",
      "Processing record 35 | Uelzen\n",
      "Data visual: 36\n",
      "\n",
      "Processing record 36 | Kodiak\n",
      "Data visual: 37\n",
      "\n",
      "Processing record 37 | Avarua\n",
      "Data visual: 38\n",
      "\n",
      "Processing record 38 | Marawi\n",
      "Data visual: 39\n",
      "\n",
      "Processing record 39 | Punta alta\n",
      "Data visual: 40\n",
      "\n",
      "Processing record 40 | East london\n",
      "Data visual: 41\n",
      "\n",
      "Processing record 41 | Pangody\n",
      "Data visual: 42\n",
      "\n",
      "Processing record 42 | Torremolinos\n",
      "Data visual: 43\n",
      "\n",
      "Processing record 43 | Sola\n",
      "Data visual: 44\n",
      "\n",
      "Processing record 44 | Pahrump\n",
      "Data visual: 45\n",
      "\n",
      "Processing record 45 | Georgetown\n",
      "Data visual: 46\n",
      "\n",
      "Processing record 46 | Ribeira grande\n",
      "Data visual: 47\n",
      "\n",
      "Processing record 47 | San patricio\n",
      "Data visual: 48\n",
      "\n",
      "Processing record 48 | Constitucion\n",
      "Data visual: 49\n",
      "\n",
      "Processing record 49 | Daru\n",
      "Data visual: 50\n",
      "\n",
      "Processing record 50 | Qaanaaq\n",
      "Data visual: 51\n",
      "\n",
      "No data found for Halalo. Skipping...\n",
      "Data visual: 52\n",
      "\n",
      "Processing record 52 | Mataura\n",
      "Data visual: 53\n",
      "\n",
      "Processing record 53 | Tasiilaq\n",
      "Data visual: 54\n",
      "\n",
      "Processing record 54 | Torbay\n",
      "Data visual: 55\n",
      "\n",
      "Processing record 55 | Guilin\n",
      "Data visual: 56\n",
      "\n",
      "Processing record 56 | Lasem\n",
      "Data visual: 57\n",
      "\n",
      "Processing record 57 | Castro\n",
      "Data visual: 58\n",
      "\n",
      "Processing record 58 | Puerto ayora\n",
      "Data visual: 59\n",
      "\n",
      "Processing record 59 | Bluff\n",
      "Data visual: 60\n",
      "\n",
      "Processing record 60 | Sioux lookout\n",
      "Data visual: 61\n",
      "\n",
      "Processing record 61 | Lugo\n",
      "Data visual: 62\n",
      "\n",
      "Processing record 62 | Korla\n",
      "Data visual: 63\n",
      "\n",
      "Processing record 63 | Tessalit\n",
      "Data visual: 64\n",
      "\n",
      "Processing record 64 | Jamestown\n",
      "Data visual: 65\n",
      "\n",
      "Processing record 65 | Servia\n",
      "Data visual: 66\n",
      "\n",
      "Processing record 66 | Kaitangata\n",
      "Data visual: 67\n",
      "\n",
      "Processing record 67 | Bukachacha\n",
      "Data visual: 68\n",
      "\n",
      "Processing record 68 | Khatanga\n",
      "Data visual: 69\n",
      "\n",
      "Processing record 69 | Hilo\n",
      "Data visual: 70\n",
      "\n",
      "Processing record 70 | Kimbe\n",
      "Data visual: 71\n",
      "\n",
      "Processing record 71 | Fort walton beach\n",
      "Data visual: 72\n",
      "\n",
      "Processing record 72 | Susehri\n",
      "Data visual: 73\n",
      "\n",
      "Processing record 73 | Luba\n",
      "Data visual: 74\n",
      "\n",
      "Processing record 74 | Churapcha\n",
      "Data visual: 75\n",
      "\n",
      "Processing record 75 | Isangel\n",
      "Data visual: 76\n",
      "\n",
      "Processing record 76 | Kumluca\n",
      "Data visual: 77\n",
      "\n",
      "Processing record 77 | Butaritari\n",
      "Data visual: 78\n",
      "\n",
      "Processing record 78 | Bonthe\n",
      "Data visual: 79\n",
      "\n",
      "No data found for Sentyabrskiy. Skipping...\n",
      "Data visual: 80\n",
      "\n",
      "Processing record 80 | Busselton\n",
      "Data visual: 81\n",
      "\n",
      "Processing record 81 | Punta arenas\n",
      "Data visual: 82\n",
      "\n",
      "-----------------------------\n",
      "Data Retrieval Complete\n",
      "-----------------------------\n",
      "Number of Skips: 4\n"
     ]
    }
   ],
   "source": [
    "#Creating lists to hold values to later populate dataframe\n",
    "lats = []\n",
    "lons = []\n",
    "max_temps = []\n",
    "humidities = []\n",
    "clouds = []\n",
    "wind_speeds = []\n",
    "countries =  []\n",
    "dates = []\n",
    "skip_counter = 0\n",
    "\n",
    "#Beginning of print process\n",
    "print(\"Beginning Data Retrieval\")\n",
    "print(\"------------------------------\")\n",
    "\n",
    "#Loop through each city in cities and generate json link to pull data\n",
    "for name in cities:\n",
    "    weather_url = f\"https://api.openweathermap.org/data/2.5/weather?q={name}&appid={weather_api_key}&units=metric\"\n",
    "    response = requests.get(weather_url).json()\n",
    "\n",
    "    #Catch exception in case no data found for selected city\n",
    "    try:\n",
    "        #Store data into variables\n",
    "        lat = response[\"coord\"][\"lat\"]\n",
    "        lon = response[\"coord\"][\"lon\"]\n",
    "        max_temp = response[\"main\"][\"temp_max\"]\n",
    "        humidity = response[\"main\"][\"humidity\"]\n",
    "        cloudiness = response[\"clouds\"][\"all\"]\n",
    "        wind_speed = response[\"wind\"][\"speed\"]\n",
    "        country = response[\"sys\"][\"country\"]\n",
    "        date = response[\"dt\"]\n",
    "\n",
    "        #Append data to corresponding lists\n",
    "        lats.append(lat)\n",
    "        lons.append(lon)\n",
    "        max_temps.append(max_temp)\n",
    "        humidities.append(humidity)\n",
    "        clouds.append(cloudiness)\n",
    "        wind_speeds.append(wind_speed)\n",
    "        countries.append(country)\n",
    "        dates.append(date)\n",
    "\n",
    "        #Print log of city being processed\n",
    "        print(f\"Processing record {cities.index(name)} | {name.capitalize()}\")\n",
    "        print(f\"Data visual: {len(lats)}\\n\")\n",
    "    except KeyError:\n",
    "        print(f\"No data found for {name.capitalize()}. Skipping...\")\n",
    "\n",
    "        #Remove city from cities list for easier dataframe creation later\n",
    "        #cities.remove(name)\n",
    "        lats.append(\"\")\n",
    "        lons.append(\"\")\n",
    "        max_temps.append(\"\")\n",
    "        humidities.append(\"\")\n",
    "        clouds.append(\"\")\n",
    "        wind_speeds.append(\"\")\n",
    "        countries.append(\"\")\n",
    "        dates.append(\"\")\n",
    "        print(f\"Data visual: {len(lats)}\\n\")\n",
    "        skip_counter += 1\n",
    "\n",
    "#End of print process\n",
    "print(\"-----------------------------\")\n",
    "print(\"Data Retrieval Complete\")\n",
    "print(\"-----------------------------\")\n",
    "\n",
    "print(f\"Number of Skips: {skip_counter}\")"
   ]
  },
  {
   "cell_type": "markdown",
   "metadata": {},
   "source": [
    "### Convert Raw Data to DataFrame\n",
    "* Export the city data into a .csv.\n",
    "* Display the DataFrame"
   ]
  },
  {
   "cell_type": "code",
   "execution_count": 16,
   "metadata": {},
   "outputs": [
    {
     "output_type": "execute_result",
     "data": {
      "text/plain": [
       "            City    Lat     Lon Max Temp Humidity Cloudiness Wind Speed  \\\n",
       "0         nemuro  43.32  145.57     9.96       61         66      10.01   \n",
       "1        rikitea -23.12 -134.97    22.91       78          6       7.79   \n",
       "2      cape town -33.93   18.42    24.44       43         16        5.1   \n",
       "3         karema  -6.82   30.44    27.33       58         23       0.39   \n",
       "4    tuktoyaktuk  69.45 -133.04       -7       79         75        2.1   \n",
       "..           ...    ...     ...      ...      ...        ...        ...   \n",
       "76       kumluca  36.37   30.29    24.23       63          8       3.85   \n",
       "77    butaritari   3.07  172.79    27.87       74        100       6.06   \n",
       "78        bonthe   7.53  -12.51    28.95       68         81       3.25   \n",
       "80     busselton -33.65  115.33    14.44       67          0       5.77   \n",
       "81  punta arenas -53.15  -70.92        8       65         40        9.8   \n",
       "\n",
       "   Country        Date  \n",
       "0       JP  1602687474  \n",
       "1       PF  1602687474  \n",
       "2       ZA  1602687474  \n",
       "3       TZ  1602687474  \n",
       "4       CA  1602687475  \n",
       "..     ...         ...  \n",
       "76      TR  1602687494  \n",
       "77      KI  1602687494  \n",
       "78      SL  1602687495  \n",
       "80      AU  1602687495  \n",
       "81      CL  1602687457  \n",
       "\n",
       "[78 rows x 9 columns]"
      ],
      "text/html": "<div>\n<style scoped>\n    .dataframe tbody tr th:only-of-type {\n        vertical-align: middle;\n    }\n\n    .dataframe tbody tr th {\n        vertical-align: top;\n    }\n\n    .dataframe thead th {\n        text-align: right;\n    }\n</style>\n<table border=\"1\" class=\"dataframe\">\n  <thead>\n    <tr style=\"text-align: right;\">\n      <th></th>\n      <th>City</th>\n      <th>Lat</th>\n      <th>Lon</th>\n      <th>Max Temp</th>\n      <th>Humidity</th>\n      <th>Cloudiness</th>\n      <th>Wind Speed</th>\n      <th>Country</th>\n      <th>Date</th>\n    </tr>\n  </thead>\n  <tbody>\n    <tr>\n      <th>0</th>\n      <td>nemuro</td>\n      <td>43.32</td>\n      <td>145.57</td>\n      <td>9.96</td>\n      <td>61</td>\n      <td>66</td>\n      <td>10.01</td>\n      <td>JP</td>\n      <td>1602687474</td>\n    </tr>\n    <tr>\n      <th>1</th>\n      <td>rikitea</td>\n      <td>-23.12</td>\n      <td>-134.97</td>\n      <td>22.91</td>\n      <td>78</td>\n      <td>6</td>\n      <td>7.79</td>\n      <td>PF</td>\n      <td>1602687474</td>\n    </tr>\n    <tr>\n      <th>2</th>\n      <td>cape town</td>\n      <td>-33.93</td>\n      <td>18.42</td>\n      <td>24.44</td>\n      <td>43</td>\n      <td>16</td>\n      <td>5.1</td>\n      <td>ZA</td>\n      <td>1602687474</td>\n    </tr>\n    <tr>\n      <th>3</th>\n      <td>karema</td>\n      <td>-6.82</td>\n      <td>30.44</td>\n      <td>27.33</td>\n      <td>58</td>\n      <td>23</td>\n      <td>0.39</td>\n      <td>TZ</td>\n      <td>1602687474</td>\n    </tr>\n    <tr>\n      <th>4</th>\n      <td>tuktoyaktuk</td>\n      <td>69.45</td>\n      <td>-133.04</td>\n      <td>-7</td>\n      <td>79</td>\n      <td>75</td>\n      <td>2.1</td>\n      <td>CA</td>\n      <td>1602687475</td>\n    </tr>\n    <tr>\n      <th>...</th>\n      <td>...</td>\n      <td>...</td>\n      <td>...</td>\n      <td>...</td>\n      <td>...</td>\n      <td>...</td>\n      <td>...</td>\n      <td>...</td>\n      <td>...</td>\n    </tr>\n    <tr>\n      <th>76</th>\n      <td>kumluca</td>\n      <td>36.37</td>\n      <td>30.29</td>\n      <td>24.23</td>\n      <td>63</td>\n      <td>8</td>\n      <td>3.85</td>\n      <td>TR</td>\n      <td>1602687494</td>\n    </tr>\n    <tr>\n      <th>77</th>\n      <td>butaritari</td>\n      <td>3.07</td>\n      <td>172.79</td>\n      <td>27.87</td>\n      <td>74</td>\n      <td>100</td>\n      <td>6.06</td>\n      <td>KI</td>\n      <td>1602687494</td>\n    </tr>\n    <tr>\n      <th>78</th>\n      <td>bonthe</td>\n      <td>7.53</td>\n      <td>-12.51</td>\n      <td>28.95</td>\n      <td>68</td>\n      <td>81</td>\n      <td>3.25</td>\n      <td>SL</td>\n      <td>1602687495</td>\n    </tr>\n    <tr>\n      <th>80</th>\n      <td>busselton</td>\n      <td>-33.65</td>\n      <td>115.33</td>\n      <td>14.44</td>\n      <td>67</td>\n      <td>0</td>\n      <td>5.77</td>\n      <td>AU</td>\n      <td>1602687495</td>\n    </tr>\n    <tr>\n      <th>81</th>\n      <td>punta arenas</td>\n      <td>-53.15</td>\n      <td>-70.92</td>\n      <td>8</td>\n      <td>65</td>\n      <td>40</td>\n      <td>9.8</td>\n      <td>CL</td>\n      <td>1602687457</td>\n    </tr>\n  </tbody>\n</table>\n<p>78 rows × 9 columns</p>\n</div>"
     },
     "metadata": {},
     "execution_count": 16
    }
   ],
   "source": [
    "#Create dataframe\n",
    "raw_data = {\"City\": cities, \"Lat\": lats, \"Lon\": lons, \"Max Temp\": max_temps, \"Humidity\": humidities, \"Cloudiness\": clouds, \"Wind Speed\": wind_speeds, \"Country\": countries, \"Date\": dates}\n",
    "\n",
    "city_data = pd.DataFrame(raw_data)\n",
    "\n",
    "#Find indexes where Lat is blank for future removal\n",
    "index_names = city_data[city_data[\"Lat\"] == \"\"].index\n",
    "\n",
    "city_data.drop(index_names, inplace = True)\n",
    "\n",
    "#Export dataframe to a csv file\n",
    "city_data.to_csv(\"../output_data/cities.csv\", index = False, header = True)\n",
    "\n",
    "#Print out cleaned dataframe\n",
    "city_data"
   ]
  },
  {
   "cell_type": "code",
   "execution_count": 17,
   "metadata": {},
   "outputs": [
    {
     "output_type": "execute_result",
     "data": {
      "text/plain": [
       "            City    Lat     Lon Max Temp Humidity Cloudiness Wind Speed  \\\n",
       "2      cape town -33.93   18.42    24.44       43         16        5.1   \n",
       "9   kruisfontein    -34   24.73    21.67       49          0       2.68   \n",
       "11      karratha -20.74  116.85    27.18       42          0       5.13   \n",
       "18     coihaique -45.58  -72.07       10       43         75        3.6   \n",
       "21  umm kaddadah   13.6   26.69    36.17       13          0       4.27   \n",
       "39    punta alta -38.88  -62.07    16.17       39          7       8.38   \n",
       "42  torremolinos  36.62    -4.5       25       29          3        9.8   \n",
       "44       pahrump  36.21 -115.98    23.89       29          1       0.43   \n",
       "57        castro -24.79  -50.01    29.39       37         28       2.37   \n",
       "63      tessalit   20.2    1.01    37.86        9          0       5.41   \n",
       "65        servia  40.18   21.99       20       30          0        3.6   \n",
       "72       susehri  40.16   38.09    20.13       25          0        1.3   \n",
       "\n",
       "   Country        Date  \n",
       "2       ZA  1602687474  \n",
       "9       ZA  1602687476  \n",
       "11      AU  1602687271  \n",
       "18      CL  1602687479  \n",
       "21      SD  1602687479  \n",
       "39      AR  1602687484  \n",
       "42      ES  1602687312  \n",
       "44      US  1602687485  \n",
       "57      BR  1602687489  \n",
       "63      ML  1602687490  \n",
       "65      GR  1602687491  \n",
       "72      TR  1602687493  "
      ],
      "text/html": "<div>\n<style scoped>\n    .dataframe tbody tr th:only-of-type {\n        vertical-align: middle;\n    }\n\n    .dataframe tbody tr th {\n        vertical-align: top;\n    }\n\n    .dataframe thead th {\n        text-align: right;\n    }\n</style>\n<table border=\"1\" class=\"dataframe\">\n  <thead>\n    <tr style=\"text-align: right;\">\n      <th></th>\n      <th>City</th>\n      <th>Lat</th>\n      <th>Lon</th>\n      <th>Max Temp</th>\n      <th>Humidity</th>\n      <th>Cloudiness</th>\n      <th>Wind Speed</th>\n      <th>Country</th>\n      <th>Date</th>\n    </tr>\n  </thead>\n  <tbody>\n    <tr>\n      <th>2</th>\n      <td>cape town</td>\n      <td>-33.93</td>\n      <td>18.42</td>\n      <td>24.44</td>\n      <td>43</td>\n      <td>16</td>\n      <td>5.1</td>\n      <td>ZA</td>\n      <td>1602687474</td>\n    </tr>\n    <tr>\n      <th>9</th>\n      <td>kruisfontein</td>\n      <td>-34</td>\n      <td>24.73</td>\n      <td>21.67</td>\n      <td>49</td>\n      <td>0</td>\n      <td>2.68</td>\n      <td>ZA</td>\n      <td>1602687476</td>\n    </tr>\n    <tr>\n      <th>11</th>\n      <td>karratha</td>\n      <td>-20.74</td>\n      <td>116.85</td>\n      <td>27.18</td>\n      <td>42</td>\n      <td>0</td>\n      <td>5.13</td>\n      <td>AU</td>\n      <td>1602687271</td>\n    </tr>\n    <tr>\n      <th>18</th>\n      <td>coihaique</td>\n      <td>-45.58</td>\n      <td>-72.07</td>\n      <td>10</td>\n      <td>43</td>\n      <td>75</td>\n      <td>3.6</td>\n      <td>CL</td>\n      <td>1602687479</td>\n    </tr>\n    <tr>\n      <th>21</th>\n      <td>umm kaddadah</td>\n      <td>13.6</td>\n      <td>26.69</td>\n      <td>36.17</td>\n      <td>13</td>\n      <td>0</td>\n      <td>4.27</td>\n      <td>SD</td>\n      <td>1602687479</td>\n    </tr>\n    <tr>\n      <th>39</th>\n      <td>punta alta</td>\n      <td>-38.88</td>\n      <td>-62.07</td>\n      <td>16.17</td>\n      <td>39</td>\n      <td>7</td>\n      <td>8.38</td>\n      <td>AR</td>\n      <td>1602687484</td>\n    </tr>\n    <tr>\n      <th>42</th>\n      <td>torremolinos</td>\n      <td>36.62</td>\n      <td>-4.5</td>\n      <td>25</td>\n      <td>29</td>\n      <td>3</td>\n      <td>9.8</td>\n      <td>ES</td>\n      <td>1602687312</td>\n    </tr>\n    <tr>\n      <th>44</th>\n      <td>pahrump</td>\n      <td>36.21</td>\n      <td>-115.98</td>\n      <td>23.89</td>\n      <td>29</td>\n      <td>1</td>\n      <td>0.43</td>\n      <td>US</td>\n      <td>1602687485</td>\n    </tr>\n    <tr>\n      <th>57</th>\n      <td>castro</td>\n      <td>-24.79</td>\n      <td>-50.01</td>\n      <td>29.39</td>\n      <td>37</td>\n      <td>28</td>\n      <td>2.37</td>\n      <td>BR</td>\n      <td>1602687489</td>\n    </tr>\n    <tr>\n      <th>63</th>\n      <td>tessalit</td>\n      <td>20.2</td>\n      <td>1.01</td>\n      <td>37.86</td>\n      <td>9</td>\n      <td>0</td>\n      <td>5.41</td>\n      <td>ML</td>\n      <td>1602687490</td>\n    </tr>\n    <tr>\n      <th>65</th>\n      <td>servia</td>\n      <td>40.18</td>\n      <td>21.99</td>\n      <td>20</td>\n      <td>30</td>\n      <td>0</td>\n      <td>3.6</td>\n      <td>GR</td>\n      <td>1602687491</td>\n    </tr>\n    <tr>\n      <th>72</th>\n      <td>susehri</td>\n      <td>40.16</td>\n      <td>38.09</td>\n      <td>20.13</td>\n      <td>25</td>\n      <td>0</td>\n      <td>1.3</td>\n      <td>TR</td>\n      <td>1602687493</td>\n    </tr>\n  </tbody>\n</table>\n</div>"
     },
     "metadata": {},
     "execution_count": 17
    }
   ],
   "source": [
    "over_100 = city_data.loc[city_data[\"Humidity\"] < 50]\n",
    "\n",
    "over_100"
   ]
  },
  {
   "cell_type": "markdown",
   "metadata": {},
   "source": [
    "## Inspect the data and remove the cities where the humidity > 100%.\n",
    "----\n",
    "Skip this step if there are no cities that have humidity > 100%. "
   ]
  },
  {
   "cell_type": "code",
   "execution_count": null,
   "metadata": {},
   "outputs": [],
   "source": []
  },
  {
   "cell_type": "code",
   "execution_count": 18,
   "metadata": {},
   "outputs": [
    {
     "output_type": "execute_result",
     "data": {
      "text/plain": [
       "Int64Index([2, 9, 11, 18, 21, 39, 42, 44, 57, 63, 65, 72], dtype='int64')"
      ]
     },
     "metadata": {},
     "execution_count": 18
    }
   ],
   "source": [
    "#  Get the indices of cities that have humidity over 100%.\n",
    "humid_index = city_data[city_data[\"Humidity\"] < 50].index\n",
    "humid_index"
   ]
  },
  {
   "cell_type": "code",
   "execution_count": 19,
   "metadata": {},
   "outputs": [
    {
     "output_type": "execute_result",
     "data": {
      "text/plain": [
       "            City    Lat     Lon Max Temp Humidity Cloudiness Wind Speed  \\\n",
       "0         nemuro  43.32  145.57     9.96       61         66      10.01   \n",
       "1        rikitea -23.12 -134.97    22.91       78          6       7.79   \n",
       "3         karema  -6.82   30.44    27.33       58         23       0.39   \n",
       "4    tuktoyaktuk  69.45 -133.04       -7       79         75        2.1   \n",
       "5          vaini  -21.2  -175.2       21       83         40        3.1   \n",
       "..           ...    ...     ...      ...      ...        ...        ...   \n",
       "76       kumluca  36.37   30.29    24.23       63          8       3.85   \n",
       "77    butaritari   3.07  172.79    27.87       74        100       6.06   \n",
       "78        bonthe   7.53  -12.51    28.95       68         81       3.25   \n",
       "80     busselton -33.65  115.33    14.44       67          0       5.77   \n",
       "81  punta arenas -53.15  -70.92        8       65         40        9.8   \n",
       "\n",
       "   Country        Date  \n",
       "0       JP  1602687474  \n",
       "1       PF  1602687474  \n",
       "3       TZ  1602687474  \n",
       "4       CA  1602687475  \n",
       "5       TO  1602687475  \n",
       "..     ...         ...  \n",
       "76      TR  1602687494  \n",
       "77      KI  1602687494  \n",
       "78      SL  1602687495  \n",
       "80      AU  1602687495  \n",
       "81      CL  1602687457  \n",
       "\n",
       "[66 rows x 9 columns]"
      ],
      "text/html": "<div>\n<style scoped>\n    .dataframe tbody tr th:only-of-type {\n        vertical-align: middle;\n    }\n\n    .dataframe tbody tr th {\n        vertical-align: top;\n    }\n\n    .dataframe thead th {\n        text-align: right;\n    }\n</style>\n<table border=\"1\" class=\"dataframe\">\n  <thead>\n    <tr style=\"text-align: right;\">\n      <th></th>\n      <th>City</th>\n      <th>Lat</th>\n      <th>Lon</th>\n      <th>Max Temp</th>\n      <th>Humidity</th>\n      <th>Cloudiness</th>\n      <th>Wind Speed</th>\n      <th>Country</th>\n      <th>Date</th>\n    </tr>\n  </thead>\n  <tbody>\n    <tr>\n      <th>0</th>\n      <td>nemuro</td>\n      <td>43.32</td>\n      <td>145.57</td>\n      <td>9.96</td>\n      <td>61</td>\n      <td>66</td>\n      <td>10.01</td>\n      <td>JP</td>\n      <td>1602687474</td>\n    </tr>\n    <tr>\n      <th>1</th>\n      <td>rikitea</td>\n      <td>-23.12</td>\n      <td>-134.97</td>\n      <td>22.91</td>\n      <td>78</td>\n      <td>6</td>\n      <td>7.79</td>\n      <td>PF</td>\n      <td>1602687474</td>\n    </tr>\n    <tr>\n      <th>3</th>\n      <td>karema</td>\n      <td>-6.82</td>\n      <td>30.44</td>\n      <td>27.33</td>\n      <td>58</td>\n      <td>23</td>\n      <td>0.39</td>\n      <td>TZ</td>\n      <td>1602687474</td>\n    </tr>\n    <tr>\n      <th>4</th>\n      <td>tuktoyaktuk</td>\n      <td>69.45</td>\n      <td>-133.04</td>\n      <td>-7</td>\n      <td>79</td>\n      <td>75</td>\n      <td>2.1</td>\n      <td>CA</td>\n      <td>1602687475</td>\n    </tr>\n    <tr>\n      <th>5</th>\n      <td>vaini</td>\n      <td>-21.2</td>\n      <td>-175.2</td>\n      <td>21</td>\n      <td>83</td>\n      <td>40</td>\n      <td>3.1</td>\n      <td>TO</td>\n      <td>1602687475</td>\n    </tr>\n    <tr>\n      <th>...</th>\n      <td>...</td>\n      <td>...</td>\n      <td>...</td>\n      <td>...</td>\n      <td>...</td>\n      <td>...</td>\n      <td>...</td>\n      <td>...</td>\n      <td>...</td>\n    </tr>\n    <tr>\n      <th>76</th>\n      <td>kumluca</td>\n      <td>36.37</td>\n      <td>30.29</td>\n      <td>24.23</td>\n      <td>63</td>\n      <td>8</td>\n      <td>3.85</td>\n      <td>TR</td>\n      <td>1602687494</td>\n    </tr>\n    <tr>\n      <th>77</th>\n      <td>butaritari</td>\n      <td>3.07</td>\n      <td>172.79</td>\n      <td>27.87</td>\n      <td>74</td>\n      <td>100</td>\n      <td>6.06</td>\n      <td>KI</td>\n      <td>1602687494</td>\n    </tr>\n    <tr>\n      <th>78</th>\n      <td>bonthe</td>\n      <td>7.53</td>\n      <td>-12.51</td>\n      <td>28.95</td>\n      <td>68</td>\n      <td>81</td>\n      <td>3.25</td>\n      <td>SL</td>\n      <td>1602687495</td>\n    </tr>\n    <tr>\n      <th>80</th>\n      <td>busselton</td>\n      <td>-33.65</td>\n      <td>115.33</td>\n      <td>14.44</td>\n      <td>67</td>\n      <td>0</td>\n      <td>5.77</td>\n      <td>AU</td>\n      <td>1602687495</td>\n    </tr>\n    <tr>\n      <th>81</th>\n      <td>punta arenas</td>\n      <td>-53.15</td>\n      <td>-70.92</td>\n      <td>8</td>\n      <td>65</td>\n      <td>40</td>\n      <td>9.8</td>\n      <td>CL</td>\n      <td>1602687457</td>\n    </tr>\n  </tbody>\n</table>\n<p>66 rows × 9 columns</p>\n</div>"
     },
     "metadata": {},
     "execution_count": 19
    }
   ],
   "source": [
    "# Make a new DataFrame equal to the city data to drop all humidity outliers by index.\n",
    "# Passing \"inplace=False\" will make a copy of the city_data DataFrame, which we call \"clean_city_data\".\n",
    "clean_city_data = city_data.drop(humid_index, inplace = False)\n",
    "\n",
    "clean_city_data"
   ]
  },
  {
   "cell_type": "code",
   "execution_count": 19,
   "metadata": {},
   "outputs": [],
   "source": [
    "\n"
   ]
  },
  {
   "cell_type": "markdown",
   "metadata": {},
   "source": [
    "## Plotting the Data\n",
    "* Use proper labeling of the plots using plot titles (including date of analysis) and axes labels.\n",
    "* Save the plotted figures as .pngs."
   ]
  },
  {
   "cell_type": "markdown",
   "metadata": {},
   "source": [
    "## Latitude vs. Temperature Plot"
   ]
  },
  {
   "cell_type": "code",
   "execution_count": 22,
   "metadata": {
    "scrolled": true
   },
   "outputs": [
    {
     "output_type": "display_data",
     "data": {
      "text/plain": "<Figure size 432x288 with 0 Axes>"
     },
     "metadata": {}
    },
    {
     "output_type": "display_data",
     "data": {
      "text/plain": "<Figure size 432x288 with 1 Axes>",
      "image/svg+xml": "<?xml version=\"1.0\" encoding=\"utf-8\" standalone=\"no\"?>\r\n<!DOCTYPE svg PUBLIC \"-//W3C//DTD SVG 1.1//EN\"\r\n  \"http://www.w3.org/Graphics/SVG/1.1/DTD/svg11.dtd\">\r\n<!-- Created with matplotlib (https://matplotlib.org/) -->\r\n<svg height=\"248.518125pt\" version=\"1.1\" viewBox=\"0 0 377.304687 248.518125\" width=\"377.304687pt\" xmlns=\"http://www.w3.org/2000/svg\" xmlns:xlink=\"http://www.w3.org/1999/xlink\">\r\n <defs>\r\n  <style type=\"text/css\">\r\n*{stroke-linecap:butt;stroke-linejoin:round;}\r\n  </style>\r\n </defs>\r\n <g id=\"figure_1\">\r\n  <g id=\"patch_1\">\r\n   <path d=\"M 0 248.518125 \r\nL 377.304687 248.518125 \r\nL 377.304687 0 \r\nL 0 0 \r\nz\r\n\" style=\"fill:none;\"/>\r\n  </g>\r\n  <g id=\"axes_1\">\r\n   <g id=\"patch_2\">\r\n    <path d=\"M 35.304688 224.64 \r\nL 370.104688 224.64 \r\nL 370.104688 7.2 \r\nL 35.304688 7.2 \r\nz\r\n\" style=\"fill:#ffffff;\"/>\r\n   </g>\r\n   <g id=\"PathCollection_1\">\r\n    <defs>\r\n     <path d=\"M 0 3 \r\nC 0.795609 3 1.55874 2.683901 2.12132 2.12132 \r\nC 2.683901 1.55874 3 0.795609 3 0 \r\nC 3 -0.795609 2.683901 -1.55874 2.12132 -2.12132 \r\nC 1.55874 -2.683901 0.795609 -3 0 -3 \r\nC -0.795609 -3 -1.55874 -2.683901 -2.12132 -2.12132 \r\nC -2.683901 -1.55874 -3 -0.795609 -3 0 \r\nC -3 0.795609 -2.683901 1.55874 -2.12132 2.12132 \r\nC -1.55874 2.683901 -0.795609 3 0 3 \r\nz\r\n\" id=\"mc3aff957ce\" style=\"stroke:#000000;\"/>\r\n    </defs>\r\n    <g clip-path=\"url(#p97b212bd8c)\">\r\n     <use style=\"fill:#ff0000;stroke:#000000;\" x=\"276.287611\" xlink:href=\"#mc3aff957ce\" y=\"119.541214\"/>\r\n     <use style=\"fill:#ff0000;stroke:#000000;\" x=\"123.415521\" xlink:href=\"#mc3aff957ce\" y=\"53.954183\"/>\r\n     <use style=\"fill:#ff0000;stroke:#000000;\" x=\"160.920263\" xlink:href=\"#mc3aff957ce\" y=\"31.568494\"/>\r\n     <use style=\"fill:#ff0000;stroke:#000000;\" x=\"336.410243\" xlink:href=\"#mc3aff957ce\" y=\"205.437434\"/>\r\n     <use style=\"fill:#ff0000;stroke:#000000;\" x=\"127.833258\" xlink:href=\"#mc3aff957ce\" y=\"63.627637\"/>\r\n     <use style=\"fill:#ff0000;stroke:#000000;\" x=\"89.178064\" xlink:href=\"#mc3aff957ce\" y=\"77.150215\"/>\r\n     <use style=\"fill:#ff0000;stroke:#000000;\" x=\"188.991297\" xlink:href=\"#mc3aff957ce\" y=\"17.083636\"/>\r\n     <use style=\"fill:#ff0000;stroke:#000000;\" x=\"274.63096\" xlink:href=\"#mc3aff957ce\" y=\"94.015451\"/>\r\n     <use style=\"fill:#ff0000;stroke:#000000;\" x=\"221.203959\" xlink:href=\"#mc3aff957ce\" y=\"28.175188\"/>\r\n     <use style=\"fill:#ff0000;stroke:#000000;\" x=\"339.654518\" xlink:href=\"#mc3aff957ce\" y=\"144.661807\"/>\r\n     <use style=\"fill:#ff0000;stroke:#000000;\" x=\"129.812036\" xlink:href=\"#mc3aff957ce\" y=\"43.369095\"/>\r\n     <use style=\"fill:#ff0000;stroke:#000000;\" x=\"200.426792\" xlink:href=\"#mc3aff957ce\" y=\"33.442409\"/>\r\n     <use style=\"fill:#ff0000;stroke:#000000;\" x=\"192.810799\" xlink:href=\"#mc3aff957ce\" y=\"43.369095\"/>\r\n     <use style=\"fill:#ff0000;stroke:#000000;\" x=\"344.095264\" xlink:href=\"#mc3aff957ce\" y=\"173.428937\"/>\r\n     <use style=\"fill:#ff0000;stroke:#000000;\" x=\"225.736741\" xlink:href=\"#mc3aff957ce\" y=\"53.498366\"/>\r\n     <use style=\"fill:#ff0000;stroke:#000000;\" x=\"320.326921\" xlink:href=\"#mc3aff957ce\" y=\"192.471967\"/>\r\n     <use style=\"fill:#ff0000;stroke:#000000;\" x=\"336.502279\" xlink:href=\"#mc3aff957ce\" y=\"195.308163\"/>\r\n     <use style=\"fill:#ff0000;stroke:#000000;\" x=\"78.17974\" xlink:href=\"#mc3aff957ce\" y=\"104.144722\"/>\r\n     <use style=\"fill:#ff0000;stroke:#000000;\" x=\"77.94965\" xlink:href=\"#mc3aff957ce\" y=\"104.144722\"/>\r\n     <use style=\"fill:#ff0000;stroke:#000000;\" x=\"114.971202\" xlink:href=\"#mc3aff957ce\" y=\"53.852891\"/>\r\n     <use style=\"fill:#ff0000;stroke:#000000;\" x=\"335.881035\" xlink:href=\"#mc3aff957ce\" y=\"164.920349\"/>\r\n     <use style=\"fill:#ff0000;stroke:#000000;\" x=\"175.231889\" xlink:href=\"#mc3aff957ce\" y=\"25.744163\"/>\r\n     <use style=\"fill:#ff0000;stroke:#000000;\" x=\"242.556352\" xlink:href=\"#mc3aff957ce\" y=\"43.369095\"/>\r\n     <use style=\"fill:#ff0000;stroke:#000000;\" x=\"339.12531\" xlink:href=\"#mc3aff957ce\" y=\"202.094775\"/>\r\n     <use style=\"fill:#ff0000;stroke:#000000;\" x=\"325.918119\" xlink:href=\"#mc3aff957ce\" y=\"125.821363\"/>\r\n     <use style=\"fill:#ff0000;stroke:#000000;\" x=\"154.063568\" xlink:href=\"#mc3aff957ce\" y=\"42.862632\"/>\r\n     <use style=\"fill:#ff0000;stroke:#000000;\" x=\"170.791143\" xlink:href=\"#mc3aff957ce\" y=\"46.610462\"/>\r\n     <use style=\"fill:#ff0000;stroke:#000000;\" x=\"50.522869\" xlink:href=\"#mc3aff957ce\" y=\"134.532536\"/>\r\n     <use style=\"fill:#ff0000;stroke:#000000;\" x=\"298.491338\" xlink:href=\"#mc3aff957ce\" y=\"124.403265\"/>\r\n     <use style=\"fill:#ff0000;stroke:#000000;\" x=\"309.581698\" xlink:href=\"#mc3aff957ce\" y=\"159.855714\"/>\r\n     <use style=\"fill:#ff0000;stroke:#000000;\" x=\"127.810249\" xlink:href=\"#mc3aff957ce\" y=\"63.627637\"/>\r\n     <use style=\"fill:#ff0000;stroke:#000000;\" x=\"195.019667\" xlink:href=\"#mc3aff957ce\" y=\"54.612586\"/>\r\n     <use style=\"fill:#ff0000;stroke:#000000;\" x=\"100.636568\" xlink:href=\"#mc3aff957ce\" y=\"68.692273\"/>\r\n     <use style=\"fill:#ff0000;stroke:#000000;\" x=\"328.126987\" xlink:href=\"#mc3aff957ce\" y=\"169.934339\"/>\r\n     <use style=\"fill:#ff0000;stroke:#000000;\" x=\"144.675878\" xlink:href=\"#mc3aff957ce\" y=\"39.317387\"/>\r\n     <use style=\"fill:#ff0000;stroke:#000000;\" x=\"189.060324\" xlink:href=\"#mc3aff957ce\" y=\"28.175188\"/>\r\n     <use style=\"fill:#ff0000;stroke:#000000;\" x=\"265.24327\" xlink:href=\"#mc3aff957ce\" y=\"53.498366\"/>\r\n     <use style=\"fill:#ff0000;stroke:#000000;\" x=\"241.083773\" xlink:href=\"#mc3aff957ce\" y=\"32.125604\"/>\r\n     <use style=\"fill:#ff0000;stroke:#000000;\" x=\"95.321478\" xlink:href=\"#mc3aff957ce\" y=\"90.520852\"/>\r\n     <use style=\"fill:#ff0000;stroke:#000000;\" x=\"155.720219\" xlink:href=\"#mc3aff957ce\" y=\"39.722557\"/>\r\n     <use style=\"fill:#ff0000;stroke:#000000;\" x=\"354.886506\" xlink:href=\"#mc3aff957ce\" y=\"170.592741\"/>\r\n     <use style=\"fill:#ff0000;stroke:#000000;\" x=\"70.333656\" xlink:href=\"#mc3aff957ce\" y=\"158.741494\"/>\r\n     <use style=\"fill:#ff0000;stroke:#000000;\" x=\"327.57477\" xlink:href=\"#mc3aff957ce\" y=\"144.661807\"/>\r\n     <use style=\"fill:#ff0000;stroke:#000000;\" x=\"286.296545\" xlink:href=\"#mc3aff957ce\" y=\"108.095138\"/>\r\n     <use style=\"fill:#ff0000;stroke:#000000;\" x=\"234.779295\" xlink:href=\"#mc3aff957ce\" y=\"68.692273\"/>\r\n     <use style=\"fill:#ff0000;stroke:#000000;\" x=\"161.219381\" xlink:href=\"#mc3aff957ce\" y=\"29.947811\"/>\r\n     <use style=\"fill:#ff0000;stroke:#000000;\" x=\"174.909762\" xlink:href=\"#mc3aff957ce\" y=\"64.235394\"/>\r\n     <use style=\"fill:#ff0000;stroke:#000000;\" x=\"69.390286\" xlink:href=\"#mc3aff957ce\" y=\"158.741494\"/>\r\n     <use style=\"fill:#ff0000;stroke:#000000;\" x=\"291.887743\" xlink:href=\"#mc3aff957ce\" y=\"149.726443\"/>\r\n     <use style=\"fill:#ff0000;stroke:#000000;\" x=\"275.551321\" xlink:href=\"#mc3aff957ce\" y=\"94.015451\"/>\r\n     <use style=\"fill:#ff0000;stroke:#000000;\" x=\"272.6982\" xlink:href=\"#mc3aff957ce\" y=\"119.338629\"/>\r\n     <use style=\"fill:#ff0000;stroke:#000000;\" x=\"273.480507\" xlink:href=\"#mc3aff957ce\" y=\"102.473392\"/>\r\n     <use style=\"fill:#ff0000;stroke:#000000;\" x=\"70.126575\" xlink:href=\"#mc3aff957ce\" y=\"153.119748\"/>\r\n     <use style=\"fill:#ff0000;stroke:#000000;\" x=\"298.514347\" xlink:href=\"#mc3aff957ce\" y=\"193.181016\"/>\r\n     <use style=\"fill:#ff0000;stroke:#000000;\" x=\"342.208522\" xlink:href=\"#mc3aff957ce\" y=\"196.928846\"/>\r\n     <use style=\"fill:#ff0000;stroke:#000000;\" x=\"222.009276\" xlink:href=\"#mc3aff957ce\" y=\"68.692273\"/>\r\n     <use style=\"fill:#ff0000;stroke:#000000;\" x=\"163.842412\" xlink:href=\"#mc3aff957ce\" y=\"55.11905\"/>\r\n     <use style=\"fill:#ff0000;stroke:#000000;\" x=\"246.582935\" xlink:href=\"#mc3aff957ce\" y=\"54.612586\"/>\r\n     <use style=\"fill:#ff0000;stroke:#000000;\" x=\"184.573561\" xlink:href=\"#mc3aff957ce\" y=\"41.849704\"/>\r\n     <use style=\"fill:#ff0000;stroke:#000000;\" x=\"319.268505\" xlink:href=\"#mc3aff957ce\" y=\"214.756364\"/>\r\n     <use style=\"fill:#ff0000;stroke:#000000;\" x=\"131.62975\" xlink:href=\"#mc3aff957ce\" y=\"46.661108\"/>\r\n     <use style=\"fill:#ff0000;stroke:#000000;\" x=\"260.296325\" xlink:href=\"#mc3aff957ce\" y=\"47.268865\"/>\r\n     <use style=\"fill:#ff0000;stroke:#000000;\" x=\"183.676208\" xlink:href=\"#mc3aff957ce\" y=\"28.833591\"/>\r\n     <use style=\"fill:#ff0000;stroke:#000000;\" x=\"193.938242\" xlink:href=\"#mc3aff957ce\" y=\"23.363785\"/>\r\n     <use style=\"fill:#ff0000;stroke:#000000;\" x=\"99.186998\" xlink:href=\"#mc3aff957ce\" y=\"96.851647\"/>\r\n     <use style=\"fill:#ff0000;stroke:#000000;\" x=\"54.319362\" xlink:href=\"#mc3aff957ce\" y=\"129.4679\"/>\r\n    </g>\r\n   </g>\r\n   <g id=\"matplotlib.axis_1\">\r\n    <g id=\"xtick_1\">\r\n     <g id=\"line2d_1\">\r\n      <defs>\r\n       <path d=\"M 0 0 \r\nL 0 3.5 \r\n\" id=\"m5817b3f20c\" style=\"stroke:#000000;stroke-width:0.8;\"/>\r\n      </defs>\r\n      <g>\r\n       <use style=\"stroke:#000000;stroke-width:0.8;\" x=\"38.558166\" xlink:href=\"#m5817b3f20c\" y=\"224.64\"/>\r\n      </g>\r\n     </g>\r\n     <g id=\"text_1\">\r\n      <!-- −60 -->\r\n      <defs>\r\n       <path d=\"M 10.59375 35.5 \r\nL 73.1875 35.5 \r\nL 73.1875 27.203125 \r\nL 10.59375 27.203125 \r\nz\r\n\" id=\"DejaVuSans-8722\"/>\r\n       <path d=\"M 33.015625 40.375 \r\nQ 26.375 40.375 22.484375 35.828125 \r\nQ 18.609375 31.296875 18.609375 23.390625 \r\nQ 18.609375 15.53125 22.484375 10.953125 \r\nQ 26.375 6.390625 33.015625 6.390625 \r\nQ 39.65625 6.390625 43.53125 10.953125 \r\nQ 47.40625 15.53125 47.40625 23.390625 \r\nQ 47.40625 31.296875 43.53125 35.828125 \r\nQ 39.65625 40.375 33.015625 40.375 \r\nz\r\nM 52.59375 71.296875 \r\nL 52.59375 62.3125 \r\nQ 48.875 64.0625 45.09375 64.984375 \r\nQ 41.3125 65.921875 37.59375 65.921875 \r\nQ 27.828125 65.921875 22.671875 59.328125 \r\nQ 17.53125 52.734375 16.796875 39.40625 \r\nQ 19.671875 43.65625 24.015625 45.921875 \r\nQ 28.375 48.1875 33.59375 48.1875 \r\nQ 44.578125 48.1875 50.953125 41.515625 \r\nQ 57.328125 34.859375 57.328125 23.390625 \r\nQ 57.328125 12.15625 50.6875 5.359375 \r\nQ 44.046875 -1.421875 33.015625 -1.421875 \r\nQ 20.359375 -1.421875 13.671875 8.265625 \r\nQ 6.984375 17.96875 6.984375 36.375 \r\nQ 6.984375 53.65625 15.1875 63.9375 \r\nQ 23.390625 74.21875 37.203125 74.21875 \r\nQ 40.921875 74.21875 44.703125 73.484375 \r\nQ 48.484375 72.75 52.59375 71.296875 \r\nz\r\n\" id=\"DejaVuSans-54\"/>\r\n       <path d=\"M 31.78125 66.40625 \r\nQ 24.171875 66.40625 20.328125 58.90625 \r\nQ 16.5 51.421875 16.5 36.375 \r\nQ 16.5 21.390625 20.328125 13.890625 \r\nQ 24.171875 6.390625 31.78125 6.390625 \r\nQ 39.453125 6.390625 43.28125 13.890625 \r\nQ 47.125 21.390625 47.125 36.375 \r\nQ 47.125 51.421875 43.28125 58.90625 \r\nQ 39.453125 66.40625 31.78125 66.40625 \r\nz\r\nM 31.78125 74.21875 \r\nQ 44.046875 74.21875 50.515625 64.515625 \r\nQ 56.984375 54.828125 56.984375 36.375 \r\nQ 56.984375 17.96875 50.515625 8.265625 \r\nQ 44.046875 -1.421875 31.78125 -1.421875 \r\nQ 19.53125 -1.421875 13.0625 8.265625 \r\nQ 6.59375 17.96875 6.59375 36.375 \r\nQ 6.59375 54.828125 13.0625 64.515625 \r\nQ 19.53125 74.21875 31.78125 74.21875 \r\nz\r\n\" id=\"DejaVuSans-48\"/>\r\n      </defs>\r\n      <g transform=\"translate(28.005823 239.238438)scale(0.1 -0.1)\">\r\n       <use xlink:href=\"#DejaVuSans-8722\"/>\r\n       <use x=\"83.789062\" xlink:href=\"#DejaVuSans-54\"/>\r\n       <use x=\"147.412109\" xlink:href=\"#DejaVuSans-48\"/>\r\n      </g>\r\n     </g>\r\n    </g>\r\n    <g id=\"xtick_2\">\r\n     <g id=\"line2d_2\">\r\n      <g>\r\n       <use style=\"stroke:#000000;stroke-width:0.8;\" x=\"84.576255\" xlink:href=\"#m5817b3f20c\" y=\"224.64\"/>\r\n      </g>\r\n     </g>\r\n     <g id=\"text_2\">\r\n      <!-- −40 -->\r\n      <defs>\r\n       <path d=\"M 37.796875 64.3125 \r\nL 12.890625 25.390625 \r\nL 37.796875 25.390625 \r\nz\r\nM 35.203125 72.90625 \r\nL 47.609375 72.90625 \r\nL 47.609375 25.390625 \r\nL 58.015625 25.390625 \r\nL 58.015625 17.1875 \r\nL 47.609375 17.1875 \r\nL 47.609375 0 \r\nL 37.796875 0 \r\nL 37.796875 17.1875 \r\nL 4.890625 17.1875 \r\nL 4.890625 26.703125 \r\nz\r\n\" id=\"DejaVuSans-52\"/>\r\n      </defs>\r\n      <g transform=\"translate(74.023911 239.238438)scale(0.1 -0.1)\">\r\n       <use xlink:href=\"#DejaVuSans-8722\"/>\r\n       <use x=\"83.789062\" xlink:href=\"#DejaVuSans-52\"/>\r\n       <use x=\"147.412109\" xlink:href=\"#DejaVuSans-48\"/>\r\n      </g>\r\n     </g>\r\n    </g>\r\n    <g id=\"xtick_3\">\r\n     <g id=\"line2d_3\">\r\n      <g>\r\n       <use style=\"stroke:#000000;stroke-width:0.8;\" x=\"130.594343\" xlink:href=\"#m5817b3f20c\" y=\"224.64\"/>\r\n      </g>\r\n     </g>\r\n     <g id=\"text_3\">\r\n      <!-- −20 -->\r\n      <defs>\r\n       <path d=\"M 19.1875 8.296875 \r\nL 53.609375 8.296875 \r\nL 53.609375 0 \r\nL 7.328125 0 \r\nL 7.328125 8.296875 \r\nQ 12.9375 14.109375 22.625 23.890625 \r\nQ 32.328125 33.6875 34.8125 36.53125 \r\nQ 39.546875 41.84375 41.421875 45.53125 \r\nQ 43.3125 49.21875 43.3125 52.78125 \r\nQ 43.3125 58.59375 39.234375 62.25 \r\nQ 35.15625 65.921875 28.609375 65.921875 \r\nQ 23.96875 65.921875 18.8125 64.3125 \r\nQ 13.671875 62.703125 7.8125 59.421875 \r\nL 7.8125 69.390625 \r\nQ 13.765625 71.78125 18.9375 73 \r\nQ 24.125 74.21875 28.421875 74.21875 \r\nQ 39.75 74.21875 46.484375 68.546875 \r\nQ 53.21875 62.890625 53.21875 53.421875 \r\nQ 53.21875 48.921875 51.53125 44.890625 \r\nQ 49.859375 40.875 45.40625 35.40625 \r\nQ 44.1875 33.984375 37.640625 27.21875 \r\nQ 31.109375 20.453125 19.1875 8.296875 \r\nz\r\n\" id=\"DejaVuSans-50\"/>\r\n      </defs>\r\n      <g transform=\"translate(120.041999 239.238438)scale(0.1 -0.1)\">\r\n       <use xlink:href=\"#DejaVuSans-8722\"/>\r\n       <use x=\"83.789062\" xlink:href=\"#DejaVuSans-50\"/>\r\n       <use x=\"147.412109\" xlink:href=\"#DejaVuSans-48\"/>\r\n      </g>\r\n     </g>\r\n    </g>\r\n    <g id=\"xtick_4\">\r\n     <g id=\"line2d_4\">\r\n      <g>\r\n       <use style=\"stroke:#000000;stroke-width:0.8;\" x=\"176.612431\" xlink:href=\"#m5817b3f20c\" y=\"224.64\"/>\r\n      </g>\r\n     </g>\r\n     <g id=\"text_4\">\r\n      <!-- 0 -->\r\n      <g transform=\"translate(173.431181 239.238438)scale(0.1 -0.1)\">\r\n       <use xlink:href=\"#DejaVuSans-48\"/>\r\n      </g>\r\n     </g>\r\n    </g>\r\n    <g id=\"xtick_5\">\r\n     <g id=\"line2d_5\">\r\n      <g>\r\n       <use style=\"stroke:#000000;stroke-width:0.8;\" x=\"222.63052\" xlink:href=\"#m5817b3f20c\" y=\"224.64\"/>\r\n      </g>\r\n     </g>\r\n     <g id=\"text_5\">\r\n      <!-- 20 -->\r\n      <g transform=\"translate(216.26802 239.238438)scale(0.1 -0.1)\">\r\n       <use xlink:href=\"#DejaVuSans-50\"/>\r\n       <use x=\"63.623047\" xlink:href=\"#DejaVuSans-48\"/>\r\n      </g>\r\n     </g>\r\n    </g>\r\n    <g id=\"xtick_6\">\r\n     <g id=\"line2d_6\">\r\n      <g>\r\n       <use style=\"stroke:#000000;stroke-width:0.8;\" x=\"268.648608\" xlink:href=\"#m5817b3f20c\" y=\"224.64\"/>\r\n      </g>\r\n     </g>\r\n     <g id=\"text_6\">\r\n      <!-- 40 -->\r\n      <g transform=\"translate(262.286108 239.238438)scale(0.1 -0.1)\">\r\n       <use xlink:href=\"#DejaVuSans-52\"/>\r\n       <use x=\"63.623047\" xlink:href=\"#DejaVuSans-48\"/>\r\n      </g>\r\n     </g>\r\n    </g>\r\n    <g id=\"xtick_7\">\r\n     <g id=\"line2d_7\">\r\n      <g>\r\n       <use style=\"stroke:#000000;stroke-width:0.8;\" x=\"314.666696\" xlink:href=\"#m5817b3f20c\" y=\"224.64\"/>\r\n      </g>\r\n     </g>\r\n     <g id=\"text_7\">\r\n      <!-- 60 -->\r\n      <g transform=\"translate(308.304196 239.238438)scale(0.1 -0.1)\">\r\n       <use xlink:href=\"#DejaVuSans-54\"/>\r\n       <use x=\"63.623047\" xlink:href=\"#DejaVuSans-48\"/>\r\n      </g>\r\n     </g>\r\n    </g>\r\n    <g id=\"xtick_8\">\r\n     <g id=\"line2d_8\">\r\n      <g>\r\n       <use style=\"stroke:#000000;stroke-width:0.8;\" x=\"360.684785\" xlink:href=\"#m5817b3f20c\" y=\"224.64\"/>\r\n      </g>\r\n     </g>\r\n     <g id=\"text_8\">\r\n      <!-- 80 -->\r\n      <defs>\r\n       <path d=\"M 31.78125 34.625 \r\nQ 24.75 34.625 20.71875 30.859375 \r\nQ 16.703125 27.09375 16.703125 20.515625 \r\nQ 16.703125 13.921875 20.71875 10.15625 \r\nQ 24.75 6.390625 31.78125 6.390625 \r\nQ 38.8125 6.390625 42.859375 10.171875 \r\nQ 46.921875 13.96875 46.921875 20.515625 \r\nQ 46.921875 27.09375 42.890625 30.859375 \r\nQ 38.875 34.625 31.78125 34.625 \r\nz\r\nM 21.921875 38.8125 \r\nQ 15.578125 40.375 12.03125 44.71875 \r\nQ 8.5 49.078125 8.5 55.328125 \r\nQ 8.5 64.0625 14.71875 69.140625 \r\nQ 20.953125 74.21875 31.78125 74.21875 \r\nQ 42.671875 74.21875 48.875 69.140625 \r\nQ 55.078125 64.0625 55.078125 55.328125 \r\nQ 55.078125 49.078125 51.53125 44.71875 \r\nQ 48 40.375 41.703125 38.8125 \r\nQ 48.828125 37.15625 52.796875 32.3125 \r\nQ 56.78125 27.484375 56.78125 20.515625 \r\nQ 56.78125 9.90625 50.3125 4.234375 \r\nQ 43.84375 -1.421875 31.78125 -1.421875 \r\nQ 19.734375 -1.421875 13.25 4.234375 \r\nQ 6.78125 9.90625 6.78125 20.515625 \r\nQ 6.78125 27.484375 10.78125 32.3125 \r\nQ 14.796875 37.15625 21.921875 38.8125 \r\nz\r\nM 18.3125 54.390625 \r\nQ 18.3125 48.734375 21.84375 45.5625 \r\nQ 25.390625 42.390625 31.78125 42.390625 \r\nQ 38.140625 42.390625 41.71875 45.5625 \r\nQ 45.3125 48.734375 45.3125 54.390625 \r\nQ 45.3125 60.0625 41.71875 63.234375 \r\nQ 38.140625 66.40625 31.78125 66.40625 \r\nQ 25.390625 66.40625 21.84375 63.234375 \r\nQ 18.3125 60.0625 18.3125 54.390625 \r\nz\r\n\" id=\"DejaVuSans-56\"/>\r\n      </defs>\r\n      <g transform=\"translate(354.322285 239.238438)scale(0.1 -0.1)\">\r\n       <use xlink:href=\"#DejaVuSans-56\"/>\r\n       <use x=\"63.623047\" xlink:href=\"#DejaVuSans-48\"/>\r\n      </g>\r\n     </g>\r\n    </g>\r\n   </g>\r\n   <g id=\"matplotlib.axis_2\">\r\n    <g id=\"ytick_1\">\r\n     <g id=\"line2d_9\">\r\n      <defs>\r\n       <path d=\"M 0 0 \r\nL -3.5 0 \r\n\" id=\"m5bee279c20\" style=\"stroke:#000000;stroke-width:0.8;\"/>\r\n      </defs>\r\n      <g>\r\n       <use style=\"stroke:#000000;stroke-width:0.8;\" x=\"35.304688\" xlink:href=\"#m5bee279c20\" y=\"220.631341\"/>\r\n      </g>\r\n     </g>\r\n     <g id=\"text_9\">\r\n      <!-- −10 -->\r\n      <defs>\r\n       <path d=\"M 12.40625 8.296875 \r\nL 28.515625 8.296875 \r\nL 28.515625 63.921875 \r\nL 10.984375 60.40625 \r\nL 10.984375 69.390625 \r\nL 28.421875 72.90625 \r\nL 38.28125 72.90625 \r\nL 38.28125 8.296875 \r\nL 54.390625 8.296875 \r\nL 54.390625 0 \r\nL 12.40625 0 \r\nz\r\n\" id=\"DejaVuSans-49\"/>\r\n      </defs>\r\n      <g transform=\"translate(7.2 224.43056)scale(0.1 -0.1)\">\r\n       <use xlink:href=\"#DejaVuSans-8722\"/>\r\n       <use x=\"83.789062\" xlink:href=\"#DejaVuSans-49\"/>\r\n       <use x=\"147.412109\" xlink:href=\"#DejaVuSans-48\"/>\r\n      </g>\r\n     </g>\r\n    </g>\r\n    <g id=\"ytick_2\">\r\n     <g id=\"line2d_10\">\r\n      <g>\r\n       <use style=\"stroke:#000000;stroke-width:0.8;\" x=\"35.304688\" xlink:href=\"#m5bee279c20\" y=\"195.308163\"/>\r\n      </g>\r\n     </g>\r\n     <g id=\"text_10\">\r\n      <!-- −5 -->\r\n      <defs>\r\n       <path d=\"M 10.796875 72.90625 \r\nL 49.515625 72.90625 \r\nL 49.515625 64.59375 \r\nL 19.828125 64.59375 \r\nL 19.828125 46.734375 \r\nQ 21.96875 47.46875 24.109375 47.828125 \r\nQ 26.265625 48.1875 28.421875 48.1875 \r\nQ 40.625 48.1875 47.75 41.5 \r\nQ 54.890625 34.8125 54.890625 23.390625 \r\nQ 54.890625 11.625 47.5625 5.09375 \r\nQ 40.234375 -1.421875 26.90625 -1.421875 \r\nQ 22.3125 -1.421875 17.546875 -0.640625 \r\nQ 12.796875 0.140625 7.71875 1.703125 \r\nL 7.71875 11.625 \r\nQ 12.109375 9.234375 16.796875 8.0625 \r\nQ 21.484375 6.890625 26.703125 6.890625 \r\nQ 35.15625 6.890625 40.078125 11.328125 \r\nQ 45.015625 15.765625 45.015625 23.390625 \r\nQ 45.015625 31 40.078125 35.4375 \r\nQ 35.15625 39.890625 26.703125 39.890625 \r\nQ 22.75 39.890625 18.8125 39.015625 \r\nQ 14.890625 38.140625 10.796875 36.28125 \r\nz\r\n\" id=\"DejaVuSans-53\"/>\r\n      </defs>\r\n      <g transform=\"translate(13.5625 199.107382)scale(0.1 -0.1)\">\r\n       <use xlink:href=\"#DejaVuSans-8722\"/>\r\n       <use x=\"83.789062\" xlink:href=\"#DejaVuSans-53\"/>\r\n      </g>\r\n     </g>\r\n    </g>\r\n    <g id=\"ytick_3\">\r\n     <g id=\"line2d_11\">\r\n      <g>\r\n       <use style=\"stroke:#000000;stroke-width:0.8;\" x=\"35.304688\" xlink:href=\"#m5bee279c20\" y=\"169.984985\"/>\r\n      </g>\r\n     </g>\r\n     <g id=\"text_11\">\r\n      <!-- 0 -->\r\n      <g transform=\"translate(21.942188 173.784204)scale(0.1 -0.1)\">\r\n       <use xlink:href=\"#DejaVuSans-48\"/>\r\n      </g>\r\n     </g>\r\n    </g>\r\n    <g id=\"ytick_4\">\r\n     <g id=\"line2d_12\">\r\n      <g>\r\n       <use style=\"stroke:#000000;stroke-width:0.8;\" x=\"35.304688\" xlink:href=\"#m5bee279c20\" y=\"144.661807\"/>\r\n      </g>\r\n     </g>\r\n     <g id=\"text_12\">\r\n      <!-- 5 -->\r\n      <g transform=\"translate(21.942188 148.461026)scale(0.1 -0.1)\">\r\n       <use xlink:href=\"#DejaVuSans-53\"/>\r\n      </g>\r\n     </g>\r\n    </g>\r\n    <g id=\"ytick_5\">\r\n     <g id=\"line2d_13\">\r\n      <g>\r\n       <use style=\"stroke:#000000;stroke-width:0.8;\" x=\"35.304688\" xlink:href=\"#m5bee279c20\" y=\"119.338629\"/>\r\n      </g>\r\n     </g>\r\n     <g id=\"text_13\">\r\n      <!-- 10 -->\r\n      <g transform=\"translate(15.579688 123.137848)scale(0.1 -0.1)\">\r\n       <use xlink:href=\"#DejaVuSans-49\"/>\r\n       <use x=\"63.623047\" xlink:href=\"#DejaVuSans-48\"/>\r\n      </g>\r\n     </g>\r\n    </g>\r\n    <g id=\"ytick_6\">\r\n     <g id=\"line2d_14\">\r\n      <g>\r\n       <use style=\"stroke:#000000;stroke-width:0.8;\" x=\"35.304688\" xlink:href=\"#m5bee279c20\" y=\"94.015451\"/>\r\n      </g>\r\n     </g>\r\n     <g id=\"text_14\">\r\n      <!-- 15 -->\r\n      <g transform=\"translate(15.579688 97.81467)scale(0.1 -0.1)\">\r\n       <use xlink:href=\"#DejaVuSans-49\"/>\r\n       <use x=\"63.623047\" xlink:href=\"#DejaVuSans-53\"/>\r\n      </g>\r\n     </g>\r\n    </g>\r\n    <g id=\"ytick_7\">\r\n     <g id=\"line2d_15\">\r\n      <g>\r\n       <use style=\"stroke:#000000;stroke-width:0.8;\" x=\"35.304688\" xlink:href=\"#m5bee279c20\" y=\"68.692273\"/>\r\n      </g>\r\n     </g>\r\n     <g id=\"text_15\">\r\n      <!-- 20 -->\r\n      <g transform=\"translate(15.579688 72.491492)scale(0.1 -0.1)\">\r\n       <use xlink:href=\"#DejaVuSans-50\"/>\r\n       <use x=\"63.623047\" xlink:href=\"#DejaVuSans-48\"/>\r\n      </g>\r\n     </g>\r\n    </g>\r\n    <g id=\"ytick_8\">\r\n     <g id=\"line2d_16\">\r\n      <g>\r\n       <use style=\"stroke:#000000;stroke-width:0.8;\" x=\"35.304688\" xlink:href=\"#m5bee279c20\" y=\"43.369095\"/>\r\n      </g>\r\n     </g>\r\n     <g id=\"text_16\">\r\n      <!-- 25 -->\r\n      <g transform=\"translate(15.579688 47.168314)scale(0.1 -0.1)\">\r\n       <use xlink:href=\"#DejaVuSans-50\"/>\r\n       <use x=\"63.623047\" xlink:href=\"#DejaVuSans-53\"/>\r\n      </g>\r\n     </g>\r\n    </g>\r\n    <g id=\"ytick_9\">\r\n     <g id=\"line2d_17\">\r\n      <g>\r\n       <use style=\"stroke:#000000;stroke-width:0.8;\" x=\"35.304688\" xlink:href=\"#m5bee279c20\" y=\"18.045917\"/>\r\n      </g>\r\n     </g>\r\n     <g id=\"text_17\">\r\n      <!-- 30 -->\r\n      <defs>\r\n       <path d=\"M 40.578125 39.3125 \r\nQ 47.65625 37.796875 51.625 33 \r\nQ 55.609375 28.21875 55.609375 21.1875 \r\nQ 55.609375 10.40625 48.1875 4.484375 \r\nQ 40.765625 -1.421875 27.09375 -1.421875 \r\nQ 22.515625 -1.421875 17.65625 -0.515625 \r\nQ 12.796875 0.390625 7.625 2.203125 \r\nL 7.625 11.71875 \r\nQ 11.71875 9.328125 16.59375 8.109375 \r\nQ 21.484375 6.890625 26.8125 6.890625 \r\nQ 36.078125 6.890625 40.9375 10.546875 \r\nQ 45.796875 14.203125 45.796875 21.1875 \r\nQ 45.796875 27.640625 41.28125 31.265625 \r\nQ 36.765625 34.90625 28.71875 34.90625 \r\nL 20.21875 34.90625 \r\nL 20.21875 43.015625 \r\nL 29.109375 43.015625 \r\nQ 36.375 43.015625 40.234375 45.921875 \r\nQ 44.09375 48.828125 44.09375 54.296875 \r\nQ 44.09375 59.90625 40.109375 62.90625 \r\nQ 36.140625 65.921875 28.71875 65.921875 \r\nQ 24.65625 65.921875 20.015625 65.03125 \r\nQ 15.375 64.15625 9.8125 62.3125 \r\nL 9.8125 71.09375 \r\nQ 15.4375 72.65625 20.34375 73.4375 \r\nQ 25.25 74.21875 29.59375 74.21875 \r\nQ 40.828125 74.21875 47.359375 69.109375 \r\nQ 53.90625 64.015625 53.90625 55.328125 \r\nQ 53.90625 49.265625 50.4375 45.09375 \r\nQ 46.96875 40.921875 40.578125 39.3125 \r\nz\r\n\" id=\"DejaVuSans-51\"/>\r\n      </defs>\r\n      <g transform=\"translate(15.579688 21.845136)scale(0.1 -0.1)\">\r\n       <use xlink:href=\"#DejaVuSans-51\"/>\r\n       <use x=\"63.623047\" xlink:href=\"#DejaVuSans-48\"/>\r\n      </g>\r\n     </g>\r\n    </g>\r\n   </g>\r\n   <g id=\"patch_3\">\r\n    <path d=\"M 35.304688 224.64 \r\nL 35.304688 7.2 \r\n\" style=\"fill:none;stroke:#000000;stroke-linecap:square;stroke-linejoin:miter;stroke-width:0.8;\"/>\r\n   </g>\r\n   <g id=\"patch_4\">\r\n    <path d=\"M 370.104688 224.64 \r\nL 370.104688 7.2 \r\n\" style=\"fill:none;stroke:#000000;stroke-linecap:square;stroke-linejoin:miter;stroke-width:0.8;\"/>\r\n   </g>\r\n   <g id=\"patch_5\">\r\n    <path d=\"M 35.304688 224.64 \r\nL 370.104687 224.64 \r\n\" style=\"fill:none;stroke:#000000;stroke-linecap:square;stroke-linejoin:miter;stroke-width:0.8;\"/>\r\n   </g>\r\n   <g id=\"patch_6\">\r\n    <path d=\"M 35.304688 7.2 \r\nL 370.104687 7.2 \r\n\" style=\"fill:none;stroke:#000000;stroke-linecap:square;stroke-linejoin:miter;stroke-width:0.8;\"/>\r\n   </g>\r\n  </g>\r\n </g>\r\n <defs>\r\n  <clipPath id=\"p97b212bd8c\">\r\n   <rect height=\"217.44\" width=\"334.8\" x=\"35.304688\" y=\"7.2\"/>\r\n  </clipPath>\r\n </defs>\r\n</svg>\r\n",
      "image/png": "[encoded data removed]"
     },
     "metadata": {
      "needs_background": "light"
     }
    }
   ],
   "source": [
    "lat_vs_temp = plt.scatter(clean_city_data[\"Lat\"], clean_city_data[\"Max Temp\"], marker = \"o\", facecolors = \"red\", edgecolors = \"black\")\n",
    "plt.xlabel = \"Latitude\"\n",
    "plt.ylabel = \"Max Temperature (F)\"\n",
    "plt.title = \"Latitude vs Max Temp (F)\"\n",
    "plt.savefig(\"../output_data/Latitude vs Max Temp.png\")\n",
    "plt.show()"
   ]
  },
  {
   "cell_type": "markdown",
   "metadata": {},
   "source": [
    "## Latitude vs. Humidity Plot"
   ]
  },
  {
   "cell_type": "code",
   "execution_count": null,
   "metadata": {},
   "outputs": [],
   "source": []
  },
  {
   "cell_type": "markdown",
   "metadata": {},
   "source": [
    "## Latitude vs. Cloudiness Plot"
   ]
  },
  {
   "cell_type": "code",
   "execution_count": null,
   "metadata": {},
   "outputs": [],
   "source": []
  },
  {
   "cell_type": "markdown",
   "metadata": {},
   "source": [
    "## Latitude vs. Wind Speed Plot"
   ]
  },
  {
   "cell_type": "code",
   "execution_count": null,
   "metadata": {},
   "outputs": [],
   "source": []
  },
  {
   "cell_type": "markdown",
   "metadata": {},
   "source": [
    "## Linear Regression"
   ]
  },
  {
   "cell_type": "code",
   "execution_count": null,
   "metadata": {},
   "outputs": [],
   "source": []
  },
  {
   "cell_type": "markdown",
   "metadata": {},
   "source": [
    "####  Northern Hemisphere - Max Temp vs. Latitude Linear Regression"
   ]
  },
  {
   "cell_type": "code",
   "execution_count": null,
   "metadata": {},
   "outputs": [],
   "source": []
  },
  {
   "cell_type": "markdown",
   "metadata": {},
   "source": [
    "####  Southern Hemisphere - Max Temp vs. Latitude Linear Regression"
   ]
  },
  {
   "cell_type": "code",
   "execution_count": null,
   "metadata": {},
   "outputs": [],
   "source": []
  },
  {
   "cell_type": "markdown",
   "metadata": {},
   "source": [
    "####  Northern Hemisphere - Humidity (%) vs. Latitude Linear Regression"
   ]
  },
  {
   "cell_type": "code",
   "execution_count": null,
   "metadata": {},
   "outputs": [],
   "source": []
  },
  {
   "cell_type": "markdown",
   "metadata": {},
   "source": [
    "####  Southern Hemisphere - Humidity (%) vs. Latitude Linear Regression"
   ]
  },
  {
   "cell_type": "code",
   "execution_count": null,
   "metadata": {},
   "outputs": [],
   "source": []
  },
  {
   "cell_type": "markdown",
   "metadata": {},
   "source": [
    "####  Northern Hemisphere - Cloudiness (%) vs. Latitude Linear Regression"
   ]
  },
  {
   "cell_type": "code",
   "execution_count": null,
   "metadata": {},
   "outputs": [],
   "source": []
  },
  {
   "cell_type": "markdown",
   "metadata": {},
   "source": [
    "####  Southern Hemisphere - Cloudiness (%) vs. Latitude Linear Regression"
   ]
  },
  {
   "cell_type": "code",
   "execution_count": null,
   "metadata": {},
   "outputs": [],
   "source": []
  },
  {
   "cell_type": "markdown",
   "metadata": {},
   "source": [
    "####  Northern Hemisphere - Wind Speed (mph) vs. Latitude Linear Regression"
   ]
  },
  {
   "cell_type": "code",
   "execution_count": null,
   "metadata": {},
   "outputs": [],
   "source": []
  },
  {
   "cell_type": "markdown",
   "metadata": {},
   "source": [
    "####  Southern Hemisphere - Wind Speed (mph) vs. Latitude Linear Regression"
   ]
  },
  {
   "cell_type": "code",
   "execution_count": null,
   "metadata": {},
   "outputs": [],
   "source": []
  },
  {
   "cell_type": "code",
   "execution_count": null,
   "metadata": {},
   "outputs": [],
   "source": []
  }
 ],
 "metadata": {
  "anaconda-cloud": {},
  "kernel_info": {
   "name": "python3"
  },
  "kernelspec": {
   "name": "Python 3.8.3 64-bit ('base': conda)",
   "display_name": "Python 3.8.3 64-bit ('base': conda)",
   "metadata": {
    "interpreter": {
     "hash": "485035c5b2a6f2b50dc2dc5ca51aeeb931032fbc9adc2e30c7c528d6bf8a9176"
    }
   }
  },
  "language_info": {
   "codemirror_mode": {
    "name": "ipython",
    "version": 3
   },
   "file_extension": ".py",
   "mimetype": "text/x-python",
   "name": "python",
   "nbconvert_exporter": "python",
   "pygments_lexer": "ipython3",
   "version": "3.8.3-final"
  },
  "latex_envs": {
   "LaTeX_envs_menu_present": true,
   "autoclose": false,
   "autocomplete": true,
   "bibliofile": "biblio.bib",
   "cite_by": "apalike",
   "current_citInitial": 1,
   "eqLabelWithNumbers": true,
   "eqNumInitial": 1,
   "hotkeys": {
    "equation": "Ctrl-E",
    "itemize": "Ctrl-I"
   },
   "labels_anchors": false,
   "latex_user_defs": false,
   "report_style_numbering": false,
   "user_envs_cfg": false
  },
  "nteract": {
   "version": "0.12.3"
  }
 },
 "nbformat": 4,
 "nbformat_minor": 2
}