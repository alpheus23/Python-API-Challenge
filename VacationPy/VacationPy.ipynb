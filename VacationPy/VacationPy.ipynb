{
 "cells": [
  {
   "cell_type": "markdown",
   "metadata": {},
   "source": [
    "# VacationPy\n",
    "----\n",
    "\n",
    "#### Note\n",
    "* Keep an eye on your API usage. Use https://developers.google.com/maps/reporting/gmp-reporting as reference for how to monitor your usage and billing.\n",
    "\n",
    "* Instructions have been included for each segment. You do not have to follow them exactly, but they are included to help you think through the steps."
   ]
  },
  {
   "cell_type": "code",
   "execution_count": 22,
   "metadata": {},
   "outputs": [],
   "source": [
    "# Dependencies and Setup\n",
    "import matplotlib.pyplot as plt\n",
    "import pandas as pd\n",
    "import numpy as np\n",
    "import requests\n",
    "import gmaps\n",
    "import os\n",
    "\n",
    "# Import API key\n",
    "from api_keys import g_key"
   ]
  },
  {
   "cell_type": "markdown",
   "metadata": {},
   "source": [
    "### Store Part I results into DataFrame\n",
    "* Load the csv exported in Part I to a DataFrame"
   ]
  },
  {
   "cell_type": "code",
   "execution_count": 23,
   "metadata": {},
   "outputs": [
    {
     "output_type": "execute_result",
     "data": {
      "text/plain": [
       "            City    Lat     Lon  Max Temp  Humidity  Cloudiness  Wind Speed  \\\n",
       "0          vaini -21.20 -175.20     69.80        83          75        6.93   \n",
       "1      ketchikan  55.34 -131.65     44.60       100          75        5.82   \n",
       "2   punta arenas -53.15  -70.92     50.00        53          75       18.34   \n",
       "3        ushuaia -54.80  -68.30     44.60        67          40       26.40   \n",
       "4         acarau  -2.89  -40.12     85.84        60          19       21.83   \n",
       "..           ...    ...     ...       ...       ...         ...         ...   \n",
       "67     kavaratti  10.57   72.64     82.27        77          97       20.36   \n",
       "68        dikson  73.51   80.55     29.26        93         100       24.23   \n",
       "69        torbay  47.67  -52.73     55.00        71          75       19.46   \n",
       "70     upernavik  72.79  -56.15     32.70        89           0        3.40   \n",
       "71  kruisfontein -34.00   24.73     61.00        69           0        4.00   \n",
       "\n",
       "   Country        Date  \n",
       "0       TO  1602697375  \n",
       "1       US  1602697376  \n",
       "2       CL  1602697339  \n",
       "3       AR  1602697376  \n",
       "4       BR  1602697377  \n",
       "..     ...         ...  \n",
       "67      IN  1602697397  \n",
       "68      RU  1602697398  \n",
       "69      CA  1602697398  \n",
       "70      GL  1602697398  \n",
       "71      ZA  1602697399  \n",
       "\n",
       "[72 rows x 9 columns]"
      ],
      "text/html": "<div>\n<style scoped>\n    .dataframe tbody tr th:only-of-type {\n        vertical-align: middle;\n    }\n\n    .dataframe tbody tr th {\n        vertical-align: top;\n    }\n\n    .dataframe thead th {\n        text-align: right;\n    }\n</style>\n<table border=\"1\" class=\"dataframe\">\n  <thead>\n    <tr style=\"text-align: right;\">\n      <th></th>\n      <th>City</th>\n      <th>Lat</th>\n      <th>Lon</th>\n      <th>Max Temp</th>\n      <th>Humidity</th>\n      <th>Cloudiness</th>\n      <th>Wind Speed</th>\n      <th>Country</th>\n      <th>Date</th>\n    </tr>\n  </thead>\n  <tbody>\n    <tr>\n      <th>0</th>\n      <td>vaini</td>\n      <td>-21.20</td>\n      <td>-175.20</td>\n      <td>69.80</td>\n      <td>83</td>\n      <td>75</td>\n      <td>6.93</td>\n      <td>TO</td>\n      <td>1602697375</td>\n    </tr>\n    <tr>\n      <th>1</th>\n      <td>ketchikan</td>\n      <td>55.34</td>\n      <td>-131.65</td>\n      <td>44.60</td>\n      <td>100</td>\n      <td>75</td>\n      <td>5.82</td>\n      <td>US</td>\n      <td>1602697376</td>\n    </tr>\n    <tr>\n      <th>2</th>\n      <td>punta arenas</td>\n      <td>-53.15</td>\n      <td>-70.92</td>\n      <td>50.00</td>\n      <td>53</td>\n      <td>75</td>\n      <td>18.34</td>\n      <td>CL</td>\n      <td>1602697339</td>\n    </tr>\n    <tr>\n      <th>3</th>\n      <td>ushuaia</td>\n      <td>-54.80</td>\n      <td>-68.30</td>\n      <td>44.60</td>\n      <td>67</td>\n      <td>40</td>\n      <td>26.40</td>\n      <td>AR</td>\n      <td>1602697376</td>\n    </tr>\n    <tr>\n      <th>4</th>\n      <td>acarau</td>\n      <td>-2.89</td>\n      <td>-40.12</td>\n      <td>85.84</td>\n      <td>60</td>\n      <td>19</td>\n      <td>21.83</td>\n      <td>BR</td>\n      <td>1602697377</td>\n    </tr>\n    <tr>\n      <th>...</th>\n      <td>...</td>\n      <td>...</td>\n      <td>...</td>\n      <td>...</td>\n      <td>...</td>\n      <td>...</td>\n      <td>...</td>\n      <td>...</td>\n      <td>...</td>\n    </tr>\n    <tr>\n      <th>67</th>\n      <td>kavaratti</td>\n      <td>10.57</td>\n      <td>72.64</td>\n      <td>82.27</td>\n      <td>77</td>\n      <td>97</td>\n      <td>20.36</td>\n      <td>IN</td>\n      <td>1602697397</td>\n    </tr>\n    <tr>\n      <th>68</th>\n      <td>dikson</td>\n      <td>73.51</td>\n      <td>80.55</td>\n      <td>29.26</td>\n      <td>93</td>\n      <td>100</td>\n      <td>24.23</td>\n      <td>RU</td>\n      <td>1602697398</td>\n    </tr>\n    <tr>\n      <th>69</th>\n      <td>torbay</td>\n      <td>47.67</td>\n      <td>-52.73</td>\n      <td>55.00</td>\n      <td>71</td>\n      <td>75</td>\n      <td>19.46</td>\n      <td>CA</td>\n      <td>1602697398</td>\n    </tr>\n    <tr>\n      <th>70</th>\n      <td>upernavik</td>\n      <td>72.79</td>\n      <td>-56.15</td>\n      <td>32.70</td>\n      <td>89</td>\n      <td>0</td>\n      <td>3.40</td>\n      <td>GL</td>\n      <td>1602697398</td>\n    </tr>\n    <tr>\n      <th>71</th>\n      <td>kruisfontein</td>\n      <td>-34.00</td>\n      <td>24.73</td>\n      <td>61.00</td>\n      <td>69</td>\n      <td>0</td>\n      <td>4.00</td>\n      <td>ZA</td>\n      <td>1602697399</td>\n    </tr>\n  </tbody>\n</table>\n<p>72 rows × 9 columns</p>\n</div>"
     },
     "metadata": {},
     "execution_count": 23
    }
   ],
   "source": [
    "locations_df = pd.read_csv('../output_data/cities.csv')\n",
    "locations_df\n"
   ]
  },
  {
   "cell_type": "markdown",
   "metadata": {},
   "source": [
    "### Humidity Heatmap\n",
    "* Configure gmaps.\n",
    "* Use the Lat and Lng as locations and Humidity as the weight.\n",
    "* Add Heatmap layer to map."
   ]
  },
  {
   "cell_type": "code",
   "execution_count": 24,
   "metadata": {},
   "outputs": [],
   "source": [
    "locations = locations_df[[\"Lat\", \"Lon\"]]\n",
    "\n",
    "heat = locations_df[\"Humidity\"]"
   ]
  },
  {
   "cell_type": "code",
   "execution_count": 25,
   "metadata": {},
   "outputs": [
    {
     "output_type": "display_data",
     "data": {
      "text/plain": "Figure(layout=FigureLayout(height='420px'))",
      "application/vnd.jupyter.widget-view+json": {
       "version_major": 2,
       "version_minor": 0,
       "model_id": "c4347b82909347c384eb6048d9442ed2"
      }
     },
     "metadata": {}
    }
   ],
   "source": [
    "fig = gmaps.figure()\n",
    "\n",
    "heat_layer = gmaps.heatmap_layer(locations, weights = heat, dissipating = False, max_intensity = 10, point_radius = 1)\n",
    "\n",
    "fig.add_layer(heat_layer)\n",
    "\n",
    "fig"
   ]
  },
  {
   "cell_type": "markdown",
   "metadata": {},
   "source": [
    "### Create new DataFrame fitting weather criteria\n",
    "* Narrow down the cities to fit weather conditions.\n",
    "* Drop any rows will null values."
   ]
  },
  {
   "cell_type": "code",
   "execution_count": 37,
   "metadata": {},
   "outputs": [
    {
     "output_type": "execute_result",
     "data": {
      "text/plain": [
       "Int64Index([45], dtype='int64')"
      ]
     },
     "metadata": {},
     "execution_count": 37
    }
   ],
   "source": [
    "ideal_index = locations_df[(locations_df[\"Max Temp\"] < 80) & (locations_df[\"Max Temp\"] > 70) & (locations_df[\"Wind Speed\"] < 10) & (locations_df[\"Cloudiness\"] == 0)].index \n",
    "\n",
    "ideal_index"
   ]
  },
  {
   "cell_type": "markdown",
   "metadata": {},
   "source": [
    "### Hotel Map\n",
    "* Store into variable named `hotel_df`.\n",
    "* Add a \"Hotel Name\" column to the DataFrame.\n",
    "* Set parameters to search for hotels with 5000 meters.\n",
    "* Hit the Google Places API for each city's coordinates.\n",
    "* Store the first Hotel result into the DataFrame.\n",
    "* Plot markers on top of the heatmap."
   ]
  },
  {
   "cell_type": "code",
   "execution_count": 38,
   "metadata": {},
   "outputs": [
    {
     "output_type": "execute_result",
     "data": {
      "text/plain": [
       "              City   Lat    Lon  Max Temp  Humidity  Cloudiness  Wind Speed  \\\n",
       "45  pindi bhattian  31.9  73.27     74.64        22           0        3.24   \n",
       "\n",
       "   Country        Date  \n",
       "45      PK  1602697390  "
      ],
      "text/html": "<div>\n<style scoped>\n    .dataframe tbody tr th:only-of-type {\n        vertical-align: middle;\n    }\n\n    .dataframe tbody tr th {\n        vertical-align: top;\n    }\n\n    .dataframe thead th {\n        text-align: right;\n    }\n</style>\n<table border=\"1\" class=\"dataframe\">\n  <thead>\n    <tr style=\"text-align: right;\">\n      <th></th>\n      <th>City</th>\n      <th>Lat</th>\n      <th>Lon</th>\n      <th>Max Temp</th>\n      <th>Humidity</th>\n      <th>Cloudiness</th>\n      <th>Wind Speed</th>\n      <th>Country</th>\n      <th>Date</th>\n    </tr>\n  </thead>\n  <tbody>\n    <tr>\n      <th>45</th>\n      <td>pindi bhattian</td>\n      <td>31.9</td>\n      <td>73.27</td>\n      <td>74.64</td>\n      <td>22</td>\n      <td>0</td>\n      <td>3.24</td>\n      <td>PK</td>\n      <td>1602697390</td>\n    </tr>\n  </tbody>\n</table>\n</div>"
     },
     "metadata": {},
     "execution_count": 38
    }
   ],
   "source": [
    "hotel_df = locations_df.iloc[ideal_index, :]\n",
    "hotel_df"
   ]
  },
  {
   "cell_type": "code",
   "execution_count": null,
   "metadata": {},
   "outputs": [],
   "source": []
  },
  {
   "cell_type": "code",
   "execution_count": null,
   "metadata": {},
   "outputs": [],
   "source": [
    "# NOTE: Do not change any of the code in this cell\n",
    "\n",
    "# Using the template add the hotel marks to the heatmap\n",
    "info_box_template = \"\"\"\n",
    "<dl>\n",
    "<dt>Name</dt><dd>{Hotel Name}</dd>\n",
    "<dt>City</dt><dd>{City}</dd>\n",
    "<dt>Country</dt><dd>{Country}</dd>\n",
    "</dl>\n",
    "\"\"\"\n",
    "# Store the DataFrame Row\n",
    "# NOTE: be sure to update with your DataFrame name\n",
    "hotel_info = [info_box_template.format(**row) for index, row in hotel_df.iterrows()]\n",
    "locations = hotel_df[[\"Lat\", \"Lon\"]]"
   ]
  },
  {
   "cell_type": "code",
   "execution_count": null,
   "metadata": {},
   "outputs": [],
   "source": [
    "# Add marker layer ontop of heat map\n",
    "\n",
    "\n",
    "# Display figure\n"
   ]
  },
  {
   "cell_type": "code",
   "execution_count": null,
   "metadata": {},
   "outputs": [],
   "source": []
  }
 ],
 "metadata": {
  "kernelspec": {
   "name": "Python 3.8.3 64-bit ('Administrator': virtualenv)",
   "display_name": "Python 3.8.3 64-bit ('Administrator': virtualenv)",
   "metadata": {
    "interpreter": {
     "hash": "485035c5b2a6f2b50dc2dc5ca51aeeb931032fbc9adc2e30c7c528d6bf8a9176"
    }
   }
  },
  "language_info": {
   "codemirror_mode": {
    "name": "ipython",
    "version": 3
   },
   "file_extension": ".py",
   "mimetype": "text/x-python",
   "name": "python",
   "nbconvert_exporter": "python",
   "pygments_lexer": "ipython3",
   "version": "3.8.3-final"
  },
  "latex_envs": {
   "LaTeX_envs_menu_present": true,
   "autoclose": false,
   "autocomplete": true,
   "bibliofile": "biblio.bib",
   "cite_by": "apalike",
   "current_citInitial": 1,
   "eqLabelWithNumbers": true,
   "eqNumInitial": 1,
   "hotkeys": {
    "equation": "Ctrl-E",
    "itemize": "Ctrl-I"
   },
   "labels_anchors": false,
   "latex_user_defs": false,
   "report_style_numbering": false,
   "user_envs_cfg": false
  }
 },
 "nbformat": 4,
 "nbformat_minor": 4
}