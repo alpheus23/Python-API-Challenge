{
 "cells": [
  {
   "cell_type": "markdown",
   "metadata": {},
   "source": [
    "# VacationPy\n",
    "----\n",
    "\n",
    "#### Note\n",
    "* Keep an eye on your API usage. Use https://developers.google.com/maps/reporting/gmp-reporting as reference for how to monitor your usage and billing.\n",
    "\n",
    "* Instructions have been included for each segment. You do not have to follow them exactly, but they are included to help you think through the steps."
   ]
  },
  {
   "cell_type": "code",
   "execution_count": 65,
   "metadata": {},
   "outputs": [],
   "source": [
    "# Dependencies and Setup\n",
    "import matplotlib.pyplot as plt\n",
    "import pandas as pd\n",
    "import numpy as np\n",
    "import requests\n",
    "import gmaps\n",
    "import os\n",
    "\n",
    "# Import API key\n",
    "from api_keys import g_key"
   ]
  },
  {
   "cell_type": "markdown",
   "metadata": {},
   "source": [
    "### Store Part I results into DataFrame\n",
    "* Load the csv exported in Part I to a DataFrame"
   ]
  },
  {
   "cell_type": "code",
   "execution_count": 66,
   "metadata": {},
   "outputs": [
    {
     "output_type": "execute_result",
     "data": {
      "text/plain": [
       "            City    Lat     Lon  Max Temp  Humidity  Cloudiness  Wind Speed  \\\n",
       "0          lucea  18.45  -78.17     81.00        78          40        6.93   \n",
       "1         castro -24.79  -50.01     64.87        93          98        6.33   \n",
       "2           naze  28.37  129.48     73.40        78          14        3.36   \n",
       "3       yar-sale  66.83   70.83     31.55        94          97       11.88   \n",
       "4         bitung   1.45  125.18     73.40       100          40        2.77   \n",
       "..           ...    ...     ...       ...       ...         ...         ...   \n",
       "551  cravo norte   6.30  -70.20     90.46        56          83        3.13   \n",
       "552      margate  51.38    1.39     52.00        82          79        1.99   \n",
       "553     olafsvik  64.89  -23.71     47.43        72          98        8.88   \n",
       "554     ucluelet  48.93 -125.55     54.00        87          75        6.93   \n",
       "555     necochea -38.55  -58.74     62.01        76           0        1.99   \n",
       "\n",
       "    Country        Date  \n",
       "0        JM  1602792265  \n",
       "1        BR  1602792265  \n",
       "2        JP  1602792265  \n",
       "3        RU  1602792265  \n",
       "4        ID  1602792266  \n",
       "..      ...         ...  \n",
       "551      CO  1602792453  \n",
       "552      GB  1602792454  \n",
       "553      IS  1602792454  \n",
       "554      CA  1602792165  \n",
       "555      AR  1602792352  \n",
       "\n",
       "[556 rows x 9 columns]"
      ],
      "text/html": "<div>\n<style scoped>\n    .dataframe tbody tr th:only-of-type {\n        vertical-align: middle;\n    }\n\n    .dataframe tbody tr th {\n        vertical-align: top;\n    }\n\n    .dataframe thead th {\n        text-align: right;\n    }\n</style>\n<table border=\"1\" class=\"dataframe\">\n  <thead>\n    <tr style=\"text-align: right;\">\n      <th></th>\n      <th>City</th>\n      <th>Lat</th>\n      <th>Lon</th>\n      <th>Max Temp</th>\n      <th>Humidity</th>\n      <th>Cloudiness</th>\n      <th>Wind Speed</th>\n      <th>Country</th>\n      <th>Date</th>\n    </tr>\n  </thead>\n  <tbody>\n    <tr>\n      <th>0</th>\n      <td>lucea</td>\n      <td>18.45</td>\n      <td>-78.17</td>\n      <td>81.00</td>\n      <td>78</td>\n      <td>40</td>\n      <td>6.93</td>\n      <td>JM</td>\n      <td>1602792265</td>\n    </tr>\n    <tr>\n      <th>1</th>\n      <td>castro</td>\n      <td>-24.79</td>\n      <td>-50.01</td>\n      <td>64.87</td>\n      <td>93</td>\n      <td>98</td>\n      <td>6.33</td>\n      <td>BR</td>\n      <td>1602792265</td>\n    </tr>\n    <tr>\n      <th>2</th>\n      <td>naze</td>\n      <td>28.37</td>\n      <td>129.48</td>\n      <td>73.40</td>\n      <td>78</td>\n      <td>14</td>\n      <td>3.36</td>\n      <td>JP</td>\n      <td>1602792265</td>\n    </tr>\n    <tr>\n      <th>3</th>\n      <td>yar-sale</td>\n      <td>66.83</td>\n      <td>70.83</td>\n      <td>31.55</td>\n      <td>94</td>\n      <td>97</td>\n      <td>11.88</td>\n      <td>RU</td>\n      <td>1602792265</td>\n    </tr>\n    <tr>\n      <th>4</th>\n      <td>bitung</td>\n      <td>1.45</td>\n      <td>125.18</td>\n      <td>73.40</td>\n      <td>100</td>\n      <td>40</td>\n      <td>2.77</td>\n      <td>ID</td>\n      <td>1602792266</td>\n    </tr>\n    <tr>\n      <th>...</th>\n      <td>...</td>\n      <td>...</td>\n      <td>...</td>\n      <td>...</td>\n      <td>...</td>\n      <td>...</td>\n      <td>...</td>\n      <td>...</td>\n      <td>...</td>\n    </tr>\n    <tr>\n      <th>551</th>\n      <td>cravo norte</td>\n      <td>6.30</td>\n      <td>-70.20</td>\n      <td>90.46</td>\n      <td>56</td>\n      <td>83</td>\n      <td>3.13</td>\n      <td>CO</td>\n      <td>1602792453</td>\n    </tr>\n    <tr>\n      <th>552</th>\n      <td>margate</td>\n      <td>51.38</td>\n      <td>1.39</td>\n      <td>52.00</td>\n      <td>82</td>\n      <td>79</td>\n      <td>1.99</td>\n      <td>GB</td>\n      <td>1602792454</td>\n    </tr>\n    <tr>\n      <th>553</th>\n      <td>olafsvik</td>\n      <td>64.89</td>\n      <td>-23.71</td>\n      <td>47.43</td>\n      <td>72</td>\n      <td>98</td>\n      <td>8.88</td>\n      <td>IS</td>\n      <td>1602792454</td>\n    </tr>\n    <tr>\n      <th>554</th>\n      <td>ucluelet</td>\n      <td>48.93</td>\n      <td>-125.55</td>\n      <td>54.00</td>\n      <td>87</td>\n      <td>75</td>\n      <td>6.93</td>\n      <td>CA</td>\n      <td>1602792165</td>\n    </tr>\n    <tr>\n      <th>555</th>\n      <td>necochea</td>\n      <td>-38.55</td>\n      <td>-58.74</td>\n      <td>62.01</td>\n      <td>76</td>\n      <td>0</td>\n      <td>1.99</td>\n      <td>AR</td>\n      <td>1602792352</td>\n    </tr>\n  </tbody>\n</table>\n<p>556 rows × 9 columns</p>\n</div>"
     },
     "metadata": {},
     "execution_count": 66
    }
   ],
   "source": [
    "#Load the cities csv created in WeatherPy into locations dataframe and display\n",
    "locations_df = pd.read_csv('../output_data/cities.csv')\n",
    "locations_df\n"
   ]
  },
  {
   "cell_type": "markdown",
   "metadata": {},
   "source": [
    "### Humidity Heatmap\n",
    "* Configure gmaps.\n",
    "* Use the Lat and Lng as locations and Humidity as the weight.\n",
    "* Add Heatmap layer to map."
   ]
  },
  {
   "cell_type": "code",
   "execution_count": 67,
   "metadata": {},
   "outputs": [],
   "source": [
    "#Set the value of locations to the Lat and Lon values in locations dataframe\n",
    "locations = locations_df[[\"Lat\", \"Lon\"]]\n",
    "\n",
    "#Set the heat value to the Humidity values in locations dataframe\n",
    "heat = locations_df[\"Humidity\"]"
   ]
  },
  {
   "cell_type": "code",
   "execution_count": 68,
   "metadata": {},
   "outputs": [
    {
     "output_type": "display_data",
     "data": {
      "text/plain": "Figure(layout=FigureLayout(height='420px'))",
      "application/vnd.jupyter.widget-view+json": {
       "version_major": 2,
       "version_minor": 0,
       "model_id": "b607a1a5c0b34e268d1abdaae0d78e33"
      }
     },
     "metadata": {}
    }
   ],
   "source": [
    "#Create a figure using gmaps\n",
    "fig = gmaps.figure()\n",
    "\n",
    "#Create a heat map using the locations variable above and the heat variable for the weight of the heatmap\n",
    "heat_layer = gmaps.heatmap_layer(locations, weights = heat, dissipating = False, max_intensity = 10, point_radius = 1)\n",
    "\n",
    "#Add heatmap layer to fig and display it\n",
    "fig.add_layer(heat_layer)\n",
    "fig"
   ]
  },
  {
   "cell_type": "markdown",
   "metadata": {},
   "source": [
    "### Create new DataFrame fitting weather criteria\n",
    "* Narrow down the cities to fit weather conditions.\n",
    "* Drop any rows will null values."
   ]
  },
  {
   "cell_type": "code",
   "execution_count": 69,
   "metadata": {},
   "outputs": [
    {
     "output_type": "execute_result",
     "data": {
      "text/plain": [
       "Int64Index([  2,  52,  73, 152, 197, 221, 229, 231, 234, 243, 245, 253, 257,\n",
       "            264, 265, 269, 283, 298, 325, 329, 376, 396, 411, 412, 429, 437,\n",
       "            472, 485, 489, 503, 515],\n",
       "           dtype='int64')"
      ]
     },
     "metadata": {},
     "execution_count": 69
    }
   ],
   "source": [
    "#Find indexes of locations where Max Temp is between 70 and 80, the Wind Speed is less than 10, and the Cloudiness is less than 40\n",
    "ideal_index = locations_df[(locations_df[\"Max Temp\"] < 80) & (locations_df[\"Max Temp\"] > 70) & (locations_df[\"Wind Speed\"] < 10) & (locations_df[\"Cloudiness\"] < 40)].index \n",
    "\n",
    "#Show indexes\n",
    "ideal_index"
   ]
  },
  {
   "cell_type": "markdown",
   "metadata": {},
   "source": [
    "### Hotel Map\n",
    "* Store into variable named `hotel_df`.\n",
    "* Add a \"Hotel Name\" column to the DataFrame.\n",
    "* Set parameters to search for hotels with 5000 meters.\n",
    "* Hit the Google Places API for each city's coordinates.\n",
    "* Store the first Hotel result into the DataFrame.\n",
    "* Plot markers on top of the heatmap."
   ]
  },
  {
   "cell_type": "code",
   "execution_count": 71,
   "metadata": {},
   "outputs": [
    {
     "output_type": "execute_result",
     "data": {
      "text/plain": [
       "             City    Lat     Lon  Max Temp  Humidity  Cloudiness  Wind Speed  \\\n",
       "2            naze  28.37  129.48     73.40        78          14        3.36   \n",
       "52      nishihara  26.18  127.76     77.00        83          20        6.93   \n",
       "73      vredendal -31.67   18.50     72.32        31           0        9.60   \n",
       "152    santa rosa  14.31  121.11     78.80        88          20        3.36   \n",
       "197         kieta  -6.22  155.63     78.98        77          36        0.60   \n",
       "221       sakakah  29.97   40.21     77.00        17           0        6.93   \n",
       "229          pyay  18.82   95.22     75.97        92          21        0.56   \n",
       "231       kampene  -3.60   26.67     70.75        85           4        1.32   \n",
       "234   grand gaube -20.01   57.66     75.00        74           0        5.01   \n",
       "243      san luis -33.30  -66.34     78.37        29          18        5.12   \n",
       "245          otse -25.02   25.73     75.20        44           0        4.70   \n",
       "253      karratha -20.74  116.85     74.03        38           0        8.55   \n",
       "257  xalpatlahuac  17.47  -98.62     76.19        58           6        3.71   \n",
       "264     dhangadhi  28.71   80.60     73.33        66           0        2.98   \n",
       "265         lodja  -3.48   23.43     70.97        95           9        0.98   \n",
       "269  richards bay -28.78   32.04     71.67        68           0        7.54   \n",
       "283       salalah  17.02   54.09     78.80        83          20        2.24   \n",
       "298          tura  25.52   90.22     73.02        94           0        1.97   \n",
       "325      ismailia  30.60   32.27     72.10        84           0        6.55   \n",
       "329     kununurra -15.77  128.73     73.40        94           0        5.53   \n",
       "376          yaan   7.38    8.57     75.83        88           0        4.36   \n",
       "396       atrauli  28.03   78.28     77.13        29           0        5.46   \n",
       "411     lambarene  -0.70   10.24     75.04        87          37        5.64   \n",
       "412         bayji  34.93   43.49     76.08        26           0        9.46   \n",
       "429       angoche -16.23   39.91     74.21        82          20        9.89   \n",
       "437          nawa  27.02   75.00     78.13        18           0        6.26   \n",
       "472       le port -20.94   55.29     71.60        73          25        6.93   \n",
       "485        tamale   9.40   -0.84     79.05        82          15        4.94   \n",
       "489        najran  17.49   44.13     71.60        18           0        5.82   \n",
       "503     nhulunbuy -12.23  136.77     73.40        88           7        8.10   \n",
       "515          soyo  -6.13   12.37     76.14        80           1        6.35   \n",
       "\n",
       "    Country        Date  \n",
       "2        JP  1602792265  \n",
       "52       JP  1602792280  \n",
       "73       ZA  1602792287  \n",
       "152      PH  1602792313  \n",
       "197      PG  1602792328  \n",
       "221      SA  1602792336  \n",
       "229      MM  1602792339  \n",
       "231      CD  1602792339  \n",
       "234      MU  1602792340  \n",
       "243      AR  1602792343  \n",
       "245      BW  1602792343  \n",
       "253      AU  1602792346  \n",
       "257      MX  1602792347  \n",
       "264      NP  1602792349  \n",
       "265      CD  1602792350  \n",
       "269      ZA  1602792351  \n",
       "283      OM  1602792212  \n",
       "298      IN  1602792361  \n",
       "325      EG  1602792175  \n",
       "329      AU  1602792318  \n",
       "376      NG  1602792389  \n",
       "396      IN  1602792397  \n",
       "411      GA  1602792403  \n",
       "412      IQ  1602792404  \n",
       "429      MZ  1602792410  \n",
       "437      IN  1602792413  \n",
       "472      RE  1602792427  \n",
       "485      GH  1602792431  \n",
       "489      SA  1602792433  \n",
       "503      AU  1602792438  \n",
       "515      AO  1602792442  "
      ],
      "text/html": "<div>\n<style scoped>\n    .dataframe tbody tr th:only-of-type {\n        vertical-align: middle;\n    }\n\n    .dataframe tbody tr th {\n        vertical-align: top;\n    }\n\n    .dataframe thead th {\n        text-align: right;\n    }\n</style>\n<table border=\"1\" class=\"dataframe\">\n  <thead>\n    <tr style=\"text-align: right;\">\n      <th></th>\n      <th>City</th>\n      <th>Lat</th>\n      <th>Lon</th>\n      <th>Max Temp</th>\n      <th>Humidity</th>\n      <th>Cloudiness</th>\n      <th>Wind Speed</th>\n      <th>Country</th>\n      <th>Date</th>\n    </tr>\n  </thead>\n  <tbody>\n    <tr>\n      <th>2</th>\n      <td>naze</td>\n      <td>28.37</td>\n      <td>129.48</td>\n      <td>73.40</td>\n      <td>78</td>\n      <td>14</td>\n      <td>3.36</td>\n      <td>JP</td>\n      <td>1602792265</td>\n    </tr>\n    <tr>\n      <th>52</th>\n      <td>nishihara</td>\n      <td>26.18</td>\n      <td>127.76</td>\n      <td>77.00</td>\n      <td>83</td>\n      <td>20</td>\n      <td>6.93</td>\n      <td>JP</td>\n      <td>1602792280</td>\n    </tr>\n    <tr>\n      <th>73</th>\n      <td>vredendal</td>\n      <td>-31.67</td>\n      <td>18.50</td>\n      <td>72.32</td>\n      <td>31</td>\n      <td>0</td>\n      <td>9.60</td>\n      <td>ZA</td>\n      <td>1602792287</td>\n    </tr>\n    <tr>\n      <th>152</th>\n      <td>santa rosa</td>\n      <td>14.31</td>\n      <td>121.11</td>\n      <td>78.80</td>\n      <td>88</td>\n      <td>20</td>\n      <td>3.36</td>\n      <td>PH</td>\n      <td>1602792313</td>\n    </tr>\n    <tr>\n      <th>197</th>\n      <td>kieta</td>\n      <td>-6.22</td>\n      <td>155.63</td>\n      <td>78.98</td>\n      <td>77</td>\n      <td>36</td>\n      <td>0.60</td>\n      <td>PG</td>\n      <td>1602792328</td>\n    </tr>\n    <tr>\n      <th>221</th>\n      <td>sakakah</td>\n      <td>29.97</td>\n      <td>40.21</td>\n      <td>77.00</td>\n      <td>17</td>\n      <td>0</td>\n      <td>6.93</td>\n      <td>SA</td>\n      <td>1602792336</td>\n    </tr>\n    <tr>\n      <th>229</th>\n      <td>pyay</td>\n      <td>18.82</td>\n      <td>95.22</td>\n      <td>75.97</td>\n      <td>92</td>\n      <td>21</td>\n      <td>0.56</td>\n      <td>MM</td>\n      <td>1602792339</td>\n    </tr>\n    <tr>\n      <th>231</th>\n      <td>kampene</td>\n      <td>-3.60</td>\n      <td>26.67</td>\n      <td>70.75</td>\n      <td>85</td>\n      <td>4</td>\n      <td>1.32</td>\n      <td>CD</td>\n      <td>1602792339</td>\n    </tr>\n    <tr>\n      <th>234</th>\n      <td>grand gaube</td>\n      <td>-20.01</td>\n      <td>57.66</td>\n      <td>75.00</td>\n      <td>74</td>\n      <td>0</td>\n      <td>5.01</td>\n      <td>MU</td>\n      <td>1602792340</td>\n    </tr>\n    <tr>\n      <th>243</th>\n      <td>san luis</td>\n      <td>-33.30</td>\n      <td>-66.34</td>\n      <td>78.37</td>\n      <td>29</td>\n      <td>18</td>\n      <td>5.12</td>\n      <td>AR</td>\n      <td>1602792343</td>\n    </tr>\n    <tr>\n      <th>245</th>\n      <td>otse</td>\n      <td>-25.02</td>\n      <td>25.73</td>\n      <td>75.20</td>\n      <td>44</td>\n      <td>0</td>\n      <td>4.70</td>\n      <td>BW</td>\n      <td>1602792343</td>\n    </tr>\n    <tr>\n      <th>253</th>\n      <td>karratha</td>\n      <td>-20.74</td>\n      <td>116.85</td>\n      <td>74.03</td>\n      <td>38</td>\n      <td>0</td>\n      <td>8.55</td>\n      <td>AU</td>\n      <td>1602792346</td>\n    </tr>\n    <tr>\n      <th>257</th>\n      <td>xalpatlahuac</td>\n      <td>17.47</td>\n      <td>-98.62</td>\n      <td>76.19</td>\n      <td>58</td>\n      <td>6</td>\n      <td>3.71</td>\n      <td>MX</td>\n      <td>1602792347</td>\n    </tr>\n    <tr>\n      <th>264</th>\n      <td>dhangadhi</td>\n      <td>28.71</td>\n      <td>80.60</td>\n      <td>73.33</td>\n      <td>66</td>\n      <td>0</td>\n      <td>2.98</td>\n      <td>NP</td>\n      <td>1602792349</td>\n    </tr>\n    <tr>\n      <th>265</th>\n      <td>lodja</td>\n      <td>-3.48</td>\n      <td>23.43</td>\n      <td>70.97</td>\n      <td>95</td>\n      <td>9</td>\n      <td>0.98</td>\n      <td>CD</td>\n      <td>1602792350</td>\n    </tr>\n    <tr>\n      <th>269</th>\n      <td>richards bay</td>\n      <td>-28.78</td>\n      <td>32.04</td>\n      <td>71.67</td>\n      <td>68</td>\n      <td>0</td>\n      <td>7.54</td>\n      <td>ZA</td>\n      <td>1602792351</td>\n    </tr>\n    <tr>\n      <th>283</th>\n      <td>salalah</td>\n      <td>17.02</td>\n      <td>54.09</td>\n      <td>78.80</td>\n      <td>83</td>\n      <td>20</td>\n      <td>2.24</td>\n      <td>OM</td>\n      <td>1602792212</td>\n    </tr>\n    <tr>\n      <th>298</th>\n      <td>tura</td>\n      <td>25.52</td>\n      <td>90.22</td>\n      <td>73.02</td>\n      <td>94</td>\n      <td>0</td>\n      <td>1.97</td>\n      <td>IN</td>\n      <td>1602792361</td>\n    </tr>\n    <tr>\n      <th>325</th>\n      <td>ismailia</td>\n      <td>30.60</td>\n      <td>32.27</td>\n      <td>72.10</td>\n      <td>84</td>\n      <td>0</td>\n      <td>6.55</td>\n      <td>EG</td>\n      <td>1602792175</td>\n    </tr>\n    <tr>\n      <th>329</th>\n      <td>kununurra</td>\n      <td>-15.77</td>\n      <td>128.73</td>\n      <td>73.40</td>\n      <td>94</td>\n      <td>0</td>\n      <td>5.53</td>\n      <td>AU</td>\n      <td>1602792318</td>\n    </tr>\n    <tr>\n      <th>376</th>\n      <td>yaan</td>\n      <td>7.38</td>\n      <td>8.57</td>\n      <td>75.83</td>\n      <td>88</td>\n      <td>0</td>\n      <td>4.36</td>\n      <td>NG</td>\n      <td>1602792389</td>\n    </tr>\n    <tr>\n      <th>396</th>\n      <td>atrauli</td>\n      <td>28.03</td>\n      <td>78.28</td>\n      <td>77.13</td>\n      <td>29</td>\n      <td>0</td>\n      <td>5.46</td>\n      <td>IN</td>\n      <td>1602792397</td>\n    </tr>\n    <tr>\n      <th>411</th>\n      <td>lambarene</td>\n      <td>-0.70</td>\n      <td>10.24</td>\n      <td>75.04</td>\n      <td>87</td>\n      <td>37</td>\n      <td>5.64</td>\n      <td>GA</td>\n      <td>1602792403</td>\n    </tr>\n    <tr>\n      <th>412</th>\n      <td>bayji</td>\n      <td>34.93</td>\n      <td>43.49</td>\n      <td>76.08</td>\n      <td>26</td>\n      <td>0</td>\n      <td>9.46</td>\n      <td>IQ</td>\n      <td>1602792404</td>\n    </tr>\n    <tr>\n      <th>429</th>\n      <td>angoche</td>\n      <td>-16.23</td>\n      <td>39.91</td>\n      <td>74.21</td>\n      <td>82</td>\n      <td>20</td>\n      <td>9.89</td>\n      <td>MZ</td>\n      <td>1602792410</td>\n    </tr>\n    <tr>\n      <th>437</th>\n      <td>nawa</td>\n      <td>27.02</td>\n      <td>75.00</td>\n      <td>78.13</td>\n      <td>18</td>\n      <td>0</td>\n      <td>6.26</td>\n      <td>IN</td>\n      <td>1602792413</td>\n    </tr>\n    <tr>\n      <th>472</th>\n      <td>le port</td>\n      <td>-20.94</td>\n      <td>55.29</td>\n      <td>71.60</td>\n      <td>73</td>\n      <td>25</td>\n      <td>6.93</td>\n      <td>RE</td>\n      <td>1602792427</td>\n    </tr>\n    <tr>\n      <th>485</th>\n      <td>tamale</td>\n      <td>9.40</td>\n      <td>-0.84</td>\n      <td>79.05</td>\n      <td>82</td>\n      <td>15</td>\n      <td>4.94</td>\n      <td>GH</td>\n      <td>1602792431</td>\n    </tr>\n    <tr>\n      <th>489</th>\n      <td>najran</td>\n      <td>17.49</td>\n      <td>44.13</td>\n      <td>71.60</td>\n      <td>18</td>\n      <td>0</td>\n      <td>5.82</td>\n      <td>SA</td>\n      <td>1602792433</td>\n    </tr>\n    <tr>\n      <th>503</th>\n      <td>nhulunbuy</td>\n      <td>-12.23</td>\n      <td>136.77</td>\n      <td>73.40</td>\n      <td>88</td>\n      <td>7</td>\n      <td>8.10</td>\n      <td>AU</td>\n      <td>1602792438</td>\n    </tr>\n    <tr>\n      <th>515</th>\n      <td>soyo</td>\n      <td>-6.13</td>\n      <td>12.37</td>\n      <td>76.14</td>\n      <td>80</td>\n      <td>1</td>\n      <td>6.35</td>\n      <td>AO</td>\n      <td>1602792442</td>\n    </tr>\n  </tbody>\n</table>\n</div>"
     },
     "metadata": {},
     "execution_count": 71
    }
   ],
   "source": [
    "#Create a new dataframe using the idexes of just the ideal location from above\n",
    "hotel_df = locations_df.iloc[ideal_index, :]\n",
    "\n",
    "#Generate the base url for json search\n",
    "base_url = \"https://maps.googleapis.com/maps/api/place/nearbysearch/json\"\n",
    "\n",
    "#Display ideal locations pulled from above\n",
    "hotel_df"
   ]
  },
  {
   "cell_type": "code",
   "execution_count": 75,
   "metadata": {},
   "outputs": [
    {
     "output_type": "stream",
     "name": "stdout",
     "text": [
      "Reading row: 2\n",
      "Gathering json data\n",
      "\n",
      "Reading row: 52\n",
      "Gathering json data\n",
      "\n",
      "Reading row: 73\n",
      "Gathering json data\n",
      "\n",
      "Reading row: 152\n",
      "Gathering json data\n",
      "\n",
      "Reading row: 197\n",
      "Gathering json data\n",
      "\n",
      "Missing field/results....skipping.\n",
      "\n",
      "Reading row: 221\n",
      "Gathering json data\n",
      "\n",
      "Reading row: 229\n",
      "Gathering json data\n",
      "\n",
      "Reading row: 231\n",
      "Gathering json data\n",
      "\n",
      "Missing field/results....skipping.\n",
      "\n",
      "Reading row: 234\n",
      "Gathering json data\n",
      "\n",
      "Reading row: 243\n",
      "Gathering json data\n",
      "\n",
      "Reading row: 245\n",
      "Gathering json data\n",
      "\n",
      "Missing field/results....skipping.\n",
      "\n",
      "Reading row: 253\n",
      "Gathering json data\n",
      "\n",
      "Reading row: 257\n",
      "Gathering json data\n",
      "\n",
      "Missing field/results....skipping.\n",
      "\n",
      "Reading row: 264\n",
      "Gathering json data\n",
      "\n",
      "Reading row: 265\n",
      "Gathering json data\n",
      "\n",
      "Missing field/results....skipping.\n",
      "\n",
      "Reading row: 269\n",
      "Gathering json data\n",
      "\n",
      "Reading row: 283\n",
      "Gathering json data\n",
      "\n",
      "Reading row: 298\n",
      "Gathering json data\n",
      "\n",
      "Reading row: 325\n",
      "Gathering json data\n",
      "\n",
      "Reading row: 329\n",
      "Gathering json data\n",
      "\n",
      "Reading row: 376\n",
      "Gathering json data\n",
      "\n",
      "Missing field/results....skipping.\n",
      "\n",
      "Reading row: 396\n",
      "Gathering json data\n",
      "\n",
      "Missing field/results....skipping.\n",
      "\n",
      "Reading row: 411\n",
      "Gathering json data\n",
      "\n",
      "Reading row: 412\n",
      "Gathering json data\n",
      "\n",
      "Missing field/results....skipping.\n",
      "\n",
      "Reading row: 429\n",
      "Gathering json data\n",
      "\n",
      "Reading row: 437\n",
      "Gathering json data\n",
      "\n",
      "Missing field/results....skipping.\n",
      "\n",
      "Reading row: 472\n",
      "Gathering json data\n",
      "\n",
      "Missing field/results....skipping.\n",
      "\n",
      "Reading row: 485\n",
      "Gathering json data\n",
      "\n",
      "Reading row: 489\n",
      "Gathering json data\n",
      "\n",
      "Missing field/results....skipping.\n",
      "\n",
      "Reading row: 503\n",
      "Gathering json data\n",
      "\n",
      "Reading row: 515\n",
      "Gathering json data\n",
      "\n",
      "-----------------------------\n",
      "Data retrieval comlete!\n",
      "-----------------------------\n"
     ]
    }
   ],
   "source": [
    "#Loop through each row in the data frame to perform json calculations\n",
    "for index, row in hotel_df.iterrows():\n",
    "    \n",
    "    #Store lat and lon values into variable to properly pass into google places api call\n",
    "    lat = row[\"Lat\"]\n",
    "    lon = row[\"Lon\"]\n",
    "    \n",
    "    #Set parameters for google api call\n",
    "    params = {\n",
    "    \"location\": f\"{lat}, {lon}\",\n",
    "    \"name\": \"hotel\",\n",
    "    \"radius\": 5000,\n",
    "    \"key\": g_key\n",
    "}\n",
    "\n",
    "    #Generate a call to google places api at specified location within params\n",
    "    response = requests.get(base_url, params = params)\n",
    "    \n",
    "    #Store json data into variable\n",
    "    hotel_data = response.json()\n",
    "    print(f\"Reading row: {index}\")\n",
    "    print(\"Gathering json data\\n\")\n",
    "\n",
    "\n",
    "    #Try/Except statement to read hotel name at json value, then create a new column called hotel name, and store that json value in the new column. If no value found, except pushes code along\n",
    "    try:\n",
    "        hotel_df.loc[index, \"Hotel Name\"] = hotel_data[\"results\"][0][\"name\"]\n",
    "    except (KeyError, IndexError):\n",
    "        print(\"Missing field/results....skipping.\\n\")\n",
    "\n",
    "#End of print process\n",
    "print(\"-----------------------------\")\n",
    "print(\"Data retrieval comlete!\")\n",
    "print(\"-----------------------------\")"
   ]
  },
  {
   "cell_type": "code",
   "execution_count": 76,
   "metadata": {},
   "outputs": [
    {
     "output_type": "execute_result",
     "data": {
      "text/plain": [
       "             City    Lat     Lon  Max Temp  Humidity  Cloudiness  Wind Speed  \\\n",
       "2            naze  28.37  129.48     73.40        78          14        3.36   \n",
       "52      nishihara  26.18  127.76     77.00        83          20        6.93   \n",
       "73      vredendal -31.67   18.50     72.32        31           0        9.60   \n",
       "152    santa rosa  14.31  121.11     78.80        88          20        3.36   \n",
       "197         kieta  -6.22  155.63     78.98        77          36        0.60   \n",
       "221       sakakah  29.97   40.21     77.00        17           0        6.93   \n",
       "229          pyay  18.82   95.22     75.97        92          21        0.56   \n",
       "231       kampene  -3.60   26.67     70.75        85           4        1.32   \n",
       "234   grand gaube -20.01   57.66     75.00        74           0        5.01   \n",
       "243      san luis -33.30  -66.34     78.37        29          18        5.12   \n",
       "245          otse -25.02   25.73     75.20        44           0        4.70   \n",
       "253      karratha -20.74  116.85     74.03        38           0        8.55   \n",
       "257  xalpatlahuac  17.47  -98.62     76.19        58           6        3.71   \n",
       "264     dhangadhi  28.71   80.60     73.33        66           0        2.98   \n",
       "265         lodja  -3.48   23.43     70.97        95           9        0.98   \n",
       "269  richards bay -28.78   32.04     71.67        68           0        7.54   \n",
       "283       salalah  17.02   54.09     78.80        83          20        2.24   \n",
       "298          tura  25.52   90.22     73.02        94           0        1.97   \n",
       "325      ismailia  30.60   32.27     72.10        84           0        6.55   \n",
       "329     kununurra -15.77  128.73     73.40        94           0        5.53   \n",
       "376          yaan   7.38    8.57     75.83        88           0        4.36   \n",
       "396       atrauli  28.03   78.28     77.13        29           0        5.46   \n",
       "411     lambarene  -0.70   10.24     75.04        87          37        5.64   \n",
       "412         bayji  34.93   43.49     76.08        26           0        9.46   \n",
       "429       angoche -16.23   39.91     74.21        82          20        9.89   \n",
       "437          nawa  27.02   75.00     78.13        18           0        6.26   \n",
       "472       le port -20.94   55.29     71.60        73          25        6.93   \n",
       "485        tamale   9.40   -0.84     79.05        82          15        4.94   \n",
       "489        najran  17.49   44.13     71.60        18           0        5.82   \n",
       "503     nhulunbuy -12.23  136.77     73.40        88           7        8.10   \n",
       "515          soyo  -6.13   12.37     76.14        80           1        6.35   \n",
       "\n",
       "    Country        Date                           Hotel Name  \n",
       "2        JP  1602792265                      Hotel New Amami  \n",
       "52       JP  1602792280                                 百名伽藍  \n",
       "73       ZA  1602792287                 Voorsorg Guest House  \n",
       "152      PH  1602792313         El Cielito Hotel - Sta. Rosa  \n",
       "197      PG  1602792328                                  NaN  \n",
       "221      SA  1602792336                      Raoum Inn Hotel  \n",
       "229      MM  1602792339                   Lucky Dragon Hotel  \n",
       "231      CD  1602792339                                  NaN  \n",
       "234      MU  1602792340      LUX Grand Gaube Resort & Villas  \n",
       "243      AR  1602792343  Hotel Premium Tower Suites San Luis  \n",
       "245      BW  1602792343                                  NaN  \n",
       "253      AU  1602792346         Karratha International Hotel  \n",
       "257      MX  1602792347                                  NaN  \n",
       "264      NP  1602792349                          Hotel Jalsa  \n",
       "265      CD  1602792350                                  NaN  \n",
       "269      ZA  1602792351    BON Hotel Waterfront Richards Bay  \n",
       "283      OM  1602792212                             Al Jabal  \n",
       "298      IN  1602792361                    Hotel Polo Orchid  \n",
       "325      EG  1602792175  Tolip Alforsan Island Hotel And Spa  \n",
       "329      AU  1602792318                ibis Styles Kununurra  \n",
       "376      NG  1602792389                                  NaN  \n",
       "396      IN  1602792397                                  NaN  \n",
       "411      GA  1602792403                        Ogooue Palace  \n",
       "412      IQ  1602792404                                  NaN  \n",
       "429      MZ  1602792410                   Guest House HESADA  \n",
       "437      IN  1602792413                                  NaN  \n",
       "472      RE  1602792427                                  NaN  \n",
       "485      GH  1602792431                         Jeyads Lodge  \n",
       "489      SA  1602792433                                  NaN  \n",
       "503      AU  1602792438             Walkabout Lodge & Tavern  \n",
       "515      AO  1602792442                              Kinwica  "
      ],
      "text/html": "<div>\n<style scoped>\n    .dataframe tbody tr th:only-of-type {\n        vertical-align: middle;\n    }\n\n    .dataframe tbody tr th {\n        vertical-align: top;\n    }\n\n    .dataframe thead th {\n        text-align: right;\n    }\n</style>\n<table border=\"1\" class=\"dataframe\">\n  <thead>\n    <tr style=\"text-align: right;\">\n      <th></th>\n      <th>City</th>\n      <th>Lat</th>\n      <th>Lon</th>\n      <th>Max Temp</th>\n      <th>Humidity</th>\n      <th>Cloudiness</th>\n      <th>Wind Speed</th>\n      <th>Country</th>\n      <th>Date</th>\n      <th>Hotel Name</th>\n    </tr>\n  </thead>\n  <tbody>\n    <tr>\n      <th>2</th>\n      <td>naze</td>\n      <td>28.37</td>\n      <td>129.48</td>\n      <td>73.40</td>\n      <td>78</td>\n      <td>14</td>\n      <td>3.36</td>\n      <td>JP</td>\n      <td>1602792265</td>\n      <td>Hotel New Amami</td>\n    </tr>\n    <tr>\n      <th>52</th>\n      <td>nishihara</td>\n      <td>26.18</td>\n      <td>127.76</td>\n      <td>77.00</td>\n      <td>83</td>\n      <td>20</td>\n      <td>6.93</td>\n      <td>JP</td>\n      <td>1602792280</td>\n      <td>百名伽藍</td>\n    </tr>\n    <tr>\n      <th>73</th>\n      <td>vredendal</td>\n      <td>-31.67</td>\n      <td>18.50</td>\n      <td>72.32</td>\n      <td>31</td>\n      <td>0</td>\n      <td>9.60</td>\n      <td>ZA</td>\n      <td>1602792287</td>\n      <td>Voorsorg Guest House</td>\n    </tr>\n    <tr>\n      <th>152</th>\n      <td>santa rosa</td>\n      <td>14.31</td>\n      <td>121.11</td>\n      <td>78.80</td>\n      <td>88</td>\n      <td>20</td>\n      <td>3.36</td>\n      <td>PH</td>\n      <td>1602792313</td>\n      <td>El Cielito Hotel - Sta. Rosa</td>\n    </tr>\n    <tr>\n      <th>197</th>\n      <td>kieta</td>\n      <td>-6.22</td>\n      <td>155.63</td>\n      <td>78.98</td>\n      <td>77</td>\n      <td>36</td>\n      <td>0.60</td>\n      <td>PG</td>\n      <td>1602792328</td>\n      <td>NaN</td>\n    </tr>\n    <tr>\n      <th>221</th>\n      <td>sakakah</td>\n      <td>29.97</td>\n      <td>40.21</td>\n      <td>77.00</td>\n      <td>17</td>\n      <td>0</td>\n      <td>6.93</td>\n      <td>SA</td>\n      <td>1602792336</td>\n      <td>Raoum Inn Hotel</td>\n    </tr>\n    <tr>\n      <th>229</th>\n      <td>pyay</td>\n      <td>18.82</td>\n      <td>95.22</td>\n      <td>75.97</td>\n      <td>92</td>\n      <td>21</td>\n      <td>0.56</td>\n      <td>MM</td>\n      <td>1602792339</td>\n      <td>Lucky Dragon Hotel</td>\n    </tr>\n    <tr>\n      <th>231</th>\n      <td>kampene</td>\n      <td>-3.60</td>\n      <td>26.67</td>\n      <td>70.75</td>\n      <td>85</td>\n      <td>4</td>\n      <td>1.32</td>\n      <td>CD</td>\n      <td>1602792339</td>\n      <td>NaN</td>\n    </tr>\n    <tr>\n      <th>234</th>\n      <td>grand gaube</td>\n      <td>-20.01</td>\n      <td>57.66</td>\n      <td>75.00</td>\n      <td>74</td>\n      <td>0</td>\n      <td>5.01</td>\n      <td>MU</td>\n      <td>1602792340</td>\n      <td>LUX Grand Gaube Resort &amp; Villas</td>\n    </tr>\n    <tr>\n      <th>243</th>\n      <td>san luis</td>\n      <td>-33.30</td>\n      <td>-66.34</td>\n      <td>78.37</td>\n      <td>29</td>\n      <td>18</td>\n      <td>5.12</td>\n      <td>AR</td>\n      <td>1602792343</td>\n      <td>Hotel Premium Tower Suites San Luis</td>\n    </tr>\n    <tr>\n      <th>245</th>\n      <td>otse</td>\n      <td>-25.02</td>\n      <td>25.73</td>\n      <td>75.20</td>\n      <td>44</td>\n      <td>0</td>\n      <td>4.70</td>\n      <td>BW</td>\n      <td>1602792343</td>\n      <td>NaN</td>\n    </tr>\n    <tr>\n      <th>253</th>\n      <td>karratha</td>\n      <td>-20.74</td>\n      <td>116.85</td>\n      <td>74.03</td>\n      <td>38</td>\n      <td>0</td>\n      <td>8.55</td>\n      <td>AU</td>\n      <td>1602792346</td>\n      <td>Karratha International Hotel</td>\n    </tr>\n    <tr>\n      <th>257</th>\n      <td>xalpatlahuac</td>\n      <td>17.47</td>\n      <td>-98.62</td>\n      <td>76.19</td>\n      <td>58</td>\n      <td>6</td>\n      <td>3.71</td>\n      <td>MX</td>\n      <td>1602792347</td>\n      <td>NaN</td>\n    </tr>\n    <tr>\n      <th>264</th>\n      <td>dhangadhi</td>\n      <td>28.71</td>\n      <td>80.60</td>\n      <td>73.33</td>\n      <td>66</td>\n      <td>0</td>\n      <td>2.98</td>\n      <td>NP</td>\n      <td>1602792349</td>\n      <td>Hotel Jalsa</td>\n    </tr>\n    <tr>\n      <th>265</th>\n      <td>lodja</td>\n      <td>-3.48</td>\n      <td>23.43</td>\n      <td>70.97</td>\n      <td>95</td>\n      <td>9</td>\n      <td>0.98</td>\n      <td>CD</td>\n      <td>1602792350</td>\n      <td>NaN</td>\n    </tr>\n    <tr>\n      <th>269</th>\n      <td>richards bay</td>\n      <td>-28.78</td>\n      <td>32.04</td>\n      <td>71.67</td>\n      <td>68</td>\n      <td>0</td>\n      <td>7.54</td>\n      <td>ZA</td>\n      <td>1602792351</td>\n      <td>BON Hotel Waterfront Richards Bay</td>\n    </tr>\n    <tr>\n      <th>283</th>\n      <td>salalah</td>\n      <td>17.02</td>\n      <td>54.09</td>\n      <td>78.80</td>\n      <td>83</td>\n      <td>20</td>\n      <td>2.24</td>\n      <td>OM</td>\n      <td>1602792212</td>\n      <td>Al Jabal</td>\n    </tr>\n    <tr>\n      <th>298</th>\n      <td>tura</td>\n      <td>25.52</td>\n      <td>90.22</td>\n      <td>73.02</td>\n      <td>94</td>\n      <td>0</td>\n      <td>1.97</td>\n      <td>IN</td>\n      <td>1602792361</td>\n      <td>Hotel Polo Orchid</td>\n    </tr>\n    <tr>\n      <th>325</th>\n      <td>ismailia</td>\n      <td>30.60</td>\n      <td>32.27</td>\n      <td>72.10</td>\n      <td>84</td>\n      <td>0</td>\n      <td>6.55</td>\n      <td>EG</td>\n      <td>1602792175</td>\n      <td>Tolip Alforsan Island Hotel And Spa</td>\n    </tr>\n    <tr>\n      <th>329</th>\n      <td>kununurra</td>\n      <td>-15.77</td>\n      <td>128.73</td>\n      <td>73.40</td>\n      <td>94</td>\n      <td>0</td>\n      <td>5.53</td>\n      <td>AU</td>\n      <td>1602792318</td>\n      <td>ibis Styles Kununurra</td>\n    </tr>\n    <tr>\n      <th>376</th>\n      <td>yaan</td>\n      <td>7.38</td>\n      <td>8.57</td>\n      <td>75.83</td>\n      <td>88</td>\n      <td>0</td>\n      <td>4.36</td>\n      <td>NG</td>\n      <td>1602792389</td>\n      <td>NaN</td>\n    </tr>\n    <tr>\n      <th>396</th>\n      <td>atrauli</td>\n      <td>28.03</td>\n      <td>78.28</td>\n      <td>77.13</td>\n      <td>29</td>\n      <td>0</td>\n      <td>5.46</td>\n      <td>IN</td>\n      <td>1602792397</td>\n      <td>NaN</td>\n    </tr>\n    <tr>\n      <th>411</th>\n      <td>lambarene</td>\n      <td>-0.70</td>\n      <td>10.24</td>\n      <td>75.04</td>\n      <td>87</td>\n      <td>37</td>\n      <td>5.64</td>\n      <td>GA</td>\n      <td>1602792403</td>\n      <td>Ogooue Palace</td>\n    </tr>\n    <tr>\n      <th>412</th>\n      <td>bayji</td>\n      <td>34.93</td>\n      <td>43.49</td>\n      <td>76.08</td>\n      <td>26</td>\n      <td>0</td>\n      <td>9.46</td>\n      <td>IQ</td>\n      <td>1602792404</td>\n      <td>NaN</td>\n    </tr>\n    <tr>\n      <th>429</th>\n      <td>angoche</td>\n      <td>-16.23</td>\n      <td>39.91</td>\n      <td>74.21</td>\n      <td>82</td>\n      <td>20</td>\n      <td>9.89</td>\n      <td>MZ</td>\n      <td>1602792410</td>\n      <td>Guest House HESADA</td>\n    </tr>\n    <tr>\n      <th>437</th>\n      <td>nawa</td>\n      <td>27.02</td>\n      <td>75.00</td>\n      <td>78.13</td>\n      <td>18</td>\n      <td>0</td>\n      <td>6.26</td>\n      <td>IN</td>\n      <td>1602792413</td>\n      <td>NaN</td>\n    </tr>\n    <tr>\n      <th>472</th>\n      <td>le port</td>\n      <td>-20.94</td>\n      <td>55.29</td>\n      <td>71.60</td>\n      <td>73</td>\n      <td>25</td>\n      <td>6.93</td>\n      <td>RE</td>\n      <td>1602792427</td>\n      <td>NaN</td>\n    </tr>\n    <tr>\n      <th>485</th>\n      <td>tamale</td>\n      <td>9.40</td>\n      <td>-0.84</td>\n      <td>79.05</td>\n      <td>82</td>\n      <td>15</td>\n      <td>4.94</td>\n      <td>GH</td>\n      <td>1602792431</td>\n      <td>Jeyads Lodge</td>\n    </tr>\n    <tr>\n      <th>489</th>\n      <td>najran</td>\n      <td>17.49</td>\n      <td>44.13</td>\n      <td>71.60</td>\n      <td>18</td>\n      <td>0</td>\n      <td>5.82</td>\n      <td>SA</td>\n      <td>1602792433</td>\n      <td>NaN</td>\n    </tr>\n    <tr>\n      <th>503</th>\n      <td>nhulunbuy</td>\n      <td>-12.23</td>\n      <td>136.77</td>\n      <td>73.40</td>\n      <td>88</td>\n      <td>7</td>\n      <td>8.10</td>\n      <td>AU</td>\n      <td>1602792438</td>\n      <td>Walkabout Lodge &amp; Tavern</td>\n    </tr>\n    <tr>\n      <th>515</th>\n      <td>soyo</td>\n      <td>-6.13</td>\n      <td>12.37</td>\n      <td>76.14</td>\n      <td>80</td>\n      <td>1</td>\n      <td>6.35</td>\n      <td>AO</td>\n      <td>1602792442</td>\n      <td>Kinwica</td>\n    </tr>\n  </tbody>\n</table>\n</div>"
     },
     "metadata": {},
     "execution_count": 76
    }
   ],
   "source": [
    "#Print hotel dataframe with updated hotel names\n",
    "hotel_df"
   ]
  },
  {
   "cell_type": "code",
   "execution_count": 77,
   "metadata": {},
   "outputs": [],
   "source": [
    "# NOTE: Do not change any of the code in this cell\n",
    "\n",
    "# Using the template add the hotel marks to the heatmap\n",
    "info_box_template = \"\"\"\n",
    "<dl>\n",
    "<dt>Name</dt><dd>{Hotel Name}</dd>\n",
    "<dt>City</dt><dd>{City}</dd>\n",
    "<dt>Country</dt><dd>{Country}</dd>\n",
    "</dl>\n",
    "\"\"\"\n",
    "# Store the DataFrame Row\n",
    "# NOTE: be sure to update with your DataFrame name\n",
    "hotel_info = [info_box_template.format(**row) for index, row in hotel_df.iterrows()]\n",
    "locations = hotel_df[[\"Lat\", \"Lon\"]]"
   ]
  },
  {
   "cell_type": "code",
   "execution_count": 78,
   "metadata": {},
   "outputs": [
    {
     "output_type": "display_data",
     "data": {
      "text/plain": "Figure(layout=FigureLayout(height='420px'))",
      "application/vnd.jupyter.widget-view+json": {
       "version_major": 2,
       "version_minor": 0,
       "model_id": "b607a1a5c0b34e268d1abdaae0d78e33"
      }
     },
     "metadata": {}
    }
   ],
   "source": [
    "# Add marker layer ontop of heat map\n",
    "marker_locations = hotel_df[[\"Lat\", \"Lon\"]]\n",
    "markers = gmaps.marker_layer(marker_locations, hotel_info)\n",
    "fig.add_layer(markers)\n",
    "\n",
    "# Display figure\n",
    "fig"
   ]
  },
  {
   "cell_type": "code",
   "execution_count": null,
   "metadata": {},
   "outputs": [],
   "source": []
  }
 ],
 "metadata": {
  "kernelspec": {
   "name": "Python 3.8.3 64-bit ('base': conda)",
   "display_name": "Python 3.8.3 64-bit ('base': conda)",
   "metadata": {
    "interpreter": {
     "hash": "485035c5b2a6f2b50dc2dc5ca51aeeb931032fbc9adc2e30c7c528d6bf8a9176"
    }
   }
  },
  "language_info": {
   "codemirror_mode": {
    "name": "ipython",
    "version": 3
   },
   "file_extension": ".py",
   "mimetype": "text/x-python",
   "name": "python",
   "nbconvert_exporter": "python",
   "pygments_lexer": "ipython3",
   "version": "3.8.3-final"
  },
  "latex_envs": {
   "LaTeX_envs_menu_present": true,
   "autoclose": false,
   "autocomplete": true,
   "bibliofile": "biblio.bib",
   "cite_by": "apalike",
   "current_citInitial": 1,
   "eqLabelWithNumbers": true,
   "eqNumInitial": 1,
   "hotkeys": {
    "equation": "Ctrl-E",
    "itemize": "Ctrl-I"
   },
   "labels_anchors": false,
   "latex_user_defs": false,
   "report_style_numbering": false,
   "user_envs_cfg": false
  }
 },
 "nbformat": 4,
 "nbformat_minor": 4
}