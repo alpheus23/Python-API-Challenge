{
 "cells": [
  {
   "cell_type": "markdown",
   "metadata": {},
   "source": [
    "# VacationPy\n",
    "----\n",
    "\n",
    "#### Note\n",
    "* Keep an eye on your API usage. Use https://developers.google.com/maps/reporting/gmp-reporting as reference for how to monitor your usage and billing.\n",
    "\n",
    "* Instructions have been included for each segment. You do not have to follow them exactly, but they are included to help you think through the steps."
   ]
  },
  {
   "cell_type": "code",
   "execution_count": 49,
   "metadata": {},
   "outputs": [],
   "source": [
    "# Dependencies and Setup\n",
    "import matplotlib.pyplot as plt\n",
    "import pandas as pd\n",
    "import numpy as np\n",
    "import requests\n",
    "import gmaps\n",
    "import os\n",
    "\n",
    "# Import API key\n",
    "from api_keys import g_key"
   ]
  },
  {
   "cell_type": "markdown",
   "metadata": {},
   "source": [
    "### Store Part I results into DataFrame\n",
    "* Load the csv exported in Part I to a DataFrame"
   ]
  },
  {
   "cell_type": "code",
   "execution_count": 50,
   "metadata": {},
   "outputs": [
    {
     "output_type": "execute_result",
     "data": {
      "text/plain": [
       "               City    Lat     Lon  Max Temp  Humidity  Cloudiness  \\\n",
       "0             uthal  25.81   66.62     84.04        14           5   \n",
       "1         jamestown  42.10  -79.24     55.99        76          90   \n",
       "2          hermanus -34.42   19.23     55.99        88         100   \n",
       "3            sangar  63.92  127.47     19.20        96         100   \n",
       "4             avera  33.19  -82.53     82.40        69          40   \n",
       "..              ...    ...     ...       ...       ...         ...   \n",
       "74  bambous virieux -20.34   57.76     75.00        83          40   \n",
       "75            tiksi  71.69  128.87     20.17        98          95   \n",
       "76      provideniya  64.38 -173.30     44.60        93          90   \n",
       "77         karratha -20.74  116.85     74.03        38           0   \n",
       "78         padampur  29.68   73.62     74.39        20           0   \n",
       "\n",
       "    Wind Speed Country        Date  \n",
       "0         1.86      PK  1602790632  \n",
       "1        13.87      US  1602790447  \n",
       "2         1.01      ZA  1602790632  \n",
       "3         7.20      RU  1602790632  \n",
       "4         4.70      US  1602790633  \n",
       "..         ...     ...         ...  \n",
       "74        8.05      MU  1602790655  \n",
       "75        0.89      RU  1602790655  \n",
       "76       17.90      RU  1602790655  \n",
       "77        8.55      AU  1602790415  \n",
       "78        2.37      IN  1602790656  \n",
       "\n",
       "[79 rows x 9 columns]"
      ],
      "text/html": "<div>\n<style scoped>\n    .dataframe tbody tr th:only-of-type {\n        vertical-align: middle;\n    }\n\n    .dataframe tbody tr th {\n        vertical-align: top;\n    }\n\n    .dataframe thead th {\n        text-align: right;\n    }\n</style>\n<table border=\"1\" class=\"dataframe\">\n  <thead>\n    <tr style=\"text-align: right;\">\n      <th></th>\n      <th>City</th>\n      <th>Lat</th>\n      <th>Lon</th>\n      <th>Max Temp</th>\n      <th>Humidity</th>\n      <th>Cloudiness</th>\n      <th>Wind Speed</th>\n      <th>Country</th>\n      <th>Date</th>\n    </tr>\n  </thead>\n  <tbody>\n    <tr>\n      <th>0</th>\n      <td>uthal</td>\n      <td>25.81</td>\n      <td>66.62</td>\n      <td>84.04</td>\n      <td>14</td>\n      <td>5</td>\n      <td>1.86</td>\n      <td>PK</td>\n      <td>1602790632</td>\n    </tr>\n    <tr>\n      <th>1</th>\n      <td>jamestown</td>\n      <td>42.10</td>\n      <td>-79.24</td>\n      <td>55.99</td>\n      <td>76</td>\n      <td>90</td>\n      <td>13.87</td>\n      <td>US</td>\n      <td>1602790447</td>\n    </tr>\n    <tr>\n      <th>2</th>\n      <td>hermanus</td>\n      <td>-34.42</td>\n      <td>19.23</td>\n      <td>55.99</td>\n      <td>88</td>\n      <td>100</td>\n      <td>1.01</td>\n      <td>ZA</td>\n      <td>1602790632</td>\n    </tr>\n    <tr>\n      <th>3</th>\n      <td>sangar</td>\n      <td>63.92</td>\n      <td>127.47</td>\n      <td>19.20</td>\n      <td>96</td>\n      <td>100</td>\n      <td>7.20</td>\n      <td>RU</td>\n      <td>1602790632</td>\n    </tr>\n    <tr>\n      <th>4</th>\n      <td>avera</td>\n      <td>33.19</td>\n      <td>-82.53</td>\n      <td>82.40</td>\n      <td>69</td>\n      <td>40</td>\n      <td>4.70</td>\n      <td>US</td>\n      <td>1602790633</td>\n    </tr>\n    <tr>\n      <th>...</th>\n      <td>...</td>\n      <td>...</td>\n      <td>...</td>\n      <td>...</td>\n      <td>...</td>\n      <td>...</td>\n      <td>...</td>\n      <td>...</td>\n      <td>...</td>\n    </tr>\n    <tr>\n      <th>74</th>\n      <td>bambous virieux</td>\n      <td>-20.34</td>\n      <td>57.76</td>\n      <td>75.00</td>\n      <td>83</td>\n      <td>40</td>\n      <td>8.05</td>\n      <td>MU</td>\n      <td>1602790655</td>\n    </tr>\n    <tr>\n      <th>75</th>\n      <td>tiksi</td>\n      <td>71.69</td>\n      <td>128.87</td>\n      <td>20.17</td>\n      <td>98</td>\n      <td>95</td>\n      <td>0.89</td>\n      <td>RU</td>\n      <td>1602790655</td>\n    </tr>\n    <tr>\n      <th>76</th>\n      <td>provideniya</td>\n      <td>64.38</td>\n      <td>-173.30</td>\n      <td>44.60</td>\n      <td>93</td>\n      <td>90</td>\n      <td>17.90</td>\n      <td>RU</td>\n      <td>1602790655</td>\n    </tr>\n    <tr>\n      <th>77</th>\n      <td>karratha</td>\n      <td>-20.74</td>\n      <td>116.85</td>\n      <td>74.03</td>\n      <td>38</td>\n      <td>0</td>\n      <td>8.55</td>\n      <td>AU</td>\n      <td>1602790415</td>\n    </tr>\n    <tr>\n      <th>78</th>\n      <td>padampur</td>\n      <td>29.68</td>\n      <td>73.62</td>\n      <td>74.39</td>\n      <td>20</td>\n      <td>0</td>\n      <td>2.37</td>\n      <td>IN</td>\n      <td>1602790656</td>\n    </tr>\n  </tbody>\n</table>\n<p>79 rows × 9 columns</p>\n</div>"
     },
     "metadata": {},
     "execution_count": 50
    }
   ],
   "source": [
    "locations_df = pd.read_csv('../output_data/cities.csv')\n",
    "locations_df\n"
   ]
  },
  {
   "cell_type": "markdown",
   "metadata": {},
   "source": [
    "### Humidity Heatmap\n",
    "* Configure gmaps.\n",
    "* Use the Lat and Lng as locations and Humidity as the weight.\n",
    "* Add Heatmap layer to map."
   ]
  },
  {
   "cell_type": "code",
   "execution_count": 51,
   "metadata": {},
   "outputs": [],
   "source": [
    "locations = locations_df[[\"Lat\", \"Lon\"]]\n",
    "\n",
    "heat = locations_df[\"Humidity\"]"
   ]
  },
  {
   "cell_type": "code",
   "execution_count": 52,
   "metadata": {},
   "outputs": [
    {
     "output_type": "display_data",
     "data": {
      "text/plain": "Figure(layout=FigureLayout(height='420px'))",
      "application/vnd.jupyter.widget-view+json": {
       "version_major": 2,
       "version_minor": 0,
       "model_id": "a965974bfbf548878d0c6da90429f12e"
      }
     },
     "metadata": {}
    }
   ],
   "source": [
    "fig = gmaps.figure()\n",
    "\n",
    "heat_layer = gmaps.heatmap_layer(locations, weights = heat, dissipating = False, max_intensity = 10, point_radius = 1)\n",
    "\n",
    "fig.add_layer(heat_layer)\n",
    "\n",
    "fig"
   ]
  },
  {
   "cell_type": "markdown",
   "metadata": {},
   "source": [
    "### Create new DataFrame fitting weather criteria\n",
    "* Narrow down the cities to fit weather conditions.\n",
    "* Drop any rows will null values."
   ]
  },
  {
   "cell_type": "code",
   "execution_count": 53,
   "metadata": {},
   "outputs": [
    {
     "output_type": "execute_result",
     "data": {
      "text/plain": [
       "Int64Index([15, 27, 31, 66, 77, 78], dtype='int64')"
      ]
     },
     "metadata": {},
     "execution_count": 53
    }
   ],
   "source": [
    "ideal_index = locations_df[(locations_df[\"Max Temp\"] < 80) & (locations_df[\"Max Temp\"] > 70) & (locations_df[\"Wind Speed\"] < 10) & (locations_df[\"Cloudiness\"] < 40)].index \n",
    "\n",
    "ideal_index"
   ]
  },
  {
   "cell_type": "markdown",
   "metadata": {},
   "source": [
    "### Hotel Map\n",
    "* Store into variable named `hotel_df`.\n",
    "* Add a \"Hotel Name\" column to the DataFrame.\n",
    "* Set parameters to search for hotels with 5000 meters.\n",
    "* Hit the Google Places API for each city's coordinates.\n",
    "* Store the first Hotel result into the DataFrame.\n",
    "* Plot markers on top of the heatmap."
   ]
  },
  {
   "cell_type": "code",
   "execution_count": 54,
   "metadata": {},
   "outputs": [
    {
     "output_type": "execute_result",
     "data": {
      "text/plain": [
       "              City    Lat     Lon  Max Temp  Humidity  Cloudiness  Wind Speed  \\\n",
       "15        pasighat  28.07   95.33     75.49        70           3        3.06   \n",
       "27  ribeira grande  38.52  -28.70     71.60        73          20        4.70   \n",
       "31          itoman  26.12  127.67     77.00        78          20        8.05   \n",
       "66         sambava -14.27   50.17     73.81        80           1        9.78   \n",
       "77        karratha -20.74  116.85     74.03        38           0        8.55   \n",
       "78        padampur  29.68   73.62     74.39        20           0        2.37   \n",
       "\n",
       "   Country        Date  \n",
       "15      IN  1602790636  \n",
       "27      PT  1602790640  \n",
       "31      JP  1602790641  \n",
       "66      MG  1602790652  \n",
       "77      AU  1602790415  \n",
       "78      IN  1602790656  "
      ],
      "text/html": "<div>\n<style scoped>\n    .dataframe tbody tr th:only-of-type {\n        vertical-align: middle;\n    }\n\n    .dataframe tbody tr th {\n        vertical-align: top;\n    }\n\n    .dataframe thead th {\n        text-align: right;\n    }\n</style>\n<table border=\"1\" class=\"dataframe\">\n  <thead>\n    <tr style=\"text-align: right;\">\n      <th></th>\n      <th>City</th>\n      <th>Lat</th>\n      <th>Lon</th>\n      <th>Max Temp</th>\n      <th>Humidity</th>\n      <th>Cloudiness</th>\n      <th>Wind Speed</th>\n      <th>Country</th>\n      <th>Date</th>\n    </tr>\n  </thead>\n  <tbody>\n    <tr>\n      <th>15</th>\n      <td>pasighat</td>\n      <td>28.07</td>\n      <td>95.33</td>\n      <td>75.49</td>\n      <td>70</td>\n      <td>3</td>\n      <td>3.06</td>\n      <td>IN</td>\n      <td>1602790636</td>\n    </tr>\n    <tr>\n      <th>27</th>\n      <td>ribeira grande</td>\n      <td>38.52</td>\n      <td>-28.70</td>\n      <td>71.60</td>\n      <td>73</td>\n      <td>20</td>\n      <td>4.70</td>\n      <td>PT</td>\n      <td>1602790640</td>\n    </tr>\n    <tr>\n      <th>31</th>\n      <td>itoman</td>\n      <td>26.12</td>\n      <td>127.67</td>\n      <td>77.00</td>\n      <td>78</td>\n      <td>20</td>\n      <td>8.05</td>\n      <td>JP</td>\n      <td>1602790641</td>\n    </tr>\n    <tr>\n      <th>66</th>\n      <td>sambava</td>\n      <td>-14.27</td>\n      <td>50.17</td>\n      <td>73.81</td>\n      <td>80</td>\n      <td>1</td>\n      <td>9.78</td>\n      <td>MG</td>\n      <td>1602790652</td>\n    </tr>\n    <tr>\n      <th>77</th>\n      <td>karratha</td>\n      <td>-20.74</td>\n      <td>116.85</td>\n      <td>74.03</td>\n      <td>38</td>\n      <td>0</td>\n      <td>8.55</td>\n      <td>AU</td>\n      <td>1602790415</td>\n    </tr>\n    <tr>\n      <th>78</th>\n      <td>padampur</td>\n      <td>29.68</td>\n      <td>73.62</td>\n      <td>74.39</td>\n      <td>20</td>\n      <td>0</td>\n      <td>2.37</td>\n      <td>IN</td>\n      <td>1602790656</td>\n    </tr>\n  </tbody>\n</table>\n</div>"
     },
     "metadata": {},
     "execution_count": 54
    }
   ],
   "source": [
    "hotel_df = locations_df.iloc[ideal_index, :]\n",
    "\n",
    "base_url = \"https://maps.googleapis.com/maps/api/place/nearbysearch/json\"\n",
    "\n",
    "hotel_df"
   ]
  },
  {
   "cell_type": "code",
   "execution_count": 55,
   "metadata": {},
   "outputs": [
    {
     "output_type": "stream",
     "name": "stdout",
     "text": [
      "Reading row: 15\n",
      "Reading row: 27\n",
      "Reading row: 31\n",
      "Reading row: 66\n",
      "Reading row: 77\n",
      "Reading row: 78\n",
      "Missing field/results....skipping.\n"
     ]
    }
   ],
   "source": [
    "for index, row in hotel_df.iterrows():\n",
    "    \n",
    "    lat = row[\"Lat\"]\n",
    "    lon = row[\"Lon\"]\n",
    "    \n",
    "    params = {\n",
    "    \"location\": f\"{lat}, {lon}\",\n",
    "    \"name\": \"hotel\",\n",
    "    \"radius\": 5000,\n",
    "    \"key\": g_key\n",
    "}\n",
    "    response = requests.get(base_url, params = params)\n",
    "    #print(index)\n",
    "    \n",
    "    hotel_data = response.json()\n",
    "    print(f\"Reading row: {index}\")\n",
    "    try:\n",
    "        hotel_df.loc[index, \"Hotel Name\"] = hotel_data[\"results\"][0][\"name\"]\n",
    "    except (KeyError, IndexError):\n",
    "        print(\"Missing field/results....skipping.\")"
   ]
  },
  {
   "cell_type": "code",
   "execution_count": 56,
   "metadata": {},
   "outputs": [
    {
     "output_type": "execute_result",
     "data": {
      "text/plain": [
       "              City    Lat     Lon  Max Temp  Humidity  Cloudiness  Wind Speed  \\\n",
       "15        pasighat  28.07   95.33     75.49        70           3        3.06   \n",
       "27  ribeira grande  38.52  -28.70     71.60        73          20        4.70   \n",
       "31          itoman  26.12  127.67     77.00        78          20        8.05   \n",
       "66         sambava -14.27   50.17     73.81        80           1        9.78   \n",
       "77        karratha -20.74  116.85     74.03        38           0        8.55   \n",
       "78        padampur  29.68   73.62     74.39        20           0        2.37   \n",
       "\n",
       "   Country        Date                             Hotel Name  \n",
       "15      IN  1602790636       The Serene Abode, Pasighat (A.P)  \n",
       "27      PT  1602790640                 Quinta Das Buganvílias  \n",
       "31      JP  1602790641  Southern Beach Hotel & Resort Okinawa  \n",
       "66      MG  1602790652                                Melrose  \n",
       "77      AU  1602790415           Karratha International Hotel  \n",
       "78      IN  1602790656                                    NaN  "
      ],
      "text/html": "<div>\n<style scoped>\n    .dataframe tbody tr th:only-of-type {\n        vertical-align: middle;\n    }\n\n    .dataframe tbody tr th {\n        vertical-align: top;\n    }\n\n    .dataframe thead th {\n        text-align: right;\n    }\n</style>\n<table border=\"1\" class=\"dataframe\">\n  <thead>\n    <tr style=\"text-align: right;\">\n      <th></th>\n      <th>City</th>\n      <th>Lat</th>\n      <th>Lon</th>\n      <th>Max Temp</th>\n      <th>Humidity</th>\n      <th>Cloudiness</th>\n      <th>Wind Speed</th>\n      <th>Country</th>\n      <th>Date</th>\n      <th>Hotel Name</th>\n    </tr>\n  </thead>\n  <tbody>\n    <tr>\n      <th>15</th>\n      <td>pasighat</td>\n      <td>28.07</td>\n      <td>95.33</td>\n      <td>75.49</td>\n      <td>70</td>\n      <td>3</td>\n      <td>3.06</td>\n      <td>IN</td>\n      <td>1602790636</td>\n      <td>The Serene Abode, Pasighat (A.P)</td>\n    </tr>\n    <tr>\n      <th>27</th>\n      <td>ribeira grande</td>\n      <td>38.52</td>\n      <td>-28.70</td>\n      <td>71.60</td>\n      <td>73</td>\n      <td>20</td>\n      <td>4.70</td>\n      <td>PT</td>\n      <td>1602790640</td>\n      <td>Quinta Das Buganvílias</td>\n    </tr>\n    <tr>\n      <th>31</th>\n      <td>itoman</td>\n      <td>26.12</td>\n      <td>127.67</td>\n      <td>77.00</td>\n      <td>78</td>\n      <td>20</td>\n      <td>8.05</td>\n      <td>JP</td>\n      <td>1602790641</td>\n      <td>Southern Beach Hotel &amp; Resort Okinawa</td>\n    </tr>\n    <tr>\n      <th>66</th>\n      <td>sambava</td>\n      <td>-14.27</td>\n      <td>50.17</td>\n      <td>73.81</td>\n      <td>80</td>\n      <td>1</td>\n      <td>9.78</td>\n      <td>MG</td>\n      <td>1602790652</td>\n      <td>Melrose</td>\n    </tr>\n    <tr>\n      <th>77</th>\n      <td>karratha</td>\n      <td>-20.74</td>\n      <td>116.85</td>\n      <td>74.03</td>\n      <td>38</td>\n      <td>0</td>\n      <td>8.55</td>\n      <td>AU</td>\n      <td>1602790415</td>\n      <td>Karratha International Hotel</td>\n    </tr>\n    <tr>\n      <th>78</th>\n      <td>padampur</td>\n      <td>29.68</td>\n      <td>73.62</td>\n      <td>74.39</td>\n      <td>20</td>\n      <td>0</td>\n      <td>2.37</td>\n      <td>IN</td>\n      <td>1602790656</td>\n      <td>NaN</td>\n    </tr>\n  </tbody>\n</table>\n</div>"
     },
     "metadata": {},
     "execution_count": 56
    }
   ],
   "source": [
    "hotel_df"
   ]
  },
  {
   "cell_type": "code",
   "execution_count": 57,
   "metadata": {},
   "outputs": [],
   "source": [
    "# NOTE: Do not change any of the code in this cell\n",
    "\n",
    "# Using the template add the hotel marks to the heatmap\n",
    "info_box_template = \"\"\"\n",
    "<dl>\n",
    "<dt>Name</dt><dd>{Hotel Name}</dd>\n",
    "<dt>City</dt><dd>{City}</dd>\n",
    "<dt>Country</dt><dd>{Country}</dd>\n",
    "</dl>\n",
    "\"\"\"\n",
    "# Store the DataFrame Row\n",
    "# NOTE: be sure to update with your DataFrame name\n",
    "hotel_info = [info_box_template.format(**row) for index, row in hotel_df.iterrows()]\n",
    "locations = hotel_df[[\"Lat\", \"Lon\"]]"
   ]
  },
  {
   "cell_type": "code",
   "execution_count": 58,
   "metadata": {},
   "outputs": [
    {
     "output_type": "display_data",
     "data": {
      "text/plain": "Figure(layout=FigureLayout(height='420px'))",
      "application/vnd.jupyter.widget-view+json": {
       "version_major": 2,
       "version_minor": 0,
       "model_id": "a965974bfbf548878d0c6da90429f12e"
      }
     },
     "metadata": {}
    }
   ],
   "source": [
    "# Add marker layer ontop of heat map\n",
    "marker_locations = hotel_df[[\"Lat\", \"Lon\"]]\n",
    "markers = gmaps.marker_layer(marker_locations, hotel_info)\n",
    "fig.add_layer(markers)\n",
    "\n",
    "# Display figure\n",
    "fig"
   ]
  },
  {
   "cell_type": "code",
   "execution_count": null,
   "metadata": {},
   "outputs": [],
   "source": []
  }
 ],
 "metadata": {
  "kernelspec": {
   "name": "Python 3.8.3 64-bit ('base': conda)",
   "display_name": "Python 3.8.3 64-bit ('base': conda)",
   "metadata": {
    "interpreter": {
     "hash": "485035c5b2a6f2b50dc2dc5ca51aeeb931032fbc9adc2e30c7c528d6bf8a9176"
    }
   }
  },
  "language_info": {
   "codemirror_mode": {
    "name": "ipython",
    "version": 3
   },
   "file_extension": ".py",
   "mimetype": "text/x-python",
   "name": "python",
   "nbconvert_exporter": "python",
   "pygments_lexer": "ipython3",
   "version": "3.8.3-final"
  },
  "latex_envs": {
   "LaTeX_envs_menu_present": true,
   "autoclose": false,
   "autocomplete": true,
   "bibliofile": "biblio.bib",
   "cite_by": "apalike",
   "current_citInitial": 1,
   "eqLabelWithNumbers": true,
   "eqNumInitial": 1,
   "hotkeys": {
    "equation": "Ctrl-E",
    "itemize": "Ctrl-I"
   },
   "labels_anchors": false,
   "latex_user_defs": false,
   "report_style_numbering": false,
   "user_envs_cfg": false
  }
 },
 "nbformat": 4,
 "nbformat_minor": 4
}